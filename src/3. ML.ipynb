{
 "cells": [
  {
   "cell_type": "markdown",
   "id": "250555ca",
   "metadata": {},
   "source": [
    "# Machine Learning"
   ]
  },
  {
   "cell_type": "markdown",
   "id": "db48e922",
   "metadata": {},
   "source": [
    "## 1. Initial Setup\n",
    "\n",
    "- Set variables and hyperparameters\n",
    "- Import libraries\n",
    "- Load dataset"
   ]
  },
  {
   "cell_type": "code",
   "execution_count": 1,
   "id": "f4d55102",
   "metadata": {},
   "outputs": [],
   "source": [
    "# Max allowable epochs for each model type\n",
    "MLP_MAX_EPOCHS = 10\n",
    "LSTM_MAX_EPOCHS = 10\n",
    "GRU_MAX_EPOCHS = 10\n",
    "\n",
    "# Hyperparameters for Hyperparameter Optimization using Optuna\n",
    "OPTUNA_N_JOBS = 3\n",
    "OPTUNA_N_TRIALS = 2                # 20\n",
    "OPTUNA_N_STARTUP_TRIALS = 0         # 5\n",
    "OPTUNA_WARMUP_STEPS = 0            # 10"
   ]
  },
  {
   "cell_type": "code",
   "execution_count": 2,
   "id": "1d3dba7b",
   "metadata": {},
   "outputs": [],
   "source": [
    "PROCESSED_PATH = \"../data/ANA HIDROWEB/RIO MEIA PONTE/processed.csv\""
   ]
  },
  {
   "cell_type": "code",
   "execution_count": 3,
   "id": "3497848b",
   "metadata": {},
   "outputs": [
    {
     "name": "stderr",
     "output_type": "stream",
     "text": [
      "/home/bruno/anaconda3/envs/fiap/lib/python3.11/site-packages/torch/utils/_pytree.py:185: FutureWarning: optree is installed but the version is too old to support PyTorch Dynamo in C++ pytree. C++ pytree support is disabled. Please consider upgrading optree using `python3 -m pip install --upgrade 'optree>=0.13.0'`.\n",
      "  warnings.warn(\n",
      "Seed set to 42\n"
     ]
    },
    {
     "data": {
      "text/plain": [
       "42"
      ]
     },
     "execution_count": 3,
     "metadata": {},
     "output_type": "execute_result"
    }
   ],
   "source": [
    "# Python native libraries\n",
    "from typing import List, Dict, Any, Tuple\n",
    "import os\n",
    "\n",
    "# Data manipulation and preprocessing\n",
    "import pandas as pd\n",
    "import numpy as np\n",
    "from sklearn.preprocessing import StandardScaler\n",
    "\n",
    "# PyTorch libraries and derivatives\n",
    "import torch\n",
    "from torch.utils.data import Dataset, DataLoader\n",
    "import torch.nn as nn\n",
    "import torch.optim as optim\n",
    "import lightning as L\n",
    "from lightning.pytorch import Trainer\n",
    "from lightning.pytorch.callbacks import ModelCheckpoint, EarlyStopping\n",
    "from lightning.pytorch.loggers import TensorBoardLogger\n",
    "from torchinfo import summary\n",
    "\n",
    "# Optuna Libraries\n",
    "import optuna\n",
    "from optuna.integration import PyTorchLightningPruningCallback\n",
    "\n",
    "# Set random seed for reproducibility\n",
    "L.seed_everything(42, workers=True)"
   ]
  },
  {
   "cell_type": "code",
   "execution_count": 4,
   "id": "2a8e9f84",
   "metadata": {},
   "outputs": [
    {
     "data": {
      "application/vnd.microsoft.datawrangler.viewer.v0+json": {
       "columns": [
        {
         "name": "date",
         "rawType": "datetime64[ns]",
         "type": "datetime"
        },
        {
         "name": "rain_upstream_mean",
         "rawType": "float64",
         "type": "float"
        },
        {
         "name": "rain_upstream_max",
         "rawType": "float64",
         "type": "float"
        },
        {
         "name": "rain_upstream_min",
         "rawType": "float64",
         "type": "float"
        },
        {
         "name": "rain_upstream_q25",
         "rawType": "float64",
         "type": "float"
        },
        {
         "name": "rain_upstream_q75",
         "rawType": "float64",
         "type": "float"
        },
        {
         "name": "level_upstream_mean",
         "rawType": "float64",
         "type": "float"
        },
        {
         "name": "level_upstream_max",
         "rawType": "float64",
         "type": "float"
        },
        {
         "name": "level_upstream_min",
         "rawType": "float64",
         "type": "float"
        },
        {
         "name": "level_upstream_q25",
         "rawType": "float64",
         "type": "float"
        },
        {
         "name": "level_upstream_q75",
         "rawType": "float64",
         "type": "float"
        },
        {
         "name": "flow_upstream_mean",
         "rawType": "float64",
         "type": "float"
        },
        {
         "name": "flow_upstream_max",
         "rawType": "float64",
         "type": "float"
        },
        {
         "name": "flow_upstream_min",
         "rawType": "float64",
         "type": "float"
        },
        {
         "name": "flow_upstream_q25",
         "rawType": "float64",
         "type": "float"
        },
        {
         "name": "flow_upstream_q75",
         "rawType": "float64",
         "type": "float"
        },
        {
         "name": "rain_downstream_mean",
         "rawType": "float64",
         "type": "float"
        },
        {
         "name": "rain_downstream_max",
         "rawType": "float64",
         "type": "float"
        },
        {
         "name": "rain_downstream_min",
         "rawType": "float64",
         "type": "float"
        },
        {
         "name": "rain_downstream_q25",
         "rawType": "float64",
         "type": "float"
        },
        {
         "name": "rain_downstream_q75",
         "rawType": "float64",
         "type": "float"
        },
        {
         "name": "level_downstream_mean",
         "rawType": "float64",
         "type": "float"
        },
        {
         "name": "level_downstream_max",
         "rawType": "float64",
         "type": "float"
        },
        {
         "name": "level_downstream_min",
         "rawType": "float64",
         "type": "float"
        },
        {
         "name": "level_downstream_q25",
         "rawType": "float64",
         "type": "float"
        },
        {
         "name": "level_downstream_q75",
         "rawType": "float64",
         "type": "float"
        },
        {
         "name": "flow_downstream_mean",
         "rawType": "float64",
         "type": "float"
        },
        {
         "name": "flow_downstream_max",
         "rawType": "float64",
         "type": "float"
        },
        {
         "name": "flow_downstream_min",
         "rawType": "float64",
         "type": "float"
        },
        {
         "name": "flow_downstream_q25",
         "rawType": "float64",
         "type": "float"
        },
        {
         "name": "flow_downstream_q75",
         "rawType": "float64",
         "type": "float"
        },
        {
         "name": "rain_after_mean",
         "rawType": "float64",
         "type": "float"
        },
        {
         "name": "rain_after_max",
         "rawType": "float64",
         "type": "float"
        },
        {
         "name": "rain_after_min",
         "rawType": "float64",
         "type": "float"
        },
        {
         "name": "rain_after_q25",
         "rawType": "float64",
         "type": "float"
        },
        {
         "name": "rain_after_q75",
         "rawType": "float64",
         "type": "float"
        },
        {
         "name": "level_after_mean",
         "rawType": "float64",
         "type": "float"
        },
        {
         "name": "level_after_max",
         "rawType": "float64",
         "type": "float"
        },
        {
         "name": "level_after_min",
         "rawType": "float64",
         "type": "float"
        },
        {
         "name": "level_after_q25",
         "rawType": "float64",
         "type": "float"
        },
        {
         "name": "level_after_q75",
         "rawType": "float64",
         "type": "float"
        },
        {
         "name": "flow_after_mean",
         "rawType": "float64",
         "type": "float"
        },
        {
         "name": "flow_after_max",
         "rawType": "float64",
         "type": "float"
        },
        {
         "name": "flow_after_min",
         "rawType": "float64",
         "type": "float"
        },
        {
         "name": "flow_after_q25",
         "rawType": "float64",
         "type": "float"
        },
        {
         "name": "flow_after_q75",
         "rawType": "float64",
         "type": "float"
        },
        {
         "name": "rain_upstream_acc_2_days",
         "rawType": "float64",
         "type": "float"
        },
        {
         "name": "rain_downstream_acc_2_days",
         "rawType": "float64",
         "type": "float"
        },
        {
         "name": "rain_after_acc_2_days",
         "rawType": "float64",
         "type": "float"
        },
        {
         "name": "rain_upstream_acc_3_days",
         "rawType": "float64",
         "type": "float"
        },
        {
         "name": "rain_downstream_acc_3_days",
         "rawType": "float64",
         "type": "float"
        },
        {
         "name": "rain_after_acc_3_days",
         "rawType": "float64",
         "type": "float"
        }
       ],
       "ref": "ed0e1cda-9e94-4a8e-adda-a07bddf0d707",
       "rows": [
        [
         "2014-01-01 00:00:00",
         "0.0",
         "0.0",
         "0.0",
         "0.0",
         "0.0",
         "219.08333333333331",
         "222.0",
         "216.0",
         "217.0",
         "221.0",
         "19.354166666666668",
         "20.1",
         "18.6",
         "18.8",
         "19.8",
         "0.0",
         "0.0",
         "0.0",
         "0.0",
         "0.0",
         "150.79166666666666",
         "171.0",
         "146.0",
         "147.0",
         "150.25",
         "32.479166666666664",
         "41.5",
         "30.4",
         "30.8",
         "32.2",
         "0.0",
         "0.0",
         "0.0",
         "0.0",
         "0.0",
         "288.9583333333333",
         "293.0",
         "284.0",
         "286.0",
         "291.0",
         "68.375",
         "70.8",
         "65.4",
         "66.6",
         "69.6",
         "0.0",
         "0.0086956521739131",
         "0.0",
         "0.0",
         "0.026086956521739",
         "0.0"
        ],
        [
         "2014-01-02 00:00:00",
         "0.008695652173913",
         "0.2",
         "0.0",
         "0.0",
         "0.0",
         "222.95652173913044",
         "226.0",
         "219.0",
         "221.5",
         "224.0",
         "20.3",
         "21.0",
         "19.3",
         "19.950000000000003",
         "20.6",
         "0.217391304347826",
         "4.8",
         "0.0",
         "0.0",
         "0.0",
         "167.2173913043478",
         "206.0",
         "154.0",
         "155.5",
         "169.5",
         "39.85652173913043",
         "58.3",
         "33.8",
         "34.5",
         "40.75",
         "0.0",
         "0.0",
         "0.0",
         "0.0",
         "0.0",
         "304.0",
         "326.0",
         "288.0",
         "298.0",
         "309.0",
         "75.10434782608695",
         "85.3",
         "67.8",
         "73.9",
         "78.1",
         "0.0086956521739129",
         "0.2173913043478262",
         "0.0",
         "0.008695652173913",
         "0.226086956521739",
         "0.0"
        ],
        [
         "2014-01-03 00:00:00",
         "0.0",
         "0.0",
         "0.0",
         "0.0",
         "0.0",
         "225.3181818181818",
         "231.0",
         "219.0",
         "220.5",
         "230.0",
         "20.904545454545456",
         "22.3",
         "19.3",
         "19.725",
         "22.1",
         "0.0",
         "0.0",
         "0.0",
         "0.0",
         "0.0",
         "152.6818181818182",
         "157.0",
         "150.0",
         "151.0",
         "154.75",
         "33.268181818181816",
         "35.2",
         "32.1",
         "32.5",
         "34.175",
         "0.0",
         "0.0",
         "0.0",
         "0.0",
         "0.0",
         "293.90909090909093",
         "306.0",
         "280.0",
         "288.25",
         "302.0",
         "71.68636363636364",
         "78.7",
         "63.0",
         "67.95",
         "76.3",
         "0.0086956521739129",
         "0.2173913043478262",
         "0.0",
         "0.008695652173913",
         "0.2173913043478259",
         "0.0"
        ],
        [
         "2014-01-04 00:00:00",
         "0.0",
         "0.0",
         "0.0",
         "0.0",
         "0.0",
         "213.8636363636364",
         "221.0",
         "208.0",
         "212.0",
         "215.75",
         "18.068181818181817",
         "19.8",
         "16.7",
         "17.6",
         "18.525",
         "0.0",
         "0.0",
         "0.0",
         "0.0",
         "0.0",
         "145.86363636363637",
         "152.0",
         "142.0",
         "145.0",
         "146.0",
         "30.35454545454545",
         "33.0",
         "28.7",
         "30.0",
         "30.4",
         "0.0",
         "0.0",
         "0.0",
         "0.0",
         "0.0",
         "277.90909090909093",
         "280.0",
         "271.0",
         "276.75",
         "279.0",
         "61.8",
         "63.0",
         "58.2",
         "61.05",
         "62.85",
         "0.0",
         "0.0",
         "0.0",
         "0.008695652173913",
         "0.2173913043478259",
         "0.0"
        ],
        [
         "2014-01-05 00:00:00",
         "0.0",
         "0.0",
         "0.0",
         "0.0",
         "0.0",
         "204.9047619047619",
         "208.0",
         "201.0",
         "204.0",
         "206.0",
         "15.952380952380953",
         "16.7",
         "15.0",
         "15.7",
         "16.2",
         "0.0",
         "0.0",
         "0.0",
         "0.0",
         "0.0",
         "139.04761904761904",
         "142.0",
         "136.0",
         "138.0",
         "140.0",
         "27.51904761904762",
         "28.7",
         "26.3",
         "27.1",
         "27.9",
         "0.0",
         "0.0",
         "0.0",
         "0.0",
         "0.0",
         "269.1428571428572",
         "272.0",
         "264.0",
         "268.0",
         "270.0",
         "56.48571428571429",
         "58.2",
         "53.4",
         "55.8",
         "57.0",
         "0.0",
         "0.0",
         "0.0",
         "0.0",
         "0.0",
         "0.0"
        ]
       ],
       "shape": {
        "columns": 51,
        "rows": 5
       }
      },
      "text/html": [
       "<div>\n",
       "<style scoped>\n",
       "    .dataframe tbody tr th:only-of-type {\n",
       "        vertical-align: middle;\n",
       "    }\n",
       "\n",
       "    .dataframe tbody tr th {\n",
       "        vertical-align: top;\n",
       "    }\n",
       "\n",
       "    .dataframe thead th {\n",
       "        text-align: right;\n",
       "    }\n",
       "</style>\n",
       "<table border=\"1\" class=\"dataframe\">\n",
       "  <thead>\n",
       "    <tr style=\"text-align: right;\">\n",
       "      <th></th>\n",
       "      <th>rain_upstream_mean</th>\n",
       "      <th>rain_upstream_max</th>\n",
       "      <th>rain_upstream_min</th>\n",
       "      <th>rain_upstream_q25</th>\n",
       "      <th>rain_upstream_q75</th>\n",
       "      <th>level_upstream_mean</th>\n",
       "      <th>level_upstream_max</th>\n",
       "      <th>level_upstream_min</th>\n",
       "      <th>level_upstream_q25</th>\n",
       "      <th>level_upstream_q75</th>\n",
       "      <th>...</th>\n",
       "      <th>flow_after_max</th>\n",
       "      <th>flow_after_min</th>\n",
       "      <th>flow_after_q25</th>\n",
       "      <th>flow_after_q75</th>\n",
       "      <th>rain_upstream_acc_2_days</th>\n",
       "      <th>rain_downstream_acc_2_days</th>\n",
       "      <th>rain_after_acc_2_days</th>\n",
       "      <th>rain_upstream_acc_3_days</th>\n",
       "      <th>rain_downstream_acc_3_days</th>\n",
       "      <th>rain_after_acc_3_days</th>\n",
       "    </tr>\n",
       "    <tr>\n",
       "      <th>date</th>\n",
       "      <th></th>\n",
       "      <th></th>\n",
       "      <th></th>\n",
       "      <th></th>\n",
       "      <th></th>\n",
       "      <th></th>\n",
       "      <th></th>\n",
       "      <th></th>\n",
       "      <th></th>\n",
       "      <th></th>\n",
       "      <th></th>\n",
       "      <th></th>\n",
       "      <th></th>\n",
       "      <th></th>\n",
       "      <th></th>\n",
       "      <th></th>\n",
       "      <th></th>\n",
       "      <th></th>\n",
       "      <th></th>\n",
       "      <th></th>\n",
       "      <th></th>\n",
       "    </tr>\n",
       "  </thead>\n",
       "  <tbody>\n",
       "    <tr>\n",
       "      <th>2014-01-01</th>\n",
       "      <td>0.000000</td>\n",
       "      <td>0.0</td>\n",
       "      <td>0.0</td>\n",
       "      <td>0.0</td>\n",
       "      <td>0.0</td>\n",
       "      <td>219.083333</td>\n",
       "      <td>222.0</td>\n",
       "      <td>216.0</td>\n",
       "      <td>217.0</td>\n",
       "      <td>221.00</td>\n",
       "      <td>...</td>\n",
       "      <td>70.8</td>\n",
       "      <td>65.4</td>\n",
       "      <td>66.60</td>\n",
       "      <td>69.60</td>\n",
       "      <td>0.000000</td>\n",
       "      <td>0.008696</td>\n",
       "      <td>0.0</td>\n",
       "      <td>0.000000</td>\n",
       "      <td>0.026087</td>\n",
       "      <td>0.0</td>\n",
       "    </tr>\n",
       "    <tr>\n",
       "      <th>2014-01-02</th>\n",
       "      <td>0.008696</td>\n",
       "      <td>0.2</td>\n",
       "      <td>0.0</td>\n",
       "      <td>0.0</td>\n",
       "      <td>0.0</td>\n",
       "      <td>222.956522</td>\n",
       "      <td>226.0</td>\n",
       "      <td>219.0</td>\n",
       "      <td>221.5</td>\n",
       "      <td>224.00</td>\n",
       "      <td>...</td>\n",
       "      <td>85.3</td>\n",
       "      <td>67.8</td>\n",
       "      <td>73.90</td>\n",
       "      <td>78.10</td>\n",
       "      <td>0.008696</td>\n",
       "      <td>0.217391</td>\n",
       "      <td>0.0</td>\n",
       "      <td>0.008696</td>\n",
       "      <td>0.226087</td>\n",
       "      <td>0.0</td>\n",
       "    </tr>\n",
       "    <tr>\n",
       "      <th>2014-01-03</th>\n",
       "      <td>0.000000</td>\n",
       "      <td>0.0</td>\n",
       "      <td>0.0</td>\n",
       "      <td>0.0</td>\n",
       "      <td>0.0</td>\n",
       "      <td>225.318182</td>\n",
       "      <td>231.0</td>\n",
       "      <td>219.0</td>\n",
       "      <td>220.5</td>\n",
       "      <td>230.00</td>\n",
       "      <td>...</td>\n",
       "      <td>78.7</td>\n",
       "      <td>63.0</td>\n",
       "      <td>67.95</td>\n",
       "      <td>76.30</td>\n",
       "      <td>0.008696</td>\n",
       "      <td>0.217391</td>\n",
       "      <td>0.0</td>\n",
       "      <td>0.008696</td>\n",
       "      <td>0.217391</td>\n",
       "      <td>0.0</td>\n",
       "    </tr>\n",
       "    <tr>\n",
       "      <th>2014-01-04</th>\n",
       "      <td>0.000000</td>\n",
       "      <td>0.0</td>\n",
       "      <td>0.0</td>\n",
       "      <td>0.0</td>\n",
       "      <td>0.0</td>\n",
       "      <td>213.863636</td>\n",
       "      <td>221.0</td>\n",
       "      <td>208.0</td>\n",
       "      <td>212.0</td>\n",
       "      <td>215.75</td>\n",
       "      <td>...</td>\n",
       "      <td>63.0</td>\n",
       "      <td>58.2</td>\n",
       "      <td>61.05</td>\n",
       "      <td>62.85</td>\n",
       "      <td>0.000000</td>\n",
       "      <td>0.000000</td>\n",
       "      <td>0.0</td>\n",
       "      <td>0.008696</td>\n",
       "      <td>0.217391</td>\n",
       "      <td>0.0</td>\n",
       "    </tr>\n",
       "    <tr>\n",
       "      <th>2014-01-05</th>\n",
       "      <td>0.000000</td>\n",
       "      <td>0.0</td>\n",
       "      <td>0.0</td>\n",
       "      <td>0.0</td>\n",
       "      <td>0.0</td>\n",
       "      <td>204.904762</td>\n",
       "      <td>208.0</td>\n",
       "      <td>201.0</td>\n",
       "      <td>204.0</td>\n",
       "      <td>206.00</td>\n",
       "      <td>...</td>\n",
       "      <td>58.2</td>\n",
       "      <td>53.4</td>\n",
       "      <td>55.80</td>\n",
       "      <td>57.00</td>\n",
       "      <td>0.000000</td>\n",
       "      <td>0.000000</td>\n",
       "      <td>0.0</td>\n",
       "      <td>0.000000</td>\n",
       "      <td>0.000000</td>\n",
       "      <td>0.0</td>\n",
       "    </tr>\n",
       "  </tbody>\n",
       "</table>\n",
       "<p>5 rows × 51 columns</p>\n",
       "</div>"
      ],
      "text/plain": [
       "            rain_upstream_mean  rain_upstream_max  rain_upstream_min  \\\n",
       "date                                                                   \n",
       "2014-01-01            0.000000                0.0                0.0   \n",
       "2014-01-02            0.008696                0.2                0.0   \n",
       "2014-01-03            0.000000                0.0                0.0   \n",
       "2014-01-04            0.000000                0.0                0.0   \n",
       "2014-01-05            0.000000                0.0                0.0   \n",
       "\n",
       "            rain_upstream_q25  rain_upstream_q75  level_upstream_mean  \\\n",
       "date                                                                    \n",
       "2014-01-01                0.0                0.0           219.083333   \n",
       "2014-01-02                0.0                0.0           222.956522   \n",
       "2014-01-03                0.0                0.0           225.318182   \n",
       "2014-01-04                0.0                0.0           213.863636   \n",
       "2014-01-05                0.0                0.0           204.904762   \n",
       "\n",
       "            level_upstream_max  level_upstream_min  level_upstream_q25  \\\n",
       "date                                                                     \n",
       "2014-01-01               222.0               216.0               217.0   \n",
       "2014-01-02               226.0               219.0               221.5   \n",
       "2014-01-03               231.0               219.0               220.5   \n",
       "2014-01-04               221.0               208.0               212.0   \n",
       "2014-01-05               208.0               201.0               204.0   \n",
       "\n",
       "            level_upstream_q75  ...  flow_after_max  flow_after_min  \\\n",
       "date                            ...                                   \n",
       "2014-01-01              221.00  ...            70.8            65.4   \n",
       "2014-01-02              224.00  ...            85.3            67.8   \n",
       "2014-01-03              230.00  ...            78.7            63.0   \n",
       "2014-01-04              215.75  ...            63.0            58.2   \n",
       "2014-01-05              206.00  ...            58.2            53.4   \n",
       "\n",
       "            flow_after_q25  flow_after_q75  rain_upstream_acc_2_days  \\\n",
       "date                                                                   \n",
       "2014-01-01           66.60           69.60                  0.000000   \n",
       "2014-01-02           73.90           78.10                  0.008696   \n",
       "2014-01-03           67.95           76.30                  0.008696   \n",
       "2014-01-04           61.05           62.85                  0.000000   \n",
       "2014-01-05           55.80           57.00                  0.000000   \n",
       "\n",
       "            rain_downstream_acc_2_days  rain_after_acc_2_days  \\\n",
       "date                                                            \n",
       "2014-01-01                    0.008696                    0.0   \n",
       "2014-01-02                    0.217391                    0.0   \n",
       "2014-01-03                    0.217391                    0.0   \n",
       "2014-01-04                    0.000000                    0.0   \n",
       "2014-01-05                    0.000000                    0.0   \n",
       "\n",
       "            rain_upstream_acc_3_days  rain_downstream_acc_3_days  \\\n",
       "date                                                               \n",
       "2014-01-01                  0.000000                    0.026087   \n",
       "2014-01-02                  0.008696                    0.226087   \n",
       "2014-01-03                  0.008696                    0.217391   \n",
       "2014-01-04                  0.008696                    0.217391   \n",
       "2014-01-05                  0.000000                    0.000000   \n",
       "\n",
       "            rain_after_acc_3_days  \n",
       "date                               \n",
       "2014-01-01                    0.0  \n",
       "2014-01-02                    0.0  \n",
       "2014-01-03                    0.0  \n",
       "2014-01-04                    0.0  \n",
       "2014-01-05                    0.0  \n",
       "\n",
       "[5 rows x 51 columns]"
      ]
     },
     "execution_count": 4,
     "metadata": {},
     "output_type": "execute_result"
    }
   ],
   "source": [
    "df = pd.read_csv(\n",
    "    PROCESSED_PATH,\n",
    "    sep=\";\",\n",
    "    parse_dates=[\"date\"],\n",
    "    dayfirst=True,\n",
    ")\n",
    "\n",
    "df.set_index(\"date\", inplace=True)\n",
    "df.index = pd.to_datetime(df.index)\n",
    "\n",
    "df.head()"
   ]
  },
  {
   "cell_type": "markdown",
   "id": "20efaa67",
   "metadata": {},
   "source": [
    "## 2. Data Preprocessing\n",
    "\n",
    "- Conferir ausência de dados nulos\n",
    "- Retirar as colunas de vazão, uma vez que está altamente correlacionada à coluna de nível\n",
    "- Normalização dos dados"
   ]
  },
  {
   "cell_type": "code",
   "execution_count": 5,
   "id": "58024d7d",
   "metadata": {},
   "outputs": [
    {
     "name": "stdout",
     "output_type": "stream",
     "text": [
      "Missing values in each column:\n",
      "Series([], dtype: int64)\n"
     ]
    }
   ],
   "source": [
    "# Count missing values in each column\n",
    "def print_missing_values(data):\n",
    "    missing_values = data.isnull().sum()\n",
    "    print(\"Missing values in each column:\")\n",
    "    print(missing_values[missing_values > 0])\n",
    "\n",
    "print_missing_values(df)"
   ]
  },
  {
   "cell_type": "code",
   "execution_count": 6,
   "id": "652bba76",
   "metadata": {},
   "outputs": [
    {
     "data": {
      "application/vnd.microsoft.datawrangler.viewer.v0+json": {
       "columns": [
        {
         "name": "date",
         "rawType": "datetime64[ns]",
         "type": "datetime"
        },
        {
         "name": "rain_upstream_mean",
         "rawType": "float64",
         "type": "float"
        },
        {
         "name": "rain_upstream_max",
         "rawType": "float64",
         "type": "float"
        },
        {
         "name": "rain_upstream_min",
         "rawType": "float64",
         "type": "float"
        },
        {
         "name": "rain_upstream_q25",
         "rawType": "float64",
         "type": "float"
        },
        {
         "name": "rain_upstream_q75",
         "rawType": "float64",
         "type": "float"
        },
        {
         "name": "level_upstream_mean",
         "rawType": "float64",
         "type": "float"
        },
        {
         "name": "level_upstream_max",
         "rawType": "float64",
         "type": "float"
        },
        {
         "name": "level_upstream_min",
         "rawType": "float64",
         "type": "float"
        },
        {
         "name": "level_upstream_q25",
         "rawType": "float64",
         "type": "float"
        },
        {
         "name": "level_upstream_q75",
         "rawType": "float64",
         "type": "float"
        },
        {
         "name": "rain_downstream_mean",
         "rawType": "float64",
         "type": "float"
        },
        {
         "name": "rain_downstream_max",
         "rawType": "float64",
         "type": "float"
        },
        {
         "name": "rain_downstream_min",
         "rawType": "float64",
         "type": "float"
        },
        {
         "name": "rain_downstream_q25",
         "rawType": "float64",
         "type": "float"
        },
        {
         "name": "rain_downstream_q75",
         "rawType": "float64",
         "type": "float"
        },
        {
         "name": "level_downstream_mean",
         "rawType": "float64",
         "type": "float"
        },
        {
         "name": "level_downstream_max",
         "rawType": "float64",
         "type": "float"
        },
        {
         "name": "level_downstream_min",
         "rawType": "float64",
         "type": "float"
        },
        {
         "name": "level_downstream_q25",
         "rawType": "float64",
         "type": "float"
        },
        {
         "name": "level_downstream_q75",
         "rawType": "float64",
         "type": "float"
        },
        {
         "name": "rain_after_mean",
         "rawType": "float64",
         "type": "float"
        },
        {
         "name": "rain_after_max",
         "rawType": "float64",
         "type": "float"
        },
        {
         "name": "rain_after_min",
         "rawType": "float64",
         "type": "float"
        },
        {
         "name": "rain_after_q25",
         "rawType": "float64",
         "type": "float"
        },
        {
         "name": "rain_after_q75",
         "rawType": "float64",
         "type": "float"
        },
        {
         "name": "level_after_mean",
         "rawType": "float64",
         "type": "float"
        },
        {
         "name": "level_after_max",
         "rawType": "float64",
         "type": "float"
        },
        {
         "name": "level_after_min",
         "rawType": "float64",
         "type": "float"
        },
        {
         "name": "level_after_q25",
         "rawType": "float64",
         "type": "float"
        },
        {
         "name": "level_after_q75",
         "rawType": "float64",
         "type": "float"
        },
        {
         "name": "rain_upstream_acc_2_days",
         "rawType": "float64",
         "type": "float"
        },
        {
         "name": "rain_downstream_acc_2_days",
         "rawType": "float64",
         "type": "float"
        },
        {
         "name": "rain_after_acc_2_days",
         "rawType": "float64",
         "type": "float"
        },
        {
         "name": "rain_upstream_acc_3_days",
         "rawType": "float64",
         "type": "float"
        },
        {
         "name": "rain_downstream_acc_3_days",
         "rawType": "float64",
         "type": "float"
        },
        {
         "name": "rain_after_acc_3_days",
         "rawType": "float64",
         "type": "float"
        }
       ],
       "ref": "2301e253-f533-472b-8dae-3ede56b24020",
       "rows": [
        [
         "2014-01-01 00:00:00",
         "0.0",
         "0.0",
         "0.0",
         "0.0",
         "0.0",
         "219.08333333333331",
         "222.0",
         "216.0",
         "217.0",
         "221.0",
         "0.0",
         "0.0",
         "0.0",
         "0.0",
         "0.0",
         "150.79166666666666",
         "171.0",
         "146.0",
         "147.0",
         "150.25",
         "0.0",
         "0.0",
         "0.0",
         "0.0",
         "0.0",
         "288.9583333333333",
         "293.0",
         "284.0",
         "286.0",
         "291.0",
         "0.0",
         "0.0086956521739131",
         "0.0",
         "0.0",
         "0.026086956521739",
         "0.0"
        ],
        [
         "2014-01-02 00:00:00",
         "0.008695652173913",
         "0.2",
         "0.0",
         "0.0",
         "0.0",
         "222.95652173913044",
         "226.0",
         "219.0",
         "221.5",
         "224.0",
         "0.217391304347826",
         "4.8",
         "0.0",
         "0.0",
         "0.0",
         "167.2173913043478",
         "206.0",
         "154.0",
         "155.5",
         "169.5",
         "0.0",
         "0.0",
         "0.0",
         "0.0",
         "0.0",
         "304.0",
         "326.0",
         "288.0",
         "298.0",
         "309.0",
         "0.0086956521739129",
         "0.2173913043478262",
         "0.0",
         "0.008695652173913",
         "0.226086956521739",
         "0.0"
        ],
        [
         "2014-01-03 00:00:00",
         "0.0",
         "0.0",
         "0.0",
         "0.0",
         "0.0",
         "225.3181818181818",
         "231.0",
         "219.0",
         "220.5",
         "230.0",
         "0.0",
         "0.0",
         "0.0",
         "0.0",
         "0.0",
         "152.6818181818182",
         "157.0",
         "150.0",
         "151.0",
         "154.75",
         "0.0",
         "0.0",
         "0.0",
         "0.0",
         "0.0",
         "293.90909090909093",
         "306.0",
         "280.0",
         "288.25",
         "302.0",
         "0.0086956521739129",
         "0.2173913043478262",
         "0.0",
         "0.008695652173913",
         "0.2173913043478259",
         "0.0"
        ],
        [
         "2014-01-04 00:00:00",
         "0.0",
         "0.0",
         "0.0",
         "0.0",
         "0.0",
         "213.8636363636364",
         "221.0",
         "208.0",
         "212.0",
         "215.75",
         "0.0",
         "0.0",
         "0.0",
         "0.0",
         "0.0",
         "145.86363636363637",
         "152.0",
         "142.0",
         "145.0",
         "146.0",
         "0.0",
         "0.0",
         "0.0",
         "0.0",
         "0.0",
         "277.90909090909093",
         "280.0",
         "271.0",
         "276.75",
         "279.0",
         "0.0",
         "0.0",
         "0.0",
         "0.008695652173913",
         "0.2173913043478259",
         "0.0"
        ],
        [
         "2014-01-05 00:00:00",
         "0.0",
         "0.0",
         "0.0",
         "0.0",
         "0.0",
         "204.9047619047619",
         "208.0",
         "201.0",
         "204.0",
         "206.0",
         "0.0",
         "0.0",
         "0.0",
         "0.0",
         "0.0",
         "139.04761904761904",
         "142.0",
         "136.0",
         "138.0",
         "140.0",
         "0.0",
         "0.0",
         "0.0",
         "0.0",
         "0.0",
         "269.1428571428572",
         "272.0",
         "264.0",
         "268.0",
         "270.0",
         "0.0",
         "0.0",
         "0.0",
         "0.0",
         "0.0",
         "0.0"
        ]
       ],
       "shape": {
        "columns": 36,
        "rows": 5
       }
      },
      "text/html": [
       "<div>\n",
       "<style scoped>\n",
       "    .dataframe tbody tr th:only-of-type {\n",
       "        vertical-align: middle;\n",
       "    }\n",
       "\n",
       "    .dataframe tbody tr th {\n",
       "        vertical-align: top;\n",
       "    }\n",
       "\n",
       "    .dataframe thead th {\n",
       "        text-align: right;\n",
       "    }\n",
       "</style>\n",
       "<table border=\"1\" class=\"dataframe\">\n",
       "  <thead>\n",
       "    <tr style=\"text-align: right;\">\n",
       "      <th></th>\n",
       "      <th>rain_upstream_mean</th>\n",
       "      <th>rain_upstream_max</th>\n",
       "      <th>rain_upstream_min</th>\n",
       "      <th>rain_upstream_q25</th>\n",
       "      <th>rain_upstream_q75</th>\n",
       "      <th>level_upstream_mean</th>\n",
       "      <th>level_upstream_max</th>\n",
       "      <th>level_upstream_min</th>\n",
       "      <th>level_upstream_q25</th>\n",
       "      <th>level_upstream_q75</th>\n",
       "      <th>...</th>\n",
       "      <th>level_after_max</th>\n",
       "      <th>level_after_min</th>\n",
       "      <th>level_after_q25</th>\n",
       "      <th>level_after_q75</th>\n",
       "      <th>rain_upstream_acc_2_days</th>\n",
       "      <th>rain_downstream_acc_2_days</th>\n",
       "      <th>rain_after_acc_2_days</th>\n",
       "      <th>rain_upstream_acc_3_days</th>\n",
       "      <th>rain_downstream_acc_3_days</th>\n",
       "      <th>rain_after_acc_3_days</th>\n",
       "    </tr>\n",
       "    <tr>\n",
       "      <th>date</th>\n",
       "      <th></th>\n",
       "      <th></th>\n",
       "      <th></th>\n",
       "      <th></th>\n",
       "      <th></th>\n",
       "      <th></th>\n",
       "      <th></th>\n",
       "      <th></th>\n",
       "      <th></th>\n",
       "      <th></th>\n",
       "      <th></th>\n",
       "      <th></th>\n",
       "      <th></th>\n",
       "      <th></th>\n",
       "      <th></th>\n",
       "      <th></th>\n",
       "      <th></th>\n",
       "      <th></th>\n",
       "      <th></th>\n",
       "      <th></th>\n",
       "      <th></th>\n",
       "    </tr>\n",
       "  </thead>\n",
       "  <tbody>\n",
       "    <tr>\n",
       "      <th>2014-01-01</th>\n",
       "      <td>0.000000</td>\n",
       "      <td>0.0</td>\n",
       "      <td>0.0</td>\n",
       "      <td>0.0</td>\n",
       "      <td>0.0</td>\n",
       "      <td>219.083333</td>\n",
       "      <td>222.0</td>\n",
       "      <td>216.0</td>\n",
       "      <td>217.0</td>\n",
       "      <td>221.00</td>\n",
       "      <td>...</td>\n",
       "      <td>293.0</td>\n",
       "      <td>284.0</td>\n",
       "      <td>286.00</td>\n",
       "      <td>291.0</td>\n",
       "      <td>0.000000</td>\n",
       "      <td>0.008696</td>\n",
       "      <td>0.0</td>\n",
       "      <td>0.000000</td>\n",
       "      <td>0.026087</td>\n",
       "      <td>0.0</td>\n",
       "    </tr>\n",
       "    <tr>\n",
       "      <th>2014-01-02</th>\n",
       "      <td>0.008696</td>\n",
       "      <td>0.2</td>\n",
       "      <td>0.0</td>\n",
       "      <td>0.0</td>\n",
       "      <td>0.0</td>\n",
       "      <td>222.956522</td>\n",
       "      <td>226.0</td>\n",
       "      <td>219.0</td>\n",
       "      <td>221.5</td>\n",
       "      <td>224.00</td>\n",
       "      <td>...</td>\n",
       "      <td>326.0</td>\n",
       "      <td>288.0</td>\n",
       "      <td>298.00</td>\n",
       "      <td>309.0</td>\n",
       "      <td>0.008696</td>\n",
       "      <td>0.217391</td>\n",
       "      <td>0.0</td>\n",
       "      <td>0.008696</td>\n",
       "      <td>0.226087</td>\n",
       "      <td>0.0</td>\n",
       "    </tr>\n",
       "    <tr>\n",
       "      <th>2014-01-03</th>\n",
       "      <td>0.000000</td>\n",
       "      <td>0.0</td>\n",
       "      <td>0.0</td>\n",
       "      <td>0.0</td>\n",
       "      <td>0.0</td>\n",
       "      <td>225.318182</td>\n",
       "      <td>231.0</td>\n",
       "      <td>219.0</td>\n",
       "      <td>220.5</td>\n",
       "      <td>230.00</td>\n",
       "      <td>...</td>\n",
       "      <td>306.0</td>\n",
       "      <td>280.0</td>\n",
       "      <td>288.25</td>\n",
       "      <td>302.0</td>\n",
       "      <td>0.008696</td>\n",
       "      <td>0.217391</td>\n",
       "      <td>0.0</td>\n",
       "      <td>0.008696</td>\n",
       "      <td>0.217391</td>\n",
       "      <td>0.0</td>\n",
       "    </tr>\n",
       "    <tr>\n",
       "      <th>2014-01-04</th>\n",
       "      <td>0.000000</td>\n",
       "      <td>0.0</td>\n",
       "      <td>0.0</td>\n",
       "      <td>0.0</td>\n",
       "      <td>0.0</td>\n",
       "      <td>213.863636</td>\n",
       "      <td>221.0</td>\n",
       "      <td>208.0</td>\n",
       "      <td>212.0</td>\n",
       "      <td>215.75</td>\n",
       "      <td>...</td>\n",
       "      <td>280.0</td>\n",
       "      <td>271.0</td>\n",
       "      <td>276.75</td>\n",
       "      <td>279.0</td>\n",
       "      <td>0.000000</td>\n",
       "      <td>0.000000</td>\n",
       "      <td>0.0</td>\n",
       "      <td>0.008696</td>\n",
       "      <td>0.217391</td>\n",
       "      <td>0.0</td>\n",
       "    </tr>\n",
       "    <tr>\n",
       "      <th>2014-01-05</th>\n",
       "      <td>0.000000</td>\n",
       "      <td>0.0</td>\n",
       "      <td>0.0</td>\n",
       "      <td>0.0</td>\n",
       "      <td>0.0</td>\n",
       "      <td>204.904762</td>\n",
       "      <td>208.0</td>\n",
       "      <td>201.0</td>\n",
       "      <td>204.0</td>\n",
       "      <td>206.00</td>\n",
       "      <td>...</td>\n",
       "      <td>272.0</td>\n",
       "      <td>264.0</td>\n",
       "      <td>268.00</td>\n",
       "      <td>270.0</td>\n",
       "      <td>0.000000</td>\n",
       "      <td>0.000000</td>\n",
       "      <td>0.0</td>\n",
       "      <td>0.000000</td>\n",
       "      <td>0.000000</td>\n",
       "      <td>0.0</td>\n",
       "    </tr>\n",
       "  </tbody>\n",
       "</table>\n",
       "<p>5 rows × 36 columns</p>\n",
       "</div>"
      ],
      "text/plain": [
       "            rain_upstream_mean  rain_upstream_max  rain_upstream_min  \\\n",
       "date                                                                   \n",
       "2014-01-01            0.000000                0.0                0.0   \n",
       "2014-01-02            0.008696                0.2                0.0   \n",
       "2014-01-03            0.000000                0.0                0.0   \n",
       "2014-01-04            0.000000                0.0                0.0   \n",
       "2014-01-05            0.000000                0.0                0.0   \n",
       "\n",
       "            rain_upstream_q25  rain_upstream_q75  level_upstream_mean  \\\n",
       "date                                                                    \n",
       "2014-01-01                0.0                0.0           219.083333   \n",
       "2014-01-02                0.0                0.0           222.956522   \n",
       "2014-01-03                0.0                0.0           225.318182   \n",
       "2014-01-04                0.0                0.0           213.863636   \n",
       "2014-01-05                0.0                0.0           204.904762   \n",
       "\n",
       "            level_upstream_max  level_upstream_min  level_upstream_q25  \\\n",
       "date                                                                     \n",
       "2014-01-01               222.0               216.0               217.0   \n",
       "2014-01-02               226.0               219.0               221.5   \n",
       "2014-01-03               231.0               219.0               220.5   \n",
       "2014-01-04               221.0               208.0               212.0   \n",
       "2014-01-05               208.0               201.0               204.0   \n",
       "\n",
       "            level_upstream_q75  ...  level_after_max  level_after_min  \\\n",
       "date                            ...                                     \n",
       "2014-01-01              221.00  ...            293.0            284.0   \n",
       "2014-01-02              224.00  ...            326.0            288.0   \n",
       "2014-01-03              230.00  ...            306.0            280.0   \n",
       "2014-01-04              215.75  ...            280.0            271.0   \n",
       "2014-01-05              206.00  ...            272.0            264.0   \n",
       "\n",
       "            level_after_q25  level_after_q75  rain_upstream_acc_2_days  \\\n",
       "date                                                                     \n",
       "2014-01-01           286.00            291.0                  0.000000   \n",
       "2014-01-02           298.00            309.0                  0.008696   \n",
       "2014-01-03           288.25            302.0                  0.008696   \n",
       "2014-01-04           276.75            279.0                  0.000000   \n",
       "2014-01-05           268.00            270.0                  0.000000   \n",
       "\n",
       "            rain_downstream_acc_2_days  rain_after_acc_2_days  \\\n",
       "date                                                            \n",
       "2014-01-01                    0.008696                    0.0   \n",
       "2014-01-02                    0.217391                    0.0   \n",
       "2014-01-03                    0.217391                    0.0   \n",
       "2014-01-04                    0.000000                    0.0   \n",
       "2014-01-05                    0.000000                    0.0   \n",
       "\n",
       "            rain_upstream_acc_3_days  rain_downstream_acc_3_days  \\\n",
       "date                                                               \n",
       "2014-01-01                  0.000000                    0.026087   \n",
       "2014-01-02                  0.008696                    0.226087   \n",
       "2014-01-03                  0.008696                    0.217391   \n",
       "2014-01-04                  0.008696                    0.217391   \n",
       "2014-01-05                  0.000000                    0.000000   \n",
       "\n",
       "            rain_after_acc_3_days  \n",
       "date                               \n",
       "2014-01-01                    0.0  \n",
       "2014-01-02                    0.0  \n",
       "2014-01-03                    0.0  \n",
       "2014-01-04                    0.0  \n",
       "2014-01-05                    0.0  \n",
       "\n",
       "[5 rows x 36 columns]"
      ]
     },
     "execution_count": 6,
     "metadata": {},
     "output_type": "execute_result"
    }
   ],
   "source": [
    "# Remove columns containing 'flow' from the dataframe\n",
    "df = df.loc[:, ~df.columns.str.contains('flow')]\n",
    "df.head()"
   ]
  },
  {
   "cell_type": "code",
   "execution_count": 7,
   "id": "8a422e87",
   "metadata": {},
   "outputs": [
    {
     "data": {
      "application/vnd.microsoft.datawrangler.viewer.v0+json": {
       "columns": [
        {
         "name": "date",
         "rawType": "datetime64[ns]",
         "type": "datetime"
        },
        {
         "name": "rain_upstream_mean",
         "rawType": "float64",
         "type": "float"
        },
        {
         "name": "rain_upstream_max",
         "rawType": "float64",
         "type": "float"
        },
        {
         "name": "rain_upstream_min",
         "rawType": "float64",
         "type": "float"
        },
        {
         "name": "rain_upstream_q25",
         "rawType": "float64",
         "type": "float"
        },
        {
         "name": "rain_upstream_q75",
         "rawType": "float64",
         "type": "float"
        },
        {
         "name": "level_upstream_mean",
         "rawType": "float64",
         "type": "float"
        },
        {
         "name": "level_upstream_max",
         "rawType": "float64",
         "type": "float"
        },
        {
         "name": "level_upstream_min",
         "rawType": "float64",
         "type": "float"
        },
        {
         "name": "level_upstream_q25",
         "rawType": "float64",
         "type": "float"
        },
        {
         "name": "level_upstream_q75",
         "rawType": "float64",
         "type": "float"
        },
        {
         "name": "rain_downstream_mean",
         "rawType": "float64",
         "type": "float"
        },
        {
         "name": "rain_downstream_max",
         "rawType": "float64",
         "type": "float"
        },
        {
         "name": "rain_downstream_min",
         "rawType": "float64",
         "type": "float"
        },
        {
         "name": "rain_downstream_q25",
         "rawType": "float64",
         "type": "float"
        },
        {
         "name": "rain_downstream_q75",
         "rawType": "float64",
         "type": "float"
        },
        {
         "name": "level_downstream_mean",
         "rawType": "float64",
         "type": "float"
        },
        {
         "name": "level_downstream_max",
         "rawType": "float64",
         "type": "float"
        },
        {
         "name": "level_downstream_min",
         "rawType": "float64",
         "type": "float"
        },
        {
         "name": "level_downstream_q25",
         "rawType": "float64",
         "type": "float"
        },
        {
         "name": "level_downstream_q75",
         "rawType": "float64",
         "type": "float"
        },
        {
         "name": "rain_after_mean",
         "rawType": "float64",
         "type": "float"
        },
        {
         "name": "rain_after_max",
         "rawType": "float64",
         "type": "float"
        },
        {
         "name": "rain_after_min",
         "rawType": "float64",
         "type": "float"
        },
        {
         "name": "rain_after_q25",
         "rawType": "float64",
         "type": "float"
        },
        {
         "name": "rain_after_q75",
         "rawType": "float64",
         "type": "float"
        },
        {
         "name": "level_after_mean",
         "rawType": "float64",
         "type": "float"
        },
        {
         "name": "level_after_max",
         "rawType": "float64",
         "type": "float"
        },
        {
         "name": "level_after_min",
         "rawType": "float64",
         "type": "float"
        },
        {
         "name": "level_after_q25",
         "rawType": "float64",
         "type": "float"
        },
        {
         "name": "level_after_q75",
         "rawType": "float64",
         "type": "float"
        },
        {
         "name": "rain_upstream_acc_2_days",
         "rawType": "float64",
         "type": "float"
        },
        {
         "name": "rain_downstream_acc_2_days",
         "rawType": "float64",
         "type": "float"
        },
        {
         "name": "rain_after_acc_2_days",
         "rawType": "float64",
         "type": "float"
        },
        {
         "name": "rain_upstream_acc_3_days",
         "rawType": "float64",
         "type": "float"
        },
        {
         "name": "rain_downstream_acc_3_days",
         "rawType": "float64",
         "type": "float"
        },
        {
         "name": "rain_after_acc_3_days",
         "rawType": "float64",
         "type": "float"
        }
       ],
       "ref": "7fbf9a9e-1dbd-41f3-8a2d-f33a2e24ff01",
       "rows": [
        [
         "2014-01-01 00:00:00",
         "-0.2854496740505716",
         "-0.28774728066076427",
         "0.0",
         "-0.0223160921338726",
         "-0.11514926169566596",
         "0.24570057670632145",
         "0.10576298410793622",
         "0.3549922243681733",
         "0.2940640408194359",
         "0.20138371298926527",
         "-0.3000372044619842",
         "-0.2961413987401215",
         "-0.015777895820254743",
         "-0.02711161219786398",
         "-0.10921339833151379",
         "0.15613210718524015",
         "0.10641408297285584",
         "0.2990497058514791",
         "0.23310236093411085",
         "0.0574086204702861",
         "-0.2638508718402735",
         "-0.2860490700744073",
         "0.0",
         "-0.01577789582025474",
         "-0.1022834649135597",
         "0.7305714468999885",
         "0.6165013389992517",
         "0.8352054661710467",
         "0.7819004433131735",
         "0.6637097497965069",
         "-0.37178583059937836",
         "-0.34198487419709506",
         "-0.3340386912325946",
         "-0.4281928671648227",
         "-0.3443982883870843",
         "-0.38321059676537683"
        ],
        [
         "2014-01-02 00:00:00",
         "-0.20382955518443965",
         "-0.20063391615692527",
         "0.0",
         "-0.0223160921338726",
         "-0.11514926169566596",
         "0.3013414490298598",
         "0.15794696350793427",
         "0.4004977657844324",
         "0.36002752650693043",
         "0.2432107936468684",
         "1.374562876715948",
         "1.3601344024028663",
         "-0.015777895820254743",
         "-0.02711161219786398",
         "-0.10921339833151379",
         "0.4635910792999204",
         "0.5646425297488227",
         "0.47648835680565343",
         "0.4118326822074686",
         "0.377387107475625",
         "-0.2638508718402735",
         "-0.2860490700744073",
         "0.0",
         "-0.01577789582025474",
         "-0.1022834649135597",
         "0.8747014411127022",
         "0.9111616850579817",
         "0.8757764041493068",
         "0.900001070622337",
         "0.8290414021412099",
         "-0.31863051934413",
         "0.6906750232793272",
         "-0.3340386912325946",
         "-0.3873790338615752",
         "0.41606752565075106",
         "-0.38321059676537683"
        ],
        [
         "2014-01-03 00:00:00",
         "-0.2854496740505716",
         "-0.28774728066076427",
         "0.0",
         "-0.0223160921338726",
         "-0.11514926169566596",
         "0.335268233157742",
         "0.22317693775793185",
         "0.4004977657844324",
         "0.3453689741319316",
         "0.3268649549620746",
         "-0.3000372044619842",
         "-0.2961413987401215",
         "-0.015777895820254743",
         "-0.02711161219786398",
         "-0.10921339833151379",
         "0.19151222311975005",
         "-0.07687729573753088",
         "0.38776903132856627",
         "0.317210747415691",
         "0.13220878626374194",
         "-0.2638508718402735",
         "-0.2860490700744073",
         "0.0",
         "-0.01577789582025474",
         "-0.1022834649135597",
         "0.7780098509382707",
         "0.7325796571436",
         "0.7946345281927867",
         "0.8040443109336417",
         "0.7647457595627143",
         "-0.31863051934413",
         "0.6906750232793272",
         "-0.3340386912325946",
         "-0.3873790338615752",
         "0.38300379460562756",
         "-0.38321059676537683"
        ],
        [
         "2014-01-04 00:00:00",
         "-0.2854496740505716",
         "-0.28774728066076427",
         "0.0",
         "-0.0223160921338726",
         "-0.11514926169566596",
         "0.17071623248393022",
         "0.0927169892579367",
         "0.23364411392481574",
         "0.22077127894444196",
         "0.12818632183845985",
         "-0.3000372044619842",
         "-0.2961413987401215",
         "-0.015777895820254743",
         "-0.02711161219786398",
         "-0.10921339833151379",
         "0.06388855842612827",
         "-0.14233850241981186",
         "0.21033038037439192",
         "0.19104816769332078",
         "-0.01323598055686664",
         "-0.2638508718402735",
         "-0.2860490700744073",
         "0.0",
         "-0.01577789582025474",
         "-0.1022834649135597",
         "0.6246970593103427",
         "0.5004230208549036",
         "0.7033499177417015",
         "0.6908645430956935",
         "0.5534886482333715",
         "-0.37178583059937836",
         "-0.3850123699252796",
         "-0.3340386912325946",
         "-0.3873790338615752",
         "0.38300379460562756",
         "-0.38321059676537683"
        ],
        [
         "2014-01-05 00:00:00",
         "-0.2854496740505716",
         "-0.28774728066076427",
         "0.0",
         "-0.0223160921338726",
         "-0.11514926169566596",
         "0.04201616997657705",
         "-0.07688094379205698",
         "0.12746451728687785",
         "0.1035028599444517",
         "-0.0077516902987502505",
         "-0.3000372044619842",
         "-0.2961413987401215",
         "-0.015777895820254743",
         "-0.02711161219786398",
         "-0.10921339833151379",
         "-0.06369459081838492",
         "-0.27326091578437384",
         "0.07725139215876117",
         "0.043858491350555584",
         "-0.1129695349481411",
         "-0.2638508718402735",
         "-0.2860490700744073",
         "0.0",
         "-0.01577789582025474",
         "-0.1022834649135597",
         "0.5406985736375743",
         "0.4289902096891509",
         "0.6323507762797463",
         "0.6047495023494284",
         "0.47082282206101994",
         "-0.37178583059937836",
         "-0.3850123699252796",
         "-0.3340386912325946",
         "-0.4281928671648227",
         "-0.4435894815224537",
         "-0.38321059676537683"
        ]
       ],
       "shape": {
        "columns": 36,
        "rows": 5
       }
      },
      "text/html": [
       "<div>\n",
       "<style scoped>\n",
       "    .dataframe tbody tr th:only-of-type {\n",
       "        vertical-align: middle;\n",
       "    }\n",
       "\n",
       "    .dataframe tbody tr th {\n",
       "        vertical-align: top;\n",
       "    }\n",
       "\n",
       "    .dataframe thead th {\n",
       "        text-align: right;\n",
       "    }\n",
       "</style>\n",
       "<table border=\"1\" class=\"dataframe\">\n",
       "  <thead>\n",
       "    <tr style=\"text-align: right;\">\n",
       "      <th></th>\n",
       "      <th>rain_upstream_mean</th>\n",
       "      <th>rain_upstream_max</th>\n",
       "      <th>rain_upstream_min</th>\n",
       "      <th>rain_upstream_q25</th>\n",
       "      <th>rain_upstream_q75</th>\n",
       "      <th>level_upstream_mean</th>\n",
       "      <th>level_upstream_max</th>\n",
       "      <th>level_upstream_min</th>\n",
       "      <th>level_upstream_q25</th>\n",
       "      <th>level_upstream_q75</th>\n",
       "      <th>...</th>\n",
       "      <th>level_after_max</th>\n",
       "      <th>level_after_min</th>\n",
       "      <th>level_after_q25</th>\n",
       "      <th>level_after_q75</th>\n",
       "      <th>rain_upstream_acc_2_days</th>\n",
       "      <th>rain_downstream_acc_2_days</th>\n",
       "      <th>rain_after_acc_2_days</th>\n",
       "      <th>rain_upstream_acc_3_days</th>\n",
       "      <th>rain_downstream_acc_3_days</th>\n",
       "      <th>rain_after_acc_3_days</th>\n",
       "    </tr>\n",
       "    <tr>\n",
       "      <th>date</th>\n",
       "      <th></th>\n",
       "      <th></th>\n",
       "      <th></th>\n",
       "      <th></th>\n",
       "      <th></th>\n",
       "      <th></th>\n",
       "      <th></th>\n",
       "      <th></th>\n",
       "      <th></th>\n",
       "      <th></th>\n",
       "      <th></th>\n",
       "      <th></th>\n",
       "      <th></th>\n",
       "      <th></th>\n",
       "      <th></th>\n",
       "      <th></th>\n",
       "      <th></th>\n",
       "      <th></th>\n",
       "      <th></th>\n",
       "      <th></th>\n",
       "      <th></th>\n",
       "    </tr>\n",
       "  </thead>\n",
       "  <tbody>\n",
       "    <tr>\n",
       "      <th>2014-01-01</th>\n",
       "      <td>-0.28545</td>\n",
       "      <td>-0.287747</td>\n",
       "      <td>0.0</td>\n",
       "      <td>-0.022316</td>\n",
       "      <td>-0.115149</td>\n",
       "      <td>0.245701</td>\n",
       "      <td>0.105763</td>\n",
       "      <td>0.354992</td>\n",
       "      <td>0.294064</td>\n",
       "      <td>0.201384</td>\n",
       "      <td>...</td>\n",
       "      <td>0.616501</td>\n",
       "      <td>0.835205</td>\n",
       "      <td>0.781900</td>\n",
       "      <td>0.663710</td>\n",
       "      <td>-0.371786</td>\n",
       "      <td>-0.341985</td>\n",
       "      <td>-0.334039</td>\n",
       "      <td>-0.428193</td>\n",
       "      <td>-0.344398</td>\n",
       "      <td>-0.383211</td>\n",
       "    </tr>\n",
       "    <tr>\n",
       "      <th>2014-01-02</th>\n",
       "      <td>-0.20383</td>\n",
       "      <td>-0.200634</td>\n",
       "      <td>0.0</td>\n",
       "      <td>-0.022316</td>\n",
       "      <td>-0.115149</td>\n",
       "      <td>0.301341</td>\n",
       "      <td>0.157947</td>\n",
       "      <td>0.400498</td>\n",
       "      <td>0.360028</td>\n",
       "      <td>0.243211</td>\n",
       "      <td>...</td>\n",
       "      <td>0.911162</td>\n",
       "      <td>0.875776</td>\n",
       "      <td>0.900001</td>\n",
       "      <td>0.829041</td>\n",
       "      <td>-0.318631</td>\n",
       "      <td>0.690675</td>\n",
       "      <td>-0.334039</td>\n",
       "      <td>-0.387379</td>\n",
       "      <td>0.416068</td>\n",
       "      <td>-0.383211</td>\n",
       "    </tr>\n",
       "    <tr>\n",
       "      <th>2014-01-03</th>\n",
       "      <td>-0.28545</td>\n",
       "      <td>-0.287747</td>\n",
       "      <td>0.0</td>\n",
       "      <td>-0.022316</td>\n",
       "      <td>-0.115149</td>\n",
       "      <td>0.335268</td>\n",
       "      <td>0.223177</td>\n",
       "      <td>0.400498</td>\n",
       "      <td>0.345369</td>\n",
       "      <td>0.326865</td>\n",
       "      <td>...</td>\n",
       "      <td>0.732580</td>\n",
       "      <td>0.794635</td>\n",
       "      <td>0.804044</td>\n",
       "      <td>0.764746</td>\n",
       "      <td>-0.318631</td>\n",
       "      <td>0.690675</td>\n",
       "      <td>-0.334039</td>\n",
       "      <td>-0.387379</td>\n",
       "      <td>0.383004</td>\n",
       "      <td>-0.383211</td>\n",
       "    </tr>\n",
       "    <tr>\n",
       "      <th>2014-01-04</th>\n",
       "      <td>-0.28545</td>\n",
       "      <td>-0.287747</td>\n",
       "      <td>0.0</td>\n",
       "      <td>-0.022316</td>\n",
       "      <td>-0.115149</td>\n",
       "      <td>0.170716</td>\n",
       "      <td>0.092717</td>\n",
       "      <td>0.233644</td>\n",
       "      <td>0.220771</td>\n",
       "      <td>0.128186</td>\n",
       "      <td>...</td>\n",
       "      <td>0.500423</td>\n",
       "      <td>0.703350</td>\n",
       "      <td>0.690865</td>\n",
       "      <td>0.553489</td>\n",
       "      <td>-0.371786</td>\n",
       "      <td>-0.385012</td>\n",
       "      <td>-0.334039</td>\n",
       "      <td>-0.387379</td>\n",
       "      <td>0.383004</td>\n",
       "      <td>-0.383211</td>\n",
       "    </tr>\n",
       "    <tr>\n",
       "      <th>2014-01-05</th>\n",
       "      <td>-0.28545</td>\n",
       "      <td>-0.287747</td>\n",
       "      <td>0.0</td>\n",
       "      <td>-0.022316</td>\n",
       "      <td>-0.115149</td>\n",
       "      <td>0.042016</td>\n",
       "      <td>-0.076881</td>\n",
       "      <td>0.127465</td>\n",
       "      <td>0.103503</td>\n",
       "      <td>-0.007752</td>\n",
       "      <td>...</td>\n",
       "      <td>0.428990</td>\n",
       "      <td>0.632351</td>\n",
       "      <td>0.604750</td>\n",
       "      <td>0.470823</td>\n",
       "      <td>-0.371786</td>\n",
       "      <td>-0.385012</td>\n",
       "      <td>-0.334039</td>\n",
       "      <td>-0.428193</td>\n",
       "      <td>-0.443589</td>\n",
       "      <td>-0.383211</td>\n",
       "    </tr>\n",
       "  </tbody>\n",
       "</table>\n",
       "<p>5 rows × 36 columns</p>\n",
       "</div>"
      ],
      "text/plain": [
       "            rain_upstream_mean  rain_upstream_max  rain_upstream_min  \\\n",
       "date                                                                   \n",
       "2014-01-01            -0.28545          -0.287747                0.0   \n",
       "2014-01-02            -0.20383          -0.200634                0.0   \n",
       "2014-01-03            -0.28545          -0.287747                0.0   \n",
       "2014-01-04            -0.28545          -0.287747                0.0   \n",
       "2014-01-05            -0.28545          -0.287747                0.0   \n",
       "\n",
       "            rain_upstream_q25  rain_upstream_q75  level_upstream_mean  \\\n",
       "date                                                                    \n",
       "2014-01-01          -0.022316          -0.115149             0.245701   \n",
       "2014-01-02          -0.022316          -0.115149             0.301341   \n",
       "2014-01-03          -0.022316          -0.115149             0.335268   \n",
       "2014-01-04          -0.022316          -0.115149             0.170716   \n",
       "2014-01-05          -0.022316          -0.115149             0.042016   \n",
       "\n",
       "            level_upstream_max  level_upstream_min  level_upstream_q25  \\\n",
       "date                                                                     \n",
       "2014-01-01            0.105763            0.354992            0.294064   \n",
       "2014-01-02            0.157947            0.400498            0.360028   \n",
       "2014-01-03            0.223177            0.400498            0.345369   \n",
       "2014-01-04            0.092717            0.233644            0.220771   \n",
       "2014-01-05           -0.076881            0.127465            0.103503   \n",
       "\n",
       "            level_upstream_q75  ...  level_after_max  level_after_min  \\\n",
       "date                            ...                                     \n",
       "2014-01-01            0.201384  ...         0.616501         0.835205   \n",
       "2014-01-02            0.243211  ...         0.911162         0.875776   \n",
       "2014-01-03            0.326865  ...         0.732580         0.794635   \n",
       "2014-01-04            0.128186  ...         0.500423         0.703350   \n",
       "2014-01-05           -0.007752  ...         0.428990         0.632351   \n",
       "\n",
       "            level_after_q25  level_after_q75  rain_upstream_acc_2_days  \\\n",
       "date                                                                     \n",
       "2014-01-01         0.781900         0.663710                 -0.371786   \n",
       "2014-01-02         0.900001         0.829041                 -0.318631   \n",
       "2014-01-03         0.804044         0.764746                 -0.318631   \n",
       "2014-01-04         0.690865         0.553489                 -0.371786   \n",
       "2014-01-05         0.604750         0.470823                 -0.371786   \n",
       "\n",
       "            rain_downstream_acc_2_days  rain_after_acc_2_days  \\\n",
       "date                                                            \n",
       "2014-01-01                   -0.341985              -0.334039   \n",
       "2014-01-02                    0.690675              -0.334039   \n",
       "2014-01-03                    0.690675              -0.334039   \n",
       "2014-01-04                   -0.385012              -0.334039   \n",
       "2014-01-05                   -0.385012              -0.334039   \n",
       "\n",
       "            rain_upstream_acc_3_days  rain_downstream_acc_3_days  \\\n",
       "date                                                               \n",
       "2014-01-01                 -0.428193                   -0.344398   \n",
       "2014-01-02                 -0.387379                    0.416068   \n",
       "2014-01-03                 -0.387379                    0.383004   \n",
       "2014-01-04                 -0.387379                    0.383004   \n",
       "2014-01-05                 -0.428193                   -0.443589   \n",
       "\n",
       "            rain_after_acc_3_days  \n",
       "date                               \n",
       "2014-01-01              -0.383211  \n",
       "2014-01-02              -0.383211  \n",
       "2014-01-03              -0.383211  \n",
       "2014-01-04              -0.383211  \n",
       "2014-01-05              -0.383211  \n",
       "\n",
       "[5 rows x 36 columns]"
      ]
     },
     "execution_count": 7,
     "metadata": {},
     "output_type": "execute_result"
    }
   ],
   "source": [
    "scaler = StandardScaler()\n",
    "df_normalized = pd.DataFrame(\n",
    "    scaler.fit_transform(df),\n",
    "    index=df.index,\n",
    "    columns=df.columns\n",
    ")\n",
    "df_normalized.head()"
   ]
  },
  {
   "cell_type": "markdown",
   "id": "cc430dee",
   "metadata": {},
   "source": [
    "## 3. Criação dos Datasets\n",
    "\n",
    "- Criar dataset para série temporal\n",
    "- Dividir o dataset em treino, validação e teste"
   ]
  },
  {
   "cell_type": "code",
   "execution_count": 8,
   "id": "9169cc3f",
   "metadata": {},
   "outputs": [],
   "source": [
    "class TimeSeriesDataset(Dataset):\n",
    "    def __init__(self, data, sequence_length=24):\n",
    "        self.data = data.reset_index(drop=True)\n",
    "        self.sequence_length = sequence_length\n",
    "\n",
    "    def __len__(self):\n",
    "        return len(self.data) - self.sequence_length\n",
    "\n",
    "    def __getitem__(self, idx):\n",
    "        x = self.data.iloc[\n",
    "            idx : idx + self.sequence_length\n",
    "        ].values  # shape: (sequence_length, num_features)\n",
    "        y = self.data.iloc[idx + self.sequence_length].values  # shape: (num_features,)\n",
    "        return torch.tensor(x, dtype=torch.float32), torch.tensor(\n",
    "            y, dtype=torch.float32\n",
    "        )\n",
    "\n",
    "\n",
    "class NonOverlappingConcatDataset(Dataset):\n",
    "    def __init__(self, datasets):\n",
    "        self.datasets = datasets\n",
    "        self.cumulative_lengths = []\n",
    "        total = 0\n",
    "        for d in datasets:\n",
    "            self.cumulative_lengths.append(total)\n",
    "            total += len(d)\n",
    "        self.total_length = total\n",
    "\n",
    "    def __len__(self):\n",
    "        return self.total_length\n",
    "\n",
    "    def __getitem__(self, idx):\n",
    "        # Find which dataset this idx belongs to\n",
    "        for i in range(len(self.datasets)):\n",
    "            if idx < self.cumulative_lengths[i] + len(self.datasets[i]):\n",
    "                local_idx = idx - self.cumulative_lengths[i]\n",
    "                return self.datasets[i][local_idx]\n",
    "        raise IndexError(\"Index out of range\")\n",
    "\n",
    "\n",
    "def split_train_validation_test(\n",
    "    data: pd.DataFrame, train_size: float = 0.8, val_size: float = 0.1\n",
    "):\n",
    "    train_end = int(len(data) * train_size)\n",
    "    val_end = int(len(data) * (train_size + val_size))\n",
    "\n",
    "    train_data = data.iloc[:train_end]\n",
    "    val_data = data.iloc[train_end:val_end]\n",
    "    test_data = data.iloc[val_end:]\n",
    "\n",
    "    return train_data, val_data, test_data\n",
    "\n",
    "\n",
    "def create_datasets(\n",
    "    sequence_length: int,\n",
    ") -> Tuple[\n",
    "    NonOverlappingConcatDataset,\n",
    "    NonOverlappingConcatDataset,\n",
    "    NonOverlappingConcatDataset,\n",
    "]:\n",
    "    datasets_train: List[TimeSeriesDataset] = []\n",
    "    datasets_validation: List[TimeSeriesDataset] = []\n",
    "    datasets_test: List[TimeSeriesDataset] = []\n",
    "    for year in range(2010, 2024):\n",
    "        year_data = df_normalized[df_normalized.index.year == year].reset_index(\n",
    "            drop=True\n",
    "        )\n",
    "        if not year_data.empty:\n",
    "            train_data, validation_data, test_data = split_train_validation_test(\n",
    "                year_data\n",
    "            )\n",
    "            datasets_train.append(\n",
    "                TimeSeriesDataset(train_data, sequence_length=sequence_length)\n",
    "            )\n",
    "            datasets_validation.append(\n",
    "                TimeSeriesDataset(validation_data, sequence_length=sequence_length)\n",
    "            )\n",
    "            datasets_test.append(\n",
    "                TimeSeriesDataset(test_data, sequence_length=sequence_length)\n",
    "            )\n",
    "\n",
    "    train_dataset = NonOverlappingConcatDataset(datasets_train)\n",
    "    validation_dataset = NonOverlappingConcatDataset(datasets_validation)\n",
    "    test_dataset = NonOverlappingConcatDataset(datasets_test)\n",
    "\n",
    "    return train_dataset, validation_dataset, test_dataset"
   ]
  },
  {
   "cell_type": "code",
   "execution_count": 9,
   "id": "caa3d550",
   "metadata": {},
   "outputs": [
    {
     "name": "stdout",
     "output_type": "stream",
     "text": [
      "Testing TimeSeriesDataset:\n",
      "Index 0: x = [0. 1. 2.], y = [3.]\n",
      "Index 1: x = [1. 2. 3.], y = [4.]\n",
      "Index 2: x = [2. 3. 4.], y = [5.]\n",
      "Index 3: x = [3. 4. 5.], y = [6.]\n",
      "Index 4: x = [4. 5. 6.], y = [7.]\n",
      "Index 5: x = [5. 6. 7.], y = [8.]\n",
      "Index 6: x = [6. 7. 8.], y = [9.]\n",
      "\n",
      "Testing NonOverlappingConcatDataset\n",
      "Should not overlap and should concatenate correctly:\n",
      "Index 0: x = [0. 1.], y = [2.]\n",
      "Index 1: x = [1. 2.], y = [3.]\n",
      "Index 2: x = [2. 3.], y = [4.]\n",
      "Index 3: x = [10. 11.], y = [12.]\n",
      "Index 4: x = [11. 12.], y = [13.]\n",
      "Index 5: x = [12. 13.], y = [14.]\n"
     ]
    }
   ],
   "source": [
    "# Test for TimeSeriesDataset\n",
    "\n",
    "# Create a simple DataFrame with increasing integers\n",
    "test_df = pd.DataFrame({'A': np.arange(10)})\n",
    "\n",
    "# Window length = 3\n",
    "ts_dataset = TimeSeriesDataset(test_df, sequence_length=3)\n",
    "\n",
    "print(\"Testing TimeSeriesDataset:\")\n",
    "for i in range(len(ts_dataset)):\n",
    "    x, y = ts_dataset[i]\n",
    "    print(f\"Index {i}: x = {x.squeeze().numpy()}, y = {y.numpy()}\")\n",
    "\n",
    "# Test for NonOverlappingConcatDataset\n",
    "# Create two small TimeSeriesDatasets\n",
    "df1 = pd.DataFrame({'A': np.arange(5)})\n",
    "df2 = pd.DataFrame({'A': np.arange(10, 15)})\n",
    "\n",
    "ds1 = TimeSeriesDataset(df1, sequence_length=2)\n",
    "ds2 = TimeSeriesDataset(df2, sequence_length=2)\n",
    "\n",
    "concat_ds = NonOverlappingConcatDataset([ds1, ds2])\n",
    "\n",
    "print(\"\\nTesting NonOverlappingConcatDataset\")\n",
    "print(\"Should not overlap and should concatenate correctly:\")\n",
    "for i in range(len(concat_ds)):\n",
    "    x, y = concat_ds[i]\n",
    "    print(f\"Index {i}: x = {x.squeeze().numpy()}, y = {y.numpy()}\")\n"
   ]
  },
  {
   "cell_type": "markdown",
   "id": "bbba9bb9",
   "metadata": {},
   "source": [
    "## 4. Definição dos Modelos"
   ]
  },
  {
   "cell_type": "code",
   "execution_count": 10,
   "id": "3c514fef",
   "metadata": {},
   "outputs": [
    {
     "name": "stdout",
     "output_type": "stream",
     "text": [
      "=================================================================\n",
      "Layer (type:depth-idx)                   Param #\n",
      "=================================================================\n",
      "MLP                                      --\n",
      "├─Sequential: 1-1                        --\n",
      "│    └─Linear: 2-1                       60\n",
      "│    └─ReLU: 2-2                         --\n",
      "│    └─Linear: 2-3                       110\n",
      "│    └─ReLU: 2-4                         --\n",
      "├─Linear: 1-2                            55\n",
      "├─MSELoss: 1-3                           --\n",
      "=================================================================\n",
      "Total params: 225\n",
      "Trainable params: 225\n",
      "Non-trainable params: 0\n",
      "=================================================================\n",
      "\n",
      "\n",
      "=================================================================\n",
      "Layer (type:depth-idx)                   Param #\n",
      "=================================================================\n",
      "LSTM                                     --\n",
      "├─LSTM: 1-1                              1,560\n",
      "├─Linear: 1-2                            55\n",
      "├─MSELoss: 1-3                           --\n",
      "=================================================================\n",
      "Total params: 1,615\n",
      "Trainable params: 1,615\n",
      "Non-trainable params: 0\n",
      "=================================================================\n",
      "\n",
      "\n",
      "=================================================================\n",
      "Layer (type:depth-idx)                   Param #\n",
      "=================================================================\n",
      "GRU                                      --\n",
      "├─GRU: 1-1                               1,170\n",
      "├─Linear: 1-2                            55\n",
      "├─MSELoss: 1-3                           --\n",
      "=================================================================\n",
      "Total params: 1,225\n",
      "Trainable params: 1,225\n",
      "Non-trainable params: 0\n",
      "=================================================================\n"
     ]
    }
   ],
   "source": [
    "class MLP(L.LightningModule):\n",
    "    def __init__(\n",
    "        self,\n",
    "        input_size,\n",
    "        hidden_layers,\n",
    "        sequence_length=5,\n",
    "        learning_rate: float = 0.0001,\n",
    "    ):\n",
    "        super(MLP, self).__init__()\n",
    "        self.save_hyperparameters()\n",
    "        self.sequence_length = sequence_length\n",
    "\n",
    "        # MLP para cada passo temporal\n",
    "        layers = []\n",
    "        in_features = input_size\n",
    "        for hidden_size in hidden_layers:\n",
    "            layers.append(nn.Linear(in_features, hidden_size))\n",
    "            layers.append(nn.ReLU())\n",
    "            in_features = hidden_size\n",
    "        self.step_mlp = nn.Sequential(*layers)\n",
    "        self.final_layer = nn.Linear(in_features, input_size)\n",
    "        self.criterion = nn.MSELoss()\n",
    "\n",
    "    def forward(self, x):\n",
    "        # x: (batch, window_length, input_size)\n",
    "        # Aplica o MLP em cada passo temporal    print(\"x type:\", type(x))\n",
    "        batch, window, features = x.shape\n",
    "        x = x.view(-1, features)  # (batch * window_length, input_size)\n",
    "        out = self.step_mlp(x)  # (batch * window_length, hidden)\n",
    "        out = out.view(batch, window, -1)  # (batch, window_length, hidden)\n",
    "        out = out.mean(dim=1)  # (batch, hidden) - agregação temporal\n",
    "        out = self.final_layer(out)  # (batch, input_size)\n",
    "        return out\n",
    "\n",
    "    def training_step(self, batch, batch_idx):\n",
    "        x, y = batch\n",
    "        y_hat = self(x)\n",
    "        loss = self.criterion(y_hat, y)\n",
    "        self.log(\"train_loss\", loss)\n",
    "        return loss\n",
    "\n",
    "    def configure_optimizers(self):\n",
    "        return optim.Adam(self.parameters(), lr=self.hparams.learning_rate)\n",
    "\n",
    "    def validation_step(self, batch, batch_idx):\n",
    "        x, y = batch\n",
    "        y_hat = self(x)\n",
    "        loss = self.criterion(y_hat, y)\n",
    "        self.log(\"val_loss\", loss)\n",
    "        return loss\n",
    "\n",
    "    def test_step(self, batch, batch_idx):\n",
    "        x, y = batch\n",
    "        y_hat = self(x)\n",
    "        loss = self.criterion(y_hat, y)\n",
    "        self.log(\"test_loss\", loss)\n",
    "        return loss\n",
    "\n",
    "\n",
    "class LSTM(L.LightningModule):\n",
    "    def __init__(\n",
    "        self,\n",
    "        input_size,\n",
    "        hidden_size,\n",
    "        num_layers,\n",
    "        learning_rate: float = 0.0001,\n",
    "    ):\n",
    "        super(LSTM, self).__init__()\n",
    "        self.save_hyperparameters()\n",
    "        self.lstm = nn.LSTM(input_size, hidden_size, num_layers, batch_first=True)\n",
    "        self.fc = nn.Linear(hidden_size, input_size)\n",
    "        self.criterion = nn.MSELoss()\n",
    "\n",
    "    def forward(self, x):\n",
    "        out, _ = self.lstm(x)\n",
    "        return self.fc(out[:, -1, :])\n",
    "\n",
    "    def training_step(self, batch, batch_idx):\n",
    "        x, y = batch\n",
    "        y_hat = self(x)\n",
    "        loss = self.criterion(y_hat, y)\n",
    "        self.log(\"train_loss\", loss)\n",
    "        return loss\n",
    "\n",
    "    def configure_optimizers(self):\n",
    "        return optim.Adam(self.parameters(), lr=self.hparams.learning_rate)\n",
    "\n",
    "    def validation_step(self, batch, batch_idx):\n",
    "        x, y = batch\n",
    "        y_hat = self(x)\n",
    "        loss = self.criterion(y_hat, y)\n",
    "        self.log(\"val_loss\", loss)\n",
    "        return loss\n",
    "\n",
    "    def test_step(self, batch, batch_idx):\n",
    "        x, y = batch\n",
    "        y_hat = self(x)\n",
    "        loss = self.criterion(y_hat, y)\n",
    "        self.log(\"test_loss\", loss)\n",
    "        return loss\n",
    "\n",
    "\n",
    "class GRU(L.LightningModule):\n",
    "    def __init__(\n",
    "        self,\n",
    "        input_size,\n",
    "        hidden_size,\n",
    "        num_layers,\n",
    "        learning_rate: float = 0.0001,\n",
    "    ):\n",
    "        super(GRU, self).__init__()\n",
    "        self.save_hyperparameters()\n",
    "        self.gru = nn.GRU(input_size, hidden_size, num_layers, batch_first=True)\n",
    "        self.fc = nn.Linear(hidden_size, input_size)\n",
    "        self.criterion = nn.MSELoss()\n",
    "\n",
    "    def forward(self, x):\n",
    "        out, _ = self.gru(x)\n",
    "        return self.fc(out[:, -1, :])\n",
    "\n",
    "    def training_step(self, batch, batch_idx):\n",
    "        x, y = batch\n",
    "        y_hat = self(x)\n",
    "        loss = self.criterion(y_hat, y)\n",
    "        self.log(\"train_loss\", loss)\n",
    "        return loss\n",
    "\n",
    "    def configure_optimizers(self):\n",
    "        return optim.Adam(self.parameters(), lr=self.hparams.learning_rate)\n",
    "\n",
    "    def validation_step(self, batch, batch_idx):\n",
    "        x, y = batch\n",
    "        y_hat = self(x)\n",
    "        loss = self.criterion(y_hat, y)\n",
    "        self.log(\"val_loss\", loss)\n",
    "        return loss\n",
    "\n",
    "    def test_step(self, batch, batch_idx):\n",
    "        x, y = batch\n",
    "        y_hat = self(x)\n",
    "        loss = self.criterion(y_hat, y)\n",
    "        self.log(\"test_loss\", loss)\n",
    "        return loss\n",
    "\n",
    "\n",
    "print(summary(MLP(input_size=5, hidden_layers=[10, 10])))\n",
    "print(\"\\n\")\n",
    "print(summary(LSTM(input_size=5, hidden_size=10, num_layers=2)))\n",
    "print(\"\\n\")\n",
    "print(summary(GRU(input_size=5, hidden_size=10, num_layers=2)))"
   ]
  },
  {
   "cell_type": "markdown",
   "id": "cf4a37da",
   "metadata": {},
   "source": [
    "## 5. Treinamento dos Modelos"
   ]
  },
  {
   "cell_type": "markdown",
   "id": "ff6571f6",
   "metadata": {},
   "source": [
    "### 5.1. training functions"
   ]
  },
  {
   "cell_type": "code",
   "execution_count": 14,
   "id": "08a05212",
   "metadata": {},
   "outputs": [],
   "source": [
    "def train_model(\n",
    "    model,\n",
    "    train_data,\n",
    "    val_data,\n",
    "    logger,\n",
    "    epochs,\n",
    "    batch_size,\n",
    "    callbacks=[],\n",
    "    verbose=True,\n",
    ") -> Tuple[float, str]:\n",
    "    \"\"\"\n",
    "    Treina o modelo com os dados de treino e validação.\n",
    "    \"\"\"\n",
    "\n",
    "    train_loader = DataLoader(\n",
    "        train_data, batch_size=batch_size, shuffle=True, drop_last=True\n",
    "    )\n",
    "    validation_loader = DataLoader(\n",
    "        val_data, batch_size=4, shuffle=False, drop_last=True\n",
    "    )\n",
    "\n",
    "    trainer = Trainer(\n",
    "        max_epochs=epochs,\n",
    "        accelerator=\"auto\",\n",
    "        devices=1,\n",
    "        logger=logger,\n",
    "        enable_progress_bar=verbose,\n",
    "        log_every_n_steps=1,\n",
    "        callbacks=callbacks,\n",
    "        deterministic=True,\n",
    "        check_val_every_n_epoch=1,\n",
    "        enable_model_summary=verbose,\n",
    "    )\n",
    "    trainer.fit(model, train_loader, validation_loader)\n",
    "\n",
    "\n",
    "def evaluate_model(model, test_data, logger, batch_size=4):\n",
    "    \"\"\"\n",
    "    Avalia o modelo com os dados de teste.\n",
    "    \"\"\"\n",
    "    test_loader = DataLoader(\n",
    "        test_data, batch_size=batch_size, shuffle=False, drop_last=True\n",
    "    )\n",
    "\n",
    "    trainer = Trainer(\n",
    "        accelerator=\"auto\",\n",
    "        devices=1,\n",
    "        logger=logger,\n",
    "        enable_progress_bar=True,\n",
    "        deterministic=True,\n",
    "    )\n",
    "    results = trainer.test(model, test_loader)\n",
    "\n",
    "    return results\n",
    "\n",
    "\n",
    "def run_experiment(\n",
    "    model_class: type[L.LightningModule],\n",
    "    name: str,\n",
    "    model_kwargs: Dict[str, Any] = {},\n",
    "    train_kwargs: Dict[str, Any] = {},\n",
    "    evaluate: bool = True,\n",
    "    callbacks: List[L.Callback] = [],\n",
    "    verbose: bool = True,\n",
    "):\n",
    "    \"\"\"\n",
    "    Executa um experimento de treinamento e avaliação do modelo.\n",
    "    \"\"\"\n",
    "    # Logger\n",
    "    logger = TensorBoardLogger(save_dir=os.getcwd(), name=f\"lightning_logs/{name}\")\n",
    "\n",
    "    checkpoint_callback = ModelCheckpoint(\n",
    "        monitor=\"val_loss\", mode=\"min\", save_top_k=1, filename=\"best_model\"\n",
    "    )\n",
    "\n",
    "    early_stopping_callback = EarlyStopping(\n",
    "        monitor=\"val_loss\",\n",
    "        min_delta=1e-4,\n",
    "        patience=10,\n",
    "        mode=\"min\",\n",
    "        strict=False,\n",
    "    )\n",
    "\n",
    "    train_dataset, validation_dataset, test_dataset = create_datasets(\n",
    "        sequence_length=train_kwargs.get(\"sequence_length\", 5)\n",
    "    )\n",
    "    \n",
    "    # Remove 'sequence_length' from train_kwargs if present\n",
    "    train_kwargs = dict(train_kwargs)  # make a copy to avoid side effects\n",
    "    train_kwargs.pop(\"sequence_length\", None)\n",
    "    \n",
    "    input_size = train_dataset[0][0].shape[1]  # Assuming all inputs have the same shape\n",
    "\n",
    "    model = model_class(input_size=input_size, **(model_kwargs or {}))\n",
    "    \n",
    "    train_model(\n",
    "        model,\n",
    "        train_dataset,\n",
    "        validation_dataset,\n",
    "        logger=logger,\n",
    "        **(train_kwargs or {}),\n",
    "        callbacks=[checkpoint_callback, early_stopping_callback, *callbacks],\n",
    "        verbose=verbose,\n",
    "    )\n",
    "\n",
    "    best_loss = checkpoint_callback.best_model_score\n",
    "    best_model_path = checkpoint_callback.best_model_path\n",
    "\n",
    "    # To view the logs, you can use TensorBoard.\n",
    "    # If 'logs' is a SummaryWriter, get its log_dir and launch TensorBoard:\n",
    "    print(f\"To view logs, run in terminal:\\n  tensorboard --logdir {logger.log_dir}\")\n",
    "\n",
    "    print(\"Best model saved at:\", best_model_path)\n",
    "\n",
    "    eval_results = {}\n",
    "    if evaluate:\n",
    "        best_model = model_class.load_from_checkpoint(best_model_path, **model_kwargs)\n",
    "        eval_results = evaluate_model(best_model, test_dataset, logger, batch_size=4)\n",
    "\n",
    "        print(\"Evaluation results:\", eval_results)\n",
    "\n",
    "    return {\n",
    "        \"results\": eval_results,\n",
    "        \"best_loss\": best_loss,\n",
    "        \"best_model_path\": best_model_path,\n",
    "    }"
   ]
  },
  {
   "cell_type": "markdown",
   "id": "63f36313",
   "metadata": {},
   "source": [
    "### 5.2. Hyperparameter optimization functions"
   ]
  },
  {
   "cell_type": "code",
   "execution_count": 19,
   "id": "7c80d452",
   "metadata": {},
   "outputs": [],
   "source": [
    "import warnings\n",
    "\n",
    "\n",
    "def get_optimization_args(model_class: L.LightningModule, trial):\n",
    "    \"\"\"\n",
    "    Retorna os argumentos necessários para executar o experimento.\n",
    "    \"\"\"\n",
    "    if model_class == MLP:\n",
    "        model_kwargs = {\n",
    "            \"hidden_layers\": trial.suggest_categorical(\n",
    "                \"hidden_layers\", ([32, 16], [48, 24], [64, 32], [96, 48], [128, 64])\n",
    "            ),\n",
    "            \"learning_rate\": trial.suggest_loguniform(\"learning_rate\", 1e-5, 1e-2),\n",
    "        }\n",
    "        train_kwargs = {\n",
    "            \"epochs\": MLP_MAX_EPOCHS,\n",
    "            \"batch_size\": trial.suggest_int(\"batch_size\", 8, 32),\n",
    "            \"sequence_length\": trial.suggest_int(\"sequence_length\", 3, 12),\n",
    "        }\n",
    "    elif model_class == LSTM:\n",
    "        model_kwargs = {\n",
    "            \"hidden_size\": trial.suggest_int(\"hidden_size\", 16, 128),\n",
    "            \"num_layers\": trial.suggest_int(\"num_layers\", 1, 3),\n",
    "            \"learning_rate\": trial.suggest_loguniform(\"learning_rate\", 1e-6, 1e-2),\n",
    "        }\n",
    "        train_kwargs = {\n",
    "            \"epochs\": LSTM_MAX_EPOCHS,\n",
    "            \"batch_size\": trial.suggest_int(\"batch_size\", 8, 32),\n",
    "            \"sequence_length\": trial.suggest_int(\"sequence_length\", 3, 12),\n",
    "        }\n",
    "    elif model_class == GRU:\n",
    "        model_kwargs = {\n",
    "            \"hidden_size\": trial.suggest_categorical(\"hidden_size\", [16, 32, 64]),\n",
    "            \"num_layers\": trial.suggest_int(\"num_layers\", 1, 3),\n",
    "            \"learning_rate\": trial.suggest_loguniform(\"learning_rate\", 1e-5, 1e-2),\n",
    "        }\n",
    "        train_kwargs = {\n",
    "            \"epochs\": GRU_MAX_EPOCHS,\n",
    "            \"batch_size\": trial.suggest_int(\"batch_size\", 8, 32),\n",
    "            \"sequence_length\": trial.suggest_int(\"sequence_length\", 3, 12),\n",
    "        }\n",
    "    else:\n",
    "        raise ValueError(f\"Unsupported model class: {model_class}\")\n",
    "    return model_kwargs, train_kwargs\n",
    "\n",
    "\n",
    "def get_objective_fn(model_class, name):\n",
    "    \"\"\"\n",
    "    Retorna uma função de objetivo para otimização de hiperparâmetros.\n",
    "    \"\"\"\n",
    "\n",
    "    def objective(trial: optuna.trial.Trial) -> float:\n",
    "        # Ajusta os hiperparâmetros com base no trial\n",
    "        with warnings.catch_warnings():\n",
    "            warnings.filterwarnings(\"ignore\", category=UserWarning)\n",
    "            model_kwargs, train_kwargs = get_optimization_args(model_class, trial)\n",
    "\n",
    "        optuna_pruning_callback = PyTorchLightningPruningCallback(\n",
    "            trial, monitor=\"val_loss\"\n",
    "        )\n",
    "\n",
    "        results = run_experiment(\n",
    "            model_class=model_class,\n",
    "            name=name,\n",
    "            model_kwargs=model_kwargs,\n",
    "            train_kwargs=train_kwargs,\n",
    "            evaluate=False,\n",
    "            callbacks=[optuna_pruning_callback],\n",
    "            verbose=False,\n",
    "        )\n",
    "        return results[\"best_loss\"]\n",
    "\n",
    "    return objective\n",
    "\n",
    "\n",
    "def run_optimization(objective_fn, n_trials=OPTUNA_N_TRIALS) -> optuna.study.Study:\n",
    "    pruner = optuna.pruners.MedianPruner(\n",
    "        n_startup_trials=OPTUNA_N_STARTUP_TRIALS, n_warmup_steps=OPTUNA_WARMUP_STEPS\n",
    "    )\n",
    "    study = optuna.create_study(direction=\"minimize\", pruner=pruner)\n",
    "    study.optimize(objective_fn, n_trials=n_trials)\n",
    "\n",
    "    print(\"Best trial:\")\n",
    "    trial = study.best_trial\n",
    "    print(f\"  Value: {trial.value}\")\n",
    "    print(\"  Params: \")\n",
    "    for key, value in trial.params.items():\n",
    "        print(f\"    {key}: {value}\")\n",
    "\n",
    "    return study"
   ]
  },
  {
   "cell_type": "markdown",
   "id": "d94945e1",
   "metadata": {},
   "source": [
    "### 5.3. Training loop"
   ]
  },
  {
   "cell_type": "code",
   "execution_count": 20,
   "id": "ae341c72",
   "metadata": {},
   "outputs": [
    {
     "name": "stderr",
     "output_type": "stream",
     "text": [
      "[I 2025-06-03 18:54:24,172] A new study created in memory with name: no-name-2d4a3cd2-6a60-4548-a25c-c7989816ab7e\n",
      "/tmp/ipykernel_174663/1535762886.py:13: FutureWarning: suggest_loguniform has been deprecated in v3.0.0. This feature will be removed in v6.0.0. See https://github.com/optuna/optuna/releases/tag/v3.0.0. Use suggest_float(..., log=True) instead.\n",
      "  \"learning_rate\": trial.suggest_loguniform(\"learning_rate\", 1e-5, 1e-2),\n",
      "GPU available: True (cuda), used: True\n",
      "TPU available: False, using: 0 TPU cores\n",
      "HPU available: False, using: 0 HPUs\n",
      "LOCAL_RANK: 0 - CUDA_VISIBLE_DEVICES: [0]\n",
      "/home/bruno/anaconda3/envs/fiap/lib/python3.11/site-packages/lightning/pytorch/trainer/connectors/data_connector.py:425: The 'val_dataloader' does not have many workers which may be a bottleneck. Consider increasing the value of the `num_workers` argument` to `num_workers=15` in the `DataLoader` to improve performance.\n",
      "/home/bruno/anaconda3/envs/fiap/lib/python3.11/site-packages/lightning/pytorch/trainer/connectors/data_connector.py:425: The 'train_dataloader' does not have many workers which may be a bottleneck. Consider increasing the value of the `num_workers` argument` to `num_workers=15` in the `DataLoader` to improve performance.\n",
      "`Trainer.fit` stopped: `max_epochs=10` reached.\n",
      "[I 2025-06-03 18:54:33,678] Trial 0 finished with value: 0.8722650408744812 and parameters: {'hidden_layers': [96, 48], 'learning_rate': 0.00415880289441692, 'batch_size': 10, 'sequence_length': 11}. Best is trial 0 with value: 0.8722650408744812.\n",
      "/tmp/ipykernel_174663/1535762886.py:13: FutureWarning: suggest_loguniform has been deprecated in v3.0.0. This feature will be removed in v6.0.0. See https://github.com/optuna/optuna/releases/tag/v3.0.0. Use suggest_float(..., log=True) instead.\n",
      "  \"learning_rate\": trial.suggest_loguniform(\"learning_rate\", 1e-5, 1e-2),\n",
      "GPU available: True (cuda), used: True\n",
      "TPU available: False, using: 0 TPU cores\n",
      "HPU available: False, using: 0 HPUs\n",
      "LOCAL_RANK: 0 - CUDA_VISIBLE_DEVICES: [0]\n",
      "/home/bruno/anaconda3/envs/fiap/lib/python3.11/site-packages/lightning/pytorch/trainer/connectors/data_connector.py:425: The 'val_dataloader' does not have many workers which may be a bottleneck. Consider increasing the value of the `num_workers` argument` to `num_workers=15` in the `DataLoader` to improve performance.\n",
      "/home/bruno/anaconda3/envs/fiap/lib/python3.11/site-packages/lightning/pytorch/trainer/connectors/data_connector.py:425: The 'train_dataloader' does not have many workers which may be a bottleneck. Consider increasing the value of the `num_workers` argument` to `num_workers=15` in the `DataLoader` to improve performance.\n"
     ]
    },
    {
     "name": "stdout",
     "output_type": "stream",
     "text": [
      "To view logs, run in terminal:\n",
      "  tensorboard --logdir /home/bruno/Workspace/FIAP/2025/gs-disaster/src/lightning_logs/mlp/version_72\n",
      "Best model saved at: /home/bruno/Workspace/FIAP/2025/gs-disaster/src/lightning_logs/mlp/version_72/checkpoints/best_model.ckpt\n"
     ]
    },
    {
     "name": "stderr",
     "output_type": "stream",
     "text": [
      "[I 2025-06-03 18:54:34,406] Trial 1 pruned. Trial was pruned at epoch 0.\n",
      "GPU available: True (cuda), used: True\n",
      "TPU available: False, using: 0 TPU cores\n",
      "HPU available: False, using: 0 HPUs\n",
      "LOCAL_RANK: 0 - CUDA_VISIBLE_DEVICES: [0]\n",
      "\n",
      "  | Name        | Type       | Params | Mode \n",
      "---------------------------------------------------\n",
      "0 | step_mlp    | Sequential | 8.2 K  | train\n",
      "1 | final_layer | Linear     | 1.8 K  | train\n",
      "2 | criterion   | MSELoss    | 0      | train\n",
      "---------------------------------------------------\n",
      "10.0 K    Trainable params\n",
      "0         Non-trainable params\n",
      "10.0 K    Total params\n",
      "0.040     Total estimated model params size (MB)\n",
      "7         Modules in train mode\n",
      "0         Modules in eval mode\n"
     ]
    },
    {
     "name": "stdout",
     "output_type": "stream",
     "text": [
      "Best trial:\n",
      "  Value: 0.8722650408744812\n",
      "  Params: \n",
      "    hidden_layers: [96, 48]\n",
      "    learning_rate: 0.00415880289441692\n",
      "    batch_size: 10\n",
      "    sequence_length: 11\n"
     ]
    },
    {
     "data": {
      "application/vnd.jupyter.widget-view+json": {
       "model_id": "74ec6b491dfd42f6889784fb5631ba29",
       "version_major": 2,
       "version_minor": 0
      },
      "text/plain": [
       "Sanity Checking: |          | 0/? [00:00<?, ?it/s]"
      ]
     },
     "metadata": {},
     "output_type": "display_data"
    },
    {
     "data": {
      "application/vnd.jupyter.widget-view+json": {
       "model_id": "1e9a4cb304234b29a47099f93d2db9f2",
       "version_major": 2,
       "version_minor": 0
      },
      "text/plain": [
       "Training: |          | 0/? [00:00<?, ?it/s]"
      ]
     },
     "metadata": {},
     "output_type": "display_data"
    },
    {
     "data": {
      "application/vnd.jupyter.widget-view+json": {
       "model_id": "44c7e55a566341d9a16cf5536ba2c8d6",
       "version_major": 2,
       "version_minor": 0
      },
      "text/plain": [
       "Validation: |          | 0/? [00:00<?, ?it/s]"
      ]
     },
     "metadata": {},
     "output_type": "display_data"
    },
    {
     "data": {
      "application/vnd.jupyter.widget-view+json": {
       "model_id": "029205076ad44716b35e0ed01c84aa5b",
       "version_major": 2,
       "version_minor": 0
      },
      "text/plain": [
       "Validation: |          | 0/? [00:00<?, ?it/s]"
      ]
     },
     "metadata": {},
     "output_type": "display_data"
    },
    {
     "data": {
      "application/vnd.jupyter.widget-view+json": {
       "model_id": "f91b0b9ca49d48a2a7768d303e68d6ba",
       "version_major": 2,
       "version_minor": 0
      },
      "text/plain": [
       "Validation: |          | 0/? [00:00<?, ?it/s]"
      ]
     },
     "metadata": {},
     "output_type": "display_data"
    },
    {
     "data": {
      "application/vnd.jupyter.widget-view+json": {
       "model_id": "271457972d624a6fa822bc4ec75cc7d1",
       "version_major": 2,
       "version_minor": 0
      },
      "text/plain": [
       "Validation: |          | 0/? [00:00<?, ?it/s]"
      ]
     },
     "metadata": {},
     "output_type": "display_data"
    },
    {
     "data": {
      "application/vnd.jupyter.widget-view+json": {
       "model_id": "cc2c3f79c7084ec09eda5247a9f313c3",
       "version_major": 2,
       "version_minor": 0
      },
      "text/plain": [
       "Validation: |          | 0/? [00:00<?, ?it/s]"
      ]
     },
     "metadata": {},
     "output_type": "display_data"
    },
    {
     "data": {
      "application/vnd.jupyter.widget-view+json": {
       "model_id": "8a884942fbeb4dc799adf0f6372aabfe",
       "version_major": 2,
       "version_minor": 0
      },
      "text/plain": [
       "Validation: |          | 0/? [00:00<?, ?it/s]"
      ]
     },
     "metadata": {},
     "output_type": "display_data"
    },
    {
     "data": {
      "application/vnd.jupyter.widget-view+json": {
       "model_id": "0858b63ef89c4a029739537198038cef",
       "version_major": 2,
       "version_minor": 0
      },
      "text/plain": [
       "Validation: |          | 0/? [00:00<?, ?it/s]"
      ]
     },
     "metadata": {},
     "output_type": "display_data"
    },
    {
     "data": {
      "application/vnd.jupyter.widget-view+json": {
       "model_id": "f53e9eba1abc45a8ac5de1eb17c5cee6",
       "version_major": 2,
       "version_minor": 0
      },
      "text/plain": [
       "Validation: |          | 0/? [00:00<?, ?it/s]"
      ]
     },
     "metadata": {},
     "output_type": "display_data"
    },
    {
     "data": {
      "application/vnd.jupyter.widget-view+json": {
       "model_id": "45f09804de114620bbc14208e6c2c0e0",
       "version_major": 2,
       "version_minor": 0
      },
      "text/plain": [
       "Validation: |          | 0/? [00:00<?, ?it/s]"
      ]
     },
     "metadata": {},
     "output_type": "display_data"
    },
    {
     "data": {
      "application/vnd.jupyter.widget-view+json": {
       "model_id": "c6de4c69192c415fa6e20538bacee034",
       "version_major": 2,
       "version_minor": 0
      },
      "text/plain": [
       "Validation: |          | 0/? [00:00<?, ?it/s]"
      ]
     },
     "metadata": {},
     "output_type": "display_data"
    },
    {
     "name": "stderr",
     "output_type": "stream",
     "text": [
      "`Trainer.fit` stopped: `max_epochs=10` reached.\n",
      "Using default `ModelCheckpoint`. Consider installing `litmodels` package to enable `LitModelCheckpoint` for automatic upload to the Lightning model registry.\n",
      "GPU available: True (cuda), used: True\n",
      "TPU available: False, using: 0 TPU cores\n",
      "HPU available: False, using: 0 HPUs\n",
      "LOCAL_RANK: 0 - CUDA_VISIBLE_DEVICES: [0]\n"
     ]
    },
    {
     "name": "stdout",
     "output_type": "stream",
     "text": [
      "To view logs, run in terminal:\n",
      "  tensorboard --logdir /home/bruno/Workspace/FIAP/2025/gs-disaster/src/lightning_logs/mlp_optimized/version_5\n",
      "Best model saved at: /home/bruno/Workspace/FIAP/2025/gs-disaster/src/lightning_logs/mlp_optimized/version_5/checkpoints/best_model.ckpt\n"
     ]
    },
    {
     "name": "stderr",
     "output_type": "stream",
     "text": [
      "/home/bruno/anaconda3/envs/fiap/lib/python3.11/site-packages/lightning/pytorch/trainer/connectors/data_connector.py:425: The 'test_dataloader' does not have many workers which may be a bottleneck. Consider increasing the value of the `num_workers` argument` to `num_workers=15` in the `DataLoader` to improve performance.\n"
     ]
    },
    {
     "data": {
      "application/vnd.jupyter.widget-view+json": {
       "model_id": "0f2654632e724aa183eb762400bfa4e7",
       "version_major": 2,
       "version_minor": 0
      },
      "text/plain": [
       "Testing: |          | 0/? [00:00<?, ?it/s]"
      ]
     },
     "metadata": {},
     "output_type": "display_data"
    },
    {
     "data": {
      "text/html": [
       "<pre style=\"white-space:pre;overflow-x:auto;line-height:normal;font-family:Menlo,'DejaVu Sans Mono',consolas,'Courier New',monospace\">┏━━━━━━━━━━━━━━━━━━━━━━━━━━━┳━━━━━━━━━━━━━━━━━━━━━━━━━━━┓\n",
       "┃<span style=\"font-weight: bold\">        Test metric        </span>┃<span style=\"font-weight: bold\">       DataLoader 0        </span>┃\n",
       "┡━━━━━━━━━━━━━━━━━━━━━━━━━━━╇━━━━━━━━━━━━━━━━━━━━━━━━━━━┩\n",
       "│<span style=\"color: #008080; text-decoration-color: #008080\">         test_loss         </span>│<span style=\"color: #800080; text-decoration-color: #800080\">    0.8500663042068481     </span>│\n",
       "└───────────────────────────┴───────────────────────────┘\n",
       "</pre>\n"
      ],
      "text/plain": [
       "┏━━━━━━━━━━━━━━━━━━━━━━━━━━━┳━━━━━━━━━━━━━━━━━━━━━━━━━━━┓\n",
       "┃\u001b[1m \u001b[0m\u001b[1m       Test metric       \u001b[0m\u001b[1m \u001b[0m┃\u001b[1m \u001b[0m\u001b[1m      DataLoader 0       \u001b[0m\u001b[1m \u001b[0m┃\n",
       "┡━━━━━━━━━━━━━━━━━━━━━━━━━━━╇━━━━━━━━━━━━━━━━━━━━━━━━━━━┩\n",
       "│\u001b[36m \u001b[0m\u001b[36m        test_loss        \u001b[0m\u001b[36m \u001b[0m│\u001b[35m \u001b[0m\u001b[35m   0.8500663042068481    \u001b[0m\u001b[35m \u001b[0m│\n",
       "└───────────────────────────┴───────────────────────────┘\n"
      ]
     },
     "metadata": {},
     "output_type": "display_data"
    },
    {
     "name": "stdout",
     "output_type": "stream",
     "text": [
      "Evaluation results: [{'test_loss': 0.8500663042068481}]\n",
      "\n",
      "MLP Optimized Results: {'results': [{'test_loss': 0.8500663042068481}], 'best_loss': tensor(0.7544, device='cuda:0'), 'best_model_path': '/home/bruno/Workspace/FIAP/2025/gs-disaster/src/lightning_logs/mlp_optimized/version_5/checkpoints/best_model.ckpt'}\n"
     ]
    }
   ],
   "source": [
    "mlp_objective_fn = get_objective_fn(\n",
    "    MLP,\n",
    "    \"mlp\",\n",
    ")\n",
    "\n",
    "study_mlp = run_optimization(mlp_objective_fn, n_trials=OPTUNA_N_TRIALS)\n",
    "\n",
    "mlp_optimized_results = run_experiment(\n",
    "    MLP,\n",
    "    \"mlp_optimized\",\n",
    "    model_kwargs={\n",
    "        \"hidden_layers\": study_mlp.best_trial.params[\"hidden_layers\"],\n",
    "        \"learning_rate\": study_mlp.best_trial.params[\"learning_rate\"],\n",
    "    },\n",
    "    train_kwargs={\n",
    "        \"epochs\": MLP_MAX_EPOCHS,\n",
    "        \"batch_size\": study_mlp.best_trial.params[\"batch_size\"],\n",
    "    },\n",
    "    evaluate=True,\n",
    "    verbose=True,\n",
    ")\n",
    "\n",
    "print(\"\\nMLP Optimized Results:\", mlp_optimized_results)"
   ]
  },
  {
   "cell_type": "code",
   "execution_count": 21,
   "id": "0acc228d",
   "metadata": {},
   "outputs": [
    {
     "name": "stderr",
     "output_type": "stream",
     "text": [
      "[I 2025-06-03 18:54:52,665] A new study created in memory with name: no-name-f53f03ad-0947-4ae8-bda5-cd24e0f8f325\n",
      "/tmp/ipykernel_174663/1535762886.py:24: FutureWarning: suggest_loguniform has been deprecated in v3.0.0. This feature will be removed in v6.0.0. See https://github.com/optuna/optuna/releases/tag/v3.0.0. Use suggest_float(..., log=True) instead.\n",
      "  \"learning_rate\": trial.suggest_loguniform(\"learning_rate\", 1e-6, 1e-2),\n",
      "GPU available: True (cuda), used: True\n",
      "TPU available: False, using: 0 TPU cores\n",
      "HPU available: False, using: 0 HPUs\n",
      "LOCAL_RANK: 0 - CUDA_VISIBLE_DEVICES: [0]\n",
      "/home/bruno/anaconda3/envs/fiap/lib/python3.11/site-packages/lightning/pytorch/trainer/connectors/data_connector.py:425: The 'val_dataloader' does not have many workers which may be a bottleneck. Consider increasing the value of the `num_workers` argument` to `num_workers=15` in the `DataLoader` to improve performance.\n",
      "/home/bruno/anaconda3/envs/fiap/lib/python3.11/site-packages/lightning/pytorch/trainer/connectors/data_connector.py:425: The 'train_dataloader' does not have many workers which may be a bottleneck. Consider increasing the value of the `num_workers` argument` to `num_workers=15` in the `DataLoader` to improve performance.\n",
      "`Trainer.fit` stopped: `max_epochs=10` reached.\n",
      "[I 2025-06-03 18:54:59,134] Trial 0 finished with value: 1.1799274682998657 and parameters: {'hidden_size': 31, 'num_layers': 3, 'learning_rate': 1.992348674705644e-05, 'batch_size': 32, 'sequence_length': 3}. Best is trial 0 with value: 1.1799274682998657.\n",
      "/tmp/ipykernel_174663/1535762886.py:24: FutureWarning: suggest_loguniform has been deprecated in v3.0.0. This feature will be removed in v6.0.0. See https://github.com/optuna/optuna/releases/tag/v3.0.0. Use suggest_float(..., log=True) instead.\n",
      "  \"learning_rate\": trial.suggest_loguniform(\"learning_rate\", 1e-6, 1e-2),\n",
      "GPU available: True (cuda), used: True\n",
      "TPU available: False, using: 0 TPU cores\n",
      "HPU available: False, using: 0 HPUs\n",
      "LOCAL_RANK: 0 - CUDA_VISIBLE_DEVICES: [0]\n",
      "/home/bruno/anaconda3/envs/fiap/lib/python3.11/site-packages/lightning/pytorch/trainer/connectors/data_connector.py:425: The 'val_dataloader' does not have many workers which may be a bottleneck. Consider increasing the value of the `num_workers` argument` to `num_workers=15` in the `DataLoader` to improve performance.\n",
      "/home/bruno/anaconda3/envs/fiap/lib/python3.11/site-packages/lightning/pytorch/trainer/connectors/data_connector.py:425: The 'train_dataloader' does not have many workers which may be a bottleneck. Consider increasing the value of the `num_workers` argument` to `num_workers=15` in the `DataLoader` to improve performance.\n"
     ]
    },
    {
     "name": "stdout",
     "output_type": "stream",
     "text": [
      "To view logs, run in terminal:\n",
      "  tensorboard --logdir /home/bruno/Workspace/FIAP/2025/gs-disaster/src/lightning_logs/lstm/version_5\n",
      "Best model saved at: /home/bruno/Workspace/FIAP/2025/gs-disaster/src/lightning_logs/lstm/version_5/checkpoints/best_model.ckpt\n"
     ]
    },
    {
     "name": "stderr",
     "output_type": "stream",
     "text": [
      "`Trainer.fit` stopped: `max_epochs=10` reached.\n",
      "[I 2025-06-03 18:55:06,489] Trial 1 finished with value: 0.717122495174408 and parameters: {'hidden_size': 74, 'num_layers': 1, 'learning_rate': 0.0005183682583086482, 'batch_size': 17, 'sequence_length': 7}. Best is trial 1 with value: 0.717122495174408.\n",
      "GPU available: True (cuda), used: True\n",
      "TPU available: False, using: 0 TPU cores\n",
      "HPU available: False, using: 0 HPUs\n",
      "LOCAL_RANK: 0 - CUDA_VISIBLE_DEVICES: [0]\n",
      "\n",
      "  | Name      | Type    | Params | Mode \n",
      "----------------------------------------------\n",
      "0 | lstm      | LSTM    | 33.2 K | train\n",
      "1 | fc        | Linear  | 2.7 K  | train\n",
      "2 | criterion | MSELoss | 0      | train\n",
      "----------------------------------------------\n",
      "35.9 K    Trainable params\n",
      "0         Non-trainable params\n",
      "35.9 K    Total params\n",
      "0.143     Total estimated model params size (MB)\n",
      "3         Modules in train mode\n",
      "0         Modules in eval mode\n"
     ]
    },
    {
     "name": "stdout",
     "output_type": "stream",
     "text": [
      "To view logs, run in terminal:\n",
      "  tensorboard --logdir /home/bruno/Workspace/FIAP/2025/gs-disaster/src/lightning_logs/lstm/version_6\n",
      "Best model saved at: /home/bruno/Workspace/FIAP/2025/gs-disaster/src/lightning_logs/lstm/version_6/checkpoints/best_model.ckpt\n",
      "Best trial:\n",
      "  Value: 0.717122495174408\n",
      "  Params: \n",
      "    hidden_size: 74\n",
      "    num_layers: 1\n",
      "    learning_rate: 0.0005183682583086482\n",
      "    batch_size: 17\n",
      "    sequence_length: 7\n"
     ]
    },
    {
     "data": {
      "application/vnd.jupyter.widget-view+json": {
       "model_id": "7da3fba95a8c40ceb9c3ae5fcd586555",
       "version_major": 2,
       "version_minor": 0
      },
      "text/plain": [
       "Sanity Checking: |          | 0/? [00:00<?, ?it/s]"
      ]
     },
     "metadata": {},
     "output_type": "display_data"
    },
    {
     "data": {
      "application/vnd.jupyter.widget-view+json": {
       "model_id": "f65c1e9f56ef4383ae6c8567b5eb6d55",
       "version_major": 2,
       "version_minor": 0
      },
      "text/plain": [
       "Training: |          | 0/? [00:00<?, ?it/s]"
      ]
     },
     "metadata": {},
     "output_type": "display_data"
    },
    {
     "data": {
      "application/vnd.jupyter.widget-view+json": {
       "model_id": "0c71849f860e4f379d6e41368f03cc7b",
       "version_major": 2,
       "version_minor": 0
      },
      "text/plain": [
       "Validation: |          | 0/? [00:00<?, ?it/s]"
      ]
     },
     "metadata": {},
     "output_type": "display_data"
    },
    {
     "data": {
      "application/vnd.jupyter.widget-view+json": {
       "model_id": "1624d3159a124cdba46bb21a74642a12",
       "version_major": 2,
       "version_minor": 0
      },
      "text/plain": [
       "Validation: |          | 0/? [00:00<?, ?it/s]"
      ]
     },
     "metadata": {},
     "output_type": "display_data"
    },
    {
     "data": {
      "application/vnd.jupyter.widget-view+json": {
       "model_id": "538ed41c1154467996526e3b4d3359cb",
       "version_major": 2,
       "version_minor": 0
      },
      "text/plain": [
       "Validation: |          | 0/? [00:00<?, ?it/s]"
      ]
     },
     "metadata": {},
     "output_type": "display_data"
    },
    {
     "data": {
      "application/vnd.jupyter.widget-view+json": {
       "model_id": "79c2ff26bcfb4a1097dcfa5576b4b438",
       "version_major": 2,
       "version_minor": 0
      },
      "text/plain": [
       "Validation: |          | 0/? [00:00<?, ?it/s]"
      ]
     },
     "metadata": {},
     "output_type": "display_data"
    },
    {
     "data": {
      "application/vnd.jupyter.widget-view+json": {
       "model_id": "25486b4821e84e90a8d3aad40f8de2a3",
       "version_major": 2,
       "version_minor": 0
      },
      "text/plain": [
       "Validation: |          | 0/? [00:00<?, ?it/s]"
      ]
     },
     "metadata": {},
     "output_type": "display_data"
    },
    {
     "data": {
      "application/vnd.jupyter.widget-view+json": {
       "model_id": "e5e3d60a34ff4aa795648cb0f7f1b532",
       "version_major": 2,
       "version_minor": 0
      },
      "text/plain": [
       "Validation: |          | 0/? [00:00<?, ?it/s]"
      ]
     },
     "metadata": {},
     "output_type": "display_data"
    },
    {
     "data": {
      "application/vnd.jupyter.widget-view+json": {
       "model_id": "d614b78d2e9f4629a95573a619e21fec",
       "version_major": 2,
       "version_minor": 0
      },
      "text/plain": [
       "Validation: |          | 0/? [00:00<?, ?it/s]"
      ]
     },
     "metadata": {},
     "output_type": "display_data"
    },
    {
     "data": {
      "application/vnd.jupyter.widget-view+json": {
       "model_id": "63dc96d7b6734d4e95dc223d5d652588",
       "version_major": 2,
       "version_minor": 0
      },
      "text/plain": [
       "Validation: |          | 0/? [00:00<?, ?it/s]"
      ]
     },
     "metadata": {},
     "output_type": "display_data"
    },
    {
     "data": {
      "application/vnd.jupyter.widget-view+json": {
       "model_id": "0c89054b990b4a6ebc601e07044e89f2",
       "version_major": 2,
       "version_minor": 0
      },
      "text/plain": [
       "Validation: |          | 0/? [00:00<?, ?it/s]"
      ]
     },
     "metadata": {},
     "output_type": "display_data"
    },
    {
     "data": {
      "application/vnd.jupyter.widget-view+json": {
       "model_id": "32f70d1e2c8e41599379a94dcb70bf51",
       "version_major": 2,
       "version_minor": 0
      },
      "text/plain": [
       "Validation: |          | 0/? [00:00<?, ?it/s]"
      ]
     },
     "metadata": {},
     "output_type": "display_data"
    },
    {
     "name": "stderr",
     "output_type": "stream",
     "text": [
      "`Trainer.fit` stopped: `max_epochs=10` reached.\n",
      "Using default `ModelCheckpoint`. Consider installing `litmodels` package to enable `LitModelCheckpoint` for automatic upload to the Lightning model registry.\n",
      "GPU available: True (cuda), used: True\n",
      "TPU available: False, using: 0 TPU cores\n",
      "HPU available: False, using: 0 HPUs\n",
      "LOCAL_RANK: 0 - CUDA_VISIBLE_DEVICES: [0]\n"
     ]
    },
    {
     "name": "stdout",
     "output_type": "stream",
     "text": [
      "To view logs, run in terminal:\n",
      "  tensorboard --logdir /home/bruno/Workspace/FIAP/2025/gs-disaster/src/lightning_logs/lstm_optimized/version_2\n",
      "Best model saved at: /home/bruno/Workspace/FIAP/2025/gs-disaster/src/lightning_logs/lstm_optimized/version_2/checkpoints/best_model.ckpt\n"
     ]
    },
    {
     "name": "stderr",
     "output_type": "stream",
     "text": [
      "/home/bruno/anaconda3/envs/fiap/lib/python3.11/site-packages/lightning/pytorch/trainer/connectors/data_connector.py:425: The 'test_dataloader' does not have many workers which may be a bottleneck. Consider increasing the value of the `num_workers` argument` to `num_workers=15` in the `DataLoader` to improve performance.\n"
     ]
    },
    {
     "data": {
      "application/vnd.jupyter.widget-view+json": {
       "model_id": "e719b0635e0b4ebf8dd35276a741766b",
       "version_major": 2,
       "version_minor": 0
      },
      "text/plain": [
       "Testing: |          | 0/? [00:00<?, ?it/s]"
      ]
     },
     "metadata": {},
     "output_type": "display_data"
    },
    {
     "data": {
      "text/html": [
       "<pre style=\"white-space:pre;overflow-x:auto;line-height:normal;font-family:Menlo,'DejaVu Sans Mono',consolas,'Courier New',monospace\">┏━━━━━━━━━━━━━━━━━━━━━━━━━━━┳━━━━━━━━━━━━━━━━━━━━━━━━━━━┓\n",
       "┃<span style=\"font-weight: bold\">        Test metric        </span>┃<span style=\"font-weight: bold\">       DataLoader 0        </span>┃\n",
       "┡━━━━━━━━━━━━━━━━━━━━━━━━━━━╇━━━━━━━━━━━━━━━━━━━━━━━━━━━┩\n",
       "│<span style=\"color: #008080; text-decoration-color: #008080\">         test_loss         </span>│<span style=\"color: #800080; text-decoration-color: #800080\">    0.7015186548233032     </span>│\n",
       "└───────────────────────────┴───────────────────────────┘\n",
       "</pre>\n"
      ],
      "text/plain": [
       "┏━━━━━━━━━━━━━━━━━━━━━━━━━━━┳━━━━━━━━━━━━━━━━━━━━━━━━━━━┓\n",
       "┃\u001b[1m \u001b[0m\u001b[1m       Test metric       \u001b[0m\u001b[1m \u001b[0m┃\u001b[1m \u001b[0m\u001b[1m      DataLoader 0       \u001b[0m\u001b[1m \u001b[0m┃\n",
       "┡━━━━━━━━━━━━━━━━━━━━━━━━━━━╇━━━━━━━━━━━━━━━━━━━━━━━━━━━┩\n",
       "│\u001b[36m \u001b[0m\u001b[36m        test_loss        \u001b[0m\u001b[36m \u001b[0m│\u001b[35m \u001b[0m\u001b[35m   0.7015186548233032    \u001b[0m\u001b[35m \u001b[0m│\n",
       "└───────────────────────────┴───────────────────────────┘\n"
      ]
     },
     "metadata": {},
     "output_type": "display_data"
    },
    {
     "name": "stdout",
     "output_type": "stream",
     "text": [
      "Evaluation results: [{'test_loss': 0.7015186548233032}]\n",
      "\n",
      "LSTM Optimized Results: {'results': [{'test_loss': 0.7015186548233032}], 'best_loss': tensor(0.6947, device='cuda:0'), 'best_model_path': '/home/bruno/Workspace/FIAP/2025/gs-disaster/src/lightning_logs/lstm_optimized/version_2/checkpoints/best_model.ckpt'}\n"
     ]
    }
   ],
   "source": [
    "lstm_objective_fn = get_objective_fn(\n",
    "    LSTM,\n",
    "    \"lstm\",\n",
    ")\n",
    "study_lstm = run_optimization(lstm_objective_fn, n_trials=OPTUNA_N_TRIALS)\n",
    "lstm_optimized_results = run_experiment(\n",
    "    LSTM,\n",
    "    \"lstm_optimized\",\n",
    "    model_kwargs={\n",
    "        \"hidden_size\": study_lstm.best_trial.params[\"hidden_size\"],\n",
    "        \"num_layers\": study_lstm.best_trial.params[\"num_layers\"],\n",
    "        \"learning_rate\": study_lstm.best_trial.params[\"learning_rate\"],\n",
    "    },\n",
    "    train_kwargs={\n",
    "        \"epochs\": LSTM_MAX_EPOCHS,\n",
    "        \"batch_size\": study_lstm.best_trial.params[\"batch_size\"],\n",
    "    },\n",
    "    evaluate=True,\n",
    "    verbose=True,\n",
    ")\n",
    "print(\"\\nLSTM Optimized Results:\", lstm_optimized_results)"
   ]
  },
  {
   "cell_type": "code",
   "execution_count": 22,
   "id": "2525626b",
   "metadata": {},
   "outputs": [
    {
     "name": "stderr",
     "output_type": "stream",
     "text": [
      "[I 2025-06-03 18:55:20,237] A new study created in memory with name: no-name-36fbbd45-fb38-4c08-ab89-32210f991f18\n",
      "/tmp/ipykernel_174663/1535762886.py:35: FutureWarning: suggest_loguniform has been deprecated in v3.0.0. This feature will be removed in v6.0.0. See https://github.com/optuna/optuna/releases/tag/v3.0.0. Use suggest_float(..., log=True) instead.\n",
      "  \"learning_rate\": trial.suggest_loguniform(\"learning_rate\", 1e-5, 1e-2),\n",
      "GPU available: True (cuda), used: True\n",
      "TPU available: False, using: 0 TPU cores\n",
      "HPU available: False, using: 0 HPUs\n",
      "LOCAL_RANK: 0 - CUDA_VISIBLE_DEVICES: [0]\n",
      "/home/bruno/anaconda3/envs/fiap/lib/python3.11/site-packages/lightning/pytorch/trainer/connectors/data_connector.py:425: The 'val_dataloader' does not have many workers which may be a bottleneck. Consider increasing the value of the `num_workers` argument` to `num_workers=15` in the `DataLoader` to improve performance.\n",
      "/home/bruno/anaconda3/envs/fiap/lib/python3.11/site-packages/lightning/pytorch/trainer/connectors/data_connector.py:425: The 'train_dataloader' does not have many workers which may be a bottleneck. Consider increasing the value of the `num_workers` argument` to `num_workers=15` in the `DataLoader` to improve performance.\n",
      "`Trainer.fit` stopped: `max_epochs=10` reached.\n",
      "[I 2025-06-03 18:55:26,793] Trial 0 finished with value: 0.7117761969566345 and parameters: {'hidden_size': 64, 'num_layers': 2, 'learning_rate': 0.0012781362861554034, 'batch_size': 25, 'sequence_length': 6}. Best is trial 0 with value: 0.7117761969566345.\n",
      "/tmp/ipykernel_174663/1535762886.py:35: FutureWarning: suggest_loguniform has been deprecated in v3.0.0. This feature will be removed in v6.0.0. See https://github.com/optuna/optuna/releases/tag/v3.0.0. Use suggest_float(..., log=True) instead.\n",
      "  \"learning_rate\": trial.suggest_loguniform(\"learning_rate\", 1e-5, 1e-2),\n",
      "GPU available: True (cuda), used: True\n",
      "TPU available: False, using: 0 TPU cores\n",
      "HPU available: False, using: 0 HPUs\n",
      "LOCAL_RANK: 0 - CUDA_VISIBLE_DEVICES: [0]\n",
      "/home/bruno/anaconda3/envs/fiap/lib/python3.11/site-packages/lightning/pytorch/trainer/connectors/data_connector.py:425: The 'val_dataloader' does not have many workers which may be a bottleneck. Consider increasing the value of the `num_workers` argument` to `num_workers=15` in the `DataLoader` to improve performance.\n",
      "/home/bruno/anaconda3/envs/fiap/lib/python3.11/site-packages/lightning/pytorch/trainer/connectors/data_connector.py:425: The 'train_dataloader' does not have many workers which may be a bottleneck. Consider increasing the value of the `num_workers` argument` to `num_workers=15` in the `DataLoader` to improve performance.\n"
     ]
    },
    {
     "name": "stdout",
     "output_type": "stream",
     "text": [
      "To view logs, run in terminal:\n",
      "  tensorboard --logdir /home/bruno/Workspace/FIAP/2025/gs-disaster/src/lightning_logs/gru/version_3\n",
      "Best model saved at: /home/bruno/Workspace/FIAP/2025/gs-disaster/src/lightning_logs/gru/version_3/checkpoints/best_model.ckpt\n"
     ]
    },
    {
     "name": "stderr",
     "output_type": "stream",
     "text": [
      "[I 2025-06-03 18:55:27,905] Trial 1 pruned. Trial was pruned at epoch 0.\n",
      "GPU available: True (cuda), used: True\n",
      "TPU available: False, using: 0 TPU cores\n",
      "HPU available: False, using: 0 HPUs\n",
      "LOCAL_RANK: 0 - CUDA_VISIBLE_DEVICES: [0]\n",
      "\n",
      "  | Name      | Type    | Params | Mode \n",
      "----------------------------------------------\n",
      "0 | gru       | GRU     | 44.5 K | train\n",
      "1 | fc        | Linear  | 2.3 K  | train\n",
      "2 | criterion | MSELoss | 0      | train\n",
      "----------------------------------------------\n",
      "46.9 K    Trainable params\n",
      "0         Non-trainable params\n",
      "46.9 K    Total params\n",
      "0.188     Total estimated model params size (MB)\n",
      "3         Modules in train mode\n",
      "0         Modules in eval mode\n"
     ]
    },
    {
     "name": "stdout",
     "output_type": "stream",
     "text": [
      "Best trial:\n",
      "  Value: 0.7117761969566345\n",
      "  Params: \n",
      "    hidden_size: 64\n",
      "    num_layers: 2\n",
      "    learning_rate: 0.0012781362861554034\n",
      "    batch_size: 25\n",
      "    sequence_length: 6\n"
     ]
    },
    {
     "data": {
      "application/vnd.jupyter.widget-view+json": {
       "model_id": "c0836c7df0c74f7c9dc4d4cf81442a43",
       "version_major": 2,
       "version_minor": 0
      },
      "text/plain": [
       "Sanity Checking: |          | 0/? [00:00<?, ?it/s]"
      ]
     },
     "metadata": {},
     "output_type": "display_data"
    },
    {
     "data": {
      "application/vnd.jupyter.widget-view+json": {
       "model_id": "e688a803a09149b291093fb8019dba91",
       "version_major": 2,
       "version_minor": 0
      },
      "text/plain": [
       "Training: |          | 0/? [00:00<?, ?it/s]"
      ]
     },
     "metadata": {},
     "output_type": "display_data"
    },
    {
     "data": {
      "application/vnd.jupyter.widget-view+json": {
       "model_id": "3e3fabff7cd1482dbc7689e7faa749cb",
       "version_major": 2,
       "version_minor": 0
      },
      "text/plain": [
       "Validation: |          | 0/? [00:00<?, ?it/s]"
      ]
     },
     "metadata": {},
     "output_type": "display_data"
    },
    {
     "data": {
      "application/vnd.jupyter.widget-view+json": {
       "model_id": "a4adeac7e2a644a0b235e65401799dad",
       "version_major": 2,
       "version_minor": 0
      },
      "text/plain": [
       "Validation: |          | 0/? [00:00<?, ?it/s]"
      ]
     },
     "metadata": {},
     "output_type": "display_data"
    },
    {
     "data": {
      "application/vnd.jupyter.widget-view+json": {
       "model_id": "3e6b5581e4bb4fbab91fdf5b435f2337",
       "version_major": 2,
       "version_minor": 0
      },
      "text/plain": [
       "Validation: |          | 0/? [00:00<?, ?it/s]"
      ]
     },
     "metadata": {},
     "output_type": "display_data"
    },
    {
     "data": {
      "application/vnd.jupyter.widget-view+json": {
       "model_id": "0954e88267764958930c96c64d6d5283",
       "version_major": 2,
       "version_minor": 0
      },
      "text/plain": [
       "Validation: |          | 0/? [00:00<?, ?it/s]"
      ]
     },
     "metadata": {},
     "output_type": "display_data"
    },
    {
     "data": {
      "application/vnd.jupyter.widget-view+json": {
       "model_id": "ececb597e226475db0cdf37f547e8652",
       "version_major": 2,
       "version_minor": 0
      },
      "text/plain": [
       "Validation: |          | 0/? [00:00<?, ?it/s]"
      ]
     },
     "metadata": {},
     "output_type": "display_data"
    },
    {
     "data": {
      "application/vnd.jupyter.widget-view+json": {
       "model_id": "026016fa3b1f43699b93762ffdf85a57",
       "version_major": 2,
       "version_minor": 0
      },
      "text/plain": [
       "Validation: |          | 0/? [00:00<?, ?it/s]"
      ]
     },
     "metadata": {},
     "output_type": "display_data"
    },
    {
     "data": {
      "application/vnd.jupyter.widget-view+json": {
       "model_id": "255dbbf9b6064249b2a3f4ec2976d7b2",
       "version_major": 2,
       "version_minor": 0
      },
      "text/plain": [
       "Validation: |          | 0/? [00:00<?, ?it/s]"
      ]
     },
     "metadata": {},
     "output_type": "display_data"
    },
    {
     "data": {
      "application/vnd.jupyter.widget-view+json": {
       "model_id": "3b5a194588fa4903851756181325d8ab",
       "version_major": 2,
       "version_minor": 0
      },
      "text/plain": [
       "Validation: |          | 0/? [00:00<?, ?it/s]"
      ]
     },
     "metadata": {},
     "output_type": "display_data"
    },
    {
     "data": {
      "application/vnd.jupyter.widget-view+json": {
       "model_id": "a10de510fbc840138528b94a1027987e",
       "version_major": 2,
       "version_minor": 0
      },
      "text/plain": [
       "Validation: |          | 0/? [00:00<?, ?it/s]"
      ]
     },
     "metadata": {},
     "output_type": "display_data"
    },
    {
     "data": {
      "application/vnd.jupyter.widget-view+json": {
       "model_id": "188aae32d264497c831ea7580569b7e8",
       "version_major": 2,
       "version_minor": 0
      },
      "text/plain": [
       "Validation: |          | 0/? [00:00<?, ?it/s]"
      ]
     },
     "metadata": {},
     "output_type": "display_data"
    },
    {
     "name": "stderr",
     "output_type": "stream",
     "text": [
      "`Trainer.fit` stopped: `max_epochs=10` reached.\n",
      "Using default `ModelCheckpoint`. Consider installing `litmodels` package to enable `LitModelCheckpoint` for automatic upload to the Lightning model registry.\n",
      "GPU available: True (cuda), used: True\n",
      "TPU available: False, using: 0 TPU cores\n",
      "HPU available: False, using: 0 HPUs\n",
      "LOCAL_RANK: 0 - CUDA_VISIBLE_DEVICES: [0]\n"
     ]
    },
    {
     "name": "stdout",
     "output_type": "stream",
     "text": [
      "To view logs, run in terminal:\n",
      "  tensorboard --logdir /home/bruno/Workspace/FIAP/2025/gs-disaster/src/lightning_logs/gru_optimized/version_1\n",
      "Best model saved at: /home/bruno/Workspace/FIAP/2025/gs-disaster/src/lightning_logs/gru_optimized/version_1/checkpoints/best_model.ckpt\n"
     ]
    },
    {
     "name": "stderr",
     "output_type": "stream",
     "text": [
      "/home/bruno/anaconda3/envs/fiap/lib/python3.11/site-packages/lightning/pytorch/trainer/connectors/data_connector.py:425: The 'test_dataloader' does not have many workers which may be a bottleneck. Consider increasing the value of the `num_workers` argument` to `num_workers=15` in the `DataLoader` to improve performance.\n"
     ]
    },
    {
     "data": {
      "application/vnd.jupyter.widget-view+json": {
       "model_id": "1629551296b34febb741f9f4d9c38e7e",
       "version_major": 2,
       "version_minor": 0
      },
      "text/plain": [
       "Testing: |          | 0/? [00:00<?, ?it/s]"
      ]
     },
     "metadata": {},
     "output_type": "display_data"
    },
    {
     "data": {
      "text/html": [
       "<pre style=\"white-space:pre;overflow-x:auto;line-height:normal;font-family:Menlo,'DejaVu Sans Mono',consolas,'Courier New',monospace\">┏━━━━━━━━━━━━━━━━━━━━━━━━━━━┳━━━━━━━━━━━━━━━━━━━━━━━━━━━┓\n",
       "┃<span style=\"font-weight: bold\">        Test metric        </span>┃<span style=\"font-weight: bold\">       DataLoader 0        </span>┃\n",
       "┡━━━━━━━━━━━━━━━━━━━━━━━━━━━╇━━━━━━━━━━━━━━━━━━━━━━━━━━━┩\n",
       "│<span style=\"color: #008080; text-decoration-color: #008080\">         test_loss         </span>│<span style=\"color: #800080; text-decoration-color: #800080\">    0.7163823843002319     </span>│\n",
       "└───────────────────────────┴───────────────────────────┘\n",
       "</pre>\n"
      ],
      "text/plain": [
       "┏━━━━━━━━━━━━━━━━━━━━━━━━━━━┳━━━━━━━━━━━━━━━━━━━━━━━━━━━┓\n",
       "┃\u001b[1m \u001b[0m\u001b[1m       Test metric       \u001b[0m\u001b[1m \u001b[0m┃\u001b[1m \u001b[0m\u001b[1m      DataLoader 0       \u001b[0m\u001b[1m \u001b[0m┃\n",
       "┡━━━━━━━━━━━━━━━━━━━━━━━━━━━╇━━━━━━━━━━━━━━━━━━━━━━━━━━━┩\n",
       "│\u001b[36m \u001b[0m\u001b[36m        test_loss        \u001b[0m\u001b[36m \u001b[0m│\u001b[35m \u001b[0m\u001b[35m   0.7163823843002319    \u001b[0m\u001b[35m \u001b[0m│\n",
       "└───────────────────────────┴───────────────────────────┘\n"
      ]
     },
     "metadata": {},
     "output_type": "display_data"
    },
    {
     "name": "stdout",
     "output_type": "stream",
     "text": [
      "Evaluation results: [{'test_loss': 0.7163823843002319}]\n",
      "\n",
      "GRU Optimized Results: {'results': [{'test_loss': 0.7163823843002319}], 'best_loss': tensor(0.6924, device='cuda:0'), 'best_model_path': '/home/bruno/Workspace/FIAP/2025/gs-disaster/src/lightning_logs/gru_optimized/version_1/checkpoints/best_model.ckpt'}\n"
     ]
    }
   ],
   "source": [
    "gru_objective_fn = get_objective_fn(\n",
    "    GRU,\n",
    "    \"gru\",\n",
    ")\n",
    "study_gru = run_optimization(gru_objective_fn, n_trials=OPTUNA_N_TRIALS)\n",
    "gru_optimized_results = run_experiment(\n",
    "    GRU,\n",
    "    \"gru_optimized\",\n",
    "    model_kwargs={\n",
    "        \"hidden_size\": study_gru.best_trial.params[\"hidden_size\"],\n",
    "        \"num_layers\": study_gru.best_trial.params[\"num_layers\"],\n",
    "        \"learning_rate\": study_gru.best_trial.params[\"learning_rate\"],\n",
    "    },\n",
    "    train_kwargs={\n",
    "        \"epochs\": GRU_MAX_EPOCHS,\n",
    "        \"batch_size\": study_gru.best_trial.params[\"batch_size\"],\n",
    "    },\n",
    "    evaluate=True,\n",
    "    verbose=True,\n",
    ")\n",
    "print(\"\\nGRU Optimized Results:\", gru_optimized_results)"
   ]
  }
 ],
 "metadata": {
  "kernelspec": {
   "display_name": "fiap",
   "language": "python",
   "name": "python3"
  },
  "language_info": {
   "codemirror_mode": {
    "name": "ipython",
    "version": 3
   },
   "file_extension": ".py",
   "mimetype": "text/x-python",
   "name": "python",
   "nbconvert_exporter": "python",
   "pygments_lexer": "ipython3",
   "version": "3.11.9"
  }
 },
 "nbformat": 4,
 "nbformat_minor": 5
}
