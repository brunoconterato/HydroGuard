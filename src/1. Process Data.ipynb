{
 "cells": [
  {
   "cell_type": "code",
   "execution_count": 1,
   "id": "cc81a7ef",
   "metadata": {},
   "outputs": [],
   "source": [
    "import pandas as pd"
   ]
  },
  {
   "cell_type": "code",
   "execution_count": 2,
   "id": "90606a5c",
   "metadata": {},
   "outputs": [],
   "source": [
    "UPSTREAM_PATH = \"../data/ANA HIDROWEB/RIO MEIA PONTE/60640000-MONTANTE DE GOIANIA.csv\"\n",
    "DOWNSTREAM_PATH = \"../data/ANA HIDROWEB/RIO MEIA PONTE/60650000-JUSANTE DE GOIANIA.csv\"\n",
    "AFTER_PATH = \"../data/ANA HIDROWEB/RIO MEIA PONTE/60655001-UHE SAO SIMAO FAZENDA BONITA DE BAIXO.csv\"\n",
    "\n",
    "PROCESSED_PATH = \"../data/ANA HIDROWEB/RIO MEIA PONTE/processed.csv\""
   ]
  },
  {
   "cell_type": "code",
   "execution_count": 3,
   "id": "764868dc",
   "metadata": {},
   "outputs": [
    {
     "data": {
      "application/vnd.microsoft.datawrangler.viewer.v0+json": {
       "columns": [
        {
         "name": "index",
         "rawType": "int64",
         "type": "integer"
        },
        {
         "name": "Data",
         "rawType": "object",
         "type": "string"
        },
        {
         "name": "Hora",
         "rawType": "object",
         "type": "string"
        },
        {
         "name": "Chuva (mm)",
         "rawType": "float64",
         "type": "float"
        },
        {
         "name": "Nível (cm)",
         "rawType": "float64",
         "type": "float"
        },
        {
         "name": "Vazão (m3/s)",
         "rawType": "float64",
         "type": "float"
        }
       ],
       "ref": "2246729a-5c73-459d-94b0-4a4f0982050e",
       "rows": [
        [
         "0",
         "08/11/2013",
         "05:30:00",
         null,
         "126.0",
         "22.3"
        ],
        [
         "1",
         "08/11/2013",
         "05:45:00",
         "0.0",
         "125.0",
         "21.9"
        ],
        [
         "2",
         "08/11/2013",
         "06:00:00",
         "0.0",
         "125.0",
         "21.9"
        ],
        [
         "3",
         "08/11/2013",
         "06:15:00",
         "0.0",
         "125.0",
         "21.9"
        ],
        [
         "4",
         "08/11/2013",
         "06:30:00",
         "0.0",
         "125.0",
         "21.9"
        ]
       ],
       "shape": {
        "columns": 5,
        "rows": 5
       }
      },
      "text/html": [
       "<div>\n",
       "<style scoped>\n",
       "    .dataframe tbody tr th:only-of-type {\n",
       "        vertical-align: middle;\n",
       "    }\n",
       "\n",
       "    .dataframe tbody tr th {\n",
       "        vertical-align: top;\n",
       "    }\n",
       "\n",
       "    .dataframe thead th {\n",
       "        text-align: right;\n",
       "    }\n",
       "</style>\n",
       "<table border=\"1\" class=\"dataframe\">\n",
       "  <thead>\n",
       "    <tr style=\"text-align: right;\">\n",
       "      <th></th>\n",
       "      <th>Data</th>\n",
       "      <th>Hora</th>\n",
       "      <th>Chuva (mm)</th>\n",
       "      <th>Nível (cm)</th>\n",
       "      <th>Vazão (m3/s)</th>\n",
       "    </tr>\n",
       "  </thead>\n",
       "  <tbody>\n",
       "    <tr>\n",
       "      <th>0</th>\n",
       "      <td>08/11/2013</td>\n",
       "      <td>05:30:00</td>\n",
       "      <td>NaN</td>\n",
       "      <td>126.0</td>\n",
       "      <td>22.3</td>\n",
       "    </tr>\n",
       "    <tr>\n",
       "      <th>1</th>\n",
       "      <td>08/11/2013</td>\n",
       "      <td>05:45:00</td>\n",
       "      <td>0.0</td>\n",
       "      <td>125.0</td>\n",
       "      <td>21.9</td>\n",
       "    </tr>\n",
       "    <tr>\n",
       "      <th>2</th>\n",
       "      <td>08/11/2013</td>\n",
       "      <td>06:00:00</td>\n",
       "      <td>0.0</td>\n",
       "      <td>125.0</td>\n",
       "      <td>21.9</td>\n",
       "    </tr>\n",
       "    <tr>\n",
       "      <th>3</th>\n",
       "      <td>08/11/2013</td>\n",
       "      <td>06:15:00</td>\n",
       "      <td>0.0</td>\n",
       "      <td>125.0</td>\n",
       "      <td>21.9</td>\n",
       "    </tr>\n",
       "    <tr>\n",
       "      <th>4</th>\n",
       "      <td>08/11/2013</td>\n",
       "      <td>06:30:00</td>\n",
       "      <td>0.0</td>\n",
       "      <td>125.0</td>\n",
       "      <td>21.9</td>\n",
       "    </tr>\n",
       "  </tbody>\n",
       "</table>\n",
       "</div>"
      ],
      "text/plain": [
       "         Data      Hora  Chuva (mm)  Nível (cm)  Vazão (m3/s)\n",
       "0  08/11/2013  05:30:00         NaN       126.0          22.3\n",
       "1  08/11/2013  05:45:00         0.0       125.0          21.9\n",
       "2  08/11/2013  06:00:00         0.0       125.0          21.9\n",
       "3  08/11/2013  06:15:00         0.0       125.0          21.9\n",
       "4  08/11/2013  06:30:00         0.0       125.0          21.9"
      ]
     },
     "execution_count": 3,
     "metadata": {},
     "output_type": "execute_result"
    }
   ],
   "source": [
    "upstream_data = pd.read_csv(\n",
    "    UPSTREAM_PATH,\n",
    "    sep=\";\",\n",
    "    header=0,\n",
    "    parse_dates=[\"Data\"],\n",
    "    dayfirst=False,\n",
    "    low_memory=False,\n",
    ")\n",
    "# Convert columns to float, coercing errors to NaN\n",
    "upstream_data[\"Chuva (mm)\"] = pd.to_numeric(upstream_data[\"Chuva (mm)\"], errors=\"coerce\")\n",
    "upstream_data[\"Nível (cm)\"] = pd.to_numeric(upstream_data[\"Nível (cm)\"], errors=\"coerce\")\n",
    "upstream_data[\"Vazão (m3/s)\"] = pd.to_numeric(upstream_data[\"Vazão (m3/s)\"], errors=\"coerce\")\n",
    "\n",
    "downstream_data = pd.read_csv(\n",
    "    DOWNSTREAM_PATH,\n",
    "    sep=\";\",\n",
    "    header=0,\n",
    "    parse_dates=[\"Data\"],\n",
    "    dayfirst=False,\n",
    "    low_memory=False,\n",
    ")\n",
    "# Convert columns to float, coercing errors to NaN\n",
    "downstream_data[\"Chuva (mm)\"] = pd.to_numeric(downstream_data[\"Chuva (mm)\"], errors=\"coerce\")\n",
    "downstream_data[\"Nível (cm)\"] = pd.to_numeric(downstream_data[\"Nível (cm)\"], errors=\"coerce\")\n",
    "downstream_data[\"Vazão (m3/s)\"] = pd.to_numeric(downstream_data[\"Vazão (m3/s)\"], errors=\"coerce\")\n",
    "\n",
    "after_data = pd.read_csv(\n",
    "    AFTER_PATH,\n",
    "    sep=\";\",\n",
    "    header=0,\n",
    "    parse_dates=[\"Data\"],\n",
    "    dayfirst=False,\n",
    "    low_memory=False,\n",
    ")\n",
    "# Convert columns to float, coercing errors to NaN\n",
    "after_data[\"Chuva (mm)\"] = pd.to_numeric(after_data[\"Chuva (mm)\"], errors=\"coerce\")\n",
    "after_data[\"Nível (cm)\"] = pd.to_numeric(after_data[\"Nível (cm)\"], errors=\"coerce\")\n",
    "after_data[\"Vazão (m3/s)\"] = pd.to_numeric(after_data[\"Vazão (m3/s)\"], errors=\"coerce\")\n",
    "\n",
    "# Drop columns that start with 'Unnamed'\n",
    "upstream_data = upstream_data.loc[:, ~upstream_data.columns.str.contains('^Unnamed')]\n",
    "downstream_data = downstream_data.loc[:, ~downstream_data.columns.str.contains('^Unnamed')]\n",
    "after_data = after_data.loc[:, ~after_data.columns.str.contains('^Unnamed')]\n",
    "\n",
    "downstream_data.head()"
   ]
  },
  {
   "cell_type": "code",
   "execution_count": 4,
   "id": "0fa52eba",
   "metadata": {},
   "outputs": [
    {
     "data": {
      "application/vnd.microsoft.datawrangler.viewer.v0+json": {
       "columns": [
        {
         "name": "index",
         "rawType": "int64",
         "type": "integer"
        },
        {
         "name": "Data",
         "rawType": "object",
         "type": "string"
        },
        {
         "name": "Hora",
         "rawType": "object",
         "type": "string"
        },
        {
         "name": "Chuva (mm)_upstream",
         "rawType": "float64",
         "type": "float"
        },
        {
         "name": "Nível (cm)_upstream",
         "rawType": "float64",
         "type": "float"
        },
        {
         "name": "Vazão (m3/s)_upstream",
         "rawType": "float64",
         "type": "float"
        },
        {
         "name": "Chuva (mm)_downstream",
         "rawType": "float64",
         "type": "float"
        },
        {
         "name": "Nível (cm)_downstream",
         "rawType": "float64",
         "type": "float"
        },
        {
         "name": "Vazão (m3/s)_downstream",
         "rawType": "float64",
         "type": "float"
        },
        {
         "name": "Chuva (mm)_after",
         "rawType": "float64",
         "type": "float"
        },
        {
         "name": "Nível (cm)_after",
         "rawType": "float64",
         "type": "float"
        },
        {
         "name": "Vazão (m3/s)_after",
         "rawType": "float64",
         "type": "float"
        }
       ],
       "ref": "76f4bdcb-4422-4f47-82c8-527a8a545c21",
       "rows": [
        [
         "0",
         "08/11/2013",
         "06:00:00",
         "0.0",
         "203.0",
         "15.5",
         "0.0",
         "125.0",
         "21.9",
         null,
         null,
         null
        ],
        [
         "1",
         "08/11/2013",
         "07:00:00",
         "0.0",
         "203.0",
         "15.5",
         "0.0",
         "125.0",
         "21.9",
         null,
         null,
         null
        ],
        [
         "2",
         "08/11/2013",
         "08:00:00",
         "0.0",
         "203.0",
         "15.5",
         "0.0",
         "125.0",
         "21.9",
         null,
         null,
         null
        ],
        [
         "3",
         "08/11/2013",
         "09:00:00",
         "0.4",
         "204.0",
         "15.7",
         "0.0",
         "125.0",
         "21.9",
         null,
         null,
         null
        ],
        [
         "4",
         "08/11/2013",
         "10:00:00",
         "0.0",
         "204.0",
         "15.7",
         "0.0",
         "124.0",
         "21.5",
         null,
         null,
         null
        ]
       ],
       "shape": {
        "columns": 11,
        "rows": 5
       }
      },
      "text/html": [
       "<div>\n",
       "<style scoped>\n",
       "    .dataframe tbody tr th:only-of-type {\n",
       "        vertical-align: middle;\n",
       "    }\n",
       "\n",
       "    .dataframe tbody tr th {\n",
       "        vertical-align: top;\n",
       "    }\n",
       "\n",
       "    .dataframe thead th {\n",
       "        text-align: right;\n",
       "    }\n",
       "</style>\n",
       "<table border=\"1\" class=\"dataframe\">\n",
       "  <thead>\n",
       "    <tr style=\"text-align: right;\">\n",
       "      <th></th>\n",
       "      <th>Data</th>\n",
       "      <th>Hora</th>\n",
       "      <th>Chuva (mm)_upstream</th>\n",
       "      <th>Nível (cm)_upstream</th>\n",
       "      <th>Vazão (m3/s)_upstream</th>\n",
       "      <th>Chuva (mm)_downstream</th>\n",
       "      <th>Nível (cm)_downstream</th>\n",
       "      <th>Vazão (m3/s)_downstream</th>\n",
       "      <th>Chuva (mm)_after</th>\n",
       "      <th>Nível (cm)_after</th>\n",
       "      <th>Vazão (m3/s)_after</th>\n",
       "    </tr>\n",
       "  </thead>\n",
       "  <tbody>\n",
       "    <tr>\n",
       "      <th>0</th>\n",
       "      <td>08/11/2013</td>\n",
       "      <td>06:00:00</td>\n",
       "      <td>0.0</td>\n",
       "      <td>203.0</td>\n",
       "      <td>15.5</td>\n",
       "      <td>0.0</td>\n",
       "      <td>125.0</td>\n",
       "      <td>21.9</td>\n",
       "      <td>NaN</td>\n",
       "      <td>NaN</td>\n",
       "      <td>NaN</td>\n",
       "    </tr>\n",
       "    <tr>\n",
       "      <th>1</th>\n",
       "      <td>08/11/2013</td>\n",
       "      <td>07:00:00</td>\n",
       "      <td>0.0</td>\n",
       "      <td>203.0</td>\n",
       "      <td>15.5</td>\n",
       "      <td>0.0</td>\n",
       "      <td>125.0</td>\n",
       "      <td>21.9</td>\n",
       "      <td>NaN</td>\n",
       "      <td>NaN</td>\n",
       "      <td>NaN</td>\n",
       "    </tr>\n",
       "    <tr>\n",
       "      <th>2</th>\n",
       "      <td>08/11/2013</td>\n",
       "      <td>08:00:00</td>\n",
       "      <td>0.0</td>\n",
       "      <td>203.0</td>\n",
       "      <td>15.5</td>\n",
       "      <td>0.0</td>\n",
       "      <td>125.0</td>\n",
       "      <td>21.9</td>\n",
       "      <td>NaN</td>\n",
       "      <td>NaN</td>\n",
       "      <td>NaN</td>\n",
       "    </tr>\n",
       "    <tr>\n",
       "      <th>3</th>\n",
       "      <td>08/11/2013</td>\n",
       "      <td>09:00:00</td>\n",
       "      <td>0.4</td>\n",
       "      <td>204.0</td>\n",
       "      <td>15.7</td>\n",
       "      <td>0.0</td>\n",
       "      <td>125.0</td>\n",
       "      <td>21.9</td>\n",
       "      <td>NaN</td>\n",
       "      <td>NaN</td>\n",
       "      <td>NaN</td>\n",
       "    </tr>\n",
       "    <tr>\n",
       "      <th>4</th>\n",
       "      <td>08/11/2013</td>\n",
       "      <td>10:00:00</td>\n",
       "      <td>0.0</td>\n",
       "      <td>204.0</td>\n",
       "      <td>15.7</td>\n",
       "      <td>0.0</td>\n",
       "      <td>124.0</td>\n",
       "      <td>21.5</td>\n",
       "      <td>NaN</td>\n",
       "      <td>NaN</td>\n",
       "      <td>NaN</td>\n",
       "    </tr>\n",
       "  </tbody>\n",
       "</table>\n",
       "</div>"
      ],
      "text/plain": [
       "         Data      Hora  Chuva (mm)_upstream  Nível (cm)_upstream  \\\n",
       "0  08/11/2013  06:00:00                  0.0                203.0   \n",
       "1  08/11/2013  07:00:00                  0.0                203.0   \n",
       "2  08/11/2013  08:00:00                  0.0                203.0   \n",
       "3  08/11/2013  09:00:00                  0.4                204.0   \n",
       "4  08/11/2013  10:00:00                  0.0                204.0   \n",
       "\n",
       "   Vazão (m3/s)_upstream  Chuva (mm)_downstream  Nível (cm)_downstream  \\\n",
       "0                   15.5                    0.0                  125.0   \n",
       "1                   15.5                    0.0                  125.0   \n",
       "2                   15.5                    0.0                  125.0   \n",
       "3                   15.7                    0.0                  125.0   \n",
       "4                   15.7                    0.0                  124.0   \n",
       "\n",
       "   Vazão (m3/s)_downstream  Chuva (mm)_after  Nível (cm)_after  \\\n",
       "0                     21.9               NaN               NaN   \n",
       "1                     21.9               NaN               NaN   \n",
       "2                     21.9               NaN               NaN   \n",
       "3                     21.9               NaN               NaN   \n",
       "4                     21.5               NaN               NaN   \n",
       "\n",
       "   Vazão (m3/s)_after  \n",
       "0                 NaN  \n",
       "1                 NaN  \n",
       "2                 NaN  \n",
       "3                 NaN  \n",
       "4                 NaN  "
      ]
     },
     "execution_count": 4,
     "metadata": {},
     "output_type": "execute_result"
    }
   ],
   "source": [
    "data = pd.merge(\n",
    "    upstream_data,\n",
    "    downstream_data,\n",
    "    on=[\"Data\", \"Hora\"],\n",
    "    suffixes=(\"_upstream\", \"_downstream\"),\n",
    "    how=\"inner\",\n",
    ")\n",
    "data = pd.merge(\n",
    "    data,\n",
    "    after_data,\n",
    "    on=[\"Data\", \"Hora\"],\n",
    "    suffixes=(\"\", \"_after\"),\n",
    "    how=\"inner\",\n",
    ")\n",
    "# Manually rename the columns from after_data to add '_after' suffix\n",
    "for col in [\"Chuva (mm)\", \"Nível (cm)\", \"Vazão (m3/s)\"]:\n",
    "    if col in data.columns and f\"{col}_after\" not in data.columns:\n",
    "        data.rename(columns={col: f\"{col}_after\"}, inplace=True)\n",
    "\n",
    "data.head()\n"
   ]
  },
  {
   "cell_type": "code",
   "execution_count": 5,
   "id": "cc917d1a",
   "metadata": {},
   "outputs": [
    {
     "data": {
      "application/vnd.microsoft.datawrangler.viewer.v0+json": {
       "columns": [
        {
         "name": "datetime",
         "rawType": "datetime64[ns]",
         "type": "datetime"
        },
        {
         "name": "chuva_upstream",
         "rawType": "float64",
         "type": "float"
        },
        {
         "name": "nivel_upstream",
         "rawType": "float64",
         "type": "float"
        },
        {
         "name": "vazao_upstream",
         "rawType": "float64",
         "type": "float"
        },
        {
         "name": "chuva_downstream",
         "rawType": "float64",
         "type": "float"
        },
        {
         "name": "nivel_downstream",
         "rawType": "float64",
         "type": "float"
        },
        {
         "name": "vazao_downstream",
         "rawType": "float64",
         "type": "float"
        },
        {
         "name": "chuva_after",
         "rawType": "float64",
         "type": "float"
        },
        {
         "name": "nivel_after",
         "rawType": "float64",
         "type": "float"
        },
        {
         "name": "vazao_after",
         "rawType": "float64",
         "type": "float"
        }
       ],
       "ref": "b7e1733c-941c-4439-96d9-4daf066e4142",
       "rows": [
        [
         "2013-11-08 06:00:00",
         "0.0",
         "203.0",
         "15.5",
         "0.0",
         "125.0",
         "21.9",
         null,
         null,
         null
        ],
        [
         "2013-11-08 07:00:00",
         "0.0",
         "203.0",
         "15.5",
         "0.0",
         "125.0",
         "21.9",
         null,
         null,
         null
        ],
        [
         "2013-11-08 08:00:00",
         "0.0",
         "203.0",
         "15.5",
         "0.0",
         "125.0",
         "21.9",
         null,
         null,
         null
        ],
        [
         "2013-11-08 09:00:00",
         "0.4",
         "204.0",
         "15.7",
         "0.0",
         "125.0",
         "21.9",
         null,
         null,
         null
        ],
        [
         "2013-11-08 10:00:00",
         "0.0",
         "204.0",
         "15.7",
         "0.0",
         "124.0",
         "21.5",
         null,
         null,
         null
        ]
       ],
       "shape": {
        "columns": 9,
        "rows": 5
       }
      },
      "text/html": [
       "<div>\n",
       "<style scoped>\n",
       "    .dataframe tbody tr th:only-of-type {\n",
       "        vertical-align: middle;\n",
       "    }\n",
       "\n",
       "    .dataframe tbody tr th {\n",
       "        vertical-align: top;\n",
       "    }\n",
       "\n",
       "    .dataframe thead th {\n",
       "        text-align: right;\n",
       "    }\n",
       "</style>\n",
       "<table border=\"1\" class=\"dataframe\">\n",
       "  <thead>\n",
       "    <tr style=\"text-align: right;\">\n",
       "      <th></th>\n",
       "      <th>chuva_upstream</th>\n",
       "      <th>nivel_upstream</th>\n",
       "      <th>vazao_upstream</th>\n",
       "      <th>chuva_downstream</th>\n",
       "      <th>nivel_downstream</th>\n",
       "      <th>vazao_downstream</th>\n",
       "      <th>chuva_after</th>\n",
       "      <th>nivel_after</th>\n",
       "      <th>vazao_after</th>\n",
       "    </tr>\n",
       "    <tr>\n",
       "      <th>datetime</th>\n",
       "      <th></th>\n",
       "      <th></th>\n",
       "      <th></th>\n",
       "      <th></th>\n",
       "      <th></th>\n",
       "      <th></th>\n",
       "      <th></th>\n",
       "      <th></th>\n",
       "      <th></th>\n",
       "    </tr>\n",
       "  </thead>\n",
       "  <tbody>\n",
       "    <tr>\n",
       "      <th>2013-11-08 06:00:00</th>\n",
       "      <td>0.0</td>\n",
       "      <td>203.0</td>\n",
       "      <td>15.5</td>\n",
       "      <td>0.0</td>\n",
       "      <td>125.0</td>\n",
       "      <td>21.9</td>\n",
       "      <td>NaN</td>\n",
       "      <td>NaN</td>\n",
       "      <td>NaN</td>\n",
       "    </tr>\n",
       "    <tr>\n",
       "      <th>2013-11-08 07:00:00</th>\n",
       "      <td>0.0</td>\n",
       "      <td>203.0</td>\n",
       "      <td>15.5</td>\n",
       "      <td>0.0</td>\n",
       "      <td>125.0</td>\n",
       "      <td>21.9</td>\n",
       "      <td>NaN</td>\n",
       "      <td>NaN</td>\n",
       "      <td>NaN</td>\n",
       "    </tr>\n",
       "    <tr>\n",
       "      <th>2013-11-08 08:00:00</th>\n",
       "      <td>0.0</td>\n",
       "      <td>203.0</td>\n",
       "      <td>15.5</td>\n",
       "      <td>0.0</td>\n",
       "      <td>125.0</td>\n",
       "      <td>21.9</td>\n",
       "      <td>NaN</td>\n",
       "      <td>NaN</td>\n",
       "      <td>NaN</td>\n",
       "    </tr>\n",
       "    <tr>\n",
       "      <th>2013-11-08 09:00:00</th>\n",
       "      <td>0.4</td>\n",
       "      <td>204.0</td>\n",
       "      <td>15.7</td>\n",
       "      <td>0.0</td>\n",
       "      <td>125.0</td>\n",
       "      <td>21.9</td>\n",
       "      <td>NaN</td>\n",
       "      <td>NaN</td>\n",
       "      <td>NaN</td>\n",
       "    </tr>\n",
       "    <tr>\n",
       "      <th>2013-11-08 10:00:00</th>\n",
       "      <td>0.0</td>\n",
       "      <td>204.0</td>\n",
       "      <td>15.7</td>\n",
       "      <td>0.0</td>\n",
       "      <td>124.0</td>\n",
       "      <td>21.5</td>\n",
       "      <td>NaN</td>\n",
       "      <td>NaN</td>\n",
       "      <td>NaN</td>\n",
       "    </tr>\n",
       "  </tbody>\n",
       "</table>\n",
       "</div>"
      ],
      "text/plain": [
       "                     chuva_upstream  nivel_upstream  vazao_upstream  \\\n",
       "datetime                                                              \n",
       "2013-11-08 06:00:00             0.0           203.0            15.5   \n",
       "2013-11-08 07:00:00             0.0           203.0            15.5   \n",
       "2013-11-08 08:00:00             0.0           203.0            15.5   \n",
       "2013-11-08 09:00:00             0.4           204.0            15.7   \n",
       "2013-11-08 10:00:00             0.0           204.0            15.7   \n",
       "\n",
       "                     chuva_downstream  nivel_downstream  vazao_downstream  \\\n",
       "datetime                                                                    \n",
       "2013-11-08 06:00:00               0.0             125.0              21.9   \n",
       "2013-11-08 07:00:00               0.0             125.0              21.9   \n",
       "2013-11-08 08:00:00               0.0             125.0              21.9   \n",
       "2013-11-08 09:00:00               0.0             125.0              21.9   \n",
       "2013-11-08 10:00:00               0.0             124.0              21.5   \n",
       "\n",
       "                     chuva_after  nivel_after  vazao_after  \n",
       "datetime                                                    \n",
       "2013-11-08 06:00:00          NaN          NaN          NaN  \n",
       "2013-11-08 07:00:00          NaN          NaN          NaN  \n",
       "2013-11-08 08:00:00          NaN          NaN          NaN  \n",
       "2013-11-08 09:00:00          NaN          NaN          NaN  \n",
       "2013-11-08 10:00:00          NaN          NaN          NaN  "
      ]
     },
     "execution_count": 5,
     "metadata": {},
     "output_type": "execute_result"
    }
   ],
   "source": [
    "data.rename(\n",
    "    columns={\n",
    "        \"Chuva (mm)_upstream\": \"chuva_upstream\",\n",
    "        \"Nível (cm)_upstream\": \"nivel_upstream\",\n",
    "        \"Chuva (mm)_downstream\": \"chuva_downstream\",\n",
    "        \"Nível (cm)_downstream\": \"nivel_downstream\",\n",
    "        \"Chuva (mm)_after\": \"chuva_after\",\n",
    "        \"Nível (cm)_after\": \"nivel_after\",\n",
    "        \"Data\": \"data\",\n",
    "        \"Hora\": \"hora\",\n",
    "        \"Vazão (m3/s)_upstream\": \"vazao_upstream\",\n",
    "        \"Vazão (m3/s)_downstream\": \"vazao_downstream\",\n",
    "        \"Vazão (m3/s)_after\": \"vazao_after\",\n",
    "    },\n",
    "    inplace=True,\n",
    ")\n",
    "\n",
    "data[\"datetime\"] = pd.to_datetime(data[\"data\"] + \" \" + data[\"hora\"], dayfirst=True)\n",
    "data.drop(columns=[\"data\", \"hora\"], inplace=True)\n",
    "data.set_index(\"datetime\", inplace=True)\n",
    "\n",
    "data.head()"
   ]
  },
  {
   "cell_type": "code",
   "execution_count": 6,
   "id": "91d0861b",
   "metadata": {},
   "outputs": [
    {
     "data": {
      "application/vnd.microsoft.datawrangler.viewer.v0+json": {
       "columns": [
        {
         "name": "index",
         "rawType": "object",
         "type": "string"
        },
        {
         "name": "0",
         "rawType": "int64",
         "type": "integer"
        }
       ],
       "ref": "b1ba2055-0a67-47c9-b081-dc5d08714a9d",
       "rows": [
        [
         "chuva_upstream",
         "3745"
        ],
        [
         "nivel_upstream",
         "14113"
        ],
        [
         "vazao_upstream",
         "14454"
        ],
        [
         "chuva_downstream",
         "3713"
        ],
        [
         "nivel_downstream",
         "4626"
        ],
        [
         "vazao_downstream",
         "4623"
        ],
        [
         "chuva_after",
         "12671"
        ],
        [
         "nivel_after",
         "5403"
        ],
        [
         "vazao_after",
         "14048"
        ]
       ],
       "shape": {
        "columns": 1,
        "rows": 9
       }
      },
      "text/plain": [
       "chuva_upstream       3745\n",
       "nivel_upstream      14113\n",
       "vazao_upstream      14454\n",
       "chuva_downstream     3713\n",
       "nivel_downstream     4626\n",
       "vazao_downstream     4623\n",
       "chuva_after         12671\n",
       "nivel_after          5403\n",
       "vazao_after         14048\n",
       "dtype: int64"
      ]
     },
     "execution_count": 6,
     "metadata": {},
     "output_type": "execute_result"
    }
   ],
   "source": [
    "# Count missing values in each column\n",
    "missing_counts = data.isnull().sum()\n",
    "missing_counts"
   ]
  },
  {
   "cell_type": "code",
   "execution_count": 7,
   "id": "cf21ce88",
   "metadata": {},
   "outputs": [],
   "source": [
    "# Fill missing values with the next valid observation\n",
    "data.bfill(inplace=True)"
   ]
  },
  {
   "cell_type": "code",
   "execution_count": 8,
   "id": "0dd336e9",
   "metadata": {},
   "outputs": [
    {
     "name": "stdout",
     "output_type": "stream",
     "text": [
      "Data is ordered by index: True\n"
     ]
    }
   ],
   "source": [
    "# Check if the index is ordered\n",
    "is_ordered = data.index.is_monotonic_increasing\n",
    "print(f\"Data is ordered by index: {is_ordered}\")"
   ]
  },
  {
   "cell_type": "markdown",
   "id": "1f5c7ba5",
   "metadata": {},
   "source": [
    "## Filter years and resample"
   ]
  },
  {
   "cell_type": "code",
   "execution_count": 9,
   "id": "13de365d",
   "metadata": {},
   "outputs": [
    {
     "data": {
      "application/vnd.microsoft.datawrangler.viewer.v0+json": {
       "columns": [
        {
         "name": "datetime",
         "rawType": "datetime64[ns]",
         "type": "datetime"
        },
        {
         "name": "chuva_upstream",
         "rawType": "float64",
         "type": "float"
        },
        {
         "name": "nivel_upstream",
         "rawType": "float64",
         "type": "float"
        },
        {
         "name": "vazao_upstream",
         "rawType": "float64",
         "type": "float"
        },
        {
         "name": "chuva_downstream",
         "rawType": "float64",
         "type": "float"
        },
        {
         "name": "nivel_downstream",
         "rawType": "float64",
         "type": "float"
        },
        {
         "name": "vazao_downstream",
         "rawType": "float64",
         "type": "float"
        },
        {
         "name": "chuva_after",
         "rawType": "float64",
         "type": "float"
        },
        {
         "name": "nivel_after",
         "rawType": "float64",
         "type": "float"
        },
        {
         "name": "vazao_after",
         "rawType": "float64",
         "type": "float"
        }
       ],
       "ref": "9111faed-0325-4edf-86f2-d662aaeff4d9",
       "rows": [
        [
         "2024-12-31 19:30:00",
         "0.0",
         "256.0",
         "21.88",
         "0.0",
         "182.0",
         "46.34",
         "0.0",
         "170.0",
         "68.25"
        ],
        [
         "2024-12-31 20:00:00",
         "0.0",
         "257.0",
         "22.11",
         "0.0",
         "181.0",
         "45.85",
         "0.0",
         "170.0",
         "68.25"
        ],
        [
         "2024-12-31 21:30:00",
         "0.0",
         "256.0",
         "21.88",
         "11.8",
         "207.0",
         "58.82",
         "0.0",
         "170.0",
         "68.25"
        ],
        [
         "2024-12-31 22:00:00",
         "0.0",
         "256.0",
         "21.88",
         "1.4",
         "252.0",
         "82.79",
         "0.0",
         "169.0",
         "67.59"
        ],
        [
         "2024-12-31 22:30:00",
         "0.0",
         "257.0",
         "22.11",
         "3.0",
         "251.0",
         "82.24",
         "0.0",
         "170.0",
         "68.25"
        ]
       ],
       "shape": {
        "columns": 9,
        "rows": 5
       }
      },
      "text/html": [
       "<div>\n",
       "<style scoped>\n",
       "    .dataframe tbody tr th:only-of-type {\n",
       "        vertical-align: middle;\n",
       "    }\n",
       "\n",
       "    .dataframe tbody tr th {\n",
       "        vertical-align: top;\n",
       "    }\n",
       "\n",
       "    .dataframe thead th {\n",
       "        text-align: right;\n",
       "    }\n",
       "</style>\n",
       "<table border=\"1\" class=\"dataframe\">\n",
       "  <thead>\n",
       "    <tr style=\"text-align: right;\">\n",
       "      <th></th>\n",
       "      <th>chuva_upstream</th>\n",
       "      <th>nivel_upstream</th>\n",
       "      <th>vazao_upstream</th>\n",
       "      <th>chuva_downstream</th>\n",
       "      <th>nivel_downstream</th>\n",
       "      <th>vazao_downstream</th>\n",
       "      <th>chuva_after</th>\n",
       "      <th>nivel_after</th>\n",
       "      <th>vazao_after</th>\n",
       "    </tr>\n",
       "    <tr>\n",
       "      <th>datetime</th>\n",
       "      <th></th>\n",
       "      <th></th>\n",
       "      <th></th>\n",
       "      <th></th>\n",
       "      <th></th>\n",
       "      <th></th>\n",
       "      <th></th>\n",
       "      <th></th>\n",
       "      <th></th>\n",
       "    </tr>\n",
       "  </thead>\n",
       "  <tbody>\n",
       "    <tr>\n",
       "      <th>2024-12-31 19:30:00</th>\n",
       "      <td>0.0</td>\n",
       "      <td>256.0</td>\n",
       "      <td>21.88</td>\n",
       "      <td>0.0</td>\n",
       "      <td>182.0</td>\n",
       "      <td>46.34</td>\n",
       "      <td>0.0</td>\n",
       "      <td>170.0</td>\n",
       "      <td>68.25</td>\n",
       "    </tr>\n",
       "    <tr>\n",
       "      <th>2024-12-31 20:00:00</th>\n",
       "      <td>0.0</td>\n",
       "      <td>257.0</td>\n",
       "      <td>22.11</td>\n",
       "      <td>0.0</td>\n",
       "      <td>181.0</td>\n",
       "      <td>45.85</td>\n",
       "      <td>0.0</td>\n",
       "      <td>170.0</td>\n",
       "      <td>68.25</td>\n",
       "    </tr>\n",
       "    <tr>\n",
       "      <th>2024-12-31 21:30:00</th>\n",
       "      <td>0.0</td>\n",
       "      <td>256.0</td>\n",
       "      <td>21.88</td>\n",
       "      <td>11.8</td>\n",
       "      <td>207.0</td>\n",
       "      <td>58.82</td>\n",
       "      <td>0.0</td>\n",
       "      <td>170.0</td>\n",
       "      <td>68.25</td>\n",
       "    </tr>\n",
       "    <tr>\n",
       "      <th>2024-12-31 22:00:00</th>\n",
       "      <td>0.0</td>\n",
       "      <td>256.0</td>\n",
       "      <td>21.88</td>\n",
       "      <td>1.4</td>\n",
       "      <td>252.0</td>\n",
       "      <td>82.79</td>\n",
       "      <td>0.0</td>\n",
       "      <td>169.0</td>\n",
       "      <td>67.59</td>\n",
       "    </tr>\n",
       "    <tr>\n",
       "      <th>2024-12-31 22:30:00</th>\n",
       "      <td>0.0</td>\n",
       "      <td>257.0</td>\n",
       "      <td>22.11</td>\n",
       "      <td>3.0</td>\n",
       "      <td>251.0</td>\n",
       "      <td>82.24</td>\n",
       "      <td>0.0</td>\n",
       "      <td>170.0</td>\n",
       "      <td>68.25</td>\n",
       "    </tr>\n",
       "  </tbody>\n",
       "</table>\n",
       "</div>"
      ],
      "text/plain": [
       "                     chuva_upstream  nivel_upstream  vazao_upstream  \\\n",
       "datetime                                                              \n",
       "2024-12-31 19:30:00             0.0           256.0           21.88   \n",
       "2024-12-31 20:00:00             0.0           257.0           22.11   \n",
       "2024-12-31 21:30:00             0.0           256.0           21.88   \n",
       "2024-12-31 22:00:00             0.0           256.0           21.88   \n",
       "2024-12-31 22:30:00             0.0           257.0           22.11   \n",
       "\n",
       "                     chuva_downstream  nivel_downstream  vazao_downstream  \\\n",
       "datetime                                                                    \n",
       "2024-12-31 19:30:00               0.0             182.0             46.34   \n",
       "2024-12-31 20:00:00               0.0             181.0             45.85   \n",
       "2024-12-31 21:30:00              11.8             207.0             58.82   \n",
       "2024-12-31 22:00:00               1.4             252.0             82.79   \n",
       "2024-12-31 22:30:00               3.0             251.0             82.24   \n",
       "\n",
       "                     chuva_after  nivel_after  vazao_after  \n",
       "datetime                                                    \n",
       "2024-12-31 19:30:00          0.0        170.0        68.25  \n",
       "2024-12-31 20:00:00          0.0        170.0        68.25  \n",
       "2024-12-31 21:30:00          0.0        170.0        68.25  \n",
       "2024-12-31 22:00:00          0.0        169.0        67.59  \n",
       "2024-12-31 22:30:00          0.0        170.0        68.25  "
      ]
     },
     "execution_count": 9,
     "metadata": {},
     "output_type": "execute_result"
    }
   ],
   "source": [
    "# Filter out data beyond 2024\n",
    "data = data[data.index.year <= 2024]\n",
    "data.tail()"
   ]
  },
  {
   "cell_type": "code",
   "execution_count": 10,
   "id": "76644079",
   "metadata": {},
   "outputs": [
    {
     "data": {
      "application/vnd.microsoft.datawrangler.viewer.v0+json": {
       "columns": [
        {
         "name": "datetime",
         "rawType": "datetime64[ns]",
         "type": "datetime"
        },
        {
         "name": "chuva_upstream",
         "rawType": "float64",
         "type": "float"
        },
        {
         "name": "nivel_upstream",
         "rawType": "float64",
         "type": "float"
        },
        {
         "name": "vazao_upstream",
         "rawType": "float64",
         "type": "float"
        },
        {
         "name": "chuva_downstream",
         "rawType": "float64",
         "type": "float"
        },
        {
         "name": "nivel_downstream",
         "rawType": "float64",
         "type": "float"
        },
        {
         "name": "vazao_downstream",
         "rawType": "float64",
         "type": "float"
        },
        {
         "name": "chuva_after",
         "rawType": "float64",
         "type": "float"
        },
        {
         "name": "nivel_after",
         "rawType": "float64",
         "type": "float"
        },
        {
         "name": "vazao_after",
         "rawType": "float64",
         "type": "float"
        }
       ],
       "ref": "3946586e-64e8-4109-93b7-d8c301f03382",
       "rows": [
        [
         "2014-01-01 00:00:00",
         "0.0",
         "217.0",
         "18.8",
         "0.0",
         "150.0",
         "32.1",
         "0.0",
         "290.0",
         "69.0"
        ],
        [
         "2014-01-01 01:00:00",
         "0.0",
         "216.0",
         "18.6",
         "0.0",
         "149.0",
         "31.7",
         "0.0",
         "292.0",
         "70.2"
        ],
        [
         "2014-01-01 02:00:00",
         "0.0",
         "216.0",
         "18.6",
         "0.0",
         "148.0",
         "31.3",
         "0.0",
         "292.0",
         "70.2"
        ],
        [
         "2014-01-01 03:00:00",
         "0.0",
         "216.0",
         "18.6",
         "0.0",
         "147.0",
         "30.8",
         "0.0",
         "293.0",
         "70.8"
        ],
        [
         "2014-01-01 04:00:00",
         "0.0",
         "216.0",
         "18.6",
         "0.0",
         "146.0",
         "30.4",
         "0.0",
         "291.0",
         "69.6"
        ]
       ],
       "shape": {
        "columns": 9,
        "rows": 5
       }
      },
      "text/html": [
       "<div>\n",
       "<style scoped>\n",
       "    .dataframe tbody tr th:only-of-type {\n",
       "        vertical-align: middle;\n",
       "    }\n",
       "\n",
       "    .dataframe tbody tr th {\n",
       "        vertical-align: top;\n",
       "    }\n",
       "\n",
       "    .dataframe thead th {\n",
       "        text-align: right;\n",
       "    }\n",
       "</style>\n",
       "<table border=\"1\" class=\"dataframe\">\n",
       "  <thead>\n",
       "    <tr style=\"text-align: right;\">\n",
       "      <th></th>\n",
       "      <th>chuva_upstream</th>\n",
       "      <th>nivel_upstream</th>\n",
       "      <th>vazao_upstream</th>\n",
       "      <th>chuva_downstream</th>\n",
       "      <th>nivel_downstream</th>\n",
       "      <th>vazao_downstream</th>\n",
       "      <th>chuva_after</th>\n",
       "      <th>nivel_after</th>\n",
       "      <th>vazao_after</th>\n",
       "    </tr>\n",
       "    <tr>\n",
       "      <th>datetime</th>\n",
       "      <th></th>\n",
       "      <th></th>\n",
       "      <th></th>\n",
       "      <th></th>\n",
       "      <th></th>\n",
       "      <th></th>\n",
       "      <th></th>\n",
       "      <th></th>\n",
       "      <th></th>\n",
       "    </tr>\n",
       "  </thead>\n",
       "  <tbody>\n",
       "    <tr>\n",
       "      <th>2014-01-01 00:00:00</th>\n",
       "      <td>0.0</td>\n",
       "      <td>217.0</td>\n",
       "      <td>18.8</td>\n",
       "      <td>0.0</td>\n",
       "      <td>150.0</td>\n",
       "      <td>32.1</td>\n",
       "      <td>0.0</td>\n",
       "      <td>290.0</td>\n",
       "      <td>69.0</td>\n",
       "    </tr>\n",
       "    <tr>\n",
       "      <th>2014-01-01 01:00:00</th>\n",
       "      <td>0.0</td>\n",
       "      <td>216.0</td>\n",
       "      <td>18.6</td>\n",
       "      <td>0.0</td>\n",
       "      <td>149.0</td>\n",
       "      <td>31.7</td>\n",
       "      <td>0.0</td>\n",
       "      <td>292.0</td>\n",
       "      <td>70.2</td>\n",
       "    </tr>\n",
       "    <tr>\n",
       "      <th>2014-01-01 02:00:00</th>\n",
       "      <td>0.0</td>\n",
       "      <td>216.0</td>\n",
       "      <td>18.6</td>\n",
       "      <td>0.0</td>\n",
       "      <td>148.0</td>\n",
       "      <td>31.3</td>\n",
       "      <td>0.0</td>\n",
       "      <td>292.0</td>\n",
       "      <td>70.2</td>\n",
       "    </tr>\n",
       "    <tr>\n",
       "      <th>2014-01-01 03:00:00</th>\n",
       "      <td>0.0</td>\n",
       "      <td>216.0</td>\n",
       "      <td>18.6</td>\n",
       "      <td>0.0</td>\n",
       "      <td>147.0</td>\n",
       "      <td>30.8</td>\n",
       "      <td>0.0</td>\n",
       "      <td>293.0</td>\n",
       "      <td>70.8</td>\n",
       "    </tr>\n",
       "    <tr>\n",
       "      <th>2014-01-01 04:00:00</th>\n",
       "      <td>0.0</td>\n",
       "      <td>216.0</td>\n",
       "      <td>18.6</td>\n",
       "      <td>0.0</td>\n",
       "      <td>146.0</td>\n",
       "      <td>30.4</td>\n",
       "      <td>0.0</td>\n",
       "      <td>291.0</td>\n",
       "      <td>69.6</td>\n",
       "    </tr>\n",
       "  </tbody>\n",
       "</table>\n",
       "</div>"
      ],
      "text/plain": [
       "                     chuva_upstream  nivel_upstream  vazao_upstream  \\\n",
       "datetime                                                              \n",
       "2014-01-01 00:00:00             0.0           217.0            18.8   \n",
       "2014-01-01 01:00:00             0.0           216.0            18.6   \n",
       "2014-01-01 02:00:00             0.0           216.0            18.6   \n",
       "2014-01-01 03:00:00             0.0           216.0            18.6   \n",
       "2014-01-01 04:00:00             0.0           216.0            18.6   \n",
       "\n",
       "                     chuva_downstream  nivel_downstream  vazao_downstream  \\\n",
       "datetime                                                                    \n",
       "2014-01-01 00:00:00               0.0             150.0              32.1   \n",
       "2014-01-01 01:00:00               0.0             149.0              31.7   \n",
       "2014-01-01 02:00:00               0.0             148.0              31.3   \n",
       "2014-01-01 03:00:00               0.0             147.0              30.8   \n",
       "2014-01-01 04:00:00               0.0             146.0              30.4   \n",
       "\n",
       "                     chuva_after  nivel_after  vazao_after  \n",
       "datetime                                                    \n",
       "2014-01-01 00:00:00          0.0        290.0         69.0  \n",
       "2014-01-01 01:00:00          0.0        292.0         70.2  \n",
       "2014-01-01 02:00:00          0.0        292.0         70.2  \n",
       "2014-01-01 03:00:00          0.0        293.0         70.8  \n",
       "2014-01-01 04:00:00          0.0        291.0         69.6  "
      ]
     },
     "execution_count": 10,
     "metadata": {},
     "output_type": "execute_result"
    }
   ],
   "source": [
    "# Filter out data before 2014\n",
    "data = data[data.index.year >= 2014]\n",
    "data.head()"
   ]
  },
  {
   "cell_type": "code",
   "execution_count": 11,
   "id": "bea884a6",
   "metadata": {},
   "outputs": [],
   "source": [
    "# resample the data to daily frequency and aggregate\n",
    "data = data.resample(\"D\").agg([\n",
    "    'mean',\n",
    "    'max',\n",
    "    'min',\n",
    "    ('q25', lambda x: x.quantile(0.25)),\n",
    "    ('q75', lambda x: x.quantile(0.75))\n",
    "])"
   ]
  },
  {
   "cell_type": "code",
   "execution_count": 12,
   "id": "2cdecc98",
   "metadata": {},
   "outputs": [
    {
     "data": {
      "application/vnd.microsoft.datawrangler.viewer.v0+json": {
       "columns": [
        {
         "name": "datetime",
         "rawType": "datetime64[ns]",
         "type": "datetime"
        },
        {
         "name": "chuva_upstream_mean",
         "rawType": "float64",
         "type": "float"
        },
        {
         "name": "chuva_upstream_max",
         "rawType": "float64",
         "type": "float"
        },
        {
         "name": "chuva_upstream_min",
         "rawType": "float64",
         "type": "float"
        },
        {
         "name": "chuva_upstream_q25",
         "rawType": "float64",
         "type": "float"
        },
        {
         "name": "chuva_upstream_q75",
         "rawType": "float64",
         "type": "float"
        },
        {
         "name": "nivel_upstream_mean",
         "rawType": "float64",
         "type": "float"
        },
        {
         "name": "nivel_upstream_max",
         "rawType": "float64",
         "type": "float"
        },
        {
         "name": "nivel_upstream_min",
         "rawType": "float64",
         "type": "float"
        },
        {
         "name": "nivel_upstream_q25",
         "rawType": "float64",
         "type": "float"
        },
        {
         "name": "nivel_upstream_q75",
         "rawType": "float64",
         "type": "float"
        },
        {
         "name": "vazao_upstream_mean",
         "rawType": "float64",
         "type": "float"
        },
        {
         "name": "vazao_upstream_max",
         "rawType": "float64",
         "type": "float"
        },
        {
         "name": "vazao_upstream_min",
         "rawType": "float64",
         "type": "float"
        },
        {
         "name": "vazao_upstream_q25",
         "rawType": "float64",
         "type": "float"
        },
        {
         "name": "vazao_upstream_q75",
         "rawType": "float64",
         "type": "float"
        },
        {
         "name": "chuva_downstream_mean",
         "rawType": "float64",
         "type": "float"
        },
        {
         "name": "chuva_downstream_max",
         "rawType": "float64",
         "type": "float"
        },
        {
         "name": "chuva_downstream_min",
         "rawType": "float64",
         "type": "float"
        },
        {
         "name": "chuva_downstream_q25",
         "rawType": "float64",
         "type": "float"
        },
        {
         "name": "chuva_downstream_q75",
         "rawType": "float64",
         "type": "float"
        },
        {
         "name": "nivel_downstream_mean",
         "rawType": "float64",
         "type": "float"
        },
        {
         "name": "nivel_downstream_max",
         "rawType": "float64",
         "type": "float"
        },
        {
         "name": "nivel_downstream_min",
         "rawType": "float64",
         "type": "float"
        },
        {
         "name": "nivel_downstream_q25",
         "rawType": "float64",
         "type": "float"
        },
        {
         "name": "nivel_downstream_q75",
         "rawType": "float64",
         "type": "float"
        },
        {
         "name": "vazao_downstream_mean",
         "rawType": "float64",
         "type": "float"
        },
        {
         "name": "vazao_downstream_max",
         "rawType": "float64",
         "type": "float"
        },
        {
         "name": "vazao_downstream_min",
         "rawType": "float64",
         "type": "float"
        },
        {
         "name": "vazao_downstream_q25",
         "rawType": "float64",
         "type": "float"
        },
        {
         "name": "vazao_downstream_q75",
         "rawType": "float64",
         "type": "float"
        },
        {
         "name": "chuva_after_mean",
         "rawType": "float64",
         "type": "float"
        },
        {
         "name": "chuva_after_max",
         "rawType": "float64",
         "type": "float"
        },
        {
         "name": "chuva_after_min",
         "rawType": "float64",
         "type": "float"
        },
        {
         "name": "chuva_after_q25",
         "rawType": "float64",
         "type": "float"
        },
        {
         "name": "chuva_after_q75",
         "rawType": "float64",
         "type": "float"
        },
        {
         "name": "nivel_after_mean",
         "rawType": "float64",
         "type": "float"
        },
        {
         "name": "nivel_after_max",
         "rawType": "float64",
         "type": "float"
        },
        {
         "name": "nivel_after_min",
         "rawType": "float64",
         "type": "float"
        },
        {
         "name": "nivel_after_q25",
         "rawType": "float64",
         "type": "float"
        },
        {
         "name": "nivel_after_q75",
         "rawType": "float64",
         "type": "float"
        },
        {
         "name": "vazao_after_mean",
         "rawType": "float64",
         "type": "float"
        },
        {
         "name": "vazao_after_max",
         "rawType": "float64",
         "type": "float"
        },
        {
         "name": "vazao_after_min",
         "rawType": "float64",
         "type": "float"
        },
        {
         "name": "vazao_after_q25",
         "rawType": "float64",
         "type": "float"
        },
        {
         "name": "vazao_after_q75",
         "rawType": "float64",
         "type": "float"
        }
       ],
       "ref": "633c01ba-df2f-46ae-b60a-04c0527bbc00",
       "rows": [
        [
         "2014-01-01 00:00:00",
         "0.0",
         "0.0",
         "0.0",
         "0.0",
         "0.0",
         "219.08333333333334",
         "222.0",
         "216.0",
         "217.0",
         "221.0",
         "19.354166666666668",
         "20.1",
         "18.6",
         "18.8",
         "19.8",
         "0.0",
         "0.0",
         "0.0",
         "0.0",
         "0.0",
         "150.79166666666666",
         "171.0",
         "146.0",
         "147.0",
         "150.25",
         "32.479166666666664",
         "41.5",
         "30.4",
         "30.8",
         "32.2",
         "0.0",
         "0.0",
         "0.0",
         "0.0",
         "0.0",
         "288.9583333333333",
         "293.0",
         "284.0",
         "286.0",
         "291.0",
         "68.375",
         "70.8",
         "65.4",
         "66.6",
         "69.6"
        ],
        [
         "2014-01-02 00:00:00",
         "0.008695652173913044",
         "0.2",
         "0.0",
         "0.0",
         "0.0",
         "222.95652173913044",
         "226.0",
         "219.0",
         "221.5",
         "224.0",
         "20.3",
         "21.0",
         "19.3",
         "19.950000000000003",
         "20.6",
         "0.21739130434782608",
         "4.8",
         "0.0",
         "0.0",
         "0.0",
         "167.2173913043478",
         "206.0",
         "154.0",
         "155.5",
         "169.5",
         "39.85652173913043",
         "58.3",
         "33.8",
         "34.5",
         "40.75",
         "0.0",
         "0.0",
         "0.0",
         "0.0",
         "0.0",
         "304.0",
         "326.0",
         "288.0",
         "298.0",
         "309.0",
         "75.10434782608695",
         "85.3",
         "67.8",
         "73.9",
         "78.1"
        ],
        [
         "2014-01-03 00:00:00",
         "0.0",
         "0.0",
         "0.0",
         "0.0",
         "0.0",
         "225.3181818181818",
         "231.0",
         "219.0",
         "220.5",
         "230.0",
         "20.904545454545456",
         "22.3",
         "19.3",
         "19.725",
         "22.1",
         "0.0",
         "0.0",
         "0.0",
         "0.0",
         "0.0",
         "152.6818181818182",
         "157.0",
         "150.0",
         "151.0",
         "154.75",
         "33.268181818181816",
         "35.2",
         "32.1",
         "32.5",
         "34.175",
         "0.0",
         "0.0",
         "0.0",
         "0.0",
         "0.0",
         "293.90909090909093",
         "306.0",
         "280.0",
         "288.25",
         "302.0",
         "71.68636363636364",
         "78.7",
         "63.0",
         "67.95",
         "76.3"
        ],
        [
         "2014-01-04 00:00:00",
         "0.0",
         "0.0",
         "0.0",
         "0.0",
         "0.0",
         "213.86363636363637",
         "221.0",
         "208.0",
         "212.0",
         "215.75",
         "18.068181818181817",
         "19.8",
         "16.7",
         "17.6",
         "18.525000000000002",
         "0.0",
         "0.0",
         "0.0",
         "0.0",
         "0.0",
         "145.86363636363637",
         "152.0",
         "142.0",
         "145.0",
         "146.0",
         "30.354545454545452",
         "33.0",
         "28.7",
         "30.0",
         "30.4",
         "0.0",
         "0.0",
         "0.0",
         "0.0",
         "0.0",
         "277.90909090909093",
         "280.0",
         "271.0",
         "276.75",
         "279.0",
         "61.8",
         "63.0",
         "58.2",
         "61.05",
         "62.85"
        ],
        [
         "2014-01-05 00:00:00",
         "0.0",
         "0.0",
         "0.0",
         "0.0",
         "0.0",
         "204.9047619047619",
         "208.0",
         "201.0",
         "204.0",
         "206.0",
         "15.952380952380953",
         "16.7",
         "15.0",
         "15.7",
         "16.2",
         "0.0",
         "0.0",
         "0.0",
         "0.0",
         "0.0",
         "139.04761904761904",
         "142.0",
         "136.0",
         "138.0",
         "140.0",
         "27.51904761904762",
         "28.7",
         "26.3",
         "27.1",
         "27.9",
         "0.0",
         "0.0",
         "0.0",
         "0.0",
         "0.0",
         "269.14285714285717",
         "272.0",
         "264.0",
         "268.0",
         "270.0",
         "56.48571428571429",
         "58.2",
         "53.4",
         "55.8",
         "57.0"
        ]
       ],
       "shape": {
        "columns": 45,
        "rows": 5
       }
      },
      "text/html": [
       "<div>\n",
       "<style scoped>\n",
       "    .dataframe tbody tr th:only-of-type {\n",
       "        vertical-align: middle;\n",
       "    }\n",
       "\n",
       "    .dataframe tbody tr th {\n",
       "        vertical-align: top;\n",
       "    }\n",
       "\n",
       "    .dataframe thead th {\n",
       "        text-align: right;\n",
       "    }\n",
       "</style>\n",
       "<table border=\"1\" class=\"dataframe\">\n",
       "  <thead>\n",
       "    <tr style=\"text-align: right;\">\n",
       "      <th></th>\n",
       "      <th>chuva_upstream_mean</th>\n",
       "      <th>chuva_upstream_max</th>\n",
       "      <th>chuva_upstream_min</th>\n",
       "      <th>chuva_upstream_q25</th>\n",
       "      <th>chuva_upstream_q75</th>\n",
       "      <th>nivel_upstream_mean</th>\n",
       "      <th>nivel_upstream_max</th>\n",
       "      <th>nivel_upstream_min</th>\n",
       "      <th>nivel_upstream_q25</th>\n",
       "      <th>nivel_upstream_q75</th>\n",
       "      <th>...</th>\n",
       "      <th>nivel_after_mean</th>\n",
       "      <th>nivel_after_max</th>\n",
       "      <th>nivel_after_min</th>\n",
       "      <th>nivel_after_q25</th>\n",
       "      <th>nivel_after_q75</th>\n",
       "      <th>vazao_after_mean</th>\n",
       "      <th>vazao_after_max</th>\n",
       "      <th>vazao_after_min</th>\n",
       "      <th>vazao_after_q25</th>\n",
       "      <th>vazao_after_q75</th>\n",
       "    </tr>\n",
       "    <tr>\n",
       "      <th>datetime</th>\n",
       "      <th></th>\n",
       "      <th></th>\n",
       "      <th></th>\n",
       "      <th></th>\n",
       "      <th></th>\n",
       "      <th></th>\n",
       "      <th></th>\n",
       "      <th></th>\n",
       "      <th></th>\n",
       "      <th></th>\n",
       "      <th></th>\n",
       "      <th></th>\n",
       "      <th></th>\n",
       "      <th></th>\n",
       "      <th></th>\n",
       "      <th></th>\n",
       "      <th></th>\n",
       "      <th></th>\n",
       "      <th></th>\n",
       "      <th></th>\n",
       "      <th></th>\n",
       "    </tr>\n",
       "  </thead>\n",
       "  <tbody>\n",
       "    <tr>\n",
       "      <th>2014-01-01</th>\n",
       "      <td>0.000000</td>\n",
       "      <td>0.0</td>\n",
       "      <td>0.0</td>\n",
       "      <td>0.0</td>\n",
       "      <td>0.0</td>\n",
       "      <td>219.083333</td>\n",
       "      <td>222.0</td>\n",
       "      <td>216.0</td>\n",
       "      <td>217.0</td>\n",
       "      <td>221.00</td>\n",
       "      <td>...</td>\n",
       "      <td>288.958333</td>\n",
       "      <td>293.0</td>\n",
       "      <td>284.0</td>\n",
       "      <td>286.00</td>\n",
       "      <td>291.0</td>\n",
       "      <td>68.375000</td>\n",
       "      <td>70.8</td>\n",
       "      <td>65.4</td>\n",
       "      <td>66.60</td>\n",
       "      <td>69.60</td>\n",
       "    </tr>\n",
       "    <tr>\n",
       "      <th>2014-01-02</th>\n",
       "      <td>0.008696</td>\n",
       "      <td>0.2</td>\n",
       "      <td>0.0</td>\n",
       "      <td>0.0</td>\n",
       "      <td>0.0</td>\n",
       "      <td>222.956522</td>\n",
       "      <td>226.0</td>\n",
       "      <td>219.0</td>\n",
       "      <td>221.5</td>\n",
       "      <td>224.00</td>\n",
       "      <td>...</td>\n",
       "      <td>304.000000</td>\n",
       "      <td>326.0</td>\n",
       "      <td>288.0</td>\n",
       "      <td>298.00</td>\n",
       "      <td>309.0</td>\n",
       "      <td>75.104348</td>\n",
       "      <td>85.3</td>\n",
       "      <td>67.8</td>\n",
       "      <td>73.90</td>\n",
       "      <td>78.10</td>\n",
       "    </tr>\n",
       "    <tr>\n",
       "      <th>2014-01-03</th>\n",
       "      <td>0.000000</td>\n",
       "      <td>0.0</td>\n",
       "      <td>0.0</td>\n",
       "      <td>0.0</td>\n",
       "      <td>0.0</td>\n",
       "      <td>225.318182</td>\n",
       "      <td>231.0</td>\n",
       "      <td>219.0</td>\n",
       "      <td>220.5</td>\n",
       "      <td>230.00</td>\n",
       "      <td>...</td>\n",
       "      <td>293.909091</td>\n",
       "      <td>306.0</td>\n",
       "      <td>280.0</td>\n",
       "      <td>288.25</td>\n",
       "      <td>302.0</td>\n",
       "      <td>71.686364</td>\n",
       "      <td>78.7</td>\n",
       "      <td>63.0</td>\n",
       "      <td>67.95</td>\n",
       "      <td>76.30</td>\n",
       "    </tr>\n",
       "    <tr>\n",
       "      <th>2014-01-04</th>\n",
       "      <td>0.000000</td>\n",
       "      <td>0.0</td>\n",
       "      <td>0.0</td>\n",
       "      <td>0.0</td>\n",
       "      <td>0.0</td>\n",
       "      <td>213.863636</td>\n",
       "      <td>221.0</td>\n",
       "      <td>208.0</td>\n",
       "      <td>212.0</td>\n",
       "      <td>215.75</td>\n",
       "      <td>...</td>\n",
       "      <td>277.909091</td>\n",
       "      <td>280.0</td>\n",
       "      <td>271.0</td>\n",
       "      <td>276.75</td>\n",
       "      <td>279.0</td>\n",
       "      <td>61.800000</td>\n",
       "      <td>63.0</td>\n",
       "      <td>58.2</td>\n",
       "      <td>61.05</td>\n",
       "      <td>62.85</td>\n",
       "    </tr>\n",
       "    <tr>\n",
       "      <th>2014-01-05</th>\n",
       "      <td>0.000000</td>\n",
       "      <td>0.0</td>\n",
       "      <td>0.0</td>\n",
       "      <td>0.0</td>\n",
       "      <td>0.0</td>\n",
       "      <td>204.904762</td>\n",
       "      <td>208.0</td>\n",
       "      <td>201.0</td>\n",
       "      <td>204.0</td>\n",
       "      <td>206.00</td>\n",
       "      <td>...</td>\n",
       "      <td>269.142857</td>\n",
       "      <td>272.0</td>\n",
       "      <td>264.0</td>\n",
       "      <td>268.00</td>\n",
       "      <td>270.0</td>\n",
       "      <td>56.485714</td>\n",
       "      <td>58.2</td>\n",
       "      <td>53.4</td>\n",
       "      <td>55.80</td>\n",
       "      <td>57.00</td>\n",
       "    </tr>\n",
       "  </tbody>\n",
       "</table>\n",
       "<p>5 rows × 45 columns</p>\n",
       "</div>"
      ],
      "text/plain": [
       "            chuva_upstream_mean  chuva_upstream_max  chuva_upstream_min  \\\n",
       "datetime                                                                  \n",
       "2014-01-01             0.000000                 0.0                 0.0   \n",
       "2014-01-02             0.008696                 0.2                 0.0   \n",
       "2014-01-03             0.000000                 0.0                 0.0   \n",
       "2014-01-04             0.000000                 0.0                 0.0   \n",
       "2014-01-05             0.000000                 0.0                 0.0   \n",
       "\n",
       "            chuva_upstream_q25  chuva_upstream_q75  nivel_upstream_mean  \\\n",
       "datetime                                                                  \n",
       "2014-01-01                 0.0                 0.0           219.083333   \n",
       "2014-01-02                 0.0                 0.0           222.956522   \n",
       "2014-01-03                 0.0                 0.0           225.318182   \n",
       "2014-01-04                 0.0                 0.0           213.863636   \n",
       "2014-01-05                 0.0                 0.0           204.904762   \n",
       "\n",
       "            nivel_upstream_max  nivel_upstream_min  nivel_upstream_q25  \\\n",
       "datetime                                                                 \n",
       "2014-01-01               222.0               216.0               217.0   \n",
       "2014-01-02               226.0               219.0               221.5   \n",
       "2014-01-03               231.0               219.0               220.5   \n",
       "2014-01-04               221.0               208.0               212.0   \n",
       "2014-01-05               208.0               201.0               204.0   \n",
       "\n",
       "            nivel_upstream_q75  ...  nivel_after_mean  nivel_after_max  \\\n",
       "datetime                        ...                                      \n",
       "2014-01-01              221.00  ...        288.958333            293.0   \n",
       "2014-01-02              224.00  ...        304.000000            326.0   \n",
       "2014-01-03              230.00  ...        293.909091            306.0   \n",
       "2014-01-04              215.75  ...        277.909091            280.0   \n",
       "2014-01-05              206.00  ...        269.142857            272.0   \n",
       "\n",
       "            nivel_after_min  nivel_after_q25  nivel_after_q75  \\\n",
       "datetime                                                        \n",
       "2014-01-01            284.0           286.00            291.0   \n",
       "2014-01-02            288.0           298.00            309.0   \n",
       "2014-01-03            280.0           288.25            302.0   \n",
       "2014-01-04            271.0           276.75            279.0   \n",
       "2014-01-05            264.0           268.00            270.0   \n",
       "\n",
       "            vazao_after_mean  vazao_after_max  vazao_after_min  \\\n",
       "datetime                                                         \n",
       "2014-01-01         68.375000             70.8             65.4   \n",
       "2014-01-02         75.104348             85.3             67.8   \n",
       "2014-01-03         71.686364             78.7             63.0   \n",
       "2014-01-04         61.800000             63.0             58.2   \n",
       "2014-01-05         56.485714             58.2             53.4   \n",
       "\n",
       "            vazao_after_q25  vazao_after_q75  \n",
       "datetime                                      \n",
       "2014-01-01            66.60            69.60  \n",
       "2014-01-02            73.90            78.10  \n",
       "2014-01-03            67.95            76.30  \n",
       "2014-01-04            61.05            62.85  \n",
       "2014-01-05            55.80            57.00  \n",
       "\n",
       "[5 rows x 45 columns]"
      ]
     },
     "execution_count": 12,
     "metadata": {},
     "output_type": "execute_result"
    }
   ],
   "source": [
    "# Flatten MultiIndex columns and give them more readable names\n",
    "data.columns = [\n",
    "    f\"{var}_{stat}\"\n",
    "    for var, stat in data.columns\n",
    "]\n",
    "\n",
    "# Example: 'chuva_upstream_mean', 'nivel_downstream_max', etc.\n",
    "data.head()"
   ]
  },
  {
   "cell_type": "markdown",
   "id": "e1baabdc",
   "metadata": {},
   "source": [
    "## Feature engineering\n",
    "\n",
    "#### Novas features:\n",
    "\n",
    "- chuva_acumulada_2_dias: soma da precipitação dos últimos 2 dias\n",
    "- chuva_acumulada_3_dias: soma da precipitação dos últimos 3 dias\n",
    "- dias_sem_chuva: número de dias sem chuva\n",
    "- variacao_chuva: taxa de variação da precipitação em relação ao dia anterior\n",
    "- variacao_nivel: taxa de variação do nível do rio em relação ao dia anterior\n",
    "- variacao_vazao: taxa de variação da vazão em relação ao dia anterior\n"
   ]
  },
  {
   "cell_type": "code",
   "execution_count": 13,
   "id": "d242e1e7",
   "metadata": {},
   "outputs": [],
   "source": [
    "data['chuva_upstream_acumulada_2_dias'] = data['chuva_upstream_mean'].rolling(window=2).sum()\n",
    "data['chuva_downstream_acumulada_2_dias'] = data['chuva_downstream_mean'].rolling(window=2).sum()\n",
    "data['chuva_after_acumulada_2_dias'] = data['chuva_after_mean'].rolling(window=2).sum()\n",
    "data['chuva_upstream_acumulada_3_dias'] = data['chuva_upstream_mean'].rolling(window=3).sum()\n",
    "data['chuva_downstream_acumulada_3_dias'] = data['chuva_downstream_mean'].rolling(window=3).sum()\n",
    "data['chuva_after_acumulada_3_dias'] = data['chuva_after_mean'].rolling(window=3).sum()\n",
    "data['chuva_upstream_change'] = data['chuva_upstream_mean'].diff()\n",
    "data['chuva_downstream_change'] = data['chuva_downstream_mean'].diff()\n",
    "data['chuva_after_change'] = data['chuva_after_mean'].diff()\n",
    "data['nivel_upstream_change'] = data['nivel_upstream_mean'].diff()\n",
    "data['nivel_downstream_change'] = data['nivel_downstream_mean'].diff()\n",
    "data['nivel_after_change'] = data['nivel_after_mean'].diff()\n",
    "data['vazao_upstream_change'] = data['vazao_upstream_mean'].diff()\n",
    "data['vazao_downstream_change'] = data['vazao_downstream_mean'].diff()\n",
    "data['vazao_after_change'] = data['vazao_after_mean'].diff()"
   ]
  },
  {
   "cell_type": "code",
   "execution_count": 14,
   "id": "12f1979a",
   "metadata": {},
   "outputs": [
    {
     "name": "stdout",
     "output_type": "stream",
     "text": [
      "Processed data saved to ../data/ANA HIDROWEB/RIO MEIA PONTE/processed.csv\n"
     ]
    }
   ],
   "source": [
    "# Save the processed data to a CSV file\n",
    "data.to_csv(PROCESSED_PATH, sep=\";\", index=True)\n",
    "print(f\"Processed data saved to {PROCESSED_PATH}\")"
   ]
  }
 ],
 "metadata": {
  "kernelspec": {
   "display_name": "fiap",
   "language": "python",
   "name": "python3"
  },
  "language_info": {
   "codemirror_mode": {
    "name": "ipython",
    "version": 3
   },
   "file_extension": ".py",
   "mimetype": "text/x-python",
   "name": "python",
   "nbconvert_exporter": "python",
   "pygments_lexer": "ipython3",
   "version": "3.11.9"
  }
 },
 "nbformat": 4,
 "nbformat_minor": 5
}
