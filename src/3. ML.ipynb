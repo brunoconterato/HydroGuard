{
 "cells": [
  {
   "cell_type": "markdown",
   "id": "250555ca",
   "metadata": {},
   "source": [
    "# Machine Learning"
   ]
  },
  {
   "cell_type": "markdown",
   "id": "db48e922",
   "metadata": {},
   "source": [
    "## 1. Initial Setup\n",
    "\n",
    "- Set variables and hyperparameters\n",
    "- Import libraries\n",
    "- Load dataset"
   ]
  },
  {
   "cell_type": "code",
   "execution_count": 1,
   "id": "f4d55102",
   "metadata": {},
   "outputs": [],
   "source": [
    "# Max allowable epochs for each model type\n",
    "MAX_EPOCHS = 2000\n",
    "\n",
    "# Hyperparameters for Hyperparameter Optimization using Optuna\n",
    "OPTUNA_N_JOBS = 8                   # Number of parallel jobs for hyperparameter optimization - controls how many trials run simultaneously\n",
    "OPTUNA_N_TRIALS = 40                # Total number of optimization trials to run - more trials generally lead to better hyperparameter discovery\n",
    "OPTUNA_PRUNE_N_STARTUP_TRIALS = 8   # Number of random trials before pruning starts - ensures diverse exploration before early stopping\n",
    "OPTUNA_PRUNE_WARMUP_STEPS = 8       # Number of steps to wait before pruning can occur - prevents premature termination of promising trials\n",
    "\n",
    "\n",
    "# Temp hyperparameters\n",
    "# TODO: Remove these temporary hyperparameters once the final configuration is established\n",
    "MAX_EPOCHS = 10\n",
    "OPTUNA_N_JOBS = 2                   # Number of parallel jobs for hyperparameter optimization - controls how many trials run simultaneously\n",
    "OPTUNA_N_TRIALS = 2                # Total number of optimization trials to run - more trials generally lead to better hyperparameter discovery\n",
    "OPTUNA_PRUNE_N_STARTUP_TRIALS = 0   # Number of random trials before pruning starts - ensures diverse exploration before early stopping\n",
    "OPTUNA_PRUNE_WARMUP_STEPS = 0       # Number of steps to wait before pruning can occur - prevents premature termination of promising trials\n"
   ]
  },
  {
   "cell_type": "code",
   "execution_count": 2,
   "id": "1d3dba7b",
   "metadata": {},
   "outputs": [],
   "source": [
    "PROCESSED_PATH = \"../data/ANA HIDROWEB/RIO MEIA PONTE/processed.csv\""
   ]
  },
  {
   "cell_type": "code",
   "execution_count": 3,
   "id": "3497848b",
   "metadata": {},
   "outputs": [
    {
     "name": "stderr",
     "output_type": "stream",
     "text": [
      "/home/bruno/anaconda3/envs/fiap/lib/python3.11/site-packages/torch/utils/_pytree.py:185: FutureWarning: optree is installed but the version is too old to support PyTorch Dynamo in C++ pytree. C++ pytree support is disabled. Please consider upgrading optree using `python3 -m pip install --upgrade 'optree>=0.13.0'`.\n",
      "  warnings.warn(\n",
      "Seed set to 42\n"
     ]
    },
    {
     "data": {
      "text/plain": [
       "42"
      ]
     },
     "execution_count": 3,
     "metadata": {},
     "output_type": "execute_result"
    }
   ],
   "source": [
    "# Python native libraries\n",
    "from typing import List, Dict, Any, Tuple\n",
    "import os\n",
    "import warnings\n",
    "import uuid\n",
    "\n",
    "# Data manipulation and preprocessing\n",
    "import pandas as pd\n",
    "import numpy as np\n",
    "from sklearn.preprocessing import StandardScaler\n",
    "\n",
    "# PyTorch libraries and derivatives\n",
    "import torch\n",
    "from torch.utils.data import Dataset, DataLoader\n",
    "import torch.nn as nn\n",
    "import torch.optim as optim\n",
    "import lightning as L\n",
    "from lightning.pytorch import Trainer\n",
    "from lightning.pytorch.callbacks import ModelCheckpoint, EarlyStopping\n",
    "from lightning.pytorch.loggers import TensorBoardLogger\n",
    "from torchinfo import summary\n",
    "\n",
    "# Optuna Libraries\n",
    "import optuna\n",
    "from optuna.integration import PyTorchLightningPruningCallback\n",
    "\n",
    "# Set precision for matrix multiplication in order to optimize performance\n",
    "torch.set_float32_matmul_precision(\"high\")\n",
    "\n",
    "# Set random seed for reproducibility\n",
    "L.seed_everything(42)"
   ]
  },
  {
   "cell_type": "code",
   "execution_count": 4,
   "id": "2a8e9f84",
   "metadata": {},
   "outputs": [
    {
     "data": {
      "application/vnd.microsoft.datawrangler.viewer.v0+json": {
       "columns": [
        {
         "name": "date",
         "rawType": "datetime64[ns]",
         "type": "datetime"
        },
        {
         "name": "rain_upstream_mean",
         "rawType": "float64",
         "type": "float"
        },
        {
         "name": "rain_upstream_max",
         "rawType": "float64",
         "type": "float"
        },
        {
         "name": "rain_upstream_min",
         "rawType": "float64",
         "type": "float"
        },
        {
         "name": "rain_upstream_q25",
         "rawType": "float64",
         "type": "float"
        },
        {
         "name": "rain_upstream_q75",
         "rawType": "float64",
         "type": "float"
        },
        {
         "name": "level_upstream_mean",
         "rawType": "float64",
         "type": "float"
        },
        {
         "name": "level_upstream_max",
         "rawType": "float64",
         "type": "float"
        },
        {
         "name": "level_upstream_min",
         "rawType": "float64",
         "type": "float"
        },
        {
         "name": "level_upstream_q25",
         "rawType": "float64",
         "type": "float"
        },
        {
         "name": "level_upstream_q75",
         "rawType": "float64",
         "type": "float"
        },
        {
         "name": "flow_upstream_mean",
         "rawType": "float64",
         "type": "float"
        },
        {
         "name": "flow_upstream_max",
         "rawType": "float64",
         "type": "float"
        },
        {
         "name": "flow_upstream_min",
         "rawType": "float64",
         "type": "float"
        },
        {
         "name": "flow_upstream_q25",
         "rawType": "float64",
         "type": "float"
        },
        {
         "name": "flow_upstream_q75",
         "rawType": "float64",
         "type": "float"
        },
        {
         "name": "rain_downstream_mean",
         "rawType": "float64",
         "type": "float"
        },
        {
         "name": "rain_downstream_max",
         "rawType": "float64",
         "type": "float"
        },
        {
         "name": "rain_downstream_min",
         "rawType": "float64",
         "type": "float"
        },
        {
         "name": "rain_downstream_q25",
         "rawType": "float64",
         "type": "float"
        },
        {
         "name": "rain_downstream_q75",
         "rawType": "float64",
         "type": "float"
        },
        {
         "name": "level_downstream_mean",
         "rawType": "float64",
         "type": "float"
        },
        {
         "name": "level_downstream_max",
         "rawType": "float64",
         "type": "float"
        },
        {
         "name": "level_downstream_min",
         "rawType": "float64",
         "type": "float"
        },
        {
         "name": "level_downstream_q25",
         "rawType": "float64",
         "type": "float"
        },
        {
         "name": "level_downstream_q75",
         "rawType": "float64",
         "type": "float"
        },
        {
         "name": "flow_downstream_mean",
         "rawType": "float64",
         "type": "float"
        },
        {
         "name": "flow_downstream_max",
         "rawType": "float64",
         "type": "float"
        },
        {
         "name": "flow_downstream_min",
         "rawType": "float64",
         "type": "float"
        },
        {
         "name": "flow_downstream_q25",
         "rawType": "float64",
         "type": "float"
        },
        {
         "name": "flow_downstream_q75",
         "rawType": "float64",
         "type": "float"
        },
        {
         "name": "rain_after_mean",
         "rawType": "float64",
         "type": "float"
        },
        {
         "name": "rain_after_max",
         "rawType": "float64",
         "type": "float"
        },
        {
         "name": "rain_after_min",
         "rawType": "float64",
         "type": "float"
        },
        {
         "name": "rain_after_q25",
         "rawType": "float64",
         "type": "float"
        },
        {
         "name": "rain_after_q75",
         "rawType": "float64",
         "type": "float"
        },
        {
         "name": "level_after_mean",
         "rawType": "float64",
         "type": "float"
        },
        {
         "name": "level_after_max",
         "rawType": "float64",
         "type": "float"
        },
        {
         "name": "level_after_min",
         "rawType": "float64",
         "type": "float"
        },
        {
         "name": "level_after_q25",
         "rawType": "float64",
         "type": "float"
        },
        {
         "name": "level_after_q75",
         "rawType": "float64",
         "type": "float"
        },
        {
         "name": "flow_after_mean",
         "rawType": "float64",
         "type": "float"
        },
        {
         "name": "flow_after_max",
         "rawType": "float64",
         "type": "float"
        },
        {
         "name": "flow_after_min",
         "rawType": "float64",
         "type": "float"
        },
        {
         "name": "flow_after_q25",
         "rawType": "float64",
         "type": "float"
        },
        {
         "name": "flow_after_q75",
         "rawType": "float64",
         "type": "float"
        },
        {
         "name": "rain_upstream_acc_2_days",
         "rawType": "float64",
         "type": "float"
        },
        {
         "name": "rain_downstream_acc_2_days",
         "rawType": "float64",
         "type": "float"
        },
        {
         "name": "rain_after_acc_2_days",
         "rawType": "float64",
         "type": "float"
        },
        {
         "name": "rain_upstream_acc_3_days",
         "rawType": "float64",
         "type": "float"
        },
        {
         "name": "rain_downstream_acc_3_days",
         "rawType": "float64",
         "type": "float"
        },
        {
         "name": "rain_after_acc_3_days",
         "rawType": "float64",
         "type": "float"
        },
        {
         "name": "date_sin",
         "rawType": "float64",
         "type": "float"
        },
        {
         "name": "date_cos",
         "rawType": "float64",
         "type": "float"
        },
        {
         "name": "year",
         "rawType": "int64",
         "type": "integer"
        }
       ],
       "ref": "9605b38a-b1ca-4d4f-bae0-29b695e0dddb",
       "rows": [
        [
         "2014-01-01 00:00:00",
         "0.0",
         "0.0",
         "0.0",
         "0.0",
         "0.0",
         "219.08333333333331",
         "222.0",
         "216.0",
         "217.0",
         "221.0",
         "19.354166666666668",
         "20.1",
         "18.6",
         "18.8",
         "19.8",
         "0.0",
         "0.0",
         "0.0",
         "0.0",
         "0.0",
         "150.79166666666666",
         "171.0",
         "146.0",
         "147.0",
         "150.25",
         "32.479166666666664",
         "41.5",
         "30.4",
         "30.8",
         "32.2",
         "0.0",
         "0.0",
         "0.0",
         "0.0",
         "0.0",
         "288.9583333333333",
         "293.0",
         "284.0",
         "286.0",
         "291.0",
         "68.375",
         "70.8",
         "65.4",
         "66.6",
         "69.6",
         "0.0",
         "0.0086956521739131",
         "0.0",
         "0.0",
         "0.026086956521739",
         "0.0",
         "0.0",
         "1.0",
         "2014"
        ],
        [
         "2014-01-02 00:00:00",
         "0.008695652173913",
         "0.2",
         "0.0",
         "0.0",
         "0.0",
         "222.95652173913044",
         "226.0",
         "219.0",
         "221.5",
         "224.0",
         "20.3",
         "21.0",
         "19.3",
         "19.950000000000003",
         "20.6",
         "0.217391304347826",
         "4.8",
         "0.0",
         "0.0",
         "0.0",
         "167.2173913043478",
         "206.0",
         "154.0",
         "155.5",
         "169.5",
         "39.85652173913043",
         "58.3",
         "33.8",
         "34.5",
         "40.75",
         "0.0",
         "0.0",
         "0.0",
         "0.0",
         "0.0",
         "304.0",
         "326.0",
         "288.0",
         "298.0",
         "309.0",
         "75.10434782608695",
         "85.3",
         "67.8",
         "73.9",
         "78.1",
         "0.0086956521739129",
         "0.2173913043478262",
         "0.0",
         "0.008695652173913",
         "0.226086956521739",
         "0.0",
         "0.0172133561558346",
         "0.9998518392091162",
         "2014"
        ],
        [
         "2014-01-03 00:00:00",
         "0.0",
         "0.0",
         "0.0",
         "0.0",
         "0.0",
         "225.3181818181818",
         "231.0",
         "219.0",
         "220.5",
         "230.0",
         "20.904545454545456",
         "22.3",
         "19.3",
         "19.725",
         "22.1",
         "0.0",
         "0.0",
         "0.0",
         "0.0",
         "0.0",
         "152.6818181818182",
         "157.0",
         "150.0",
         "151.0",
         "154.75",
         "33.268181818181816",
         "35.2",
         "32.1",
         "32.5",
         "34.175",
         "0.0",
         "0.0",
         "0.0",
         "0.0",
         "0.0",
         "293.90909090909093",
         "306.0",
         "280.0",
         "288.25",
         "302.0",
         "71.68636363636364",
         "78.7",
         "63.0",
         "67.95",
         "76.3",
         "0.0086956521739129",
         "0.2173913043478262",
         "0.0",
         "0.008695652173913",
         "0.2173913043478259",
         "0.0",
         "0.0344216116227457",
         "0.9994074007397048",
         "2014"
        ],
        [
         "2014-01-04 00:00:00",
         "0.0",
         "0.0",
         "0.0",
         "0.0",
         "0.0",
         "213.8636363636364",
         "221.0",
         "208.0",
         "212.0",
         "215.75",
         "18.068181818181817",
         "19.8",
         "16.7",
         "17.6",
         "18.525",
         "0.0",
         "0.0",
         "0.0",
         "0.0",
         "0.0",
         "145.86363636363637",
         "152.0",
         "142.0",
         "145.0",
         "146.0",
         "30.35454545454545",
         "33.0",
         "28.7",
         "30.0",
         "30.4",
         "0.0",
         "0.0",
         "0.0",
         "0.0",
         "0.0",
         "277.90909090909093",
         "280.0",
         "271.0",
         "276.75",
         "279.0",
         "61.8",
         "63.0",
         "58.2",
         "61.05",
         "62.85",
         "0.0",
         "0.0",
         "0.0",
         "0.008695652173913",
         "0.2173913043478259",
         "0.0",
         "0.0516196672232537",
         "0.998666816288476",
         "2014"
        ],
        [
         "2014-01-05 00:00:00",
         "0.0",
         "0.0",
         "0.0",
         "0.0",
         "0.0",
         "204.9047619047619",
         "208.0",
         "201.0",
         "204.0",
         "206.0",
         "15.952380952380953",
         "16.7",
         "15.0",
         "15.7",
         "16.2",
         "0.0",
         "0.0",
         "0.0",
         "0.0",
         "0.0",
         "139.04761904761904",
         "142.0",
         "136.0",
         "138.0",
         "140.0",
         "27.51904761904762",
         "28.7",
         "26.3",
         "27.1",
         "27.9",
         "0.0",
         "0.0",
         "0.0",
         "0.0",
         "0.0",
         "269.1428571428572",
         "272.0",
         "264.0",
         "268.0",
         "270.0",
         "56.48571428571429",
         "58.2",
         "53.4",
         "55.8",
         "57.0",
         "0.0",
         "0.0",
         "0.0",
         "0.0",
         "0.0",
         "0.0",
         "0.0688024268023198",
         "0.9976303053065856",
         "2014"
        ]
       ],
       "shape": {
        "columns": 54,
        "rows": 5
       }
      },
      "text/html": [
       "<div>\n",
       "<style scoped>\n",
       "    .dataframe tbody tr th:only-of-type {\n",
       "        vertical-align: middle;\n",
       "    }\n",
       "\n",
       "    .dataframe tbody tr th {\n",
       "        vertical-align: top;\n",
       "    }\n",
       "\n",
       "    .dataframe thead th {\n",
       "        text-align: right;\n",
       "    }\n",
       "</style>\n",
       "<table border=\"1\" class=\"dataframe\">\n",
       "  <thead>\n",
       "    <tr style=\"text-align: right;\">\n",
       "      <th></th>\n",
       "      <th>rain_upstream_mean</th>\n",
       "      <th>rain_upstream_max</th>\n",
       "      <th>rain_upstream_min</th>\n",
       "      <th>rain_upstream_q25</th>\n",
       "      <th>rain_upstream_q75</th>\n",
       "      <th>level_upstream_mean</th>\n",
       "      <th>level_upstream_max</th>\n",
       "      <th>level_upstream_min</th>\n",
       "      <th>level_upstream_q25</th>\n",
       "      <th>level_upstream_q75</th>\n",
       "      <th>...</th>\n",
       "      <th>flow_after_q75</th>\n",
       "      <th>rain_upstream_acc_2_days</th>\n",
       "      <th>rain_downstream_acc_2_days</th>\n",
       "      <th>rain_after_acc_2_days</th>\n",
       "      <th>rain_upstream_acc_3_days</th>\n",
       "      <th>rain_downstream_acc_3_days</th>\n",
       "      <th>rain_after_acc_3_days</th>\n",
       "      <th>date_sin</th>\n",
       "      <th>date_cos</th>\n",
       "      <th>year</th>\n",
       "    </tr>\n",
       "    <tr>\n",
       "      <th>date</th>\n",
       "      <th></th>\n",
       "      <th></th>\n",
       "      <th></th>\n",
       "      <th></th>\n",
       "      <th></th>\n",
       "      <th></th>\n",
       "      <th></th>\n",
       "      <th></th>\n",
       "      <th></th>\n",
       "      <th></th>\n",
       "      <th></th>\n",
       "      <th></th>\n",
       "      <th></th>\n",
       "      <th></th>\n",
       "      <th></th>\n",
       "      <th></th>\n",
       "      <th></th>\n",
       "      <th></th>\n",
       "      <th></th>\n",
       "      <th></th>\n",
       "      <th></th>\n",
       "    </tr>\n",
       "  </thead>\n",
       "  <tbody>\n",
       "    <tr>\n",
       "      <th>2014-01-01</th>\n",
       "      <td>0.000000</td>\n",
       "      <td>0.0</td>\n",
       "      <td>0.0</td>\n",
       "      <td>0.0</td>\n",
       "      <td>0.0</td>\n",
       "      <td>219.083333</td>\n",
       "      <td>222.0</td>\n",
       "      <td>216.0</td>\n",
       "      <td>217.0</td>\n",
       "      <td>221.00</td>\n",
       "      <td>...</td>\n",
       "      <td>69.60</td>\n",
       "      <td>0.000000</td>\n",
       "      <td>0.008696</td>\n",
       "      <td>0.0</td>\n",
       "      <td>0.000000</td>\n",
       "      <td>0.026087</td>\n",
       "      <td>0.0</td>\n",
       "      <td>0.000000</td>\n",
       "      <td>1.000000</td>\n",
       "      <td>2014</td>\n",
       "    </tr>\n",
       "    <tr>\n",
       "      <th>2014-01-02</th>\n",
       "      <td>0.008696</td>\n",
       "      <td>0.2</td>\n",
       "      <td>0.0</td>\n",
       "      <td>0.0</td>\n",
       "      <td>0.0</td>\n",
       "      <td>222.956522</td>\n",
       "      <td>226.0</td>\n",
       "      <td>219.0</td>\n",
       "      <td>221.5</td>\n",
       "      <td>224.00</td>\n",
       "      <td>...</td>\n",
       "      <td>78.10</td>\n",
       "      <td>0.008696</td>\n",
       "      <td>0.217391</td>\n",
       "      <td>0.0</td>\n",
       "      <td>0.008696</td>\n",
       "      <td>0.226087</td>\n",
       "      <td>0.0</td>\n",
       "      <td>0.017213</td>\n",
       "      <td>0.999852</td>\n",
       "      <td>2014</td>\n",
       "    </tr>\n",
       "    <tr>\n",
       "      <th>2014-01-03</th>\n",
       "      <td>0.000000</td>\n",
       "      <td>0.0</td>\n",
       "      <td>0.0</td>\n",
       "      <td>0.0</td>\n",
       "      <td>0.0</td>\n",
       "      <td>225.318182</td>\n",
       "      <td>231.0</td>\n",
       "      <td>219.0</td>\n",
       "      <td>220.5</td>\n",
       "      <td>230.00</td>\n",
       "      <td>...</td>\n",
       "      <td>76.30</td>\n",
       "      <td>0.008696</td>\n",
       "      <td>0.217391</td>\n",
       "      <td>0.0</td>\n",
       "      <td>0.008696</td>\n",
       "      <td>0.217391</td>\n",
       "      <td>0.0</td>\n",
       "      <td>0.034422</td>\n",
       "      <td>0.999407</td>\n",
       "      <td>2014</td>\n",
       "    </tr>\n",
       "    <tr>\n",
       "      <th>2014-01-04</th>\n",
       "      <td>0.000000</td>\n",
       "      <td>0.0</td>\n",
       "      <td>0.0</td>\n",
       "      <td>0.0</td>\n",
       "      <td>0.0</td>\n",
       "      <td>213.863636</td>\n",
       "      <td>221.0</td>\n",
       "      <td>208.0</td>\n",
       "      <td>212.0</td>\n",
       "      <td>215.75</td>\n",
       "      <td>...</td>\n",
       "      <td>62.85</td>\n",
       "      <td>0.000000</td>\n",
       "      <td>0.000000</td>\n",
       "      <td>0.0</td>\n",
       "      <td>0.008696</td>\n",
       "      <td>0.217391</td>\n",
       "      <td>0.0</td>\n",
       "      <td>0.051620</td>\n",
       "      <td>0.998667</td>\n",
       "      <td>2014</td>\n",
       "    </tr>\n",
       "    <tr>\n",
       "      <th>2014-01-05</th>\n",
       "      <td>0.000000</td>\n",
       "      <td>0.0</td>\n",
       "      <td>0.0</td>\n",
       "      <td>0.0</td>\n",
       "      <td>0.0</td>\n",
       "      <td>204.904762</td>\n",
       "      <td>208.0</td>\n",
       "      <td>201.0</td>\n",
       "      <td>204.0</td>\n",
       "      <td>206.00</td>\n",
       "      <td>...</td>\n",
       "      <td>57.00</td>\n",
       "      <td>0.000000</td>\n",
       "      <td>0.000000</td>\n",
       "      <td>0.0</td>\n",
       "      <td>0.000000</td>\n",
       "      <td>0.000000</td>\n",
       "      <td>0.0</td>\n",
       "      <td>0.068802</td>\n",
       "      <td>0.997630</td>\n",
       "      <td>2014</td>\n",
       "    </tr>\n",
       "  </tbody>\n",
       "</table>\n",
       "<p>5 rows × 54 columns</p>\n",
       "</div>"
      ],
      "text/plain": [
       "            rain_upstream_mean  rain_upstream_max  rain_upstream_min  \\\n",
       "date                                                                   \n",
       "2014-01-01            0.000000                0.0                0.0   \n",
       "2014-01-02            0.008696                0.2                0.0   \n",
       "2014-01-03            0.000000                0.0                0.0   \n",
       "2014-01-04            0.000000                0.0                0.0   \n",
       "2014-01-05            0.000000                0.0                0.0   \n",
       "\n",
       "            rain_upstream_q25  rain_upstream_q75  level_upstream_mean  \\\n",
       "date                                                                    \n",
       "2014-01-01                0.0                0.0           219.083333   \n",
       "2014-01-02                0.0                0.0           222.956522   \n",
       "2014-01-03                0.0                0.0           225.318182   \n",
       "2014-01-04                0.0                0.0           213.863636   \n",
       "2014-01-05                0.0                0.0           204.904762   \n",
       "\n",
       "            level_upstream_max  level_upstream_min  level_upstream_q25  \\\n",
       "date                                                                     \n",
       "2014-01-01               222.0               216.0               217.0   \n",
       "2014-01-02               226.0               219.0               221.5   \n",
       "2014-01-03               231.0               219.0               220.5   \n",
       "2014-01-04               221.0               208.0               212.0   \n",
       "2014-01-05               208.0               201.0               204.0   \n",
       "\n",
       "            level_upstream_q75  ...  flow_after_q75  rain_upstream_acc_2_days  \\\n",
       "date                            ...                                             \n",
       "2014-01-01              221.00  ...           69.60                  0.000000   \n",
       "2014-01-02              224.00  ...           78.10                  0.008696   \n",
       "2014-01-03              230.00  ...           76.30                  0.008696   \n",
       "2014-01-04              215.75  ...           62.85                  0.000000   \n",
       "2014-01-05              206.00  ...           57.00                  0.000000   \n",
       "\n",
       "            rain_downstream_acc_2_days  rain_after_acc_2_days  \\\n",
       "date                                                            \n",
       "2014-01-01                    0.008696                    0.0   \n",
       "2014-01-02                    0.217391                    0.0   \n",
       "2014-01-03                    0.217391                    0.0   \n",
       "2014-01-04                    0.000000                    0.0   \n",
       "2014-01-05                    0.000000                    0.0   \n",
       "\n",
       "            rain_upstream_acc_3_days  rain_downstream_acc_3_days  \\\n",
       "date                                                               \n",
       "2014-01-01                  0.000000                    0.026087   \n",
       "2014-01-02                  0.008696                    0.226087   \n",
       "2014-01-03                  0.008696                    0.217391   \n",
       "2014-01-04                  0.008696                    0.217391   \n",
       "2014-01-05                  0.000000                    0.000000   \n",
       "\n",
       "            rain_after_acc_3_days  date_sin  date_cos  year  \n",
       "date                                                         \n",
       "2014-01-01                    0.0  0.000000  1.000000  2014  \n",
       "2014-01-02                    0.0  0.017213  0.999852  2014  \n",
       "2014-01-03                    0.0  0.034422  0.999407  2014  \n",
       "2014-01-04                    0.0  0.051620  0.998667  2014  \n",
       "2014-01-05                    0.0  0.068802  0.997630  2014  \n",
       "\n",
       "[5 rows x 54 columns]"
      ]
     },
     "execution_count": 4,
     "metadata": {},
     "output_type": "execute_result"
    }
   ],
   "source": [
    "df = pd.read_csv(\n",
    "    PROCESSED_PATH,\n",
    "    sep=\";\",\n",
    "    parse_dates=[\"date\"],\n",
    "    dayfirst=True,\n",
    ")\n",
    "\n",
    "df.set_index(\"date\", inplace=True)\n",
    "df.index = pd.to_datetime(df.index)\n",
    "\n",
    "df.head()"
   ]
  },
  {
   "cell_type": "markdown",
   "id": "20efaa67",
   "metadata": {},
   "source": [
    "## 2. Data Preprocessing\n",
    "\n",
    "- Conferir ausência de dados nulos\n",
    "- Retirar as colunas de vazão, uma vez que está altamente correlacionada à coluna de nível\n",
    "- Normalização dos dados"
   ]
  },
  {
   "cell_type": "code",
   "execution_count": 5,
   "id": "58024d7d",
   "metadata": {},
   "outputs": [
    {
     "name": "stdout",
     "output_type": "stream",
     "text": [
      "Missing values in each column:\n",
      "Series([], dtype: int64)\n"
     ]
    }
   ],
   "source": [
    "# Count missing values in each column\n",
    "def print_missing_values(data):\n",
    "    missing_values = data.isnull().sum()\n",
    "    print(\"Missing values in each column:\")\n",
    "    print(missing_values[missing_values > 0])\n",
    "\n",
    "print_missing_values(df)"
   ]
  },
  {
   "cell_type": "code",
   "execution_count": 6,
   "id": "652bba76",
   "metadata": {},
   "outputs": [
    {
     "data": {
      "application/vnd.microsoft.datawrangler.viewer.v0+json": {
       "columns": [
        {
         "name": "date",
         "rawType": "datetime64[ns]",
         "type": "datetime"
        },
        {
         "name": "rain_upstream_mean",
         "rawType": "float64",
         "type": "float"
        },
        {
         "name": "rain_upstream_max",
         "rawType": "float64",
         "type": "float"
        },
        {
         "name": "rain_upstream_min",
         "rawType": "float64",
         "type": "float"
        },
        {
         "name": "rain_upstream_q25",
         "rawType": "float64",
         "type": "float"
        },
        {
         "name": "rain_upstream_q75",
         "rawType": "float64",
         "type": "float"
        },
        {
         "name": "level_upstream_mean",
         "rawType": "float64",
         "type": "float"
        },
        {
         "name": "level_upstream_max",
         "rawType": "float64",
         "type": "float"
        },
        {
         "name": "level_upstream_min",
         "rawType": "float64",
         "type": "float"
        },
        {
         "name": "level_upstream_q25",
         "rawType": "float64",
         "type": "float"
        },
        {
         "name": "level_upstream_q75",
         "rawType": "float64",
         "type": "float"
        },
        {
         "name": "rain_downstream_mean",
         "rawType": "float64",
         "type": "float"
        },
        {
         "name": "rain_downstream_max",
         "rawType": "float64",
         "type": "float"
        },
        {
         "name": "rain_downstream_min",
         "rawType": "float64",
         "type": "float"
        },
        {
         "name": "rain_downstream_q25",
         "rawType": "float64",
         "type": "float"
        },
        {
         "name": "rain_downstream_q75",
         "rawType": "float64",
         "type": "float"
        },
        {
         "name": "level_downstream_mean",
         "rawType": "float64",
         "type": "float"
        },
        {
         "name": "level_downstream_max",
         "rawType": "float64",
         "type": "float"
        },
        {
         "name": "level_downstream_min",
         "rawType": "float64",
         "type": "float"
        },
        {
         "name": "level_downstream_q25",
         "rawType": "float64",
         "type": "float"
        },
        {
         "name": "level_downstream_q75",
         "rawType": "float64",
         "type": "float"
        },
        {
         "name": "rain_after_mean",
         "rawType": "float64",
         "type": "float"
        },
        {
         "name": "rain_after_max",
         "rawType": "float64",
         "type": "float"
        },
        {
         "name": "rain_after_min",
         "rawType": "float64",
         "type": "float"
        },
        {
         "name": "rain_after_q25",
         "rawType": "float64",
         "type": "float"
        },
        {
         "name": "rain_after_q75",
         "rawType": "float64",
         "type": "float"
        },
        {
         "name": "level_after_mean",
         "rawType": "float64",
         "type": "float"
        },
        {
         "name": "level_after_max",
         "rawType": "float64",
         "type": "float"
        },
        {
         "name": "level_after_min",
         "rawType": "float64",
         "type": "float"
        },
        {
         "name": "level_after_q25",
         "rawType": "float64",
         "type": "float"
        },
        {
         "name": "level_after_q75",
         "rawType": "float64",
         "type": "float"
        },
        {
         "name": "rain_upstream_acc_2_days",
         "rawType": "float64",
         "type": "float"
        },
        {
         "name": "rain_downstream_acc_2_days",
         "rawType": "float64",
         "type": "float"
        },
        {
         "name": "rain_after_acc_2_days",
         "rawType": "float64",
         "type": "float"
        },
        {
         "name": "rain_upstream_acc_3_days",
         "rawType": "float64",
         "type": "float"
        },
        {
         "name": "rain_downstream_acc_3_days",
         "rawType": "float64",
         "type": "float"
        },
        {
         "name": "rain_after_acc_3_days",
         "rawType": "float64",
         "type": "float"
        },
        {
         "name": "date_sin",
         "rawType": "float64",
         "type": "float"
        },
        {
         "name": "date_cos",
         "rawType": "float64",
         "type": "float"
        },
        {
         "name": "year",
         "rawType": "int64",
         "type": "integer"
        }
       ],
       "ref": "25a50fc5-6813-4f91-92c0-5ca269d7a454",
       "rows": [
        [
         "2014-01-01 00:00:00",
         "0.0",
         "0.0",
         "0.0",
         "0.0",
         "0.0",
         "219.08333333333331",
         "222.0",
         "216.0",
         "217.0",
         "221.0",
         "0.0",
         "0.0",
         "0.0",
         "0.0",
         "0.0",
         "150.79166666666666",
         "171.0",
         "146.0",
         "147.0",
         "150.25",
         "0.0",
         "0.0",
         "0.0",
         "0.0",
         "0.0",
         "288.9583333333333",
         "293.0",
         "284.0",
         "286.0",
         "291.0",
         "0.0",
         "0.0086956521739131",
         "0.0",
         "0.0",
         "0.026086956521739",
         "0.0",
         "0.0",
         "1.0",
         "2014"
        ],
        [
         "2014-01-02 00:00:00",
         "0.008695652173913",
         "0.2",
         "0.0",
         "0.0",
         "0.0",
         "222.95652173913044",
         "226.0",
         "219.0",
         "221.5",
         "224.0",
         "0.217391304347826",
         "4.8",
         "0.0",
         "0.0",
         "0.0",
         "167.2173913043478",
         "206.0",
         "154.0",
         "155.5",
         "169.5",
         "0.0",
         "0.0",
         "0.0",
         "0.0",
         "0.0",
         "304.0",
         "326.0",
         "288.0",
         "298.0",
         "309.0",
         "0.0086956521739129",
         "0.2173913043478262",
         "0.0",
         "0.008695652173913",
         "0.226086956521739",
         "0.0",
         "0.0172133561558346",
         "0.9998518392091162",
         "2014"
        ],
        [
         "2014-01-03 00:00:00",
         "0.0",
         "0.0",
         "0.0",
         "0.0",
         "0.0",
         "225.3181818181818",
         "231.0",
         "219.0",
         "220.5",
         "230.0",
         "0.0",
         "0.0",
         "0.0",
         "0.0",
         "0.0",
         "152.6818181818182",
         "157.0",
         "150.0",
         "151.0",
         "154.75",
         "0.0",
         "0.0",
         "0.0",
         "0.0",
         "0.0",
         "293.90909090909093",
         "306.0",
         "280.0",
         "288.25",
         "302.0",
         "0.0086956521739129",
         "0.2173913043478262",
         "0.0",
         "0.008695652173913",
         "0.2173913043478259",
         "0.0",
         "0.0344216116227457",
         "0.9994074007397048",
         "2014"
        ],
        [
         "2014-01-04 00:00:00",
         "0.0",
         "0.0",
         "0.0",
         "0.0",
         "0.0",
         "213.8636363636364",
         "221.0",
         "208.0",
         "212.0",
         "215.75",
         "0.0",
         "0.0",
         "0.0",
         "0.0",
         "0.0",
         "145.86363636363637",
         "152.0",
         "142.0",
         "145.0",
         "146.0",
         "0.0",
         "0.0",
         "0.0",
         "0.0",
         "0.0",
         "277.90909090909093",
         "280.0",
         "271.0",
         "276.75",
         "279.0",
         "0.0",
         "0.0",
         "0.0",
         "0.008695652173913",
         "0.2173913043478259",
         "0.0",
         "0.0516196672232537",
         "0.998666816288476",
         "2014"
        ],
        [
         "2014-01-05 00:00:00",
         "0.0",
         "0.0",
         "0.0",
         "0.0",
         "0.0",
         "204.9047619047619",
         "208.0",
         "201.0",
         "204.0",
         "206.0",
         "0.0",
         "0.0",
         "0.0",
         "0.0",
         "0.0",
         "139.04761904761904",
         "142.0",
         "136.0",
         "138.0",
         "140.0",
         "0.0",
         "0.0",
         "0.0",
         "0.0",
         "0.0",
         "269.1428571428572",
         "272.0",
         "264.0",
         "268.0",
         "270.0",
         "0.0",
         "0.0",
         "0.0",
         "0.0",
         "0.0",
         "0.0",
         "0.0688024268023198",
         "0.9976303053065856",
         "2014"
        ]
       ],
       "shape": {
        "columns": 39,
        "rows": 5
       }
      },
      "text/html": [
       "<div>\n",
       "<style scoped>\n",
       "    .dataframe tbody tr th:only-of-type {\n",
       "        vertical-align: middle;\n",
       "    }\n",
       "\n",
       "    .dataframe tbody tr th {\n",
       "        vertical-align: top;\n",
       "    }\n",
       "\n",
       "    .dataframe thead th {\n",
       "        text-align: right;\n",
       "    }\n",
       "</style>\n",
       "<table border=\"1\" class=\"dataframe\">\n",
       "  <thead>\n",
       "    <tr style=\"text-align: right;\">\n",
       "      <th></th>\n",
       "      <th>rain_upstream_mean</th>\n",
       "      <th>rain_upstream_max</th>\n",
       "      <th>rain_upstream_min</th>\n",
       "      <th>rain_upstream_q25</th>\n",
       "      <th>rain_upstream_q75</th>\n",
       "      <th>level_upstream_mean</th>\n",
       "      <th>level_upstream_max</th>\n",
       "      <th>level_upstream_min</th>\n",
       "      <th>level_upstream_q25</th>\n",
       "      <th>level_upstream_q75</th>\n",
       "      <th>...</th>\n",
       "      <th>level_after_q75</th>\n",
       "      <th>rain_upstream_acc_2_days</th>\n",
       "      <th>rain_downstream_acc_2_days</th>\n",
       "      <th>rain_after_acc_2_days</th>\n",
       "      <th>rain_upstream_acc_3_days</th>\n",
       "      <th>rain_downstream_acc_3_days</th>\n",
       "      <th>rain_after_acc_3_days</th>\n",
       "      <th>date_sin</th>\n",
       "      <th>date_cos</th>\n",
       "      <th>year</th>\n",
       "    </tr>\n",
       "    <tr>\n",
       "      <th>date</th>\n",
       "      <th></th>\n",
       "      <th></th>\n",
       "      <th></th>\n",
       "      <th></th>\n",
       "      <th></th>\n",
       "      <th></th>\n",
       "      <th></th>\n",
       "      <th></th>\n",
       "      <th></th>\n",
       "      <th></th>\n",
       "      <th></th>\n",
       "      <th></th>\n",
       "      <th></th>\n",
       "      <th></th>\n",
       "      <th></th>\n",
       "      <th></th>\n",
       "      <th></th>\n",
       "      <th></th>\n",
       "      <th></th>\n",
       "      <th></th>\n",
       "      <th></th>\n",
       "    </tr>\n",
       "  </thead>\n",
       "  <tbody>\n",
       "    <tr>\n",
       "      <th>2014-01-01</th>\n",
       "      <td>0.000000</td>\n",
       "      <td>0.0</td>\n",
       "      <td>0.0</td>\n",
       "      <td>0.0</td>\n",
       "      <td>0.0</td>\n",
       "      <td>219.083333</td>\n",
       "      <td>222.0</td>\n",
       "      <td>216.0</td>\n",
       "      <td>217.0</td>\n",
       "      <td>221.00</td>\n",
       "      <td>...</td>\n",
       "      <td>291.0</td>\n",
       "      <td>0.000000</td>\n",
       "      <td>0.008696</td>\n",
       "      <td>0.0</td>\n",
       "      <td>0.000000</td>\n",
       "      <td>0.026087</td>\n",
       "      <td>0.0</td>\n",
       "      <td>0.000000</td>\n",
       "      <td>1.000000</td>\n",
       "      <td>2014</td>\n",
       "    </tr>\n",
       "    <tr>\n",
       "      <th>2014-01-02</th>\n",
       "      <td>0.008696</td>\n",
       "      <td>0.2</td>\n",
       "      <td>0.0</td>\n",
       "      <td>0.0</td>\n",
       "      <td>0.0</td>\n",
       "      <td>222.956522</td>\n",
       "      <td>226.0</td>\n",
       "      <td>219.0</td>\n",
       "      <td>221.5</td>\n",
       "      <td>224.00</td>\n",
       "      <td>...</td>\n",
       "      <td>309.0</td>\n",
       "      <td>0.008696</td>\n",
       "      <td>0.217391</td>\n",
       "      <td>0.0</td>\n",
       "      <td>0.008696</td>\n",
       "      <td>0.226087</td>\n",
       "      <td>0.0</td>\n",
       "      <td>0.017213</td>\n",
       "      <td>0.999852</td>\n",
       "      <td>2014</td>\n",
       "    </tr>\n",
       "    <tr>\n",
       "      <th>2014-01-03</th>\n",
       "      <td>0.000000</td>\n",
       "      <td>0.0</td>\n",
       "      <td>0.0</td>\n",
       "      <td>0.0</td>\n",
       "      <td>0.0</td>\n",
       "      <td>225.318182</td>\n",
       "      <td>231.0</td>\n",
       "      <td>219.0</td>\n",
       "      <td>220.5</td>\n",
       "      <td>230.00</td>\n",
       "      <td>...</td>\n",
       "      <td>302.0</td>\n",
       "      <td>0.008696</td>\n",
       "      <td>0.217391</td>\n",
       "      <td>0.0</td>\n",
       "      <td>0.008696</td>\n",
       "      <td>0.217391</td>\n",
       "      <td>0.0</td>\n",
       "      <td>0.034422</td>\n",
       "      <td>0.999407</td>\n",
       "      <td>2014</td>\n",
       "    </tr>\n",
       "    <tr>\n",
       "      <th>2014-01-04</th>\n",
       "      <td>0.000000</td>\n",
       "      <td>0.0</td>\n",
       "      <td>0.0</td>\n",
       "      <td>0.0</td>\n",
       "      <td>0.0</td>\n",
       "      <td>213.863636</td>\n",
       "      <td>221.0</td>\n",
       "      <td>208.0</td>\n",
       "      <td>212.0</td>\n",
       "      <td>215.75</td>\n",
       "      <td>...</td>\n",
       "      <td>279.0</td>\n",
       "      <td>0.000000</td>\n",
       "      <td>0.000000</td>\n",
       "      <td>0.0</td>\n",
       "      <td>0.008696</td>\n",
       "      <td>0.217391</td>\n",
       "      <td>0.0</td>\n",
       "      <td>0.051620</td>\n",
       "      <td>0.998667</td>\n",
       "      <td>2014</td>\n",
       "    </tr>\n",
       "    <tr>\n",
       "      <th>2014-01-05</th>\n",
       "      <td>0.000000</td>\n",
       "      <td>0.0</td>\n",
       "      <td>0.0</td>\n",
       "      <td>0.0</td>\n",
       "      <td>0.0</td>\n",
       "      <td>204.904762</td>\n",
       "      <td>208.0</td>\n",
       "      <td>201.0</td>\n",
       "      <td>204.0</td>\n",
       "      <td>206.00</td>\n",
       "      <td>...</td>\n",
       "      <td>270.0</td>\n",
       "      <td>0.000000</td>\n",
       "      <td>0.000000</td>\n",
       "      <td>0.0</td>\n",
       "      <td>0.000000</td>\n",
       "      <td>0.000000</td>\n",
       "      <td>0.0</td>\n",
       "      <td>0.068802</td>\n",
       "      <td>0.997630</td>\n",
       "      <td>2014</td>\n",
       "    </tr>\n",
       "  </tbody>\n",
       "</table>\n",
       "<p>5 rows × 39 columns</p>\n",
       "</div>"
      ],
      "text/plain": [
       "            rain_upstream_mean  rain_upstream_max  rain_upstream_min  \\\n",
       "date                                                                   \n",
       "2014-01-01            0.000000                0.0                0.0   \n",
       "2014-01-02            0.008696                0.2                0.0   \n",
       "2014-01-03            0.000000                0.0                0.0   \n",
       "2014-01-04            0.000000                0.0                0.0   \n",
       "2014-01-05            0.000000                0.0                0.0   \n",
       "\n",
       "            rain_upstream_q25  rain_upstream_q75  level_upstream_mean  \\\n",
       "date                                                                    \n",
       "2014-01-01                0.0                0.0           219.083333   \n",
       "2014-01-02                0.0                0.0           222.956522   \n",
       "2014-01-03                0.0                0.0           225.318182   \n",
       "2014-01-04                0.0                0.0           213.863636   \n",
       "2014-01-05                0.0                0.0           204.904762   \n",
       "\n",
       "            level_upstream_max  level_upstream_min  level_upstream_q25  \\\n",
       "date                                                                     \n",
       "2014-01-01               222.0               216.0               217.0   \n",
       "2014-01-02               226.0               219.0               221.5   \n",
       "2014-01-03               231.0               219.0               220.5   \n",
       "2014-01-04               221.0               208.0               212.0   \n",
       "2014-01-05               208.0               201.0               204.0   \n",
       "\n",
       "            level_upstream_q75  ...  level_after_q75  \\\n",
       "date                            ...                    \n",
       "2014-01-01              221.00  ...            291.0   \n",
       "2014-01-02              224.00  ...            309.0   \n",
       "2014-01-03              230.00  ...            302.0   \n",
       "2014-01-04              215.75  ...            279.0   \n",
       "2014-01-05              206.00  ...            270.0   \n",
       "\n",
       "            rain_upstream_acc_2_days  rain_downstream_acc_2_days  \\\n",
       "date                                                               \n",
       "2014-01-01                  0.000000                    0.008696   \n",
       "2014-01-02                  0.008696                    0.217391   \n",
       "2014-01-03                  0.008696                    0.217391   \n",
       "2014-01-04                  0.000000                    0.000000   \n",
       "2014-01-05                  0.000000                    0.000000   \n",
       "\n",
       "            rain_after_acc_2_days  rain_upstream_acc_3_days  \\\n",
       "date                                                          \n",
       "2014-01-01                    0.0                  0.000000   \n",
       "2014-01-02                    0.0                  0.008696   \n",
       "2014-01-03                    0.0                  0.008696   \n",
       "2014-01-04                    0.0                  0.008696   \n",
       "2014-01-05                    0.0                  0.000000   \n",
       "\n",
       "            rain_downstream_acc_3_days  rain_after_acc_3_days  date_sin  \\\n",
       "date                                                                      \n",
       "2014-01-01                    0.026087                    0.0  0.000000   \n",
       "2014-01-02                    0.226087                    0.0  0.017213   \n",
       "2014-01-03                    0.217391                    0.0  0.034422   \n",
       "2014-01-04                    0.217391                    0.0  0.051620   \n",
       "2014-01-05                    0.000000                    0.0  0.068802   \n",
       "\n",
       "            date_cos  year  \n",
       "date                        \n",
       "2014-01-01  1.000000  2014  \n",
       "2014-01-02  0.999852  2014  \n",
       "2014-01-03  0.999407  2014  \n",
       "2014-01-04  0.998667  2014  \n",
       "2014-01-05  0.997630  2014  \n",
       "\n",
       "[5 rows x 39 columns]"
      ]
     },
     "execution_count": 6,
     "metadata": {},
     "output_type": "execute_result"
    }
   ],
   "source": [
    "# Remove columns containing 'flow' from the dataframe\n",
    "df = df.loc[:, ~df.columns.str.contains('flow')]\n",
    "df.head()"
   ]
  },
  {
   "cell_type": "code",
   "execution_count": 7,
   "id": "8a422e87",
   "metadata": {},
   "outputs": [
    {
     "data": {
      "application/vnd.microsoft.datawrangler.viewer.v0+json": {
       "columns": [
        {
         "name": "date",
         "rawType": "datetime64[ns]",
         "type": "datetime"
        },
        {
         "name": "rain_upstream_mean",
         "rawType": "float64",
         "type": "float"
        },
        {
         "name": "rain_upstream_max",
         "rawType": "float64",
         "type": "float"
        },
        {
         "name": "rain_upstream_min",
         "rawType": "float64",
         "type": "float"
        },
        {
         "name": "rain_upstream_q25",
         "rawType": "float64",
         "type": "float"
        },
        {
         "name": "rain_upstream_q75",
         "rawType": "float64",
         "type": "float"
        },
        {
         "name": "level_upstream_mean",
         "rawType": "float64",
         "type": "float"
        },
        {
         "name": "level_upstream_max",
         "rawType": "float64",
         "type": "float"
        },
        {
         "name": "level_upstream_min",
         "rawType": "float64",
         "type": "float"
        },
        {
         "name": "level_upstream_q25",
         "rawType": "float64",
         "type": "float"
        },
        {
         "name": "level_upstream_q75",
         "rawType": "float64",
         "type": "float"
        },
        {
         "name": "rain_downstream_mean",
         "rawType": "float64",
         "type": "float"
        },
        {
         "name": "rain_downstream_max",
         "rawType": "float64",
         "type": "float"
        },
        {
         "name": "rain_downstream_min",
         "rawType": "float64",
         "type": "float"
        },
        {
         "name": "rain_downstream_q25",
         "rawType": "float64",
         "type": "float"
        },
        {
         "name": "rain_downstream_q75",
         "rawType": "float64",
         "type": "float"
        },
        {
         "name": "level_downstream_mean",
         "rawType": "float64",
         "type": "float"
        },
        {
         "name": "level_downstream_max",
         "rawType": "float64",
         "type": "float"
        },
        {
         "name": "level_downstream_min",
         "rawType": "float64",
         "type": "float"
        },
        {
         "name": "level_downstream_q25",
         "rawType": "float64",
         "type": "float"
        },
        {
         "name": "level_downstream_q75",
         "rawType": "float64",
         "type": "float"
        },
        {
         "name": "rain_after_mean",
         "rawType": "float64",
         "type": "float"
        },
        {
         "name": "rain_after_max",
         "rawType": "float64",
         "type": "float"
        },
        {
         "name": "rain_after_min",
         "rawType": "float64",
         "type": "float"
        },
        {
         "name": "rain_after_q25",
         "rawType": "float64",
         "type": "float"
        },
        {
         "name": "rain_after_q75",
         "rawType": "float64",
         "type": "float"
        },
        {
         "name": "level_after_mean",
         "rawType": "float64",
         "type": "float"
        },
        {
         "name": "level_after_max",
         "rawType": "float64",
         "type": "float"
        },
        {
         "name": "level_after_min",
         "rawType": "float64",
         "type": "float"
        },
        {
         "name": "level_after_q25",
         "rawType": "float64",
         "type": "float"
        },
        {
         "name": "level_after_q75",
         "rawType": "float64",
         "type": "float"
        },
        {
         "name": "rain_upstream_acc_2_days",
         "rawType": "float64",
         "type": "float"
        },
        {
         "name": "rain_downstream_acc_2_days",
         "rawType": "float64",
         "type": "float"
        },
        {
         "name": "rain_after_acc_2_days",
         "rawType": "float64",
         "type": "float"
        },
        {
         "name": "rain_upstream_acc_3_days",
         "rawType": "float64",
         "type": "float"
        },
        {
         "name": "rain_downstream_acc_3_days",
         "rawType": "float64",
         "type": "float"
        },
        {
         "name": "rain_after_acc_3_days",
         "rawType": "float64",
         "type": "float"
        },
        {
         "name": "date_sin",
         "rawType": "float64",
         "type": "float"
        },
        {
         "name": "date_cos",
         "rawType": "float64",
         "type": "float"
        },
        {
         "name": "year",
         "rawType": "float64",
         "type": "float"
        }
       ],
       "ref": "b4433358-86d9-4812-ae36-ca48fdaeeba1",
       "rows": [
        [
         "2014-01-01 00:00:00",
         "-0.2854496740505716",
         "-0.28774728066076427",
         "0.0",
         "-0.0223160921338726",
         "-0.11514926169566596",
         "0.24570057670632145",
         "0.10576298410793622",
         "0.3549922243681733",
         "0.2940640408194359",
         "0.20138371298926527",
         "-0.3000372044619842",
         "-0.2961413987401215",
         "-0.015777895820254743",
         "-0.02711161219786398",
         "-0.10921339833151379",
         "0.15613210718524015",
         "0.10641408297285584",
         "0.2990497058514791",
         "0.23310236093411085",
         "0.0574086204702861",
         "-0.2638508718402735",
         "-0.2860490700744073",
         "0.0",
         "-0.01577789582025474",
         "-0.1022834649135597",
         "0.7305714468999885",
         "0.6165013389992517",
         "0.8352054661710467",
         "0.7819004433131735",
         "0.6637097497965069",
         "-0.37178583059937836",
         "-0.34198487419709506",
         "-0.3340386912325946",
         "-0.4281928671648227",
         "-0.3443982883870843",
         "-0.38321059676537683",
         "0.0",
         "1.0",
         "-1.5812765985091706"
        ],
        [
         "2014-01-02 00:00:00",
         "-0.20382955518443965",
         "-0.20063391615692527",
         "0.0",
         "-0.0223160921338726",
         "-0.11514926169566596",
         "0.3013414490298598",
         "0.15794696350793427",
         "0.4004977657844324",
         "0.36002752650693043",
         "0.2432107936468684",
         "1.374562876715948",
         "1.3601344024028663",
         "-0.015777895820254743",
         "-0.02711161219786398",
         "-0.10921339833151379",
         "0.4635910792999204",
         "0.5646425297488227",
         "0.47648835680565343",
         "0.4118326822074686",
         "0.377387107475625",
         "-0.2638508718402735",
         "-0.2860490700744073",
         "0.0",
         "-0.01577789582025474",
         "-0.1022834649135597",
         "0.8747014411127022",
         "0.9111616850579817",
         "0.8757764041493068",
         "0.900001070622337",
         "0.8290414021412099",
         "-0.31863051934413",
         "0.6906750232793272",
         "-0.3340386912325946",
         "-0.3873790338615752",
         "0.41606752565075106",
         "-0.38321059676537683",
         "0.0172133561558346",
         "0.9998518392091162",
         "-1.5812765985091706"
        ],
        [
         "2014-01-03 00:00:00",
         "-0.2854496740505716",
         "-0.28774728066076427",
         "0.0",
         "-0.0223160921338726",
         "-0.11514926169566596",
         "0.335268233157742",
         "0.22317693775793185",
         "0.4004977657844324",
         "0.3453689741319316",
         "0.3268649549620746",
         "-0.3000372044619842",
         "-0.2961413987401215",
         "-0.015777895820254743",
         "-0.02711161219786398",
         "-0.10921339833151379",
         "0.19151222311975005",
         "-0.07687729573753088",
         "0.38776903132856627",
         "0.317210747415691",
         "0.13220878626374194",
         "-0.2638508718402735",
         "-0.2860490700744073",
         "0.0",
         "-0.01577789582025474",
         "-0.1022834649135597",
         "0.7780098509382707",
         "0.7325796571436",
         "0.7946345281927867",
         "0.8040443109336417",
         "0.7647457595627143",
         "-0.31863051934413",
         "0.6906750232793272",
         "-0.3340386912325946",
         "-0.3873790338615752",
         "0.38300379460562756",
         "-0.38321059676537683",
         "0.0344216116227457",
         "0.9994074007397048",
         "-1.5812765985091706"
        ],
        [
         "2014-01-04 00:00:00",
         "-0.2854496740505716",
         "-0.28774728066076427",
         "0.0",
         "-0.0223160921338726",
         "-0.11514926169566596",
         "0.17071623248393022",
         "0.0927169892579367",
         "0.23364411392481574",
         "0.22077127894444196",
         "0.12818632183845985",
         "-0.3000372044619842",
         "-0.2961413987401215",
         "-0.015777895820254743",
         "-0.02711161219786398",
         "-0.10921339833151379",
         "0.06388855842612827",
         "-0.14233850241981186",
         "0.21033038037439192",
         "0.19104816769332078",
         "-0.01323598055686664",
         "-0.2638508718402735",
         "-0.2860490700744073",
         "0.0",
         "-0.01577789582025474",
         "-0.1022834649135597",
         "0.6246970593103427",
         "0.5004230208549036",
         "0.7033499177417015",
         "0.6908645430956935",
         "0.5534886482333715",
         "-0.37178583059937836",
         "-0.3850123699252796",
         "-0.3340386912325946",
         "-0.3873790338615752",
         "0.38300379460562756",
         "-0.38321059676537683",
         "0.0516196672232537",
         "0.998666816288476",
         "-1.5812765985091706"
        ],
        [
         "2014-01-05 00:00:00",
         "-0.2854496740505716",
         "-0.28774728066076427",
         "0.0",
         "-0.0223160921338726",
         "-0.11514926169566596",
         "0.04201616997657705",
         "-0.07688094379205698",
         "0.12746451728687785",
         "0.1035028599444517",
         "-0.0077516902987502505",
         "-0.3000372044619842",
         "-0.2961413987401215",
         "-0.015777895820254743",
         "-0.02711161219786398",
         "-0.10921339833151379",
         "-0.06369459081838492",
         "-0.27326091578437384",
         "0.07725139215876117",
         "0.043858491350555584",
         "-0.1129695349481411",
         "-0.2638508718402735",
         "-0.2860490700744073",
         "0.0",
         "-0.01577789582025474",
         "-0.1022834649135597",
         "0.5406985736375743",
         "0.4289902096891509",
         "0.6323507762797463",
         "0.6047495023494284",
         "0.47082282206101994",
         "-0.37178583059937836",
         "-0.3850123699252796",
         "-0.3340386912325946",
         "-0.4281928671648227",
         "-0.4435894815224537",
         "-0.38321059676537683",
         "0.0688024268023198",
         "0.9976303053065856",
         "-1.5812765985091706"
        ]
       ],
       "shape": {
        "columns": 39,
        "rows": 5
       }
      },
      "text/html": [
       "<div>\n",
       "<style scoped>\n",
       "    .dataframe tbody tr th:only-of-type {\n",
       "        vertical-align: middle;\n",
       "    }\n",
       "\n",
       "    .dataframe tbody tr th {\n",
       "        vertical-align: top;\n",
       "    }\n",
       "\n",
       "    .dataframe thead th {\n",
       "        text-align: right;\n",
       "    }\n",
       "</style>\n",
       "<table border=\"1\" class=\"dataframe\">\n",
       "  <thead>\n",
       "    <tr style=\"text-align: right;\">\n",
       "      <th></th>\n",
       "      <th>rain_upstream_mean</th>\n",
       "      <th>rain_upstream_max</th>\n",
       "      <th>rain_upstream_min</th>\n",
       "      <th>rain_upstream_q25</th>\n",
       "      <th>rain_upstream_q75</th>\n",
       "      <th>level_upstream_mean</th>\n",
       "      <th>level_upstream_max</th>\n",
       "      <th>level_upstream_min</th>\n",
       "      <th>level_upstream_q25</th>\n",
       "      <th>level_upstream_q75</th>\n",
       "      <th>...</th>\n",
       "      <th>level_after_q75</th>\n",
       "      <th>rain_upstream_acc_2_days</th>\n",
       "      <th>rain_downstream_acc_2_days</th>\n",
       "      <th>rain_after_acc_2_days</th>\n",
       "      <th>rain_upstream_acc_3_days</th>\n",
       "      <th>rain_downstream_acc_3_days</th>\n",
       "      <th>rain_after_acc_3_days</th>\n",
       "      <th>date_sin</th>\n",
       "      <th>date_cos</th>\n",
       "      <th>year</th>\n",
       "    </tr>\n",
       "    <tr>\n",
       "      <th>date</th>\n",
       "      <th></th>\n",
       "      <th></th>\n",
       "      <th></th>\n",
       "      <th></th>\n",
       "      <th></th>\n",
       "      <th></th>\n",
       "      <th></th>\n",
       "      <th></th>\n",
       "      <th></th>\n",
       "      <th></th>\n",
       "      <th></th>\n",
       "      <th></th>\n",
       "      <th></th>\n",
       "      <th></th>\n",
       "      <th></th>\n",
       "      <th></th>\n",
       "      <th></th>\n",
       "      <th></th>\n",
       "      <th></th>\n",
       "      <th></th>\n",
       "      <th></th>\n",
       "    </tr>\n",
       "  </thead>\n",
       "  <tbody>\n",
       "    <tr>\n",
       "      <th>2014-01-01</th>\n",
       "      <td>-0.28545</td>\n",
       "      <td>-0.287747</td>\n",
       "      <td>0.0</td>\n",
       "      <td>-0.022316</td>\n",
       "      <td>-0.115149</td>\n",
       "      <td>0.245701</td>\n",
       "      <td>0.105763</td>\n",
       "      <td>0.354992</td>\n",
       "      <td>0.294064</td>\n",
       "      <td>0.201384</td>\n",
       "      <td>...</td>\n",
       "      <td>0.663710</td>\n",
       "      <td>-0.371786</td>\n",
       "      <td>-0.341985</td>\n",
       "      <td>-0.334039</td>\n",
       "      <td>-0.428193</td>\n",
       "      <td>-0.344398</td>\n",
       "      <td>-0.383211</td>\n",
       "      <td>0.000000</td>\n",
       "      <td>1.000000</td>\n",
       "      <td>-1.581277</td>\n",
       "    </tr>\n",
       "    <tr>\n",
       "      <th>2014-01-02</th>\n",
       "      <td>-0.20383</td>\n",
       "      <td>-0.200634</td>\n",
       "      <td>0.0</td>\n",
       "      <td>-0.022316</td>\n",
       "      <td>-0.115149</td>\n",
       "      <td>0.301341</td>\n",
       "      <td>0.157947</td>\n",
       "      <td>0.400498</td>\n",
       "      <td>0.360028</td>\n",
       "      <td>0.243211</td>\n",
       "      <td>...</td>\n",
       "      <td>0.829041</td>\n",
       "      <td>-0.318631</td>\n",
       "      <td>0.690675</td>\n",
       "      <td>-0.334039</td>\n",
       "      <td>-0.387379</td>\n",
       "      <td>0.416068</td>\n",
       "      <td>-0.383211</td>\n",
       "      <td>0.017213</td>\n",
       "      <td>0.999852</td>\n",
       "      <td>-1.581277</td>\n",
       "    </tr>\n",
       "    <tr>\n",
       "      <th>2014-01-03</th>\n",
       "      <td>-0.28545</td>\n",
       "      <td>-0.287747</td>\n",
       "      <td>0.0</td>\n",
       "      <td>-0.022316</td>\n",
       "      <td>-0.115149</td>\n",
       "      <td>0.335268</td>\n",
       "      <td>0.223177</td>\n",
       "      <td>0.400498</td>\n",
       "      <td>0.345369</td>\n",
       "      <td>0.326865</td>\n",
       "      <td>...</td>\n",
       "      <td>0.764746</td>\n",
       "      <td>-0.318631</td>\n",
       "      <td>0.690675</td>\n",
       "      <td>-0.334039</td>\n",
       "      <td>-0.387379</td>\n",
       "      <td>0.383004</td>\n",
       "      <td>-0.383211</td>\n",
       "      <td>0.034422</td>\n",
       "      <td>0.999407</td>\n",
       "      <td>-1.581277</td>\n",
       "    </tr>\n",
       "    <tr>\n",
       "      <th>2014-01-04</th>\n",
       "      <td>-0.28545</td>\n",
       "      <td>-0.287747</td>\n",
       "      <td>0.0</td>\n",
       "      <td>-0.022316</td>\n",
       "      <td>-0.115149</td>\n",
       "      <td>0.170716</td>\n",
       "      <td>0.092717</td>\n",
       "      <td>0.233644</td>\n",
       "      <td>0.220771</td>\n",
       "      <td>0.128186</td>\n",
       "      <td>...</td>\n",
       "      <td>0.553489</td>\n",
       "      <td>-0.371786</td>\n",
       "      <td>-0.385012</td>\n",
       "      <td>-0.334039</td>\n",
       "      <td>-0.387379</td>\n",
       "      <td>0.383004</td>\n",
       "      <td>-0.383211</td>\n",
       "      <td>0.051620</td>\n",
       "      <td>0.998667</td>\n",
       "      <td>-1.581277</td>\n",
       "    </tr>\n",
       "    <tr>\n",
       "      <th>2014-01-05</th>\n",
       "      <td>-0.28545</td>\n",
       "      <td>-0.287747</td>\n",
       "      <td>0.0</td>\n",
       "      <td>-0.022316</td>\n",
       "      <td>-0.115149</td>\n",
       "      <td>0.042016</td>\n",
       "      <td>-0.076881</td>\n",
       "      <td>0.127465</td>\n",
       "      <td>0.103503</td>\n",
       "      <td>-0.007752</td>\n",
       "      <td>...</td>\n",
       "      <td>0.470823</td>\n",
       "      <td>-0.371786</td>\n",
       "      <td>-0.385012</td>\n",
       "      <td>-0.334039</td>\n",
       "      <td>-0.428193</td>\n",
       "      <td>-0.443589</td>\n",
       "      <td>-0.383211</td>\n",
       "      <td>0.068802</td>\n",
       "      <td>0.997630</td>\n",
       "      <td>-1.581277</td>\n",
       "    </tr>\n",
       "  </tbody>\n",
       "</table>\n",
       "<p>5 rows × 39 columns</p>\n",
       "</div>"
      ],
      "text/plain": [
       "            rain_upstream_mean  rain_upstream_max  rain_upstream_min  \\\n",
       "date                                                                   \n",
       "2014-01-01            -0.28545          -0.287747                0.0   \n",
       "2014-01-02            -0.20383          -0.200634                0.0   \n",
       "2014-01-03            -0.28545          -0.287747                0.0   \n",
       "2014-01-04            -0.28545          -0.287747                0.0   \n",
       "2014-01-05            -0.28545          -0.287747                0.0   \n",
       "\n",
       "            rain_upstream_q25  rain_upstream_q75  level_upstream_mean  \\\n",
       "date                                                                    \n",
       "2014-01-01          -0.022316          -0.115149             0.245701   \n",
       "2014-01-02          -0.022316          -0.115149             0.301341   \n",
       "2014-01-03          -0.022316          -0.115149             0.335268   \n",
       "2014-01-04          -0.022316          -0.115149             0.170716   \n",
       "2014-01-05          -0.022316          -0.115149             0.042016   \n",
       "\n",
       "            level_upstream_max  level_upstream_min  level_upstream_q25  \\\n",
       "date                                                                     \n",
       "2014-01-01            0.105763            0.354992            0.294064   \n",
       "2014-01-02            0.157947            0.400498            0.360028   \n",
       "2014-01-03            0.223177            0.400498            0.345369   \n",
       "2014-01-04            0.092717            0.233644            0.220771   \n",
       "2014-01-05           -0.076881            0.127465            0.103503   \n",
       "\n",
       "            level_upstream_q75  ...  level_after_q75  \\\n",
       "date                            ...                    \n",
       "2014-01-01            0.201384  ...         0.663710   \n",
       "2014-01-02            0.243211  ...         0.829041   \n",
       "2014-01-03            0.326865  ...         0.764746   \n",
       "2014-01-04            0.128186  ...         0.553489   \n",
       "2014-01-05           -0.007752  ...         0.470823   \n",
       "\n",
       "            rain_upstream_acc_2_days  rain_downstream_acc_2_days  \\\n",
       "date                                                               \n",
       "2014-01-01                 -0.371786                   -0.341985   \n",
       "2014-01-02                 -0.318631                    0.690675   \n",
       "2014-01-03                 -0.318631                    0.690675   \n",
       "2014-01-04                 -0.371786                   -0.385012   \n",
       "2014-01-05                 -0.371786                   -0.385012   \n",
       "\n",
       "            rain_after_acc_2_days  rain_upstream_acc_3_days  \\\n",
       "date                                                          \n",
       "2014-01-01              -0.334039                 -0.428193   \n",
       "2014-01-02              -0.334039                 -0.387379   \n",
       "2014-01-03              -0.334039                 -0.387379   \n",
       "2014-01-04              -0.334039                 -0.387379   \n",
       "2014-01-05              -0.334039                 -0.428193   \n",
       "\n",
       "            rain_downstream_acc_3_days  rain_after_acc_3_days  date_sin  \\\n",
       "date                                                                      \n",
       "2014-01-01                   -0.344398              -0.383211  0.000000   \n",
       "2014-01-02                    0.416068              -0.383211  0.017213   \n",
       "2014-01-03                    0.383004              -0.383211  0.034422   \n",
       "2014-01-04                    0.383004              -0.383211  0.051620   \n",
       "2014-01-05                   -0.443589              -0.383211  0.068802   \n",
       "\n",
       "            date_cos      year  \n",
       "date                            \n",
       "2014-01-01  1.000000 -1.581277  \n",
       "2014-01-02  0.999852 -1.581277  \n",
       "2014-01-03  0.999407 -1.581277  \n",
       "2014-01-04  0.998667 -1.581277  \n",
       "2014-01-05  0.997630 -1.581277  \n",
       "\n",
       "[5 rows x 39 columns]"
      ]
     },
     "execution_count": 7,
     "metadata": {},
     "output_type": "execute_result"
    }
   ],
   "source": [
    "scaler = StandardScaler()\n",
    "# Normalize all columns except 'date_sin' and 'date_cos' (if present)\n",
    "cols_to_normalize = [col for col in df.columns if col not in [\"date_sin\", \"date_cos\"]]\n",
    "df_normalized = df.copy()\n",
    "df_normalized[cols_to_normalize] = scaler.fit_transform(df[cols_to_normalize])\n",
    "df_normalized.head()"
   ]
  },
  {
   "cell_type": "markdown",
   "id": "cc430dee",
   "metadata": {},
   "source": [
    "## 3. Criação dos Datasets\n",
    "\n",
    "- Criar dataset para série temporal\n",
    "- Dividir o dataset em treino, validação e teste"
   ]
  },
  {
   "cell_type": "markdown",
   "id": "1fa7550b",
   "metadata": {},
   "source": [
    "**A divisão dos dados**\n",
    "\n",
    "A divisão dos dados neste projeto de séries temporais é feita em dois estágios principais:\n",
    "\n",
    "1. **Chunking aleatório:**  \n",
    "   Todo o conjunto de dados é dividido em vários \"chunks\" (blocos) de tamanho aleatório, variando entre 24 e 100 amostras cada. O último chunk é descartado caso tenha menos de 20 amostras, garantindo que cada bloco tenha tamanho suficiente para conter padrões temporais relevantes.\n",
    "\n",
    "2. **Split sequencial dentro de cada chunk:**  \n",
    "   Cada chunk é dividido sequencialmente em três partes: treino (60%), validação (20%) e teste (20%). Assim, cada bloco preserva a ordem temporal dos dados, e cada divisão é feita respeitando a sequência original.\n",
    "\n",
    "---\n",
    "\n",
    "**Por que usar chunking em séries temporais?**\n",
    "\n",
    "- Ao dividir em chunks aleatórios, aumentamos a diversidade dos padrões apresentados ao modelo, pois cada chunk pode capturar diferentes regimes, sazonalidades ou comportamentos do sistema ao longo do tempo.\n",
    "- Chunking reduz o risco de o modelo se especializar apenas em um período específico da série, promovendo maior generalização.\n",
    "- Essa abordagem é especialmente útil quando há mudanças de regime, rupturas ou eventos raros distribuídos ao longo do tempo, pois aumenta a chance de tais eventos aparecerem em diferentes splits (treino, validação, teste).\n",
    "\n",
    "---\n",
    "\n",
    "**Comparação com divisão sequencial tradicional**\n",
    "\n",
    "Na divisão sequencial tradicional (por exemplo, 60% inicial para treino, 20% seguinte para validação e 20% final para teste), temos:\n",
    "\n",
    "- O modelo treina apenas com os dados do início da série, valida com dados intermediários e testa apenas com o final da série.\n",
    "- Isso pode ser problemático se houver tendências, sazonalidades ou mudanças de regime ao longo do tempo, pois o modelo pode não ser exposto a todos os padrões relevantes durante o treinamento.\n",
    "- Eventos raros ou extremos podem ficar concentrados em apenas um dos splits, prejudicando a avaliação do modelo.\n",
    "\n",
    "---\n",
    "\n",
    "**Benefícios do chunking aleatório para séries temporais**\n",
    "\n",
    "- Diversifica os contextos temporais em cada split, tornando a avaliação mais robusta.\n",
    "- Ajuda a simular cenários de produção, onde o modelo pode ser aplicado em diferentes períodos e condições.\n",
    "- Mantém a ordem temporal dentro de cada chunk, respeitando a estrutura de dependência temporal essencial para séries temporais.\n",
    "- Reduz o risco de overfitting a um único regime temporal.\n",
    "\n",
    "---\n",
    "\n",
    "*Em resumo: chunking aleatório seguido de split sequencial dentro de cada chunk é uma estratégia que preserva a ordem temporal local, aumenta a diversidade dos dados em cada etapa do treinamento e avaliação, e proporciona uma avaliação mais realista e robusta do desempenho do modelo em séries temporais.*"
   ]
  },
  {
   "cell_type": "code",
   "execution_count": 8,
   "id": "9169cc3f",
   "metadata": {},
   "outputs": [],
   "source": [
    "class TimeSeriesDataset(Dataset):\n",
    "    def __init__(self, data, sequence_length=24, target_col=\"level_downstream_max\"):\n",
    "        self.data = data.reset_index(drop=True)\n",
    "        self.sequence_length = sequence_length\n",
    "        self.target_col = self.data.columns.get_loc(target_col)\n",
    "\n",
    "    def __len__(self):\n",
    "        return len(self.data) - self.sequence_length\n",
    "\n",
    "    def __getitem__(self, idx):\n",
    "        x = self.data.iloc[\n",
    "            idx : idx + self.sequence_length\n",
    "        ].values  # (sequence_length, num_features)\n",
    "        y = self.data.iloc[idx + self.sequence_length, self.target_col]  # scalar value\n",
    "        return torch.tensor(x, dtype=torch.float32), torch.tensor(\n",
    "            y, dtype=torch.float32\n",
    "        )\n",
    "\n",
    "\n",
    "class NonOverlappingConcatDataset(Dataset):\n",
    "    def __init__(self, datasets):\n",
    "        self.datasets = datasets\n",
    "        self.cumulative_lengths = []\n",
    "        total = 0\n",
    "        for d in datasets:\n",
    "            self.cumulative_lengths.append(total)\n",
    "            total += len(d)\n",
    "        self.total_length = total\n",
    "\n",
    "    def __len__(self):\n",
    "        return self.total_length\n",
    "\n",
    "    def __getitem__(self, idx):\n",
    "        # Find which dataset this idx belongs to\n",
    "        for i in range(len(self.datasets)):\n",
    "            if idx < self.cumulative_lengths[i] + len(self.datasets[i]):\n",
    "                local_idx = idx - self.cumulative_lengths[i]\n",
    "                return self.datasets[i][local_idx]\n",
    "        raise IndexError(\"Index out of range\")\n",
    "\n",
    "\n",
    "def split_train_validation_test(\n",
    "    data: pd.DataFrame, train_size: float = 0.6, val_size: float = 0.2\n",
    "):\n",
    "    train_end = int(len(data) * train_size)\n",
    "    val_end = int(len(data) * (train_size + val_size))\n",
    "\n",
    "    train_data = data.iloc[:train_end]\n",
    "    val_data = data.iloc[train_end:val_end]\n",
    "    test_data = data.iloc[val_end:]\n",
    "\n",
    "    return train_data, val_data, test_data\n",
    "\n",
    "\n",
    "def create_datasets(\n",
    "    sequence_length: int,\n",
    "    min_chunk_size: int = 24,\n",
    "    max_chunk_size: int = 100,\n",
    ") -> Tuple[\n",
    "    NonOverlappingConcatDataset,\n",
    "    NonOverlappingConcatDataset,\n",
    "    NonOverlappingConcatDataset,\n",
    "]:\n",
    "    import random\n",
    "\n",
    "    datasets_train: List[TimeSeriesDataset] = []\n",
    "    datasets_validation: List[TimeSeriesDataset] = []\n",
    "    datasets_test: List[TimeSeriesDataset] = []\n",
    "\n",
    "    data = df_normalized.reset_index(drop=True)\n",
    "    n = len(data)\n",
    "    idx = 0\n",
    "    chunk_indices = []\n",
    "\n",
    "    # Generate random chunk indices\n",
    "    while idx < n:\n",
    "        chunk_size = random.randint(min_chunk_size, max_chunk_size)\n",
    "        if idx + chunk_size >= n:\n",
    "            # Last chunk\n",
    "            if n - idx < min_chunk_size:\n",
    "                break  # Discard last chunk if too small\n",
    "            chunk_indices.append((idx, n))\n",
    "            break\n",
    "        else:\n",
    "            chunk_indices.append((idx, idx + chunk_size))\n",
    "            idx += chunk_size\n",
    "\n",
    "    for start, end in chunk_indices:\n",
    "        chunk = data.iloc[start:end].reset_index(drop=True)\n",
    "        if not chunk.empty:\n",
    "            train_data, validation_data, test_data = split_train_validation_test(chunk)\n",
    "            if (\n",
    "                len(train_data) > sequence_length\n",
    "                and len(validation_data) > sequence_length\n",
    "                and len(test_data) > sequence_length\n",
    "            ):\n",
    "                datasets_train.append(\n",
    "                    TimeSeriesDataset(train_data, sequence_length=sequence_length)\n",
    "                )\n",
    "                datasets_validation.append(\n",
    "                    TimeSeriesDataset(validation_data, sequence_length=sequence_length)\n",
    "                )\n",
    "                datasets_test.append(\n",
    "                    TimeSeriesDataset(test_data, sequence_length=sequence_length)\n",
    "                )\n",
    "\n",
    "    train_dataset = NonOverlappingConcatDataset(datasets_train)\n",
    "    validation_dataset = NonOverlappingConcatDataset(datasets_validation)\n",
    "    test_dataset = NonOverlappingConcatDataset(datasets_test)\n",
    "\n",
    "    return train_dataset, validation_dataset, test_dataset\n",
    "\n",
    "\n",
    "# Debugging example\n",
    "# fake_train, fake_validation, fake_test = create_datasets(\n",
    "#     sequence_length=2,\n",
    "# )  # Example with sequence length of 2\n",
    "\n",
    "# print(fake_train[0][1])\n",
    "# fake_train[0][0].shape, fake_train[0][1].shape  # Should be (2, num_features), scalar"
   ]
  },
  {
   "cell_type": "code",
   "execution_count": 9,
   "id": "caa3d550",
   "metadata": {},
   "outputs": [
    {
     "name": "stdout",
     "output_type": "stream",
     "text": [
      "Testing TimeSeriesDataset:\n",
      "Index 0: x = [0. 1. 2.], y = 3.0\n",
      "Index 1: x = [1. 2. 3.], y = 4.0\n",
      "Index 2: x = [2. 3. 4.], y = 5.0\n",
      "Index 3: x = [3. 4. 5.], y = 6.0\n",
      "Index 4: x = [4. 5. 6.], y = 7.0\n",
      "Index 5: x = [5. 6. 7.], y = 8.0\n",
      "Index 6: x = [6. 7. 8.], y = 9.0\n",
      "\n",
      "Testing NonOverlappingConcatDataset\n",
      "Should not overlap and should concatenate correctly:\n",
      "Index 0: x = [0. 1.], y = 2.0\n",
      "Index 1: x = [1. 2.], y = 3.0\n",
      "Index 2: x = [2. 3.], y = 4.0\n",
      "Index 3: x = [10. 11.], y = 12.0\n",
      "Index 4: x = [11. 12.], y = 13.0\n",
      "Index 5: x = [12. 13.], y = 14.0\n"
     ]
    }
   ],
   "source": [
    "# Test for TimeSeriesDataset\n",
    "\n",
    "# Create a simple DataFrame with increasing integers\n",
    "test_df = pd.DataFrame({'A': np.arange(10)})\n",
    "\n",
    "# Window length = 3\n",
    "ts_dataset = TimeSeriesDataset(test_df, sequence_length=3, target_col='A')\n",
    "\n",
    "print(\"Testing TimeSeriesDataset:\")\n",
    "for i in range(len(ts_dataset)):\n",
    "    x, y = ts_dataset[i]\n",
    "    print(f\"Index {i}: x = {x.squeeze().numpy()}, y = {y.numpy()}\")\n",
    "\n",
    "# Test for NonOverlappingConcatDataset\n",
    "# Create two small TimeSeriesDatasets\n",
    "df1 = pd.DataFrame({'A': np.arange(5)})\n",
    "df2 = pd.DataFrame({'A': np.arange(10, 15)})\n",
    "\n",
    "ds1 = TimeSeriesDataset(df1, sequence_length=2, target_col='A')\n",
    "ds2 = TimeSeriesDataset(df2, sequence_length=2, target_col='A')\n",
    "\n",
    "concat_ds = NonOverlappingConcatDataset([ds1, ds2])\n",
    "\n",
    "print(\"\\nTesting NonOverlappingConcatDataset\")\n",
    "print(\"Should not overlap and should concatenate correctly:\")\n",
    "for i in range(len(concat_ds)):\n",
    "    x, y = concat_ds[i]\n",
    "    print(f\"Index {i}: x = {x.squeeze().numpy()}, y = {y.numpy()}\")\n"
   ]
  },
  {
   "cell_type": "markdown",
   "id": "bbba9bb9",
   "metadata": {},
   "source": [
    "## 4. Definição dos Modelos"
   ]
  },
  {
   "cell_type": "code",
   "execution_count": 10,
   "id": "3c514fef",
   "metadata": {},
   "outputs": [
    {
     "name": "stdout",
     "output_type": "stream",
     "text": [
      "=================================================================\n",
      "Layer (type:depth-idx)                   Param #\n",
      "=================================================================\n",
      "MLP                                      --\n",
      "├─Sequential: 1-1                        --\n",
      "│    └─Linear: 2-1                       60\n",
      "│    └─ReLU: 2-2                         --\n",
      "│    └─Linear: 2-3                       110\n",
      "│    └─ReLU: 2-4                         --\n",
      "├─Linear: 1-2                            11\n",
      "├─MSELoss: 1-3                           --\n",
      "=================================================================\n",
      "Total params: 181\n",
      "Trainable params: 181\n",
      "Non-trainable params: 0\n",
      "=================================================================\n",
      "\n",
      "\n",
      "=================================================================\n",
      "Layer (type:depth-idx)                   Param #\n",
      "=================================================================\n",
      "LSTM                                     --\n",
      "├─LSTM: 1-1                              1,560\n",
      "├─Linear: 1-2                            11\n",
      "├─MSELoss: 1-3                           --\n",
      "=================================================================\n",
      "Total params: 1,571\n",
      "Trainable params: 1,571\n",
      "Non-trainable params: 0\n",
      "=================================================================\n",
      "\n",
      "\n",
      "=================================================================\n",
      "Layer (type:depth-idx)                   Param #\n",
      "=================================================================\n",
      "GRU                                      --\n",
      "├─GRU: 1-1                               1,170\n",
      "├─Linear: 1-2                            11\n",
      "├─MSELoss: 1-3                           --\n",
      "=================================================================\n",
      "Total params: 1,181\n",
      "Trainable params: 1,181\n",
      "Non-trainable params: 0\n",
      "=================================================================\n"
     ]
    }
   ],
   "source": [
    "class MLP(L.LightningModule):\n",
    "    def __init__(\n",
    "        self,\n",
    "        input_size,\n",
    "        hidden_layers,\n",
    "        learning_rate: float = 0.0001,\n",
    "    ):\n",
    "        super(MLP, self).__init__()\n",
    "        self.save_hyperparameters()\n",
    "\n",
    "        # MLP para cada passo temporal\n",
    "        layers = []\n",
    "        in_features = input_size\n",
    "        for hidden_size in hidden_layers:\n",
    "            layers.append(nn.Linear(in_features, hidden_size))\n",
    "            layers.append(nn.ReLU())\n",
    "            in_features = hidden_size\n",
    "        self.step_mlp = nn.Sequential(*layers)\n",
    "        self.final_layer = nn.Linear(in_features, 1)\n",
    "        self.criterion = nn.MSELoss()\n",
    "\n",
    "    def forward(self, x):\n",
    "        # x: (batch, window_length, input_size)\n",
    "        # Aplica o MLP em cada passo temporal    print(\"x type:\", type(x))\n",
    "        batch, window, features = x.shape\n",
    "        x = x.view(-1, features)  # (batch * window_length, input_size)\n",
    "        out = self.step_mlp(x)  # (batch * window_length, hidden)\n",
    "        out = out.view(batch, window, -1)  # (batch, window_length, hidden)\n",
    "        out = out.mean(dim=1)  # (batch, hidden) - agregação temporal\n",
    "        out = self.final_layer(out)  # (batch, input_size)\n",
    "        return out.squeeze(-1)  # (batch,)\n",
    "\n",
    "    def training_step(self, batch, batch_idx):\n",
    "        x, y = batch\n",
    "        y_hat = self(x)\n",
    "        loss = self.criterion(y_hat, y)\n",
    "        self.log(\"train_loss\", loss)\n",
    "        return loss\n",
    "\n",
    "    def configure_optimizers(self):\n",
    "        return optim.Adam(self.parameters(), lr=self.hparams.learning_rate)\n",
    "\n",
    "    def validation_step(self, batch, batch_idx):\n",
    "        x, y = batch\n",
    "        y_hat = self(x)\n",
    "        loss = self.criterion(y_hat, y)\n",
    "        self.log(\"val_loss\", loss)\n",
    "        return loss\n",
    "\n",
    "    def test_step(self, batch, batch_idx):\n",
    "        x, y = batch\n",
    "        y_hat = self(x)\n",
    "        loss = self.criterion(y_hat, y)\n",
    "        self.log(\"test_loss\", loss)\n",
    "        return loss\n",
    "\n",
    "\n",
    "class LSTM(L.LightningModule):\n",
    "    def __init__(\n",
    "        self,\n",
    "        input_size,\n",
    "        hidden_size,\n",
    "        num_layers,\n",
    "        learning_rate: float = 0.0001,\n",
    "    ):\n",
    "        super(LSTM, self).__init__()\n",
    "        self.save_hyperparameters()\n",
    "        self.lstm = nn.LSTM(input_size, hidden_size, num_layers, batch_first=True)\n",
    "        self.fc = nn.Linear(hidden_size, 1)\n",
    "        self.criterion = nn.MSELoss()\n",
    "\n",
    "    def forward(self, x):\n",
    "        out, _ = self.lstm(x)  # (batch, sequence_length, hidden_size)\n",
    "        return self.fc(out[:, -1, :]).squeeze(-1)  # (batch,)\n",
    "\n",
    "    def training_step(self, batch, batch_idx):\n",
    "        x, y = batch\n",
    "        y_hat = self(x)\n",
    "        loss = self.criterion(y_hat, y)\n",
    "        self.log(\"train_loss\", loss)\n",
    "        return loss\n",
    "\n",
    "    def configure_optimizers(self):\n",
    "        return optim.Adam(self.parameters(), lr=self.hparams.learning_rate)\n",
    "\n",
    "    def validation_step(self, batch, batch_idx):\n",
    "        x, y = batch\n",
    "        y_hat = self(x)\n",
    "        loss = self.criterion(y_hat, y)\n",
    "        self.log(\"val_loss\", loss)\n",
    "        return loss\n",
    "\n",
    "    def test_step(self, batch, batch_idx):\n",
    "        x, y = batch\n",
    "        y_hat = self(x)\n",
    "        loss = self.criterion(y_hat, y)\n",
    "        self.log(\"test_loss\", loss)\n",
    "        return loss\n",
    "\n",
    "\n",
    "class GRU(L.LightningModule):\n",
    "    def __init__(\n",
    "        self,\n",
    "        input_size,\n",
    "        hidden_size,\n",
    "        num_layers,\n",
    "        learning_rate: float = 0.0001,\n",
    "    ):\n",
    "        super(GRU, self).__init__()\n",
    "        self.save_hyperparameters()\n",
    "        self.gru = nn.GRU(input_size, hidden_size, num_layers, batch_first=True)\n",
    "        self.fc = nn.Linear(hidden_size, 1)\n",
    "        self.criterion = nn.MSELoss()\n",
    "\n",
    "    def forward(self, x):\n",
    "        out, _ = self.gru(x)\n",
    "        return self.fc(out[:, -1, :]).squeeze(-1)  # (batch,)\n",
    "\n",
    "    def training_step(self, batch, batch_idx):\n",
    "        x, y = batch\n",
    "        y_hat = self(x)\n",
    "        loss = self.criterion(y_hat, y)\n",
    "        self.log(\"train_loss\", loss)\n",
    "        return loss\n",
    "\n",
    "    def configure_optimizers(self):\n",
    "        return optim.Adam(self.parameters(), lr=self.hparams.learning_rate)\n",
    "\n",
    "    def validation_step(self, batch, batch_idx):\n",
    "        x, y = batch\n",
    "        y_hat = self(x)\n",
    "        loss = self.criterion(y_hat, y)\n",
    "        self.log(\"val_loss\", loss)\n",
    "        return loss\n",
    "\n",
    "    def test_step(self, batch, batch_idx):\n",
    "        x, y = batch\n",
    "        y_hat = self(x)\n",
    "        loss = self.criterion(y_hat, y)\n",
    "        self.log(\"test_loss\", loss)\n",
    "        return loss\n",
    "\n",
    "\n",
    "print(summary(MLP(input_size=5, hidden_layers=[10, 10])))\n",
    "print(\"\\n\")\n",
    "print(summary(LSTM(input_size=5, hidden_size=10, num_layers=2)))\n",
    "print(\"\\n\")\n",
    "print(summary(GRU(input_size=5, hidden_size=10, num_layers=2)))"
   ]
  },
  {
   "cell_type": "markdown",
   "id": "cf4a37da",
   "metadata": {},
   "source": [
    "## 5. Treinamento dos Modelos"
   ]
  },
  {
   "cell_type": "markdown",
   "id": "ff6571f6",
   "metadata": {},
   "source": [
    "### 5.1. training functions"
   ]
  },
  {
   "cell_type": "code",
   "execution_count": 11,
   "id": "08a05212",
   "metadata": {},
   "outputs": [],
   "source": [
    "def train_model(\n",
    "    model,\n",
    "    train_data,\n",
    "    val_data,\n",
    "    logger,\n",
    "    epochs,\n",
    "    batch_size,\n",
    "    callbacks=[],\n",
    "    verbose=True,\n",
    ") -> None:\n",
    "    \"\"\"\n",
    "    Treina o modelo com os dados de treino e validação.\n",
    "    \"\"\"\n",
    "\n",
    "    train_loader = DataLoader(\n",
    "        train_data, batch_size=batch_size, shuffle=True, drop_last=True\n",
    "    )\n",
    "    validation_loader = DataLoader(\n",
    "        val_data, batch_size=4, shuffle=False, drop_last=True\n",
    "    )\n",
    "\n",
    "    trainer = Trainer(\n",
    "        max_epochs=epochs,\n",
    "        accelerator=\"auto\",\n",
    "        devices=1,\n",
    "        logger=logger,\n",
    "        enable_progress_bar=verbose,\n",
    "        log_every_n_steps=1,\n",
    "        callbacks=callbacks,\n",
    "        deterministic=True,\n",
    "        check_val_every_n_epoch=1,\n",
    "        enable_model_summary=verbose,\n",
    "    )\n",
    "    trainer.fit(model, train_loader, validation_loader)\n",
    "\n",
    "\n",
    "def evaluate_model(model, test_data, logger, batch_size=4):\n",
    "    \"\"\"\n",
    "    Avalia o modelo com os dados de teste.\n",
    "    \"\"\"\n",
    "    print(\"\\nEvaluating model. Using the test dataset.\")\n",
    "    test_loader = DataLoader(\n",
    "        test_data, batch_size=batch_size, shuffle=False, drop_last=True\n",
    "    )\n",
    "\n",
    "    trainer = Trainer(\n",
    "        accelerator=\"auto\",\n",
    "        devices=1,\n",
    "        logger=logger,\n",
    "        enable_progress_bar=True,\n",
    "        deterministic=True,\n",
    "    )\n",
    "    trainer.test(model, test_loader)\n",
    "\n",
    "\n",
    "def run_experiment(\n",
    "    model_class: type[L.LightningModule],\n",
    "    name: str,\n",
    "    model_kwargs: Dict[str, Any] = {},\n",
    "    train_kwargs: Dict[str, Any] = {},\n",
    "    evaluate: bool = True,\n",
    "    extra_callbacks: List[L.Callback] = [],\n",
    "    verbose: bool = True,\n",
    "    id: str = \"\",\n",
    "):\n",
    "    \"\"\"\n",
    "    Executa um experimento de treinamento e avaliação do modelo.\n",
    "    \"\"\"\n",
    "    # Logger\n",
    "    logger = TensorBoardLogger(save_dir=os.getcwd(), name=f\"lightning_logs/{name}\")\n",
    "\n",
    "    checkpoint_callback = ModelCheckpoint(\n",
    "        monitor=\"val_loss\", mode=\"min\", save_top_k=1, filename=f\"best_model_{id}\"\n",
    "    )\n",
    "\n",
    "    early_stopping_callback = EarlyStopping(\n",
    "        monitor=\"val_loss\",\n",
    "        min_delta=1e-4,\n",
    "        patience=10,\n",
    "        mode=\"min\",\n",
    "        strict=False,\n",
    "    )\n",
    "\n",
    "    train_dataset, validation_dataset, test_dataset = create_datasets(\n",
    "        sequence_length=train_kwargs.get(\"sequence_length\", 5)\n",
    "    )\n",
    "\n",
    "    # Remove 'sequence_length' from train_kwargs if present\n",
    "    train_kwargs = dict(train_kwargs)  # make a copy to avoid side effects\n",
    "    train_kwargs.pop(\"sequence_length\", None)\n",
    "\n",
    "    input_size = train_dataset[0][0].shape[1]  # Assuming all inputs have the same shape\n",
    "\n",
    "    model = model_class(input_size=input_size, **(model_kwargs or {}))\n",
    "\n",
    "    train_model(\n",
    "        model,\n",
    "        train_dataset,\n",
    "        validation_dataset,\n",
    "        logger=logger,\n",
    "        **(train_kwargs or {}),\n",
    "        callbacks=[checkpoint_callback, early_stopping_callback, *extra_callbacks],\n",
    "        verbose=verbose,\n",
    "    )\n",
    "\n",
    "    best_validation_loss = checkpoint_callback.best_model_score\n",
    "    best_model_path = checkpoint_callback.best_model_path\n",
    "\n",
    "    # To view the logs, you can use TensorBoard.\n",
    "    # If 'logs' is a SummaryWriter, get its log_dir and launch TensorBoard:\n",
    "    print(f\"To view logs, run in terminal:\\n  tensorboard --logdir {logger.log_dir}\")\n",
    "    print(\"Best model saved at:\", best_model_path)\n",
    "\n",
    "    if evaluate:\n",
    "        best_model = model_class.load_from_checkpoint(best_model_path, **model_kwargs)\n",
    "        evaluate_model(best_model, test_dataset, logger, batch_size=4)\n",
    "\n",
    "    return {\n",
    "        \"best_validation_loss\": (\n",
    "            best_validation_loss.item() if best_validation_loss is not None else None\n",
    "        ),\n",
    "        \"best_model_path\": best_model_path,\n",
    "    }"
   ]
  },
  {
   "cell_type": "markdown",
   "id": "63f36313",
   "metadata": {},
   "source": [
    "### 5.2. Hyperparameter optimization functions"
   ]
  },
  {
   "cell_type": "code",
   "execution_count": 12,
   "id": "7c80d452",
   "metadata": {},
   "outputs": [],
   "source": [
    "def get_optimization_args(model_class: L.LightningModule, trial):\n",
    "    \"\"\"\n",
    "    Retorna os argumentos necessários para executar o experimento.\n",
    "    \"\"\"\n",
    "    if model_class == MLP:\n",
    "        model_kwargs = {\n",
    "            \"hidden_layers\": trial.suggest_categorical(\n",
    "                \"hidden_layers\",\n",
    "                (\n",
    "                    [32, 16],\n",
    "                    [48, 24],\n",
    "                    [64, 32],\n",
    "                    [96, 48],\n",
    "                    [128, 64],\n",
    "                    [64, 32, 16],\n",
    "                    [128, 64, 32],\n",
    "                ),\n",
    "            ),\n",
    "            \"learning_rate\": trial.suggest_float(\"learning_rate\", 1e-5, 1e-3, log=True),\n",
    "        }\n",
    "        train_kwargs = {\n",
    "            \"epochs\": MAX_EPOCHS,\n",
    "            \"batch_size\": trial.suggest_int(\"batch_size\", 2, 32),\n",
    "            \"sequence_length\": trial.suggest_int(\"sequence_length\", 2, 15),\n",
    "        }\n",
    "    elif model_class == LSTM:\n",
    "        model_kwargs = {\n",
    "            \"hidden_size\": trial.suggest_int(\"hidden_size\", 16, 128),\n",
    "            \"num_layers\": trial.suggest_int(\"num_layers\", 1, 3),\n",
    "            \"learning_rate\": trial.suggest_float(\"learning_rate\", 1e-7, 1e-3, log=True),\n",
    "        }\n",
    "        train_kwargs = {\n",
    "            \"epochs\": MAX_EPOCHS,\n",
    "            \"batch_size\": trial.suggest_int(\"batch_size\", 2, 32),\n",
    "            \"sequence_length\": trial.suggest_int(\"sequence_length\", 2, 15),\n",
    "        }\n",
    "    elif model_class == GRU:\n",
    "        model_kwargs = {\n",
    "            \"hidden_size\": trial.suggest_int(\"hidden_size\", 16, 128),\n",
    "            \"num_layers\": trial.suggest_int(\"num_layers\", 1, 3),\n",
    "            \"learning_rate\": trial.suggest_float(\"learning_rate\", 1e-7, 1e-3, log=True),\n",
    "        }\n",
    "        train_kwargs = {\n",
    "            \"epochs\": MAX_EPOCHS,\n",
    "            \"batch_size\": trial.suggest_int(\"batch_size\", 8, 32),\n",
    "            \"sequence_length\": trial.suggest_int(\"sequence_length\", 3, 12),\n",
    "        }\n",
    "    else:\n",
    "        raise ValueError(f\"Unsupported model class: {model_class}\")\n",
    "    return model_kwargs, train_kwargs\n",
    "\n",
    "\n",
    "def get_objective_fn(model_class, name):\n",
    "    \"\"\"\n",
    "    Retorna uma função de objetivo para otimização de hiperparâmetros.\n",
    "    \"\"\"\n",
    "\n",
    "    def objective(trial: optuna.trial.Trial) -> float:\n",
    "        # Ajusta os hiperparâmetros com base no trial\n",
    "        with warnings.catch_warnings():\n",
    "            warnings.filterwarnings(\"ignore\", category=UserWarning)\n",
    "            model_kwargs, train_kwargs = get_optimization_args(model_class, trial)\n",
    "\n",
    "        optuna_pruning_callback = PyTorchLightningPruningCallback(\n",
    "            trial, monitor=\"val_loss\"\n",
    "        )\n",
    "\n",
    "        results = run_experiment(\n",
    "            model_class=model_class,\n",
    "            name=name,\n",
    "            model_kwargs=model_kwargs,\n",
    "            train_kwargs=train_kwargs,\n",
    "            evaluate=False,\n",
    "            extra_callbacks=[optuna_pruning_callback],\n",
    "            verbose=False,\n",
    "            id=uuid.uuid4().hex[:8],\n",
    "        )\n",
    "        return results[\"best_validation_loss\"]\n",
    "\n",
    "    return objective\n",
    "\n",
    "\n",
    "def run_optimization(objective_fn, n_trials=OPTUNA_N_TRIALS) -> optuna.study.Study:\n",
    "    pruner = optuna.pruners.MedianPruner(\n",
    "        n_startup_trials=OPTUNA_PRUNE_N_STARTUP_TRIALS,\n",
    "        n_warmup_steps=OPTUNA_PRUNE_WARMUP_STEPS,\n",
    "    )\n",
    "    study = optuna.create_study(direction=\"minimize\", pruner=pruner)\n",
    "    study.optimize(\n",
    "        objective_fn, n_trials=n_trials, n_jobs=OPTUNA_N_JOBS, show_progress_bar=True\n",
    "    )\n",
    "\n",
    "    print(\"Best trial:\")\n",
    "    trial = study.best_trial\n",
    "    print(f\"  Value: {trial.value}\")\n",
    "    print(\"  Params: \")\n",
    "    for key, value in trial.params.items():\n",
    "        print(f\"    {key}: {value}\")\n",
    "\n",
    "    return study"
   ]
  },
  {
   "cell_type": "markdown",
   "id": "d94945e1",
   "metadata": {},
   "source": [
    "### 5.3. Training loop"
   ]
  },
  {
   "cell_type": "code",
   "execution_count": 13,
   "id": "ae341c72",
   "metadata": {},
   "outputs": [
    {
     "name": "stderr",
     "output_type": "stream",
     "text": [
      "[I 2025-06-04 13:03:24,677] A new study created in memory with name: no-name-24a0d2e9-e21c-487d-aed3-1e1e07a7049e\n"
     ]
    },
    {
     "data": {
      "application/vnd.jupyter.widget-view+json": {
       "model_id": "a8ad6da7afad4fcfaa32d03aa2d020e3",
       "version_major": 2,
       "version_minor": 0
      },
      "text/plain": [
       "  0%|          | 0/2 [00:00<?, ?it/s]"
      ]
     },
     "metadata": {},
     "output_type": "display_data"
    },
    {
     "name": "stderr",
     "output_type": "stream",
     "text": [
      "GPU available: True (cuda), used: True\n",
      "TPU available: False, using: 0 TPU cores\n",
      "GPU available: True (cuda), used: True\n",
      "HPU available: False, using: 0 HPUs\n",
      "TPU available: False, using: 0 TPU cores\n",
      "HPU available: False, using: 0 HPUs\n",
      "2025-06-04 13:03:25.156083: I tensorflow/core/util/port.cc:110] oneDNN custom operations are on. You may see slightly different numerical results due to floating-point round-off errors from different computation orders. To turn them off, set the environment variable `TF_ENABLE_ONEDNN_OPTS=0`.\n",
      "2025-06-04 13:03:25.157791: I tensorflow/tsl/cuda/cudart_stub.cc:28] Could not find cuda drivers on your machine, GPU will not be used.\n",
      "2025-06-04 13:03:25.192528: I tensorflow/core/platform/cpu_feature_guard.cc:182] This TensorFlow binary is optimized to use available CPU instructions in performance-critical operations.\n",
      "To enable the following instructions: AVX2 AVX512F AVX512_VNNI FMA, in other operations, rebuild TensorFlow with the appropriate compiler flags.\n",
      "2025-06-04 13:03:25.837060: W tensorflow/compiler/tf2tensorrt/utils/py_utils.cc:38] TF-TRT Warning: Could not find TensorRT\n",
      "LOCAL_RANK: 0 - CUDA_VISIBLE_DEVICES: [0]\n",
      "LOCAL_RANK: 0 - CUDA_VISIBLE_DEVICES: [0]\n",
      "/home/bruno/anaconda3/envs/fiap/lib/python3.11/site-packages/lightning/pytorch/trainer/connectors/data_connector.py:425: The 'val_dataloader' does not have many workers which may be a bottleneck. Consider increasing the value of the `num_workers` argument` to `num_workers=15` in the `DataLoader` to improve performance.\n",
      "/home/bruno/anaconda3/envs/fiap/lib/python3.11/site-packages/lightning/pytorch/trainer/connectors/data_connector.py:425: The 'train_dataloader' does not have many workers which may be a bottleneck. Consider increasing the value of the `num_workers` argument` to `num_workers=15` in the `DataLoader` to improve performance.\n",
      "`Trainer.fit` stopped: `max_epochs=10` reached.\n"
     ]
    },
    {
     "name": "stdout",
     "output_type": "stream",
     "text": [
      "To view logs, run in terminal:\n",
      "  tensorboard --logdir /home/bruno/Workspace/FIAP/2025/gs-disaster/src/lightning_logs/mlp/version_22\n",
      "Best model saved at: /home/bruno/Workspace/FIAP/2025/gs-disaster/src/lightning_logs/mlp/version_22/checkpoints/best_model_06c0bbe4.ckpt\n",
      "[I 2025-06-04 13:03:33,836] Trial 1 finished with value: 0.3137660026550293 and parameters: {'hidden_layers': [64, 32], 'learning_rate': 0.00020928509088824726, 'batch_size': 29, 'sequence_length': 5}. Best is trial 1 with value: 0.3137660026550293.\n"
     ]
    },
    {
     "name": "stderr",
     "output_type": "stream",
     "text": [
      "GPU available: True (cuda), used: True\n",
      "TPU available: False, using: 0 TPU cores\n",
      "HPU available: False, using: 0 HPUs\n",
      "LOCAL_RANK: 0 - CUDA_VISIBLE_DEVICES: [0]\n",
      "\n",
      "  | Name        | Type       | Params | Mode \n",
      "---------------------------------------------------\n",
      "0 | step_mlp    | Sequential | 4.6 K  | train\n",
      "1 | final_layer | Linear     | 33     | train\n",
      "2 | criterion   | MSELoss    | 0      | train\n",
      "---------------------------------------------------\n",
      "4.7 K     Trainable params\n",
      "0         Non-trainable params\n",
      "4.7 K     Total params\n",
      "0.019     Total estimated model params size (MB)\n",
      "7         Modules in train mode\n",
      "0         Modules in eval mode\n"
     ]
    },
    {
     "name": "stdout",
     "output_type": "stream",
     "text": [
      "[I 2025-06-04 13:03:34,265] Trial 0 pruned. Trial was pruned at epoch 3.\n",
      "Best trial:\n",
      "  Value: 0.3137660026550293\n",
      "  Params: \n",
      "    hidden_layers: [64, 32]\n",
      "    learning_rate: 0.00020928509088824726\n",
      "    batch_size: 29\n",
      "    sequence_length: 5\n"
     ]
    },
    {
     "data": {
      "application/vnd.jupyter.widget-view+json": {
       "model_id": "050ba4e3b6dd406495de84cfb7060331",
       "version_major": 2,
       "version_minor": 0
      },
      "text/plain": [
       "Sanity Checking: |          | 0/? [00:00<?, ?it/s]"
      ]
     },
     "metadata": {},
     "output_type": "display_data"
    },
    {
     "data": {
      "application/vnd.jupyter.widget-view+json": {
       "model_id": "f6f4230cdc414e7bb72b9e827d68b4e2",
       "version_major": 2,
       "version_minor": 0
      },
      "text/plain": [
       "Training: |          | 0/? [00:00<?, ?it/s]"
      ]
     },
     "metadata": {},
     "output_type": "display_data"
    },
    {
     "data": {
      "application/vnd.jupyter.widget-view+json": {
       "model_id": "1cac48f88e2548dab878f88ec21425b2",
       "version_major": 2,
       "version_minor": 0
      },
      "text/plain": [
       "Validation: |          | 0/? [00:00<?, ?it/s]"
      ]
     },
     "metadata": {},
     "output_type": "display_data"
    },
    {
     "data": {
      "application/vnd.jupyter.widget-view+json": {
       "model_id": "1aded2d1dab3465f87b27b4ab5c7ba76",
       "version_major": 2,
       "version_minor": 0
      },
      "text/plain": [
       "Validation: |          | 0/? [00:00<?, ?it/s]"
      ]
     },
     "metadata": {},
     "output_type": "display_data"
    },
    {
     "data": {
      "application/vnd.jupyter.widget-view+json": {
       "model_id": "8bf52b4cbef44bf380df411f20024179",
       "version_major": 2,
       "version_minor": 0
      },
      "text/plain": [
       "Validation: |          | 0/? [00:00<?, ?it/s]"
      ]
     },
     "metadata": {},
     "output_type": "display_data"
    },
    {
     "data": {
      "application/vnd.jupyter.widget-view+json": {
       "model_id": "134080b97f224479bb0237db1303311e",
       "version_major": 2,
       "version_minor": 0
      },
      "text/plain": [
       "Validation: |          | 0/? [00:00<?, ?it/s]"
      ]
     },
     "metadata": {},
     "output_type": "display_data"
    },
    {
     "data": {
      "application/vnd.jupyter.widget-view+json": {
       "model_id": "9bd64600a66647a1a784d74c31d258b3",
       "version_major": 2,
       "version_minor": 0
      },
      "text/plain": [
       "Validation: |          | 0/? [00:00<?, ?it/s]"
      ]
     },
     "metadata": {},
     "output_type": "display_data"
    },
    {
     "data": {
      "application/vnd.jupyter.widget-view+json": {
       "model_id": "f78c22fab7624c52ba76f4109722f47d",
       "version_major": 2,
       "version_minor": 0
      },
      "text/plain": [
       "Validation: |          | 0/? [00:00<?, ?it/s]"
      ]
     },
     "metadata": {},
     "output_type": "display_data"
    },
    {
     "data": {
      "application/vnd.jupyter.widget-view+json": {
       "model_id": "9a9715e3ecdc472d9ef02437b89cade2",
       "version_major": 2,
       "version_minor": 0
      },
      "text/plain": [
       "Validation: |          | 0/? [00:00<?, ?it/s]"
      ]
     },
     "metadata": {},
     "output_type": "display_data"
    },
    {
     "data": {
      "application/vnd.jupyter.widget-view+json": {
       "model_id": "23527e8d726343118aa5303cae988e90",
       "version_major": 2,
       "version_minor": 0
      },
      "text/plain": [
       "Validation: |          | 0/? [00:00<?, ?it/s]"
      ]
     },
     "metadata": {},
     "output_type": "display_data"
    },
    {
     "data": {
      "application/vnd.jupyter.widget-view+json": {
       "model_id": "1917329cabb44cd389a80d7ffc9ce530",
       "version_major": 2,
       "version_minor": 0
      },
      "text/plain": [
       "Validation: |          | 0/? [00:00<?, ?it/s]"
      ]
     },
     "metadata": {},
     "output_type": "display_data"
    },
    {
     "data": {
      "application/vnd.jupyter.widget-view+json": {
       "model_id": "f19c89a63d7c4ee1b6d567cd1dc5b452",
       "version_major": 2,
       "version_minor": 0
      },
      "text/plain": [
       "Validation: |          | 0/? [00:00<?, ?it/s]"
      ]
     },
     "metadata": {},
     "output_type": "display_data"
    },
    {
     "name": "stderr",
     "output_type": "stream",
     "text": [
      "`Trainer.fit` stopped: `max_epochs=10` reached.\n"
     ]
    },
    {
     "name": "stdout",
     "output_type": "stream",
     "text": [
      "To view logs, run in terminal:\n",
      "  tensorboard --logdir /home/bruno/Workspace/FIAP/2025/gs-disaster/src/lightning_logs/mlp_optimized/version_1\n",
      "Best model saved at: /home/bruno/Workspace/FIAP/2025/gs-disaster/src/lightning_logs/mlp_optimized/version_1/checkpoints/best_model_.ckpt\n"
     ]
    },
    {
     "name": "stderr",
     "output_type": "stream",
     "text": [
      "Using default `ModelCheckpoint`. Consider installing `litmodels` package to enable `LitModelCheckpoint` for automatic upload to the Lightning model registry.\n",
      "GPU available: True (cuda), used: True\n",
      "TPU available: False, using: 0 TPU cores\n",
      "HPU available: False, using: 0 HPUs\n",
      "LOCAL_RANK: 0 - CUDA_VISIBLE_DEVICES: [0]\n"
     ]
    },
    {
     "name": "stdout",
     "output_type": "stream",
     "text": [
      "\n",
      "Evaluating model. Using the test dataset.\n"
     ]
    },
    {
     "name": "stderr",
     "output_type": "stream",
     "text": [
      "/home/bruno/anaconda3/envs/fiap/lib/python3.11/site-packages/lightning/pytorch/trainer/connectors/data_connector.py:425: The 'test_dataloader' does not have many workers which may be a bottleneck. Consider increasing the value of the `num_workers` argument` to `num_workers=15` in the `DataLoader` to improve performance.\n"
     ]
    },
    {
     "data": {
      "application/vnd.jupyter.widget-view+json": {
       "model_id": "d8b81c005f1045e99bcc5accb23ebc4f",
       "version_major": 2,
       "version_minor": 0
      },
      "text/plain": [
       "Testing: |          | 0/? [00:00<?, ?it/s]"
      ]
     },
     "metadata": {},
     "output_type": "display_data"
    },
    {
     "data": {
      "text/html": [
       "<pre style=\"white-space:pre;overflow-x:auto;line-height:normal;font-family:Menlo,'DejaVu Sans Mono',consolas,'Courier New',monospace\">┏━━━━━━━━━━━━━━━━━━━━━━━━━━━┳━━━━━━━━━━━━━━━━━━━━━━━━━━━┓\n",
       "┃<span style=\"font-weight: bold\">        Test metric        </span>┃<span style=\"font-weight: bold\">       DataLoader 0        </span>┃\n",
       "┡━━━━━━━━━━━━━━━━━━━━━━━━━━━╇━━━━━━━━━━━━━━━━━━━━━━━━━━━┩\n",
       "│<span style=\"color: #008080; text-decoration-color: #008080\">         test_loss         </span>│<span style=\"color: #800080; text-decoration-color: #800080\">    0.46941274404525757    </span>│\n",
       "└───────────────────────────┴───────────────────────────┘\n",
       "</pre>\n"
      ],
      "text/plain": [
       "┏━━━━━━━━━━━━━━━━━━━━━━━━━━━┳━━━━━━━━━━━━━━━━━━━━━━━━━━━┓\n",
       "┃\u001b[1m \u001b[0m\u001b[1m       Test metric       \u001b[0m\u001b[1m \u001b[0m┃\u001b[1m \u001b[0m\u001b[1m      DataLoader 0       \u001b[0m\u001b[1m \u001b[0m┃\n",
       "┡━━━━━━━━━━━━━━━━━━━━━━━━━━━╇━━━━━━━━━━━━━━━━━━━━━━━━━━━┩\n",
       "│\u001b[36m \u001b[0m\u001b[36m        test_loss        \u001b[0m\u001b[36m \u001b[0m│\u001b[35m \u001b[0m\u001b[35m   0.46941274404525757   \u001b[0m\u001b[35m \u001b[0m│\n",
       "└───────────────────────────┴───────────────────────────┘\n"
      ]
     },
     "metadata": {},
     "output_type": "display_data"
    },
    {
     "name": "stdout",
     "output_type": "stream",
     "text": [
      "\n",
      "MLP Optimized Results: {'best_validation_loss': 0.45299670100212097, 'best_model_path': '/home/bruno/Workspace/FIAP/2025/gs-disaster/src/lightning_logs/mlp_optimized/version_1/checkpoints/best_model_.ckpt'}\n"
     ]
    }
   ],
   "source": [
    "mlp_objective_fn = get_objective_fn(\n",
    "    MLP,\n",
    "    \"mlp\",\n",
    ")\n",
    "\n",
    "study_mlp = run_optimization(mlp_objective_fn, n_trials=OPTUNA_N_TRIALS)\n",
    "\n",
    "mlp_optimized_results = run_experiment(\n",
    "    MLP,\n",
    "    \"mlp_optimized\",\n",
    "    model_kwargs={\n",
    "        \"hidden_layers\": study_mlp.best_trial.params[\"hidden_layers\"],\n",
    "        \"learning_rate\": study_mlp.best_trial.params[\"learning_rate\"],\n",
    "    },\n",
    "    train_kwargs={\n",
    "        \"epochs\": MAX_EPOCHS,\n",
    "        \"batch_size\": study_mlp.best_trial.params[\"batch_size\"],\n",
    "        \"sequence_length\": study_mlp.best_trial.params[\"sequence_length\"],\n",
    "    },\n",
    "    evaluate=True,\n",
    "    verbose=True,\n",
    ")\n",
    "\n",
    "print(\"\\nMLP Optimized Results:\", mlp_optimized_results)"
   ]
  },
  {
   "cell_type": "code",
   "execution_count": 14,
   "id": "0acc228d",
   "metadata": {},
   "outputs": [
    {
     "name": "stderr",
     "output_type": "stream",
     "text": [
      "[I 2025-06-04 13:03:41,862] A new study created in memory with name: no-name-4b5f88b3-d224-401a-b63a-79342f81ca8b\n"
     ]
    },
    {
     "data": {
      "application/vnd.jupyter.widget-view+json": {
       "model_id": "dd365c059d234d85b22a5bf617b295de",
       "version_major": 2,
       "version_minor": 0
      },
      "text/plain": [
       "  0%|          | 0/2 [00:00<?, ?it/s]"
      ]
     },
     "metadata": {},
     "output_type": "display_data"
    },
    {
     "name": "stderr",
     "output_type": "stream",
     "text": [
      "GPU available: True (cuda), used: True\n",
      "TPU available: False, using: 0 TPU cores\n",
      "HPU available: False, using: 0 HPUs\n",
      "GPU available: True (cuda), used: True\n",
      "TPU available: False, using: 0 TPU cores\n",
      "HPU available: False, using: 0 HPUs\n",
      "LOCAL_RANK: 0 - CUDA_VISIBLE_DEVICES: [0]\n",
      "LOCAL_RANK: 0 - CUDA_VISIBLE_DEVICES: [0]\n",
      "/home/bruno/anaconda3/envs/fiap/lib/python3.11/site-packages/lightning/pytorch/trainer/connectors/data_connector.py:425: The 'val_dataloader' does not have many workers which may be a bottleneck. Consider increasing the value of the `num_workers` argument` to `num_workers=15` in the `DataLoader` to improve performance.\n",
      "/home/bruno/anaconda3/envs/fiap/lib/python3.11/site-packages/lightning/pytorch/trainer/connectors/data_connector.py:425: The 'train_dataloader' does not have many workers which may be a bottleneck. Consider increasing the value of the `num_workers` argument` to `num_workers=15` in the `DataLoader` to improve performance.\n",
      "`Trainer.fit` stopped: `max_epochs=10` reached.\n"
     ]
    },
    {
     "name": "stdout",
     "output_type": "stream",
     "text": [
      "To view logs, run in terminal:\n",
      "  tensorboard --logdir /home/bruno/Workspace/FIAP/2025/gs-disaster/src/lightning_logs/lstm/version_3\n",
      "Best model saved at: /home/bruno/Workspace/FIAP/2025/gs-disaster/src/lightning_logs/lstm/version_3/checkpoints/best_model_d1016a40.ckpt\n",
      "[I 2025-06-04 13:03:49,914] Trial 0 finished with value: 0.5309064388275146 and parameters: {'hidden_size': 25, 'num_layers': 3, 'learning_rate': 0.0001406758385418012, 'batch_size': 31, 'sequence_length': 5}. Best is trial 0 with value: 0.5309064388275146.\n"
     ]
    },
    {
     "name": "stderr",
     "output_type": "stream",
     "text": [
      "`Trainer.fit` stopped: `max_epochs=10` reached.\n",
      "GPU available: True (cuda), used: True\n",
      "TPU available: False, using: 0 TPU cores\n",
      "HPU available: False, using: 0 HPUs\n",
      "LOCAL_RANK: 0 - CUDA_VISIBLE_DEVICES: [0]\n",
      "\n",
      "  | Name      | Type    | Params | Mode \n",
      "----------------------------------------------\n",
      "0 | lstm      | LSTM    | 3.6 K  | train\n",
      "1 | fc        | Linear  | 17     | train\n",
      "2 | criterion | MSELoss | 0      | train\n",
      "----------------------------------------------\n",
      "3.7 K     Trainable params\n",
      "0         Non-trainable params\n",
      "3.7 K     Total params\n",
      "0.015     Total estimated model params size (MB)\n",
      "3         Modules in train mode\n",
      "0         Modules in eval mode\n"
     ]
    },
    {
     "name": "stdout",
     "output_type": "stream",
     "text": [
      "To view logs, run in terminal:\n",
      "  tensorboard --logdir /home/bruno/Workspace/FIAP/2025/gs-disaster/src/lightning_logs/lstm/version_2\n",
      "Best model saved at: /home/bruno/Workspace/FIAP/2025/gs-disaster/src/lightning_logs/lstm/version_2/checkpoints/best_model_e198d817.ckpt\n",
      "[I 2025-06-04 13:03:54,804] Trial 1 finished with value: 0.31104645133018494 and parameters: {'hidden_size': 16, 'num_layers': 1, 'learning_rate': 5.613595551421541e-05, 'batch_size': 10, 'sequence_length': 2}. Best is trial 1 with value: 0.31104645133018494.\n",
      "Best trial:\n",
      "  Value: 0.31104645133018494\n",
      "  Params: \n",
      "    hidden_size: 16\n",
      "    num_layers: 1\n",
      "    learning_rate: 5.613595551421541e-05\n",
      "    batch_size: 10\n",
      "    sequence_length: 2\n"
     ]
    },
    {
     "data": {
      "application/vnd.jupyter.widget-view+json": {
       "model_id": "e778a7b36f2d45388a02ca299cc2433a",
       "version_major": 2,
       "version_minor": 0
      },
      "text/plain": [
       "Sanity Checking: |          | 0/? [00:00<?, ?it/s]"
      ]
     },
     "metadata": {},
     "output_type": "display_data"
    },
    {
     "data": {
      "application/vnd.jupyter.widget-view+json": {
       "model_id": "1d1a9ede7d1f4186b50d4b8d3e283584",
       "version_major": 2,
       "version_minor": 0
      },
      "text/plain": [
       "Training: |          | 0/? [00:00<?, ?it/s]"
      ]
     },
     "metadata": {},
     "output_type": "display_data"
    },
    {
     "data": {
      "application/vnd.jupyter.widget-view+json": {
       "model_id": "5641167b73eb479ba82181a44313c8fd",
       "version_major": 2,
       "version_minor": 0
      },
      "text/plain": [
       "Validation: |          | 0/? [00:00<?, ?it/s]"
      ]
     },
     "metadata": {},
     "output_type": "display_data"
    },
    {
     "data": {
      "application/vnd.jupyter.widget-view+json": {
       "model_id": "4092a7257f624920826f23ede6165cb2",
       "version_major": 2,
       "version_minor": 0
      },
      "text/plain": [
       "Validation: |          | 0/? [00:00<?, ?it/s]"
      ]
     },
     "metadata": {},
     "output_type": "display_data"
    },
    {
     "data": {
      "application/vnd.jupyter.widget-view+json": {
       "model_id": "b7d06fee162e40b490b31554af91138e",
       "version_major": 2,
       "version_minor": 0
      },
      "text/plain": [
       "Validation: |          | 0/? [00:00<?, ?it/s]"
      ]
     },
     "metadata": {},
     "output_type": "display_data"
    },
    {
     "data": {
      "application/vnd.jupyter.widget-view+json": {
       "model_id": "cd325befb70748ef96c220f7c5403289",
       "version_major": 2,
       "version_minor": 0
      },
      "text/plain": [
       "Validation: |          | 0/? [00:00<?, ?it/s]"
      ]
     },
     "metadata": {},
     "output_type": "display_data"
    },
    {
     "data": {
      "application/vnd.jupyter.widget-view+json": {
       "model_id": "aaded551c46347c8b616129e595d5119",
       "version_major": 2,
       "version_minor": 0
      },
      "text/plain": [
       "Validation: |          | 0/? [00:00<?, ?it/s]"
      ]
     },
     "metadata": {},
     "output_type": "display_data"
    },
    {
     "data": {
      "application/vnd.jupyter.widget-view+json": {
       "model_id": "e8d8327ad6ed49e49a9b251f80baf702",
       "version_major": 2,
       "version_minor": 0
      },
      "text/plain": [
       "Validation: |          | 0/? [00:00<?, ?it/s]"
      ]
     },
     "metadata": {},
     "output_type": "display_data"
    },
    {
     "data": {
      "application/vnd.jupyter.widget-view+json": {
       "model_id": "e8dbff138e974d2aa7a7a547364e9d14",
       "version_major": 2,
       "version_minor": 0
      },
      "text/plain": [
       "Validation: |          | 0/? [00:00<?, ?it/s]"
      ]
     },
     "metadata": {},
     "output_type": "display_data"
    },
    {
     "data": {
      "application/vnd.jupyter.widget-view+json": {
       "model_id": "aeba179012a4448c94567b067b8dfe17",
       "version_major": 2,
       "version_minor": 0
      },
      "text/plain": [
       "Validation: |          | 0/? [00:00<?, ?it/s]"
      ]
     },
     "metadata": {},
     "output_type": "display_data"
    },
    {
     "data": {
      "application/vnd.jupyter.widget-view+json": {
       "model_id": "cbee85bd03c843bdb411e60a743d166f",
       "version_major": 2,
       "version_minor": 0
      },
      "text/plain": [
       "Validation: |          | 0/? [00:00<?, ?it/s]"
      ]
     },
     "metadata": {},
     "output_type": "display_data"
    },
    {
     "data": {
      "application/vnd.jupyter.widget-view+json": {
       "model_id": "cfbaeedfb9774487a4d25f358d50f0a0",
       "version_major": 2,
       "version_minor": 0
      },
      "text/plain": [
       "Validation: |          | 0/? [00:00<?, ?it/s]"
      ]
     },
     "metadata": {},
     "output_type": "display_data"
    },
    {
     "name": "stderr",
     "output_type": "stream",
     "text": [
      "`Trainer.fit` stopped: `max_epochs=10` reached.\n",
      "Using default `ModelCheckpoint`. Consider installing `litmodels` package to enable `LitModelCheckpoint` for automatic upload to the Lightning model registry.\n",
      "GPU available: True (cuda), used: True\n",
      "TPU available: False, using: 0 TPU cores\n",
      "HPU available: False, using: 0 HPUs\n",
      "LOCAL_RANK: 0 - CUDA_VISIBLE_DEVICES: [0]\n"
     ]
    },
    {
     "name": "stdout",
     "output_type": "stream",
     "text": [
      "To view logs, run in terminal:\n",
      "  tensorboard --logdir /home/bruno/Workspace/FIAP/2025/gs-disaster/src/lightning_logs/lstm_optimized/version_1\n",
      "Best model saved at: /home/bruno/Workspace/FIAP/2025/gs-disaster/src/lightning_logs/lstm_optimized/version_1/checkpoints/best_model_.ckpt\n",
      "\n",
      "Evaluating model. Using the test dataset.\n"
     ]
    },
    {
     "name": "stderr",
     "output_type": "stream",
     "text": [
      "/home/bruno/anaconda3/envs/fiap/lib/python3.11/site-packages/lightning/pytorch/trainer/connectors/data_connector.py:425: The 'test_dataloader' does not have many workers which may be a bottleneck. Consider increasing the value of the `num_workers` argument` to `num_workers=15` in the `DataLoader` to improve performance.\n"
     ]
    },
    {
     "data": {
      "application/vnd.jupyter.widget-view+json": {
       "model_id": "d480a4e87dff4b429db664ac4b7922d8",
       "version_major": 2,
       "version_minor": 0
      },
      "text/plain": [
       "Testing: |          | 0/? [00:00<?, ?it/s]"
      ]
     },
     "metadata": {},
     "output_type": "display_data"
    },
    {
     "data": {
      "text/html": [
       "<pre style=\"white-space:pre;overflow-x:auto;line-height:normal;font-family:Menlo,'DejaVu Sans Mono',consolas,'Courier New',monospace\">┏━━━━━━━━━━━━━━━━━━━━━━━━━━━┳━━━━━━━━━━━━━━━━━━━━━━━━━━━┓\n",
       "┃<span style=\"font-weight: bold\">        Test metric        </span>┃<span style=\"font-weight: bold\">       DataLoader 0        </span>┃\n",
       "┡━━━━━━━━━━━━━━━━━━━━━━━━━━━╇━━━━━━━━━━━━━━━━━━━━━━━━━━━┩\n",
       "│<span style=\"color: #008080; text-decoration-color: #008080\">         test_loss         </span>│<span style=\"color: #800080; text-decoration-color: #800080\">    0.3823595643043518     </span>│\n",
       "└───────────────────────────┴───────────────────────────┘\n",
       "</pre>\n"
      ],
      "text/plain": [
       "┏━━━━━━━━━━━━━━━━━━━━━━━━━━━┳━━━━━━━━━━━━━━━━━━━━━━━━━━━┓\n",
       "┃\u001b[1m \u001b[0m\u001b[1m       Test metric       \u001b[0m\u001b[1m \u001b[0m┃\u001b[1m \u001b[0m\u001b[1m      DataLoader 0       \u001b[0m\u001b[1m \u001b[0m┃\n",
       "┡━━━━━━━━━━━━━━━━━━━━━━━━━━━╇━━━━━━━━━━━━━━━━━━━━━━━━━━━┩\n",
       "│\u001b[36m \u001b[0m\u001b[36m        test_loss        \u001b[0m\u001b[36m \u001b[0m│\u001b[35m \u001b[0m\u001b[35m   0.3823595643043518    \u001b[0m\u001b[35m \u001b[0m│\n",
       "└───────────────────────────┴───────────────────────────┘\n"
      ]
     },
     "metadata": {},
     "output_type": "display_data"
    },
    {
     "name": "stdout",
     "output_type": "stream",
     "text": [
      "\n",
      "LSTM Optimized Results: {'best_validation_loss': 0.3736557960510254, 'best_model_path': '/home/bruno/Workspace/FIAP/2025/gs-disaster/src/lightning_logs/lstm_optimized/version_1/checkpoints/best_model_.ckpt'}\n"
     ]
    }
   ],
   "source": [
    "lstm_objective_fn = get_objective_fn(\n",
    "    LSTM,\n",
    "    \"lstm\",\n",
    ")\n",
    "study_lstm = run_optimization(lstm_objective_fn, n_trials=OPTUNA_N_TRIALS)\n",
    "lstm_optimized_results = run_experiment(\n",
    "    LSTM,\n",
    "    \"lstm_optimized\",\n",
    "    model_kwargs={\n",
    "        \"hidden_size\": study_lstm.best_trial.params[\"hidden_size\"],\n",
    "        \"num_layers\": study_lstm.best_trial.params[\"num_layers\"],\n",
    "        \"learning_rate\": study_lstm.best_trial.params[\"learning_rate\"],\n",
    "    },\n",
    "    train_kwargs={\n",
    "        \"epochs\": MAX_EPOCHS,\n",
    "        \"batch_size\": study_lstm.best_trial.params[\"batch_size\"],\n",
    "    },\n",
    "    evaluate=True,\n",
    "    verbose=True,\n",
    ")\n",
    "print(\"\\nLSTM Optimized Results:\", lstm_optimized_results)"
   ]
  },
  {
   "cell_type": "code",
   "execution_count": 15,
   "id": "2525626b",
   "metadata": {},
   "outputs": [
    {
     "name": "stderr",
     "output_type": "stream",
     "text": [
      "[I 2025-06-04 13:04:08,743] A new study created in memory with name: no-name-3bc0114e-ad03-49ed-b44f-098ccd371c32\n"
     ]
    },
    {
     "data": {
      "application/vnd.jupyter.widget-view+json": {
       "model_id": "6b744b0523f149239b31748d00bb7324",
       "version_major": 2,
       "version_minor": 0
      },
      "text/plain": [
       "  0%|          | 0/2 [00:00<?, ?it/s]"
      ]
     },
     "metadata": {},
     "output_type": "display_data"
    },
    {
     "name": "stderr",
     "output_type": "stream",
     "text": [
      "GPU available: True (cuda), used: True\n",
      "TPU available: False, using: 0 TPU cores\n",
      "GPU available: True (cuda), used: True\n",
      "HPU available: False, using: 0 HPUs\n",
      "TPU available: False, using: 0 TPU cores\n",
      "HPU available: False, using: 0 HPUs\n",
      "LOCAL_RANK: 0 - CUDA_VISIBLE_DEVICES: [0]\n",
      "LOCAL_RANK: 0 - CUDA_VISIBLE_DEVICES: [0]\n",
      "/home/bruno/anaconda3/envs/fiap/lib/python3.11/site-packages/lightning/pytorch/trainer/connectors/data_connector.py:425: The 'val_dataloader' does not have many workers which may be a bottleneck. Consider increasing the value of the `num_workers` argument` to `num_workers=15` in the `DataLoader` to improve performance.\n",
      "/home/bruno/anaconda3/envs/fiap/lib/python3.11/site-packages/lightning/pytorch/trainer/connectors/data_connector.py:425: The 'train_dataloader' does not have many workers which may be a bottleneck. Consider increasing the value of the `num_workers` argument` to `num_workers=15` in the `DataLoader` to improve performance.\n",
      "`Trainer.fit` stopped: `max_epochs=10` reached.\n"
     ]
    },
    {
     "name": "stdout",
     "output_type": "stream",
     "text": [
      "To view logs, run in terminal:\n",
      "  tensorboard --logdir /home/bruno/Workspace/FIAP/2025/gs-disaster/src/lightning_logs/gru/version_1\n",
      "Best model saved at: /home/bruno/Workspace/FIAP/2025/gs-disaster/src/lightning_logs/gru/version_1/checkpoints/best_model_da3ab101.ckpt\n",
      "[I 2025-06-04 13:04:13,490] Trial 1 finished with value: 0.6628364324569702 and parameters: {'hidden_size': 79, 'num_layers': 1, 'learning_rate': 8.692968024022598e-07, 'batch_size': 32, 'sequence_length': 10}. Best is trial 1 with value: 0.6628364324569702.\n"
     ]
    },
    {
     "name": "stderr",
     "output_type": "stream",
     "text": [
      "`Trainer.fit` stopped: `max_epochs=10` reached.\n",
      "GPU available: True (cuda), used: True\n",
      "TPU available: False, using: 0 TPU cores\n",
      "HPU available: False, using: 0 HPUs\n",
      "LOCAL_RANK: 0 - CUDA_VISIBLE_DEVICES: [0]\n",
      "\n",
      "  | Name      | Type    | Params | Mode \n",
      "----------------------------------------------\n",
      "0 | gru       | GRU     | 16.3 K | train\n",
      "1 | fc        | Linear  | 37     | train\n",
      "2 | criterion | MSELoss | 0      | train\n",
      "----------------------------------------------\n",
      "16.3 K    Trainable params\n",
      "0         Non-trainable params\n",
      "16.3 K    Total params\n",
      "0.065     Total estimated model params size (MB)\n",
      "3         Modules in train mode\n",
      "0         Modules in eval mode\n"
     ]
    },
    {
     "name": "stdout",
     "output_type": "stream",
     "text": [
      "To view logs, run in terminal:\n",
      "  tensorboard --logdir /home/bruno/Workspace/FIAP/2025/gs-disaster/src/lightning_logs/gru/version_1\n",
      "Best model saved at: /home/bruno/Workspace/FIAP/2025/gs-disaster/src/lightning_logs/gru/version_1/checkpoints/best_model_fae780e1.ckpt\n",
      "[I 2025-06-04 13:04:16,093] Trial 0 finished with value: 0.42263150215148926 and parameters: {'hidden_size': 36, 'num_layers': 2, 'learning_rate': 0.0004011189630216438, 'batch_size': 12, 'sequence_length': 10}. Best is trial 0 with value: 0.42263150215148926.\n",
      "Best trial:\n",
      "  Value: 0.42263150215148926\n",
      "  Params: \n",
      "    hidden_size: 36\n",
      "    num_layers: 2\n",
      "    learning_rate: 0.0004011189630216438\n",
      "    batch_size: 12\n",
      "    sequence_length: 10\n"
     ]
    },
    {
     "data": {
      "application/vnd.jupyter.widget-view+json": {
       "model_id": "226d155aaa35483bb6526ed740cb93bc",
       "version_major": 2,
       "version_minor": 0
      },
      "text/plain": [
       "Sanity Checking: |          | 0/? [00:00<?, ?it/s]"
      ]
     },
     "metadata": {},
     "output_type": "display_data"
    },
    {
     "data": {
      "application/vnd.jupyter.widget-view+json": {
       "model_id": "9f20d4e5bb324c499a8aa1c271138b09",
       "version_major": 2,
       "version_minor": 0
      },
      "text/plain": [
       "Training: |          | 0/? [00:00<?, ?it/s]"
      ]
     },
     "metadata": {},
     "output_type": "display_data"
    },
    {
     "data": {
      "application/vnd.jupyter.widget-view+json": {
       "model_id": "1adff13ea3d04550a72f209c2319b3b2",
       "version_major": 2,
       "version_minor": 0
      },
      "text/plain": [
       "Validation: |          | 0/? [00:00<?, ?it/s]"
      ]
     },
     "metadata": {},
     "output_type": "display_data"
    },
    {
     "data": {
      "application/vnd.jupyter.widget-view+json": {
       "model_id": "087c483348054859ba353b6eda209179",
       "version_major": 2,
       "version_minor": 0
      },
      "text/plain": [
       "Validation: |          | 0/? [00:00<?, ?it/s]"
      ]
     },
     "metadata": {},
     "output_type": "display_data"
    },
    {
     "data": {
      "application/vnd.jupyter.widget-view+json": {
       "model_id": "9aebf52d0eb64269b102b839a6058f8b",
       "version_major": 2,
       "version_minor": 0
      },
      "text/plain": [
       "Validation: |          | 0/? [00:00<?, ?it/s]"
      ]
     },
     "metadata": {},
     "output_type": "display_data"
    },
    {
     "data": {
      "application/vnd.jupyter.widget-view+json": {
       "model_id": "5994a1bf6a1541109feccb28d7379537",
       "version_major": 2,
       "version_minor": 0
      },
      "text/plain": [
       "Validation: |          | 0/? [00:00<?, ?it/s]"
      ]
     },
     "metadata": {},
     "output_type": "display_data"
    },
    {
     "data": {
      "application/vnd.jupyter.widget-view+json": {
       "model_id": "c0d7897c68f04eb08628e33de4c7a39b",
       "version_major": 2,
       "version_minor": 0
      },
      "text/plain": [
       "Validation: |          | 0/? [00:00<?, ?it/s]"
      ]
     },
     "metadata": {},
     "output_type": "display_data"
    },
    {
     "data": {
      "application/vnd.jupyter.widget-view+json": {
       "model_id": "99e892d1425844b8b01274259d75f096",
       "version_major": 2,
       "version_minor": 0
      },
      "text/plain": [
       "Validation: |          | 0/? [00:00<?, ?it/s]"
      ]
     },
     "metadata": {},
     "output_type": "display_data"
    },
    {
     "data": {
      "application/vnd.jupyter.widget-view+json": {
       "model_id": "ef46a463cb0c4f8488fbc6006535b8e3",
       "version_major": 2,
       "version_minor": 0
      },
      "text/plain": [
       "Validation: |          | 0/? [00:00<?, ?it/s]"
      ]
     },
     "metadata": {},
     "output_type": "display_data"
    },
    {
     "data": {
      "application/vnd.jupyter.widget-view+json": {
       "model_id": "7c6bf287418840aca5298c8b163daea0",
       "version_major": 2,
       "version_minor": 0
      },
      "text/plain": [
       "Validation: |          | 0/? [00:00<?, ?it/s]"
      ]
     },
     "metadata": {},
     "output_type": "display_data"
    },
    {
     "data": {
      "application/vnd.jupyter.widget-view+json": {
       "model_id": "5231c48d79924aa3a016c098b5d31218",
       "version_major": 2,
       "version_minor": 0
      },
      "text/plain": [
       "Validation: |          | 0/? [00:00<?, ?it/s]"
      ]
     },
     "metadata": {},
     "output_type": "display_data"
    },
    {
     "data": {
      "application/vnd.jupyter.widget-view+json": {
       "model_id": "6cd7f6aa29af4042bd6f65ee246b1e4f",
       "version_major": 2,
       "version_minor": 0
      },
      "text/plain": [
       "Validation: |          | 0/? [00:00<?, ?it/s]"
      ]
     },
     "metadata": {},
     "output_type": "display_data"
    },
    {
     "name": "stderr",
     "output_type": "stream",
     "text": [
      "`Trainer.fit` stopped: `max_epochs=10` reached.\n",
      "Using default `ModelCheckpoint`. Consider installing `litmodels` package to enable `LitModelCheckpoint` for automatic upload to the Lightning model registry.\n",
      "GPU available: True (cuda), used: True\n",
      "TPU available: False, using: 0 TPU cores\n",
      "HPU available: False, using: 0 HPUs\n",
      "LOCAL_RANK: 0 - CUDA_VISIBLE_DEVICES: [0]\n"
     ]
    },
    {
     "name": "stdout",
     "output_type": "stream",
     "text": [
      "To view logs, run in terminal:\n",
      "  tensorboard --logdir /home/bruno/Workspace/FIAP/2025/gs-disaster/src/lightning_logs/gru_optimized/version_1\n",
      "Best model saved at: /home/bruno/Workspace/FIAP/2025/gs-disaster/src/lightning_logs/gru_optimized/version_1/checkpoints/best_model_.ckpt\n",
      "\n",
      "Evaluating model. Using the test dataset.\n"
     ]
    },
    {
     "name": "stderr",
     "output_type": "stream",
     "text": [
      "/home/bruno/anaconda3/envs/fiap/lib/python3.11/site-packages/lightning/pytorch/trainer/connectors/data_connector.py:425: The 'test_dataloader' does not have many workers which may be a bottleneck. Consider increasing the value of the `num_workers` argument` to `num_workers=15` in the `DataLoader` to improve performance.\n"
     ]
    },
    {
     "data": {
      "application/vnd.jupyter.widget-view+json": {
       "model_id": "7bd2dd27a1404f468afac9c6f982c225",
       "version_major": 2,
       "version_minor": 0
      },
      "text/plain": [
       "Testing: |          | 0/? [00:00<?, ?it/s]"
      ]
     },
     "metadata": {},
     "output_type": "display_data"
    },
    {
     "data": {
      "text/html": [
       "<pre style=\"white-space:pre;overflow-x:auto;line-height:normal;font-family:Menlo,'DejaVu Sans Mono',consolas,'Courier New',monospace\">┏━━━━━━━━━━━━━━━━━━━━━━━━━━━┳━━━━━━━━━━━━━━━━━━━━━━━━━━━┓\n",
       "┃<span style=\"font-weight: bold\">        Test metric        </span>┃<span style=\"font-weight: bold\">       DataLoader 0        </span>┃\n",
       "┡━━━━━━━━━━━━━━━━━━━━━━━━━━━╇━━━━━━━━━━━━━━━━━━━━━━━━━━━┩\n",
       "│<span style=\"color: #008080; text-decoration-color: #008080\">         test_loss         </span>│<span style=\"color: #800080; text-decoration-color: #800080\">    0.40559136867523193    </span>│\n",
       "└───────────────────────────┴───────────────────────────┘\n",
       "</pre>\n"
      ],
      "text/plain": [
       "┏━━━━━━━━━━━━━━━━━━━━━━━━━━━┳━━━━━━━━━━━━━━━━━━━━━━━━━━━┓\n",
       "┃\u001b[1m \u001b[0m\u001b[1m       Test metric       \u001b[0m\u001b[1m \u001b[0m┃\u001b[1m \u001b[0m\u001b[1m      DataLoader 0       \u001b[0m\u001b[1m \u001b[0m┃\n",
       "┡━━━━━━━━━━━━━━━━━━━━━━━━━━━╇━━━━━━━━━━━━━━━━━━━━━━━━━━━┩\n",
       "│\u001b[36m \u001b[0m\u001b[36m        test_loss        \u001b[0m\u001b[36m \u001b[0m│\u001b[35m \u001b[0m\u001b[35m   0.40559136867523193   \u001b[0m\u001b[35m \u001b[0m│\n",
       "└───────────────────────────┴───────────────────────────┘\n"
      ]
     },
     "metadata": {},
     "output_type": "display_data"
    },
    {
     "name": "stdout",
     "output_type": "stream",
     "text": [
      "\n",
      "GRU Optimized Results: {'best_validation_loss': 0.41171616315841675, 'best_model_path': '/home/bruno/Workspace/FIAP/2025/gs-disaster/src/lightning_logs/gru_optimized/version_1/checkpoints/best_model_.ckpt'}\n"
     ]
    }
   ],
   "source": [
    "gru_objective_fn = get_objective_fn(\n",
    "    GRU,\n",
    "    \"gru\",\n",
    ")\n",
    "study_gru = run_optimization(gru_objective_fn, n_trials=OPTUNA_N_TRIALS)\n",
    "gru_optimized_results = run_experiment(\n",
    "    GRU,\n",
    "    \"gru_optimized\",\n",
    "    model_kwargs={\n",
    "        \"hidden_size\": study_gru.best_trial.params[\"hidden_size\"],\n",
    "        \"num_layers\": study_gru.best_trial.params[\"num_layers\"],\n",
    "        \"learning_rate\": study_gru.best_trial.params[\"learning_rate\"],\n",
    "    },\n",
    "    train_kwargs={\n",
    "        \"epochs\": MAX_EPOCHS,\n",
    "        \"batch_size\": study_gru.best_trial.params[\"batch_size\"],\n",
    "    },\n",
    "    evaluate=True,\n",
    "    verbose=True,\n",
    ")\n",
    "print(\"\\nGRU Optimized Results:\", gru_optimized_results)"
   ]
  }
 ],
 "metadata": {
  "kernelspec": {
   "display_name": "fiap",
   "language": "python",
   "name": "python3"
  },
  "language_info": {
   "codemirror_mode": {
    "name": "ipython",
    "version": 3
   },
   "file_extension": ".py",
   "mimetype": "text/x-python",
   "name": "python",
   "nbconvert_exporter": "python",
   "pygments_lexer": "ipython3",
   "version": "3.11.9"
  }
 },
 "nbformat": 4,
 "nbformat_minor": 5
}
