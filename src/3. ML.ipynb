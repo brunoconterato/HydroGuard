{
 "cells": [
  {
   "cell_type": "markdown",
   "id": "250555ca",
   "metadata": {},
   "source": [
    "# Machine Learning"
   ]
  },
  {
   "cell_type": "markdown",
   "id": "db48e922",
   "metadata": {},
   "source": [
    "## 1. Initial Setup\n",
    "\n",
    "- Set variables and hyperparameters\n",
    "- Import libraries\n",
    "- Load dataset"
   ]
  },
  {
   "cell_type": "code",
   "execution_count": 12,
   "id": "f4d55102",
   "metadata": {},
   "outputs": [],
   "source": [
    "MLP_SEQUENCE_LENGTH = 10\n",
    "MLP_BATCH_SIZE = 16\n",
    "MLP_EPOCHS = 50\n",
    "MLP_LEARNING_RATE = 0.0001\n",
    "MLP_HIDDEN_LAYERS = [64, 32]\n",
    "\n",
    "LSTM_SEQUENCE_LENGTH = 20\n",
    "LSTM_BATCH_SIZE = 64\n",
    "LSTM_EPOCHS = 20\n",
    "LSTM_LEARNING_RATE = 0.0005\n",
    "LSTM_HIDDEN_SIZE = 128\n",
    "LSTM_NUM_LAYERS = 2\n",
    "\n",
    "GRU_SEQUENCE_LENGTH = 20\n",
    "GRU_BATCH_SIZE = 64\n",
    "GRU_EPOCHS = 20\n",
    "GRU_LEARNING_RATE = 0.0005\n",
    "GRU_HIDDEN_SIZE = 128\n",
    "GRU_NUM_LAYERS = 2"
   ]
  },
  {
   "cell_type": "code",
   "execution_count": 13,
   "id": "1d3dba7b",
   "metadata": {},
   "outputs": [],
   "source": [
    "PROCESSED_PATH = \"../data/ANA HIDROWEB/RIO MEIA PONTE/processed.csv\""
   ]
  },
  {
   "cell_type": "code",
   "execution_count": 14,
   "id": "3497848b",
   "metadata": {},
   "outputs": [],
   "source": [
    "from typing import List, Dict, Any, Tuple\n",
    "import pandas as pd\n",
    "import numpy as np\n",
    "from sklearn.preprocessing import StandardScaler\n",
    "\n",
    "import torch\n",
    "from torch.utils.data import Dataset, DataLoader\n",
    "import torch.nn as nn\n",
    "import torch.optim as optim\n",
    "import lightning as L"
   ]
  },
  {
   "cell_type": "code",
   "execution_count": 15,
   "id": "2a8e9f84",
   "metadata": {},
   "outputs": [
    {
     "data": {
      "application/vnd.microsoft.datawrangler.viewer.v0+json": {
       "columns": [
        {
         "name": "date",
         "rawType": "datetime64[ns]",
         "type": "datetime"
        },
        {
         "name": "rain_upstream_mean",
         "rawType": "float64",
         "type": "float"
        },
        {
         "name": "rain_upstream_max",
         "rawType": "float64",
         "type": "float"
        },
        {
         "name": "rain_upstream_min",
         "rawType": "float64",
         "type": "float"
        },
        {
         "name": "rain_upstream_q25",
         "rawType": "float64",
         "type": "float"
        },
        {
         "name": "rain_upstream_q75",
         "rawType": "float64",
         "type": "float"
        },
        {
         "name": "level_upstream_mean",
         "rawType": "float64",
         "type": "float"
        },
        {
         "name": "level_upstream_max",
         "rawType": "float64",
         "type": "float"
        },
        {
         "name": "level_upstream_min",
         "rawType": "float64",
         "type": "float"
        },
        {
         "name": "level_upstream_q25",
         "rawType": "float64",
         "type": "float"
        },
        {
         "name": "level_upstream_q75",
         "rawType": "float64",
         "type": "float"
        },
        {
         "name": "flow_upstream_mean",
         "rawType": "float64",
         "type": "float"
        },
        {
         "name": "flow_upstream_max",
         "rawType": "float64",
         "type": "float"
        },
        {
         "name": "flow_upstream_min",
         "rawType": "float64",
         "type": "float"
        },
        {
         "name": "flow_upstream_q25",
         "rawType": "float64",
         "type": "float"
        },
        {
         "name": "flow_upstream_q75",
         "rawType": "float64",
         "type": "float"
        },
        {
         "name": "rain_downstream_mean",
         "rawType": "float64",
         "type": "float"
        },
        {
         "name": "rain_downstream_max",
         "rawType": "float64",
         "type": "float"
        },
        {
         "name": "rain_downstream_min",
         "rawType": "float64",
         "type": "float"
        },
        {
         "name": "rain_downstream_q25",
         "rawType": "float64",
         "type": "float"
        },
        {
         "name": "rain_downstream_q75",
         "rawType": "float64",
         "type": "float"
        },
        {
         "name": "level_downstream_mean",
         "rawType": "float64",
         "type": "float"
        },
        {
         "name": "level_downstream_max",
         "rawType": "float64",
         "type": "float"
        },
        {
         "name": "level_downstream_min",
         "rawType": "float64",
         "type": "float"
        },
        {
         "name": "level_downstream_q25",
         "rawType": "float64",
         "type": "float"
        },
        {
         "name": "level_downstream_q75",
         "rawType": "float64",
         "type": "float"
        },
        {
         "name": "flow_downstream_mean",
         "rawType": "float64",
         "type": "float"
        },
        {
         "name": "flow_downstream_max",
         "rawType": "float64",
         "type": "float"
        },
        {
         "name": "flow_downstream_min",
         "rawType": "float64",
         "type": "float"
        },
        {
         "name": "flow_downstream_q25",
         "rawType": "float64",
         "type": "float"
        },
        {
         "name": "flow_downstream_q75",
         "rawType": "float64",
         "type": "float"
        },
        {
         "name": "rain_after_mean",
         "rawType": "float64",
         "type": "float"
        },
        {
         "name": "rain_after_max",
         "rawType": "float64",
         "type": "float"
        },
        {
         "name": "rain_after_min",
         "rawType": "float64",
         "type": "float"
        },
        {
         "name": "rain_after_q25",
         "rawType": "float64",
         "type": "float"
        },
        {
         "name": "rain_after_q75",
         "rawType": "float64",
         "type": "float"
        },
        {
         "name": "level_after_mean",
         "rawType": "float64",
         "type": "float"
        },
        {
         "name": "level_after_max",
         "rawType": "float64",
         "type": "float"
        },
        {
         "name": "level_after_min",
         "rawType": "float64",
         "type": "float"
        },
        {
         "name": "level_after_q25",
         "rawType": "float64",
         "type": "float"
        },
        {
         "name": "level_after_q75",
         "rawType": "float64",
         "type": "float"
        },
        {
         "name": "flow_after_mean",
         "rawType": "float64",
         "type": "float"
        },
        {
         "name": "flow_after_max",
         "rawType": "float64",
         "type": "float"
        },
        {
         "name": "flow_after_min",
         "rawType": "float64",
         "type": "float"
        },
        {
         "name": "flow_after_q25",
         "rawType": "float64",
         "type": "float"
        },
        {
         "name": "flow_after_q75",
         "rawType": "float64",
         "type": "float"
        },
        {
         "name": "rain_upstream_acc_2_days",
         "rawType": "float64",
         "type": "float"
        },
        {
         "name": "rain_downstream_acc_2_days",
         "rawType": "float64",
         "type": "float"
        },
        {
         "name": "rain_after_acc_2_days",
         "rawType": "float64",
         "type": "float"
        },
        {
         "name": "rain_upstream_acc_3_days",
         "rawType": "float64",
         "type": "float"
        },
        {
         "name": "rain_downstream_acc_3_days",
         "rawType": "float64",
         "type": "float"
        },
        {
         "name": "rain_after_acc_3_days",
         "rawType": "float64",
         "type": "float"
        }
       ],
       "ref": "41741b62-ff62-473b-94fc-d181438ecf2d",
       "rows": [
        [
         "2014-01-01 00:00:00",
         "0.0",
         "0.0",
         "0.0",
         "0.0",
         "0.0",
         "219.08333333333331",
         "222.0",
         "216.0",
         "217.0",
         "221.0",
         "19.354166666666668",
         "20.1",
         "18.6",
         "18.8",
         "19.8",
         "0.0",
         "0.0",
         "0.0",
         "0.0",
         "0.0",
         "150.79166666666666",
         "171.0",
         "146.0",
         "147.0",
         "150.25",
         "32.479166666666664",
         "41.5",
         "30.4",
         "30.8",
         "32.2",
         "0.0",
         "0.0",
         "0.0",
         "0.0",
         "0.0",
         "288.9583333333333",
         "293.0",
         "284.0",
         "286.0",
         "291.0",
         "68.375",
         "70.8",
         "65.4",
         "66.6",
         "69.6",
         "0.0",
         "0.0086956521739131",
         "0.0",
         "0.0",
         "0.026086956521739",
         "0.0"
        ],
        [
         "2014-01-02 00:00:00",
         "0.008695652173913",
         "0.2",
         "0.0",
         "0.0",
         "0.0",
         "222.95652173913044",
         "226.0",
         "219.0",
         "221.5",
         "224.0",
         "20.3",
         "21.0",
         "19.3",
         "19.950000000000003",
         "20.6",
         "0.217391304347826",
         "4.8",
         "0.0",
         "0.0",
         "0.0",
         "167.2173913043478",
         "206.0",
         "154.0",
         "155.5",
         "169.5",
         "39.85652173913043",
         "58.3",
         "33.8",
         "34.5",
         "40.75",
         "0.0",
         "0.0",
         "0.0",
         "0.0",
         "0.0",
         "304.0",
         "326.0",
         "288.0",
         "298.0",
         "309.0",
         "75.10434782608695",
         "85.3",
         "67.8",
         "73.9",
         "78.1",
         "0.0086956521739129",
         "0.2173913043478262",
         "0.0",
         "0.008695652173913",
         "0.226086956521739",
         "0.0"
        ],
        [
         "2014-01-03 00:00:00",
         "0.0",
         "0.0",
         "0.0",
         "0.0",
         "0.0",
         "225.3181818181818",
         "231.0",
         "219.0",
         "220.5",
         "230.0",
         "20.904545454545456",
         "22.3",
         "19.3",
         "19.725",
         "22.1",
         "0.0",
         "0.0",
         "0.0",
         "0.0",
         "0.0",
         "152.6818181818182",
         "157.0",
         "150.0",
         "151.0",
         "154.75",
         "33.268181818181816",
         "35.2",
         "32.1",
         "32.5",
         "34.175",
         "0.0",
         "0.0",
         "0.0",
         "0.0",
         "0.0",
         "293.90909090909093",
         "306.0",
         "280.0",
         "288.25",
         "302.0",
         "71.68636363636364",
         "78.7",
         "63.0",
         "67.95",
         "76.3",
         "0.0086956521739129",
         "0.2173913043478262",
         "0.0",
         "0.008695652173913",
         "0.2173913043478259",
         "0.0"
        ],
        [
         "2014-01-04 00:00:00",
         "0.0",
         "0.0",
         "0.0",
         "0.0",
         "0.0",
         "213.8636363636364",
         "221.0",
         "208.0",
         "212.0",
         "215.75",
         "18.068181818181817",
         "19.8",
         "16.7",
         "17.6",
         "18.525",
         "0.0",
         "0.0",
         "0.0",
         "0.0",
         "0.0",
         "145.86363636363637",
         "152.0",
         "142.0",
         "145.0",
         "146.0",
         "30.35454545454545",
         "33.0",
         "28.7",
         "30.0",
         "30.4",
         "0.0",
         "0.0",
         "0.0",
         "0.0",
         "0.0",
         "277.90909090909093",
         "280.0",
         "271.0",
         "276.75",
         "279.0",
         "61.8",
         "63.0",
         "58.2",
         "61.05",
         "62.85",
         "0.0",
         "0.0",
         "0.0",
         "0.008695652173913",
         "0.2173913043478259",
         "0.0"
        ],
        [
         "2014-01-05 00:00:00",
         "0.0",
         "0.0",
         "0.0",
         "0.0",
         "0.0",
         "204.9047619047619",
         "208.0",
         "201.0",
         "204.0",
         "206.0",
         "15.952380952380953",
         "16.7",
         "15.0",
         "15.7",
         "16.2",
         "0.0",
         "0.0",
         "0.0",
         "0.0",
         "0.0",
         "139.04761904761904",
         "142.0",
         "136.0",
         "138.0",
         "140.0",
         "27.51904761904762",
         "28.7",
         "26.3",
         "27.1",
         "27.9",
         "0.0",
         "0.0",
         "0.0",
         "0.0",
         "0.0",
         "269.1428571428572",
         "272.0",
         "264.0",
         "268.0",
         "270.0",
         "56.48571428571429",
         "58.2",
         "53.4",
         "55.8",
         "57.0",
         "0.0",
         "0.0",
         "0.0",
         "0.0",
         "0.0",
         "0.0"
        ]
       ],
       "shape": {
        "columns": 51,
        "rows": 5
       }
      },
      "text/html": [
       "<div>\n",
       "<style scoped>\n",
       "    .dataframe tbody tr th:only-of-type {\n",
       "        vertical-align: middle;\n",
       "    }\n",
       "\n",
       "    .dataframe tbody tr th {\n",
       "        vertical-align: top;\n",
       "    }\n",
       "\n",
       "    .dataframe thead th {\n",
       "        text-align: right;\n",
       "    }\n",
       "</style>\n",
       "<table border=\"1\" class=\"dataframe\">\n",
       "  <thead>\n",
       "    <tr style=\"text-align: right;\">\n",
       "      <th></th>\n",
       "      <th>rain_upstream_mean</th>\n",
       "      <th>rain_upstream_max</th>\n",
       "      <th>rain_upstream_min</th>\n",
       "      <th>rain_upstream_q25</th>\n",
       "      <th>rain_upstream_q75</th>\n",
       "      <th>level_upstream_mean</th>\n",
       "      <th>level_upstream_max</th>\n",
       "      <th>level_upstream_min</th>\n",
       "      <th>level_upstream_q25</th>\n",
       "      <th>level_upstream_q75</th>\n",
       "      <th>...</th>\n",
       "      <th>flow_after_max</th>\n",
       "      <th>flow_after_min</th>\n",
       "      <th>flow_after_q25</th>\n",
       "      <th>flow_after_q75</th>\n",
       "      <th>rain_upstream_acc_2_days</th>\n",
       "      <th>rain_downstream_acc_2_days</th>\n",
       "      <th>rain_after_acc_2_days</th>\n",
       "      <th>rain_upstream_acc_3_days</th>\n",
       "      <th>rain_downstream_acc_3_days</th>\n",
       "      <th>rain_after_acc_3_days</th>\n",
       "    </tr>\n",
       "    <tr>\n",
       "      <th>date</th>\n",
       "      <th></th>\n",
       "      <th></th>\n",
       "      <th></th>\n",
       "      <th></th>\n",
       "      <th></th>\n",
       "      <th></th>\n",
       "      <th></th>\n",
       "      <th></th>\n",
       "      <th></th>\n",
       "      <th></th>\n",
       "      <th></th>\n",
       "      <th></th>\n",
       "      <th></th>\n",
       "      <th></th>\n",
       "      <th></th>\n",
       "      <th></th>\n",
       "      <th></th>\n",
       "      <th></th>\n",
       "      <th></th>\n",
       "      <th></th>\n",
       "      <th></th>\n",
       "    </tr>\n",
       "  </thead>\n",
       "  <tbody>\n",
       "    <tr>\n",
       "      <th>2014-01-01</th>\n",
       "      <td>0.000000</td>\n",
       "      <td>0.0</td>\n",
       "      <td>0.0</td>\n",
       "      <td>0.0</td>\n",
       "      <td>0.0</td>\n",
       "      <td>219.083333</td>\n",
       "      <td>222.0</td>\n",
       "      <td>216.0</td>\n",
       "      <td>217.0</td>\n",
       "      <td>221.00</td>\n",
       "      <td>...</td>\n",
       "      <td>70.8</td>\n",
       "      <td>65.4</td>\n",
       "      <td>66.60</td>\n",
       "      <td>69.60</td>\n",
       "      <td>0.000000</td>\n",
       "      <td>0.008696</td>\n",
       "      <td>0.0</td>\n",
       "      <td>0.000000</td>\n",
       "      <td>0.026087</td>\n",
       "      <td>0.0</td>\n",
       "    </tr>\n",
       "    <tr>\n",
       "      <th>2014-01-02</th>\n",
       "      <td>0.008696</td>\n",
       "      <td>0.2</td>\n",
       "      <td>0.0</td>\n",
       "      <td>0.0</td>\n",
       "      <td>0.0</td>\n",
       "      <td>222.956522</td>\n",
       "      <td>226.0</td>\n",
       "      <td>219.0</td>\n",
       "      <td>221.5</td>\n",
       "      <td>224.00</td>\n",
       "      <td>...</td>\n",
       "      <td>85.3</td>\n",
       "      <td>67.8</td>\n",
       "      <td>73.90</td>\n",
       "      <td>78.10</td>\n",
       "      <td>0.008696</td>\n",
       "      <td>0.217391</td>\n",
       "      <td>0.0</td>\n",
       "      <td>0.008696</td>\n",
       "      <td>0.226087</td>\n",
       "      <td>0.0</td>\n",
       "    </tr>\n",
       "    <tr>\n",
       "      <th>2014-01-03</th>\n",
       "      <td>0.000000</td>\n",
       "      <td>0.0</td>\n",
       "      <td>0.0</td>\n",
       "      <td>0.0</td>\n",
       "      <td>0.0</td>\n",
       "      <td>225.318182</td>\n",
       "      <td>231.0</td>\n",
       "      <td>219.0</td>\n",
       "      <td>220.5</td>\n",
       "      <td>230.00</td>\n",
       "      <td>...</td>\n",
       "      <td>78.7</td>\n",
       "      <td>63.0</td>\n",
       "      <td>67.95</td>\n",
       "      <td>76.30</td>\n",
       "      <td>0.008696</td>\n",
       "      <td>0.217391</td>\n",
       "      <td>0.0</td>\n",
       "      <td>0.008696</td>\n",
       "      <td>0.217391</td>\n",
       "      <td>0.0</td>\n",
       "    </tr>\n",
       "    <tr>\n",
       "      <th>2014-01-04</th>\n",
       "      <td>0.000000</td>\n",
       "      <td>0.0</td>\n",
       "      <td>0.0</td>\n",
       "      <td>0.0</td>\n",
       "      <td>0.0</td>\n",
       "      <td>213.863636</td>\n",
       "      <td>221.0</td>\n",
       "      <td>208.0</td>\n",
       "      <td>212.0</td>\n",
       "      <td>215.75</td>\n",
       "      <td>...</td>\n",
       "      <td>63.0</td>\n",
       "      <td>58.2</td>\n",
       "      <td>61.05</td>\n",
       "      <td>62.85</td>\n",
       "      <td>0.000000</td>\n",
       "      <td>0.000000</td>\n",
       "      <td>0.0</td>\n",
       "      <td>0.008696</td>\n",
       "      <td>0.217391</td>\n",
       "      <td>0.0</td>\n",
       "    </tr>\n",
       "    <tr>\n",
       "      <th>2014-01-05</th>\n",
       "      <td>0.000000</td>\n",
       "      <td>0.0</td>\n",
       "      <td>0.0</td>\n",
       "      <td>0.0</td>\n",
       "      <td>0.0</td>\n",
       "      <td>204.904762</td>\n",
       "      <td>208.0</td>\n",
       "      <td>201.0</td>\n",
       "      <td>204.0</td>\n",
       "      <td>206.00</td>\n",
       "      <td>...</td>\n",
       "      <td>58.2</td>\n",
       "      <td>53.4</td>\n",
       "      <td>55.80</td>\n",
       "      <td>57.00</td>\n",
       "      <td>0.000000</td>\n",
       "      <td>0.000000</td>\n",
       "      <td>0.0</td>\n",
       "      <td>0.000000</td>\n",
       "      <td>0.000000</td>\n",
       "      <td>0.0</td>\n",
       "    </tr>\n",
       "  </tbody>\n",
       "</table>\n",
       "<p>5 rows × 51 columns</p>\n",
       "</div>"
      ],
      "text/plain": [
       "            rain_upstream_mean  rain_upstream_max  rain_upstream_min  \\\n",
       "date                                                                   \n",
       "2014-01-01            0.000000                0.0                0.0   \n",
       "2014-01-02            0.008696                0.2                0.0   \n",
       "2014-01-03            0.000000                0.0                0.0   \n",
       "2014-01-04            0.000000                0.0                0.0   \n",
       "2014-01-05            0.000000                0.0                0.0   \n",
       "\n",
       "            rain_upstream_q25  rain_upstream_q75  level_upstream_mean  \\\n",
       "date                                                                    \n",
       "2014-01-01                0.0                0.0           219.083333   \n",
       "2014-01-02                0.0                0.0           222.956522   \n",
       "2014-01-03                0.0                0.0           225.318182   \n",
       "2014-01-04                0.0                0.0           213.863636   \n",
       "2014-01-05                0.0                0.0           204.904762   \n",
       "\n",
       "            level_upstream_max  level_upstream_min  level_upstream_q25  \\\n",
       "date                                                                     \n",
       "2014-01-01               222.0               216.0               217.0   \n",
       "2014-01-02               226.0               219.0               221.5   \n",
       "2014-01-03               231.0               219.0               220.5   \n",
       "2014-01-04               221.0               208.0               212.0   \n",
       "2014-01-05               208.0               201.0               204.0   \n",
       "\n",
       "            level_upstream_q75  ...  flow_after_max  flow_after_min  \\\n",
       "date                            ...                                   \n",
       "2014-01-01              221.00  ...            70.8            65.4   \n",
       "2014-01-02              224.00  ...            85.3            67.8   \n",
       "2014-01-03              230.00  ...            78.7            63.0   \n",
       "2014-01-04              215.75  ...            63.0            58.2   \n",
       "2014-01-05              206.00  ...            58.2            53.4   \n",
       "\n",
       "            flow_after_q25  flow_after_q75  rain_upstream_acc_2_days  \\\n",
       "date                                                                   \n",
       "2014-01-01           66.60           69.60                  0.000000   \n",
       "2014-01-02           73.90           78.10                  0.008696   \n",
       "2014-01-03           67.95           76.30                  0.008696   \n",
       "2014-01-04           61.05           62.85                  0.000000   \n",
       "2014-01-05           55.80           57.00                  0.000000   \n",
       "\n",
       "            rain_downstream_acc_2_days  rain_after_acc_2_days  \\\n",
       "date                                                            \n",
       "2014-01-01                    0.008696                    0.0   \n",
       "2014-01-02                    0.217391                    0.0   \n",
       "2014-01-03                    0.217391                    0.0   \n",
       "2014-01-04                    0.000000                    0.0   \n",
       "2014-01-05                    0.000000                    0.0   \n",
       "\n",
       "            rain_upstream_acc_3_days  rain_downstream_acc_3_days  \\\n",
       "date                                                               \n",
       "2014-01-01                  0.000000                    0.026087   \n",
       "2014-01-02                  0.008696                    0.226087   \n",
       "2014-01-03                  0.008696                    0.217391   \n",
       "2014-01-04                  0.008696                    0.217391   \n",
       "2014-01-05                  0.000000                    0.000000   \n",
       "\n",
       "            rain_after_acc_3_days  \n",
       "date                               \n",
       "2014-01-01                    0.0  \n",
       "2014-01-02                    0.0  \n",
       "2014-01-03                    0.0  \n",
       "2014-01-04                    0.0  \n",
       "2014-01-05                    0.0  \n",
       "\n",
       "[5 rows x 51 columns]"
      ]
     },
     "execution_count": 15,
     "metadata": {},
     "output_type": "execute_result"
    }
   ],
   "source": [
    "df = pd.read_csv(\n",
    "    PROCESSED_PATH,\n",
    "    sep=\";\",\n",
    "    parse_dates=[\"date\"],\n",
    "    dayfirst=True,\n",
    ")\n",
    "\n",
    "df.set_index(\"date\", inplace=True)\n",
    "df.index = pd.to_datetime(df.index)\n",
    "\n",
    "df.head()"
   ]
  },
  {
   "cell_type": "markdown",
   "id": "20efaa67",
   "metadata": {},
   "source": [
    "## 2. Data Preprocessing\n",
    "\n",
    "- Conferir ausência de dados nulos\n",
    "- Retirar as colunas de vazão, uma vez que está altamente correlacionada à coluna de nível\n",
    "- Normalização dos dados"
   ]
  },
  {
   "cell_type": "code",
   "execution_count": 16,
   "id": "58024d7d",
   "metadata": {},
   "outputs": [
    {
     "name": "stdout",
     "output_type": "stream",
     "text": [
      "Missing values in each column:\n",
      "Series([], dtype: int64)\n"
     ]
    }
   ],
   "source": [
    "# Count missing values in each column\n",
    "def print_missing_values(data):\n",
    "    missing_values = data.isnull().sum()\n",
    "    print(\"Missing values in each column:\")\n",
    "    print(missing_values[missing_values > 0])\n",
    "\n",
    "print_missing_values(df)"
   ]
  },
  {
   "cell_type": "code",
   "execution_count": 17,
   "id": "652bba76",
   "metadata": {},
   "outputs": [
    {
     "data": {
      "application/vnd.microsoft.datawrangler.viewer.v0+json": {
       "columns": [
        {
         "name": "date",
         "rawType": "datetime64[ns]",
         "type": "datetime"
        },
        {
         "name": "rain_upstream_mean",
         "rawType": "float64",
         "type": "float"
        },
        {
         "name": "rain_upstream_max",
         "rawType": "float64",
         "type": "float"
        },
        {
         "name": "rain_upstream_min",
         "rawType": "float64",
         "type": "float"
        },
        {
         "name": "rain_upstream_q25",
         "rawType": "float64",
         "type": "float"
        },
        {
         "name": "rain_upstream_q75",
         "rawType": "float64",
         "type": "float"
        },
        {
         "name": "level_upstream_mean",
         "rawType": "float64",
         "type": "float"
        },
        {
         "name": "level_upstream_max",
         "rawType": "float64",
         "type": "float"
        },
        {
         "name": "level_upstream_min",
         "rawType": "float64",
         "type": "float"
        },
        {
         "name": "level_upstream_q25",
         "rawType": "float64",
         "type": "float"
        },
        {
         "name": "level_upstream_q75",
         "rawType": "float64",
         "type": "float"
        },
        {
         "name": "rain_downstream_mean",
         "rawType": "float64",
         "type": "float"
        },
        {
         "name": "rain_downstream_max",
         "rawType": "float64",
         "type": "float"
        },
        {
         "name": "rain_downstream_min",
         "rawType": "float64",
         "type": "float"
        },
        {
         "name": "rain_downstream_q25",
         "rawType": "float64",
         "type": "float"
        },
        {
         "name": "rain_downstream_q75",
         "rawType": "float64",
         "type": "float"
        },
        {
         "name": "level_downstream_mean",
         "rawType": "float64",
         "type": "float"
        },
        {
         "name": "level_downstream_max",
         "rawType": "float64",
         "type": "float"
        },
        {
         "name": "level_downstream_min",
         "rawType": "float64",
         "type": "float"
        },
        {
         "name": "level_downstream_q25",
         "rawType": "float64",
         "type": "float"
        },
        {
         "name": "level_downstream_q75",
         "rawType": "float64",
         "type": "float"
        },
        {
         "name": "rain_after_mean",
         "rawType": "float64",
         "type": "float"
        },
        {
         "name": "rain_after_max",
         "rawType": "float64",
         "type": "float"
        },
        {
         "name": "rain_after_min",
         "rawType": "float64",
         "type": "float"
        },
        {
         "name": "rain_after_q25",
         "rawType": "float64",
         "type": "float"
        },
        {
         "name": "rain_after_q75",
         "rawType": "float64",
         "type": "float"
        },
        {
         "name": "level_after_mean",
         "rawType": "float64",
         "type": "float"
        },
        {
         "name": "level_after_max",
         "rawType": "float64",
         "type": "float"
        },
        {
         "name": "level_after_min",
         "rawType": "float64",
         "type": "float"
        },
        {
         "name": "level_after_q25",
         "rawType": "float64",
         "type": "float"
        },
        {
         "name": "level_after_q75",
         "rawType": "float64",
         "type": "float"
        },
        {
         "name": "rain_upstream_acc_2_days",
         "rawType": "float64",
         "type": "float"
        },
        {
         "name": "rain_downstream_acc_2_days",
         "rawType": "float64",
         "type": "float"
        },
        {
         "name": "rain_after_acc_2_days",
         "rawType": "float64",
         "type": "float"
        },
        {
         "name": "rain_upstream_acc_3_days",
         "rawType": "float64",
         "type": "float"
        },
        {
         "name": "rain_downstream_acc_3_days",
         "rawType": "float64",
         "type": "float"
        },
        {
         "name": "rain_after_acc_3_days",
         "rawType": "float64",
         "type": "float"
        }
       ],
       "ref": "8bb09b4a-4476-4196-bb19-600903c205d2",
       "rows": [
        [
         "2014-01-01 00:00:00",
         "0.0",
         "0.0",
         "0.0",
         "0.0",
         "0.0",
         "219.08333333333331",
         "222.0",
         "216.0",
         "217.0",
         "221.0",
         "0.0",
         "0.0",
         "0.0",
         "0.0",
         "0.0",
         "150.79166666666666",
         "171.0",
         "146.0",
         "147.0",
         "150.25",
         "0.0",
         "0.0",
         "0.0",
         "0.0",
         "0.0",
         "288.9583333333333",
         "293.0",
         "284.0",
         "286.0",
         "291.0",
         "0.0",
         "0.0086956521739131",
         "0.0",
         "0.0",
         "0.026086956521739",
         "0.0"
        ],
        [
         "2014-01-02 00:00:00",
         "0.008695652173913",
         "0.2",
         "0.0",
         "0.0",
         "0.0",
         "222.95652173913044",
         "226.0",
         "219.0",
         "221.5",
         "224.0",
         "0.217391304347826",
         "4.8",
         "0.0",
         "0.0",
         "0.0",
         "167.2173913043478",
         "206.0",
         "154.0",
         "155.5",
         "169.5",
         "0.0",
         "0.0",
         "0.0",
         "0.0",
         "0.0",
         "304.0",
         "326.0",
         "288.0",
         "298.0",
         "309.0",
         "0.0086956521739129",
         "0.2173913043478262",
         "0.0",
         "0.008695652173913",
         "0.226086956521739",
         "0.0"
        ],
        [
         "2014-01-03 00:00:00",
         "0.0",
         "0.0",
         "0.0",
         "0.0",
         "0.0",
         "225.3181818181818",
         "231.0",
         "219.0",
         "220.5",
         "230.0",
         "0.0",
         "0.0",
         "0.0",
         "0.0",
         "0.0",
         "152.6818181818182",
         "157.0",
         "150.0",
         "151.0",
         "154.75",
         "0.0",
         "0.0",
         "0.0",
         "0.0",
         "0.0",
         "293.90909090909093",
         "306.0",
         "280.0",
         "288.25",
         "302.0",
         "0.0086956521739129",
         "0.2173913043478262",
         "0.0",
         "0.008695652173913",
         "0.2173913043478259",
         "0.0"
        ],
        [
         "2014-01-04 00:00:00",
         "0.0",
         "0.0",
         "0.0",
         "0.0",
         "0.0",
         "213.8636363636364",
         "221.0",
         "208.0",
         "212.0",
         "215.75",
         "0.0",
         "0.0",
         "0.0",
         "0.0",
         "0.0",
         "145.86363636363637",
         "152.0",
         "142.0",
         "145.0",
         "146.0",
         "0.0",
         "0.0",
         "0.0",
         "0.0",
         "0.0",
         "277.90909090909093",
         "280.0",
         "271.0",
         "276.75",
         "279.0",
         "0.0",
         "0.0",
         "0.0",
         "0.008695652173913",
         "0.2173913043478259",
         "0.0"
        ],
        [
         "2014-01-05 00:00:00",
         "0.0",
         "0.0",
         "0.0",
         "0.0",
         "0.0",
         "204.9047619047619",
         "208.0",
         "201.0",
         "204.0",
         "206.0",
         "0.0",
         "0.0",
         "0.0",
         "0.0",
         "0.0",
         "139.04761904761904",
         "142.0",
         "136.0",
         "138.0",
         "140.0",
         "0.0",
         "0.0",
         "0.0",
         "0.0",
         "0.0",
         "269.1428571428572",
         "272.0",
         "264.0",
         "268.0",
         "270.0",
         "0.0",
         "0.0",
         "0.0",
         "0.0",
         "0.0",
         "0.0"
        ]
       ],
       "shape": {
        "columns": 36,
        "rows": 5
       }
      },
      "text/html": [
       "<div>\n",
       "<style scoped>\n",
       "    .dataframe tbody tr th:only-of-type {\n",
       "        vertical-align: middle;\n",
       "    }\n",
       "\n",
       "    .dataframe tbody tr th {\n",
       "        vertical-align: top;\n",
       "    }\n",
       "\n",
       "    .dataframe thead th {\n",
       "        text-align: right;\n",
       "    }\n",
       "</style>\n",
       "<table border=\"1\" class=\"dataframe\">\n",
       "  <thead>\n",
       "    <tr style=\"text-align: right;\">\n",
       "      <th></th>\n",
       "      <th>rain_upstream_mean</th>\n",
       "      <th>rain_upstream_max</th>\n",
       "      <th>rain_upstream_min</th>\n",
       "      <th>rain_upstream_q25</th>\n",
       "      <th>rain_upstream_q75</th>\n",
       "      <th>level_upstream_mean</th>\n",
       "      <th>level_upstream_max</th>\n",
       "      <th>level_upstream_min</th>\n",
       "      <th>level_upstream_q25</th>\n",
       "      <th>level_upstream_q75</th>\n",
       "      <th>...</th>\n",
       "      <th>level_after_max</th>\n",
       "      <th>level_after_min</th>\n",
       "      <th>level_after_q25</th>\n",
       "      <th>level_after_q75</th>\n",
       "      <th>rain_upstream_acc_2_days</th>\n",
       "      <th>rain_downstream_acc_2_days</th>\n",
       "      <th>rain_after_acc_2_days</th>\n",
       "      <th>rain_upstream_acc_3_days</th>\n",
       "      <th>rain_downstream_acc_3_days</th>\n",
       "      <th>rain_after_acc_3_days</th>\n",
       "    </tr>\n",
       "    <tr>\n",
       "      <th>date</th>\n",
       "      <th></th>\n",
       "      <th></th>\n",
       "      <th></th>\n",
       "      <th></th>\n",
       "      <th></th>\n",
       "      <th></th>\n",
       "      <th></th>\n",
       "      <th></th>\n",
       "      <th></th>\n",
       "      <th></th>\n",
       "      <th></th>\n",
       "      <th></th>\n",
       "      <th></th>\n",
       "      <th></th>\n",
       "      <th></th>\n",
       "      <th></th>\n",
       "      <th></th>\n",
       "      <th></th>\n",
       "      <th></th>\n",
       "      <th></th>\n",
       "      <th></th>\n",
       "    </tr>\n",
       "  </thead>\n",
       "  <tbody>\n",
       "    <tr>\n",
       "      <th>2014-01-01</th>\n",
       "      <td>0.000000</td>\n",
       "      <td>0.0</td>\n",
       "      <td>0.0</td>\n",
       "      <td>0.0</td>\n",
       "      <td>0.0</td>\n",
       "      <td>219.083333</td>\n",
       "      <td>222.0</td>\n",
       "      <td>216.0</td>\n",
       "      <td>217.0</td>\n",
       "      <td>221.00</td>\n",
       "      <td>...</td>\n",
       "      <td>293.0</td>\n",
       "      <td>284.0</td>\n",
       "      <td>286.00</td>\n",
       "      <td>291.0</td>\n",
       "      <td>0.000000</td>\n",
       "      <td>0.008696</td>\n",
       "      <td>0.0</td>\n",
       "      <td>0.000000</td>\n",
       "      <td>0.026087</td>\n",
       "      <td>0.0</td>\n",
       "    </tr>\n",
       "    <tr>\n",
       "      <th>2014-01-02</th>\n",
       "      <td>0.008696</td>\n",
       "      <td>0.2</td>\n",
       "      <td>0.0</td>\n",
       "      <td>0.0</td>\n",
       "      <td>0.0</td>\n",
       "      <td>222.956522</td>\n",
       "      <td>226.0</td>\n",
       "      <td>219.0</td>\n",
       "      <td>221.5</td>\n",
       "      <td>224.00</td>\n",
       "      <td>...</td>\n",
       "      <td>326.0</td>\n",
       "      <td>288.0</td>\n",
       "      <td>298.00</td>\n",
       "      <td>309.0</td>\n",
       "      <td>0.008696</td>\n",
       "      <td>0.217391</td>\n",
       "      <td>0.0</td>\n",
       "      <td>0.008696</td>\n",
       "      <td>0.226087</td>\n",
       "      <td>0.0</td>\n",
       "    </tr>\n",
       "    <tr>\n",
       "      <th>2014-01-03</th>\n",
       "      <td>0.000000</td>\n",
       "      <td>0.0</td>\n",
       "      <td>0.0</td>\n",
       "      <td>0.0</td>\n",
       "      <td>0.0</td>\n",
       "      <td>225.318182</td>\n",
       "      <td>231.0</td>\n",
       "      <td>219.0</td>\n",
       "      <td>220.5</td>\n",
       "      <td>230.00</td>\n",
       "      <td>...</td>\n",
       "      <td>306.0</td>\n",
       "      <td>280.0</td>\n",
       "      <td>288.25</td>\n",
       "      <td>302.0</td>\n",
       "      <td>0.008696</td>\n",
       "      <td>0.217391</td>\n",
       "      <td>0.0</td>\n",
       "      <td>0.008696</td>\n",
       "      <td>0.217391</td>\n",
       "      <td>0.0</td>\n",
       "    </tr>\n",
       "    <tr>\n",
       "      <th>2014-01-04</th>\n",
       "      <td>0.000000</td>\n",
       "      <td>0.0</td>\n",
       "      <td>0.0</td>\n",
       "      <td>0.0</td>\n",
       "      <td>0.0</td>\n",
       "      <td>213.863636</td>\n",
       "      <td>221.0</td>\n",
       "      <td>208.0</td>\n",
       "      <td>212.0</td>\n",
       "      <td>215.75</td>\n",
       "      <td>...</td>\n",
       "      <td>280.0</td>\n",
       "      <td>271.0</td>\n",
       "      <td>276.75</td>\n",
       "      <td>279.0</td>\n",
       "      <td>0.000000</td>\n",
       "      <td>0.000000</td>\n",
       "      <td>0.0</td>\n",
       "      <td>0.008696</td>\n",
       "      <td>0.217391</td>\n",
       "      <td>0.0</td>\n",
       "    </tr>\n",
       "    <tr>\n",
       "      <th>2014-01-05</th>\n",
       "      <td>0.000000</td>\n",
       "      <td>0.0</td>\n",
       "      <td>0.0</td>\n",
       "      <td>0.0</td>\n",
       "      <td>0.0</td>\n",
       "      <td>204.904762</td>\n",
       "      <td>208.0</td>\n",
       "      <td>201.0</td>\n",
       "      <td>204.0</td>\n",
       "      <td>206.00</td>\n",
       "      <td>...</td>\n",
       "      <td>272.0</td>\n",
       "      <td>264.0</td>\n",
       "      <td>268.00</td>\n",
       "      <td>270.0</td>\n",
       "      <td>0.000000</td>\n",
       "      <td>0.000000</td>\n",
       "      <td>0.0</td>\n",
       "      <td>0.000000</td>\n",
       "      <td>0.000000</td>\n",
       "      <td>0.0</td>\n",
       "    </tr>\n",
       "  </tbody>\n",
       "</table>\n",
       "<p>5 rows × 36 columns</p>\n",
       "</div>"
      ],
      "text/plain": [
       "            rain_upstream_mean  rain_upstream_max  rain_upstream_min  \\\n",
       "date                                                                   \n",
       "2014-01-01            0.000000                0.0                0.0   \n",
       "2014-01-02            0.008696                0.2                0.0   \n",
       "2014-01-03            0.000000                0.0                0.0   \n",
       "2014-01-04            0.000000                0.0                0.0   \n",
       "2014-01-05            0.000000                0.0                0.0   \n",
       "\n",
       "            rain_upstream_q25  rain_upstream_q75  level_upstream_mean  \\\n",
       "date                                                                    \n",
       "2014-01-01                0.0                0.0           219.083333   \n",
       "2014-01-02                0.0                0.0           222.956522   \n",
       "2014-01-03                0.0                0.0           225.318182   \n",
       "2014-01-04                0.0                0.0           213.863636   \n",
       "2014-01-05                0.0                0.0           204.904762   \n",
       "\n",
       "            level_upstream_max  level_upstream_min  level_upstream_q25  \\\n",
       "date                                                                     \n",
       "2014-01-01               222.0               216.0               217.0   \n",
       "2014-01-02               226.0               219.0               221.5   \n",
       "2014-01-03               231.0               219.0               220.5   \n",
       "2014-01-04               221.0               208.0               212.0   \n",
       "2014-01-05               208.0               201.0               204.0   \n",
       "\n",
       "            level_upstream_q75  ...  level_after_max  level_after_min  \\\n",
       "date                            ...                                     \n",
       "2014-01-01              221.00  ...            293.0            284.0   \n",
       "2014-01-02              224.00  ...            326.0            288.0   \n",
       "2014-01-03              230.00  ...            306.0            280.0   \n",
       "2014-01-04              215.75  ...            280.0            271.0   \n",
       "2014-01-05              206.00  ...            272.0            264.0   \n",
       "\n",
       "            level_after_q25  level_after_q75  rain_upstream_acc_2_days  \\\n",
       "date                                                                     \n",
       "2014-01-01           286.00            291.0                  0.000000   \n",
       "2014-01-02           298.00            309.0                  0.008696   \n",
       "2014-01-03           288.25            302.0                  0.008696   \n",
       "2014-01-04           276.75            279.0                  0.000000   \n",
       "2014-01-05           268.00            270.0                  0.000000   \n",
       "\n",
       "            rain_downstream_acc_2_days  rain_after_acc_2_days  \\\n",
       "date                                                            \n",
       "2014-01-01                    0.008696                    0.0   \n",
       "2014-01-02                    0.217391                    0.0   \n",
       "2014-01-03                    0.217391                    0.0   \n",
       "2014-01-04                    0.000000                    0.0   \n",
       "2014-01-05                    0.000000                    0.0   \n",
       "\n",
       "            rain_upstream_acc_3_days  rain_downstream_acc_3_days  \\\n",
       "date                                                               \n",
       "2014-01-01                  0.000000                    0.026087   \n",
       "2014-01-02                  0.008696                    0.226087   \n",
       "2014-01-03                  0.008696                    0.217391   \n",
       "2014-01-04                  0.008696                    0.217391   \n",
       "2014-01-05                  0.000000                    0.000000   \n",
       "\n",
       "            rain_after_acc_3_days  \n",
       "date                               \n",
       "2014-01-01                    0.0  \n",
       "2014-01-02                    0.0  \n",
       "2014-01-03                    0.0  \n",
       "2014-01-04                    0.0  \n",
       "2014-01-05                    0.0  \n",
       "\n",
       "[5 rows x 36 columns]"
      ]
     },
     "execution_count": 17,
     "metadata": {},
     "output_type": "execute_result"
    }
   ],
   "source": [
    "# Remove columns containing 'flow' from the dataframe\n",
    "df = df.loc[:, ~df.columns.str.contains('flow')]\n",
    "df.head()"
   ]
  },
  {
   "cell_type": "code",
   "execution_count": 18,
   "id": "8a422e87",
   "metadata": {},
   "outputs": [
    {
     "data": {
      "application/vnd.microsoft.datawrangler.viewer.v0+json": {
       "columns": [
        {
         "name": "date",
         "rawType": "datetime64[ns]",
         "type": "datetime"
        },
        {
         "name": "rain_upstream_mean",
         "rawType": "float64",
         "type": "float"
        },
        {
         "name": "rain_upstream_max",
         "rawType": "float64",
         "type": "float"
        },
        {
         "name": "rain_upstream_min",
         "rawType": "float64",
         "type": "float"
        },
        {
         "name": "rain_upstream_q25",
         "rawType": "float64",
         "type": "float"
        },
        {
         "name": "rain_upstream_q75",
         "rawType": "float64",
         "type": "float"
        },
        {
         "name": "level_upstream_mean",
         "rawType": "float64",
         "type": "float"
        },
        {
         "name": "level_upstream_max",
         "rawType": "float64",
         "type": "float"
        },
        {
         "name": "level_upstream_min",
         "rawType": "float64",
         "type": "float"
        },
        {
         "name": "level_upstream_q25",
         "rawType": "float64",
         "type": "float"
        },
        {
         "name": "level_upstream_q75",
         "rawType": "float64",
         "type": "float"
        },
        {
         "name": "rain_downstream_mean",
         "rawType": "float64",
         "type": "float"
        },
        {
         "name": "rain_downstream_max",
         "rawType": "float64",
         "type": "float"
        },
        {
         "name": "rain_downstream_min",
         "rawType": "float64",
         "type": "float"
        },
        {
         "name": "rain_downstream_q25",
         "rawType": "float64",
         "type": "float"
        },
        {
         "name": "rain_downstream_q75",
         "rawType": "float64",
         "type": "float"
        },
        {
         "name": "level_downstream_mean",
         "rawType": "float64",
         "type": "float"
        },
        {
         "name": "level_downstream_max",
         "rawType": "float64",
         "type": "float"
        },
        {
         "name": "level_downstream_min",
         "rawType": "float64",
         "type": "float"
        },
        {
         "name": "level_downstream_q25",
         "rawType": "float64",
         "type": "float"
        },
        {
         "name": "level_downstream_q75",
         "rawType": "float64",
         "type": "float"
        },
        {
         "name": "rain_after_mean",
         "rawType": "float64",
         "type": "float"
        },
        {
         "name": "rain_after_max",
         "rawType": "float64",
         "type": "float"
        },
        {
         "name": "rain_after_min",
         "rawType": "float64",
         "type": "float"
        },
        {
         "name": "rain_after_q25",
         "rawType": "float64",
         "type": "float"
        },
        {
         "name": "rain_after_q75",
         "rawType": "float64",
         "type": "float"
        },
        {
         "name": "level_after_mean",
         "rawType": "float64",
         "type": "float"
        },
        {
         "name": "level_after_max",
         "rawType": "float64",
         "type": "float"
        },
        {
         "name": "level_after_min",
         "rawType": "float64",
         "type": "float"
        },
        {
         "name": "level_after_q25",
         "rawType": "float64",
         "type": "float"
        },
        {
         "name": "level_after_q75",
         "rawType": "float64",
         "type": "float"
        },
        {
         "name": "rain_upstream_acc_2_days",
         "rawType": "float64",
         "type": "float"
        },
        {
         "name": "rain_downstream_acc_2_days",
         "rawType": "float64",
         "type": "float"
        },
        {
         "name": "rain_after_acc_2_days",
         "rawType": "float64",
         "type": "float"
        },
        {
         "name": "rain_upstream_acc_3_days",
         "rawType": "float64",
         "type": "float"
        },
        {
         "name": "rain_downstream_acc_3_days",
         "rawType": "float64",
         "type": "float"
        },
        {
         "name": "rain_after_acc_3_days",
         "rawType": "float64",
         "type": "float"
        }
       ],
       "ref": "62835fad-a212-4de1-8c45-6fb30849fd81",
       "rows": [
        [
         "2014-01-01 00:00:00",
         "-0.2854496740505716",
         "-0.28774728066076427",
         "0.0",
         "-0.0223160921338726",
         "-0.11514926169566596",
         "0.24570057670632145",
         "0.10576298410793622",
         "0.3549922243681733",
         "0.2940640408194359",
         "0.20138371298926527",
         "-0.3000372044619842",
         "-0.2961413987401215",
         "-0.015777895820254743",
         "-0.02711161219786398",
         "-0.10921339833151379",
         "0.15613210718524015",
         "0.10641408297285584",
         "0.2990497058514791",
         "0.23310236093411085",
         "0.0574086204702861",
         "-0.2638508718402735",
         "-0.2860490700744073",
         "0.0",
         "-0.01577789582025474",
         "-0.1022834649135597",
         "0.7305714468999885",
         "0.6165013389992517",
         "0.8352054661710467",
         "0.7819004433131735",
         "0.6637097497965069",
         "-0.37178583059937836",
         "-0.34198487419709506",
         "-0.3340386912325946",
         "-0.4281928671648227",
         "-0.3443982883870843",
         "-0.38321059676537683"
        ],
        [
         "2014-01-02 00:00:00",
         "-0.20382955518443965",
         "-0.20063391615692527",
         "0.0",
         "-0.0223160921338726",
         "-0.11514926169566596",
         "0.3013414490298598",
         "0.15794696350793427",
         "0.4004977657844324",
         "0.36002752650693043",
         "0.2432107936468684",
         "1.374562876715948",
         "1.3601344024028663",
         "-0.015777895820254743",
         "-0.02711161219786398",
         "-0.10921339833151379",
         "0.4635910792999204",
         "0.5646425297488227",
         "0.47648835680565343",
         "0.4118326822074686",
         "0.377387107475625",
         "-0.2638508718402735",
         "-0.2860490700744073",
         "0.0",
         "-0.01577789582025474",
         "-0.1022834649135597",
         "0.8747014411127022",
         "0.9111616850579817",
         "0.8757764041493068",
         "0.900001070622337",
         "0.8290414021412099",
         "-0.31863051934413",
         "0.6906750232793272",
         "-0.3340386912325946",
         "-0.3873790338615752",
         "0.41606752565075106",
         "-0.38321059676537683"
        ],
        [
         "2014-01-03 00:00:00",
         "-0.2854496740505716",
         "-0.28774728066076427",
         "0.0",
         "-0.0223160921338726",
         "-0.11514926169566596",
         "0.335268233157742",
         "0.22317693775793185",
         "0.4004977657844324",
         "0.3453689741319316",
         "0.3268649549620746",
         "-0.3000372044619842",
         "-0.2961413987401215",
         "-0.015777895820254743",
         "-0.02711161219786398",
         "-0.10921339833151379",
         "0.19151222311975005",
         "-0.07687729573753088",
         "0.38776903132856627",
         "0.317210747415691",
         "0.13220878626374194",
         "-0.2638508718402735",
         "-0.2860490700744073",
         "0.0",
         "-0.01577789582025474",
         "-0.1022834649135597",
         "0.7780098509382707",
         "0.7325796571436",
         "0.7946345281927867",
         "0.8040443109336417",
         "0.7647457595627143",
         "-0.31863051934413",
         "0.6906750232793272",
         "-0.3340386912325946",
         "-0.3873790338615752",
         "0.38300379460562756",
         "-0.38321059676537683"
        ],
        [
         "2014-01-04 00:00:00",
         "-0.2854496740505716",
         "-0.28774728066076427",
         "0.0",
         "-0.0223160921338726",
         "-0.11514926169566596",
         "0.17071623248393022",
         "0.0927169892579367",
         "0.23364411392481574",
         "0.22077127894444196",
         "0.12818632183845985",
         "-0.3000372044619842",
         "-0.2961413987401215",
         "-0.015777895820254743",
         "-0.02711161219786398",
         "-0.10921339833151379",
         "0.06388855842612827",
         "-0.14233850241981186",
         "0.21033038037439192",
         "0.19104816769332078",
         "-0.01323598055686664",
         "-0.2638508718402735",
         "-0.2860490700744073",
         "0.0",
         "-0.01577789582025474",
         "-0.1022834649135597",
         "0.6246970593103427",
         "0.5004230208549036",
         "0.7033499177417015",
         "0.6908645430956935",
         "0.5534886482333715",
         "-0.37178583059937836",
         "-0.3850123699252796",
         "-0.3340386912325946",
         "-0.3873790338615752",
         "0.38300379460562756",
         "-0.38321059676537683"
        ],
        [
         "2014-01-05 00:00:00",
         "-0.2854496740505716",
         "-0.28774728066076427",
         "0.0",
         "-0.0223160921338726",
         "-0.11514926169566596",
         "0.04201616997657705",
         "-0.07688094379205698",
         "0.12746451728687785",
         "0.1035028599444517",
         "-0.0077516902987502505",
         "-0.3000372044619842",
         "-0.2961413987401215",
         "-0.015777895820254743",
         "-0.02711161219786398",
         "-0.10921339833151379",
         "-0.06369459081838492",
         "-0.27326091578437384",
         "0.07725139215876117",
         "0.043858491350555584",
         "-0.1129695349481411",
         "-0.2638508718402735",
         "-0.2860490700744073",
         "0.0",
         "-0.01577789582025474",
         "-0.1022834649135597",
         "0.5406985736375743",
         "0.4289902096891509",
         "0.6323507762797463",
         "0.6047495023494284",
         "0.47082282206101994",
         "-0.37178583059937836",
         "-0.3850123699252796",
         "-0.3340386912325946",
         "-0.4281928671648227",
         "-0.4435894815224537",
         "-0.38321059676537683"
        ]
       ],
       "shape": {
        "columns": 36,
        "rows": 5
       }
      },
      "text/html": [
       "<div>\n",
       "<style scoped>\n",
       "    .dataframe tbody tr th:only-of-type {\n",
       "        vertical-align: middle;\n",
       "    }\n",
       "\n",
       "    .dataframe tbody tr th {\n",
       "        vertical-align: top;\n",
       "    }\n",
       "\n",
       "    .dataframe thead th {\n",
       "        text-align: right;\n",
       "    }\n",
       "</style>\n",
       "<table border=\"1\" class=\"dataframe\">\n",
       "  <thead>\n",
       "    <tr style=\"text-align: right;\">\n",
       "      <th></th>\n",
       "      <th>rain_upstream_mean</th>\n",
       "      <th>rain_upstream_max</th>\n",
       "      <th>rain_upstream_min</th>\n",
       "      <th>rain_upstream_q25</th>\n",
       "      <th>rain_upstream_q75</th>\n",
       "      <th>level_upstream_mean</th>\n",
       "      <th>level_upstream_max</th>\n",
       "      <th>level_upstream_min</th>\n",
       "      <th>level_upstream_q25</th>\n",
       "      <th>level_upstream_q75</th>\n",
       "      <th>...</th>\n",
       "      <th>level_after_max</th>\n",
       "      <th>level_after_min</th>\n",
       "      <th>level_after_q25</th>\n",
       "      <th>level_after_q75</th>\n",
       "      <th>rain_upstream_acc_2_days</th>\n",
       "      <th>rain_downstream_acc_2_days</th>\n",
       "      <th>rain_after_acc_2_days</th>\n",
       "      <th>rain_upstream_acc_3_days</th>\n",
       "      <th>rain_downstream_acc_3_days</th>\n",
       "      <th>rain_after_acc_3_days</th>\n",
       "    </tr>\n",
       "    <tr>\n",
       "      <th>date</th>\n",
       "      <th></th>\n",
       "      <th></th>\n",
       "      <th></th>\n",
       "      <th></th>\n",
       "      <th></th>\n",
       "      <th></th>\n",
       "      <th></th>\n",
       "      <th></th>\n",
       "      <th></th>\n",
       "      <th></th>\n",
       "      <th></th>\n",
       "      <th></th>\n",
       "      <th></th>\n",
       "      <th></th>\n",
       "      <th></th>\n",
       "      <th></th>\n",
       "      <th></th>\n",
       "      <th></th>\n",
       "      <th></th>\n",
       "      <th></th>\n",
       "      <th></th>\n",
       "    </tr>\n",
       "  </thead>\n",
       "  <tbody>\n",
       "    <tr>\n",
       "      <th>2014-01-01</th>\n",
       "      <td>-0.28545</td>\n",
       "      <td>-0.287747</td>\n",
       "      <td>0.0</td>\n",
       "      <td>-0.022316</td>\n",
       "      <td>-0.115149</td>\n",
       "      <td>0.245701</td>\n",
       "      <td>0.105763</td>\n",
       "      <td>0.354992</td>\n",
       "      <td>0.294064</td>\n",
       "      <td>0.201384</td>\n",
       "      <td>...</td>\n",
       "      <td>0.616501</td>\n",
       "      <td>0.835205</td>\n",
       "      <td>0.781900</td>\n",
       "      <td>0.663710</td>\n",
       "      <td>-0.371786</td>\n",
       "      <td>-0.341985</td>\n",
       "      <td>-0.334039</td>\n",
       "      <td>-0.428193</td>\n",
       "      <td>-0.344398</td>\n",
       "      <td>-0.383211</td>\n",
       "    </tr>\n",
       "    <tr>\n",
       "      <th>2014-01-02</th>\n",
       "      <td>-0.20383</td>\n",
       "      <td>-0.200634</td>\n",
       "      <td>0.0</td>\n",
       "      <td>-0.022316</td>\n",
       "      <td>-0.115149</td>\n",
       "      <td>0.301341</td>\n",
       "      <td>0.157947</td>\n",
       "      <td>0.400498</td>\n",
       "      <td>0.360028</td>\n",
       "      <td>0.243211</td>\n",
       "      <td>...</td>\n",
       "      <td>0.911162</td>\n",
       "      <td>0.875776</td>\n",
       "      <td>0.900001</td>\n",
       "      <td>0.829041</td>\n",
       "      <td>-0.318631</td>\n",
       "      <td>0.690675</td>\n",
       "      <td>-0.334039</td>\n",
       "      <td>-0.387379</td>\n",
       "      <td>0.416068</td>\n",
       "      <td>-0.383211</td>\n",
       "    </tr>\n",
       "    <tr>\n",
       "      <th>2014-01-03</th>\n",
       "      <td>-0.28545</td>\n",
       "      <td>-0.287747</td>\n",
       "      <td>0.0</td>\n",
       "      <td>-0.022316</td>\n",
       "      <td>-0.115149</td>\n",
       "      <td>0.335268</td>\n",
       "      <td>0.223177</td>\n",
       "      <td>0.400498</td>\n",
       "      <td>0.345369</td>\n",
       "      <td>0.326865</td>\n",
       "      <td>...</td>\n",
       "      <td>0.732580</td>\n",
       "      <td>0.794635</td>\n",
       "      <td>0.804044</td>\n",
       "      <td>0.764746</td>\n",
       "      <td>-0.318631</td>\n",
       "      <td>0.690675</td>\n",
       "      <td>-0.334039</td>\n",
       "      <td>-0.387379</td>\n",
       "      <td>0.383004</td>\n",
       "      <td>-0.383211</td>\n",
       "    </tr>\n",
       "    <tr>\n",
       "      <th>2014-01-04</th>\n",
       "      <td>-0.28545</td>\n",
       "      <td>-0.287747</td>\n",
       "      <td>0.0</td>\n",
       "      <td>-0.022316</td>\n",
       "      <td>-0.115149</td>\n",
       "      <td>0.170716</td>\n",
       "      <td>0.092717</td>\n",
       "      <td>0.233644</td>\n",
       "      <td>0.220771</td>\n",
       "      <td>0.128186</td>\n",
       "      <td>...</td>\n",
       "      <td>0.500423</td>\n",
       "      <td>0.703350</td>\n",
       "      <td>0.690865</td>\n",
       "      <td>0.553489</td>\n",
       "      <td>-0.371786</td>\n",
       "      <td>-0.385012</td>\n",
       "      <td>-0.334039</td>\n",
       "      <td>-0.387379</td>\n",
       "      <td>0.383004</td>\n",
       "      <td>-0.383211</td>\n",
       "    </tr>\n",
       "    <tr>\n",
       "      <th>2014-01-05</th>\n",
       "      <td>-0.28545</td>\n",
       "      <td>-0.287747</td>\n",
       "      <td>0.0</td>\n",
       "      <td>-0.022316</td>\n",
       "      <td>-0.115149</td>\n",
       "      <td>0.042016</td>\n",
       "      <td>-0.076881</td>\n",
       "      <td>0.127465</td>\n",
       "      <td>0.103503</td>\n",
       "      <td>-0.007752</td>\n",
       "      <td>...</td>\n",
       "      <td>0.428990</td>\n",
       "      <td>0.632351</td>\n",
       "      <td>0.604750</td>\n",
       "      <td>0.470823</td>\n",
       "      <td>-0.371786</td>\n",
       "      <td>-0.385012</td>\n",
       "      <td>-0.334039</td>\n",
       "      <td>-0.428193</td>\n",
       "      <td>-0.443589</td>\n",
       "      <td>-0.383211</td>\n",
       "    </tr>\n",
       "  </tbody>\n",
       "</table>\n",
       "<p>5 rows × 36 columns</p>\n",
       "</div>"
      ],
      "text/plain": [
       "            rain_upstream_mean  rain_upstream_max  rain_upstream_min  \\\n",
       "date                                                                   \n",
       "2014-01-01            -0.28545          -0.287747                0.0   \n",
       "2014-01-02            -0.20383          -0.200634                0.0   \n",
       "2014-01-03            -0.28545          -0.287747                0.0   \n",
       "2014-01-04            -0.28545          -0.287747                0.0   \n",
       "2014-01-05            -0.28545          -0.287747                0.0   \n",
       "\n",
       "            rain_upstream_q25  rain_upstream_q75  level_upstream_mean  \\\n",
       "date                                                                    \n",
       "2014-01-01          -0.022316          -0.115149             0.245701   \n",
       "2014-01-02          -0.022316          -0.115149             0.301341   \n",
       "2014-01-03          -0.022316          -0.115149             0.335268   \n",
       "2014-01-04          -0.022316          -0.115149             0.170716   \n",
       "2014-01-05          -0.022316          -0.115149             0.042016   \n",
       "\n",
       "            level_upstream_max  level_upstream_min  level_upstream_q25  \\\n",
       "date                                                                     \n",
       "2014-01-01            0.105763            0.354992            0.294064   \n",
       "2014-01-02            0.157947            0.400498            0.360028   \n",
       "2014-01-03            0.223177            0.400498            0.345369   \n",
       "2014-01-04            0.092717            0.233644            0.220771   \n",
       "2014-01-05           -0.076881            0.127465            0.103503   \n",
       "\n",
       "            level_upstream_q75  ...  level_after_max  level_after_min  \\\n",
       "date                            ...                                     \n",
       "2014-01-01            0.201384  ...         0.616501         0.835205   \n",
       "2014-01-02            0.243211  ...         0.911162         0.875776   \n",
       "2014-01-03            0.326865  ...         0.732580         0.794635   \n",
       "2014-01-04            0.128186  ...         0.500423         0.703350   \n",
       "2014-01-05           -0.007752  ...         0.428990         0.632351   \n",
       "\n",
       "            level_after_q25  level_after_q75  rain_upstream_acc_2_days  \\\n",
       "date                                                                     \n",
       "2014-01-01         0.781900         0.663710                 -0.371786   \n",
       "2014-01-02         0.900001         0.829041                 -0.318631   \n",
       "2014-01-03         0.804044         0.764746                 -0.318631   \n",
       "2014-01-04         0.690865         0.553489                 -0.371786   \n",
       "2014-01-05         0.604750         0.470823                 -0.371786   \n",
       "\n",
       "            rain_downstream_acc_2_days  rain_after_acc_2_days  \\\n",
       "date                                                            \n",
       "2014-01-01                   -0.341985              -0.334039   \n",
       "2014-01-02                    0.690675              -0.334039   \n",
       "2014-01-03                    0.690675              -0.334039   \n",
       "2014-01-04                   -0.385012              -0.334039   \n",
       "2014-01-05                   -0.385012              -0.334039   \n",
       "\n",
       "            rain_upstream_acc_3_days  rain_downstream_acc_3_days  \\\n",
       "date                                                               \n",
       "2014-01-01                 -0.428193                   -0.344398   \n",
       "2014-01-02                 -0.387379                    0.416068   \n",
       "2014-01-03                 -0.387379                    0.383004   \n",
       "2014-01-04                 -0.387379                    0.383004   \n",
       "2014-01-05                 -0.428193                   -0.443589   \n",
       "\n",
       "            rain_after_acc_3_days  \n",
       "date                               \n",
       "2014-01-01              -0.383211  \n",
       "2014-01-02              -0.383211  \n",
       "2014-01-03              -0.383211  \n",
       "2014-01-04              -0.383211  \n",
       "2014-01-05              -0.383211  \n",
       "\n",
       "[5 rows x 36 columns]"
      ]
     },
     "execution_count": 18,
     "metadata": {},
     "output_type": "execute_result"
    }
   ],
   "source": [
    "scaler = StandardScaler()\n",
    "df_normalized = pd.DataFrame(\n",
    "    scaler.fit_transform(df),\n",
    "    index=df.index,\n",
    "    columns=df.columns\n",
    ")\n",
    "df_normalized.head()"
   ]
  },
  {
   "cell_type": "markdown",
   "id": "cc430dee",
   "metadata": {},
   "source": [
    "## 3. Criação dos Datasets\n",
    "\n",
    "- Criar dataset para série temporal\n",
    "- Dividir o dataset em treino, validação e teste"
   ]
  },
  {
   "cell_type": "code",
   "execution_count": 19,
   "id": "9169cc3f",
   "metadata": {},
   "outputs": [],
   "source": [
    "class TimeSeriesDataset(Dataset):\n",
    "    def __init__(self, data, sequence_length=24):\n",
    "        self.data = data.reset_index(drop=True)\n",
    "        self.sequence_length = sequence_length\n",
    "\n",
    "    def __len__(self):\n",
    "        return len(self.data) - self.sequence_length\n",
    "    \n",
    "    def __getitem__(self, idx):\n",
    "        x = self.data.iloc[idx : idx + self.sequence_length].values  # shape: (sequence_length, num_features)\n",
    "        y = self.data.iloc[idx + self.sequence_length].values        # shape: (num_features,)\n",
    "        return torch.tensor(x, dtype=torch.float32), torch.tensor(y, dtype=torch.float32)\n",
    "\n",
    "\n",
    "class NonOverlappingConcatDataset(Dataset):\n",
    "    def __init__(self, datasets):\n",
    "        self.datasets = datasets\n",
    "        self.cumulative_lengths = []\n",
    "        total = 0\n",
    "        for d in datasets:\n",
    "            self.cumulative_lengths.append(total)\n",
    "            total += len(d)\n",
    "        self.total_length = total\n",
    "\n",
    "    def __len__(self):\n",
    "        return self.total_length\n",
    "\n",
    "    def __getitem__(self, idx):\n",
    "        # Find which dataset this idx belongs to\n",
    "        for i in range(len(self.datasets)):\n",
    "            if idx < self.cumulative_lengths[i] + len(self.datasets[i]):\n",
    "                local_idx = idx - self.cumulative_lengths[i]\n",
    "                return self.datasets[i][local_idx]\n",
    "        raise IndexError(\"Index out of range\")\n",
    "\n",
    "\n",
    "def split_train_validation_test(\n",
    "    data: pd.DataFrame, train_size: float = 0.8, val_size: float = 0.1\n",
    "):\n",
    "    train_end = int(len(data) * train_size)\n",
    "    val_end = int(len(data) * (train_size + val_size))\n",
    "\n",
    "    train_data = data.iloc[:train_end]\n",
    "    val_data = data.iloc[train_end:val_end]\n",
    "    test_data = data.iloc[val_end:]\n",
    "\n",
    "    return train_data, val_data, test_data\n",
    "\n",
    "\n",
    "datasets_train: List[TimeSeriesDataset] = []\n",
    "datasets_validation: List[TimeSeriesDataset] = []\n",
    "datasets_test: List[TimeSeriesDataset] = []\n",
    "for year in range(2010, 2024):\n",
    "    year_data = df_normalized[df_normalized.index.year == year].reset_index(drop=True)\n",
    "    if not year_data.empty:\n",
    "        train_dataset, validation_dataset, test_dataset = split_train_validation_test(year_data)\n",
    "        datasets_train.append(TimeSeriesDataset(train_dataset))\n",
    "        datasets_validation.append(TimeSeriesDataset(validation_dataset))\n",
    "        datasets_test.append(TimeSeriesDataset(test_dataset))\n",
    "\n",
    "train_dataset = NonOverlappingConcatDataset(datasets_train)\n",
    "validation_dataset = NonOverlappingConcatDataset(datasets_validation)\n",
    "test_dataset = NonOverlappingConcatDataset(datasets_test)"
   ]
  },
  {
   "cell_type": "code",
   "execution_count": 20,
   "id": "caa3d550",
   "metadata": {},
   "outputs": [
    {
     "name": "stdout",
     "output_type": "stream",
     "text": [
      "Testing TimeSeriesDataset:\n",
      "Index 0: x = [0. 1. 2.], y = [3.]\n",
      "Index 1: x = [1. 2. 3.], y = [4.]\n",
      "Index 2: x = [2. 3. 4.], y = [5.]\n",
      "Index 3: x = [3. 4. 5.], y = [6.]\n",
      "Index 4: x = [4. 5. 6.], y = [7.]\n",
      "Index 5: x = [5. 6. 7.], y = [8.]\n",
      "Index 6: x = [6. 7. 8.], y = [9.]\n",
      "\n",
      "Testing NonOverlappingConcatDataset\n",
      "Should not overlap and should concatenate correctly:\n",
      "Index 0: x = [0. 1.], y = [2.]\n",
      "Index 1: x = [1. 2.], y = [3.]\n",
      "Index 2: x = [2. 3.], y = [4.]\n",
      "Index 3: x = [10. 11.], y = [12.]\n",
      "Index 4: x = [11. 12.], y = [13.]\n",
      "Index 5: x = [12. 13.], y = [14.]\n"
     ]
    }
   ],
   "source": [
    "# Test for TimeSeriesDataset\n",
    "\n",
    "# Create a simple DataFrame with increasing integers\n",
    "test_df = pd.DataFrame({'A': np.arange(10)})\n",
    "\n",
    "# Window length = 3\n",
    "ts_dataset = TimeSeriesDataset(test_df, sequence_length=3)\n",
    "\n",
    "print(\"Testing TimeSeriesDataset:\")\n",
    "for i in range(len(ts_dataset)):\n",
    "    x, y = ts_dataset[i]\n",
    "    print(f\"Index {i}: x = {x.squeeze().numpy()}, y = {y.numpy()}\")\n",
    "\n",
    "# Test for NonOverlappingConcatDataset\n",
    "# Create two small TimeSeriesDatasets\n",
    "df1 = pd.DataFrame({'A': np.arange(5)})\n",
    "df2 = pd.DataFrame({'A': np.arange(10, 15)})\n",
    "\n",
    "ds1 = TimeSeriesDataset(df1, sequence_length=2)\n",
    "ds2 = TimeSeriesDataset(df2, sequence_length=2)\n",
    "\n",
    "concat_ds = NonOverlappingConcatDataset([ds1, ds2])\n",
    "\n",
    "print(\"\\nTesting NonOverlappingConcatDataset\")\n",
    "print(\"Should not overlap and should concatenate correctly:\")\n",
    "for i in range(len(concat_ds)):\n",
    "    x, y = concat_ds[i]\n",
    "    print(f\"Index {i}: x = {x.squeeze().numpy()}, y = {y.numpy()}\")\n"
   ]
  },
  {
   "cell_type": "markdown",
   "id": "bbba9bb9",
   "metadata": {},
   "source": [
    "## 4. Definição dos Modelos"
   ]
  },
  {
   "cell_type": "code",
   "execution_count": 21,
   "id": "3c514fef",
   "metadata": {},
   "outputs": [],
   "source": [
    "class MLP(L.LightningModule):\n",
    "    def __init__(\n",
    "        self, input_size, hidden_layers, sequence_length=MLP_SEQUENCE_LENGTH, learning_rate: float = MLP_LEARNING_RATE\n",
    "    ):\n",
    "        super(MLP, self).__init__()\n",
    "        self.save_hyperparameters()\n",
    "        self.sequence_length = sequence_length\n",
    "\n",
    "        # MLP para cada passo temporal\n",
    "        layers = []\n",
    "        in_features = input_size\n",
    "        for hidden_size in hidden_layers:\n",
    "            layers.append(nn.Linear(in_features, hidden_size))\n",
    "            layers.append(nn.ReLU())\n",
    "            in_features = hidden_size\n",
    "        self.step_mlp = nn.Sequential(*layers)\n",
    "        self.final_layer = nn.Linear(in_features, input_size)\n",
    "        self.criterion = nn.MSELoss()\n",
    "\n",
    "    def forward(self, x):\n",
    "        # x: (batch, window_length, input_size)\n",
    "        # Aplica o MLP em cada passo temporal    print(\"x type:\", type(x))\n",
    "        batch, window, features = x.shape\n",
    "        x = x.view(-1, features)  # (batch * window_length, input_size)\n",
    "        out = self.step_mlp(x)    # (batch * window_length, hidden)\n",
    "        out = out.view(batch, window, -1)  # (batch, window_length, hidden)\n",
    "        out = out.mean(dim=1)     # (batch, hidden) - agregação temporal\n",
    "        out = self.final_layer(out)  # (batch, input_size)\n",
    "        return out\n",
    "\n",
    "    def training_step(self, batch, batch_idx):\n",
    "        x, y = batch\n",
    "        y_hat = self(x)\n",
    "        loss = self.criterion(y_hat, y)\n",
    "        self.log(\"train_loss\", loss)\n",
    "        return loss\n",
    "\n",
    "    def configure_optimizers(self):\n",
    "        return optim.Adam(self.parameters(), lr=self.hparams.learning_rate)\n",
    "    \n",
    "    def validation_step(self, batch, batch_idx):\n",
    "        x, y = batch\n",
    "        y_hat = self(x)\n",
    "        loss = self.criterion(y_hat, y)\n",
    "        self.log(\"val_loss\", loss)\n",
    "        return loss\n",
    "    \n",
    "    def test_step(self, batch, batch_idx):\n",
    "        x, y = batch\n",
    "        y_hat = self(x)\n",
    "        loss = self.criterion(y_hat, y)\n",
    "        self.log(\"test_loss\", loss)\n",
    "        return loss\n",
    "    \n",
    "class LSTM(L.LightningModule):\n",
    "    def __init__(self, input_size, hidden_size, num_layers, learning_rate: float = LSTM_LEARNING_RATE):\n",
    "        super(LSTM, self).__init__()\n",
    "        self.save_hyperparameters()\n",
    "        self.lstm = nn.LSTM(input_size, hidden_size, num_layers, batch_first=True)\n",
    "        self.fc = nn.Linear(hidden_size, input_size)\n",
    "        self.criterion = nn.MSELoss()\n",
    "\n",
    "    def forward(self, x):\n",
    "        out, _ = self.lstm(x)\n",
    "        return self.fc(out[:, -1, :])\n",
    "\n",
    "    def training_step(self, batch, batch_idx):\n",
    "        x, y = batch\n",
    "        y_hat = self(x)\n",
    "        loss = self.criterion(y_hat, y)\n",
    "        self.log(\"train_loss\", loss)\n",
    "        return loss\n",
    "\n",
    "    def configure_optimizers(self):\n",
    "        return optim.Adam(self.parameters(), lr=self.hparams.learning_rate)\n",
    "    \n",
    "    def validation_step(self, batch, batch_idx):\n",
    "        x, y = batch\n",
    "        y_hat = self(x)\n",
    "        loss = self.criterion(y_hat, y)\n",
    "        self.log(\"val_loss\", loss)\n",
    "        return loss\n",
    "    \n",
    "    def test_step(self, batch, batch_idx):\n",
    "        x, y = batch\n",
    "        y_hat = self(x)\n",
    "        loss = self.criterion(y_hat, y)\n",
    "        self.log(\"test_loss\", loss)\n",
    "        return loss\n",
    "\n",
    "class GRU(L.LightningModule):\n",
    "    def __init__(self, input_size, hidden_size, num_layers, learning_rate: float = GRU_LEARNING_RATE):\n",
    "        super(GRU, self).__init__()\n",
    "        self.save_hyperparameters()\n",
    "        self.gru = nn.GRU(input_size, hidden_size, num_layers, batch_first=True)\n",
    "        self.fc = nn.Linear(hidden_size, input_size)\n",
    "        self.criterion = nn.MSELoss()\n",
    "\n",
    "    def forward(self, x):\n",
    "        out, _ = self.gru(x)\n",
    "        return self.fc(out[:, -1, :])\n",
    "\n",
    "    def training_step(self, batch, batch_idx):\n",
    "        x, y = batch\n",
    "        y_hat = self(x)\n",
    "        loss = self.criterion(y_hat, y)\n",
    "        self.log(\"train_loss\", loss)\n",
    "        return loss\n",
    "\n",
    "    def configure_optimizers(self):\n",
    "        return optim.Adam(self.parameters(), lr=self.hparams.learning_rate)\n",
    "    \n",
    "    def validation_step(self, batch, batch_idx):\n",
    "        x, y = batch\n",
    "        y_hat = self(x)\n",
    "        loss = self.criterion(y_hat, y)\n",
    "        self.log(\"val_loss\", loss)\n",
    "        return loss\n",
    "    \n",
    "    def test_step(self, batch, batch_idx):\n",
    "        x, y = batch\n",
    "        y_hat = self(x)\n",
    "        loss = self.criterion(y_hat, y)\n",
    "        self.log(\"test_loss\", loss)\n",
    "        return loss"
   ]
  },
  {
   "cell_type": "markdown",
   "id": "cf4a37da",
   "metadata": {},
   "source": [
    "## 5. Treinamento dos Modelos"
   ]
  },
  {
   "cell_type": "code",
   "execution_count": 22,
   "id": "08a05212",
   "metadata": {},
   "outputs": [
    {
     "name": "stderr",
     "output_type": "stream",
     "text": [
      "Using default `ModelCheckpoint`. Consider installing `litmodels` package to enable `LitModelCheckpoint` for automatic upload to the Lightning model registry.\n",
      "GPU available: True (cuda), used: True\n",
      "TPU available: False, using: 0 TPU cores\n",
      "HPU available: False, using: 0 HPUs\n",
      "LOCAL_RANK: 0 - CUDA_VISIBLE_DEVICES: [0]\n",
      "\n",
      "  | Name        | Type       | Params | Mode \n",
      "---------------------------------------------------\n",
      "0 | step_mlp    | Sequential | 4.4 K  | train\n",
      "1 | final_layer | Linear     | 1.2 K  | train\n",
      "2 | criterion   | MSELoss    | 0      | train\n",
      "---------------------------------------------------\n",
      "5.6 K     Trainable params\n",
      "0         Non-trainable params\n",
      "5.6 K     Total params\n",
      "0.023     Total estimated model params size (MB)\n",
      "7         Modules in train mode\n",
      "0         Modules in eval mode\n"
     ]
    },
    {
     "data": {
      "application/vnd.jupyter.widget-view+json": {
       "model_id": "b580151b63e14f69b785332bf04f5c03",
       "version_major": 2,
       "version_minor": 0
      },
      "text/plain": [
       "Sanity Checking: |          | 0/? [00:00<?, ?it/s]"
      ]
     },
     "metadata": {},
     "output_type": "display_data"
    },
    {
     "data": {
      "application/vnd.jupyter.widget-view+json": {
       "model_id": "e6a9953d114d4287b79a3cc19cedbbbe",
       "version_major": 2,
       "version_minor": 0
      },
      "text/plain": [
       "Training: |          | 0/? [00:00<?, ?it/s]"
      ]
     },
     "metadata": {},
     "output_type": "display_data"
    },
    {
     "data": {
      "application/vnd.jupyter.widget-view+json": {
       "model_id": "42179ff0d7104013bdca2729bfedae44",
       "version_major": 2,
       "version_minor": 0
      },
      "text/plain": [
       "Validation: |          | 0/? [00:00<?, ?it/s]"
      ]
     },
     "metadata": {},
     "output_type": "display_data"
    },
    {
     "data": {
      "application/vnd.jupyter.widget-view+json": {
       "model_id": "a6f3148c19d04150b2ee16201a3d16a8",
       "version_major": 2,
       "version_minor": 0
      },
      "text/plain": [
       "Validation: |          | 0/? [00:00<?, ?it/s]"
      ]
     },
     "metadata": {},
     "output_type": "display_data"
    },
    {
     "data": {
      "application/vnd.jupyter.widget-view+json": {
       "model_id": "2bcb175afe15456eb95d63becad3ac9a",
       "version_major": 2,
       "version_minor": 0
      },
      "text/plain": [
       "Validation: |          | 0/? [00:00<?, ?it/s]"
      ]
     },
     "metadata": {},
     "output_type": "display_data"
    },
    {
     "data": {
      "application/vnd.jupyter.widget-view+json": {
       "model_id": "d4ee18f1a53a459b8bf2cdb225198ab7",
       "version_major": 2,
       "version_minor": 0
      },
      "text/plain": [
       "Validation: |          | 0/? [00:00<?, ?it/s]"
      ]
     },
     "metadata": {},
     "output_type": "display_data"
    },
    {
     "data": {
      "application/vnd.jupyter.widget-view+json": {
       "model_id": "6bffe5a227aa400a914bce3fcfad9f7f",
       "version_major": 2,
       "version_minor": 0
      },
      "text/plain": [
       "Validation: |          | 0/? [00:00<?, ?it/s]"
      ]
     },
     "metadata": {},
     "output_type": "display_data"
    },
    {
     "data": {
      "application/vnd.jupyter.widget-view+json": {
       "model_id": "6dd07be036a0482bb5fe6ff0581c80d3",
       "version_major": 2,
       "version_minor": 0
      },
      "text/plain": [
       "Validation: |          | 0/? [00:00<?, ?it/s]"
      ]
     },
     "metadata": {},
     "output_type": "display_data"
    },
    {
     "data": {
      "application/vnd.jupyter.widget-view+json": {
       "model_id": "27a1d8e7721946058f482f3868cd0ffd",
       "version_major": 2,
       "version_minor": 0
      },
      "text/plain": [
       "Validation: |          | 0/? [00:00<?, ?it/s]"
      ]
     },
     "metadata": {},
     "output_type": "display_data"
    },
    {
     "data": {
      "application/vnd.jupyter.widget-view+json": {
       "model_id": "112bf604cbe3416e99ce0675a5d6f726",
       "version_major": 2,
       "version_minor": 0
      },
      "text/plain": [
       "Validation: |          | 0/? [00:00<?, ?it/s]"
      ]
     },
     "metadata": {},
     "output_type": "display_data"
    },
    {
     "data": {
      "application/vnd.jupyter.widget-view+json": {
       "model_id": "351e9d08451e4341949512753726be52",
       "version_major": 2,
       "version_minor": 0
      },
      "text/plain": [
       "Validation: |          | 0/? [00:00<?, ?it/s]"
      ]
     },
     "metadata": {},
     "output_type": "display_data"
    },
    {
     "data": {
      "application/vnd.jupyter.widget-view+json": {
       "model_id": "5dd08222ea5c4dabbaa023e2969f4066",
       "version_major": 2,
       "version_minor": 0
      },
      "text/plain": [
       "Validation: |          | 0/? [00:00<?, ?it/s]"
      ]
     },
     "metadata": {},
     "output_type": "display_data"
    },
    {
     "data": {
      "application/vnd.jupyter.widget-view+json": {
       "model_id": "c86ac4aa32304db282d3d886cfbdd96b",
       "version_major": 2,
       "version_minor": 0
      },
      "text/plain": [
       "Validation: |          | 0/? [00:00<?, ?it/s]"
      ]
     },
     "metadata": {},
     "output_type": "display_data"
    },
    {
     "data": {
      "application/vnd.jupyter.widget-view+json": {
       "model_id": "55077e5c15114c7fba787ced2dee63e9",
       "version_major": 2,
       "version_minor": 0
      },
      "text/plain": [
       "Validation: |          | 0/? [00:00<?, ?it/s]"
      ]
     },
     "metadata": {},
     "output_type": "display_data"
    },
    {
     "data": {
      "application/vnd.jupyter.widget-view+json": {
       "model_id": "4c4d74edcfa443d99f992b8a80fd7750",
       "version_major": 2,
       "version_minor": 0
      },
      "text/plain": [
       "Validation: |          | 0/? [00:00<?, ?it/s]"
      ]
     },
     "metadata": {},
     "output_type": "display_data"
    },
    {
     "data": {
      "application/vnd.jupyter.widget-view+json": {
       "model_id": "0d99b4e7abdd44f58b833d3da183bba3",
       "version_major": 2,
       "version_minor": 0
      },
      "text/plain": [
       "Validation: |          | 0/? [00:00<?, ?it/s]"
      ]
     },
     "metadata": {},
     "output_type": "display_data"
    },
    {
     "data": {
      "application/vnd.jupyter.widget-view+json": {
       "model_id": "25629df66e9f4db2b176a09ae3895741",
       "version_major": 2,
       "version_minor": 0
      },
      "text/plain": [
       "Validation: |          | 0/? [00:00<?, ?it/s]"
      ]
     },
     "metadata": {},
     "output_type": "display_data"
    },
    {
     "data": {
      "application/vnd.jupyter.widget-view+json": {
       "model_id": "61a968b9fadf489281f29a15762ec5c9",
       "version_major": 2,
       "version_minor": 0
      },
      "text/plain": [
       "Validation: |          | 0/? [00:00<?, ?it/s]"
      ]
     },
     "metadata": {},
     "output_type": "display_data"
    },
    {
     "data": {
      "application/vnd.jupyter.widget-view+json": {
       "model_id": "2019c969362649a99a989a804f30aa2e",
       "version_major": 2,
       "version_minor": 0
      },
      "text/plain": [
       "Validation: |          | 0/? [00:00<?, ?it/s]"
      ]
     },
     "metadata": {},
     "output_type": "display_data"
    },
    {
     "data": {
      "application/vnd.jupyter.widget-view+json": {
       "model_id": "83427c7deec34716b4a12068d73bbbc9",
       "version_major": 2,
       "version_minor": 0
      },
      "text/plain": [
       "Validation: |          | 0/? [00:00<?, ?it/s]"
      ]
     },
     "metadata": {},
     "output_type": "display_data"
    },
    {
     "data": {
      "application/vnd.jupyter.widget-view+json": {
       "model_id": "64be1ce0536c4b6a9c1a0930e9233f45",
       "version_major": 2,
       "version_minor": 0
      },
      "text/plain": [
       "Validation: |          | 0/? [00:00<?, ?it/s]"
      ]
     },
     "metadata": {},
     "output_type": "display_data"
    },
    {
     "data": {
      "application/vnd.jupyter.widget-view+json": {
       "model_id": "22538f1e60ca4de9a6b2eada2759ce89",
       "version_major": 2,
       "version_minor": 0
      },
      "text/plain": [
       "Validation: |          | 0/? [00:00<?, ?it/s]"
      ]
     },
     "metadata": {},
     "output_type": "display_data"
    },
    {
     "data": {
      "application/vnd.jupyter.widget-view+json": {
       "model_id": "417bf6cbc4094fe3a88e5c8de3992750",
       "version_major": 2,
       "version_minor": 0
      },
      "text/plain": [
       "Validation: |          | 0/? [00:00<?, ?it/s]"
      ]
     },
     "metadata": {},
     "output_type": "display_data"
    },
    {
     "data": {
      "application/vnd.jupyter.widget-view+json": {
       "model_id": "ea6dac767a8e44dfa8e561ed26b523a1",
       "version_major": 2,
       "version_minor": 0
      },
      "text/plain": [
       "Validation: |          | 0/? [00:00<?, ?it/s]"
      ]
     },
     "metadata": {},
     "output_type": "display_data"
    },
    {
     "data": {
      "application/vnd.jupyter.widget-view+json": {
       "model_id": "a4febb34d15b40e39678b6381b607600",
       "version_major": 2,
       "version_minor": 0
      },
      "text/plain": [
       "Validation: |          | 0/? [00:00<?, ?it/s]"
      ]
     },
     "metadata": {},
     "output_type": "display_data"
    },
    {
     "data": {
      "application/vnd.jupyter.widget-view+json": {
       "model_id": "f5c78047f05c4ce1af43efbd5d1431e3",
       "version_major": 2,
       "version_minor": 0
      },
      "text/plain": [
       "Validation: |          | 0/? [00:00<?, ?it/s]"
      ]
     },
     "metadata": {},
     "output_type": "display_data"
    },
    {
     "data": {
      "application/vnd.jupyter.widget-view+json": {
       "model_id": "df8f7a867e0143b69bf3bfdeca06235a",
       "version_major": 2,
       "version_minor": 0
      },
      "text/plain": [
       "Validation: |          | 0/? [00:00<?, ?it/s]"
      ]
     },
     "metadata": {},
     "output_type": "display_data"
    },
    {
     "data": {
      "application/vnd.jupyter.widget-view+json": {
       "model_id": "970caa39416148ab834884ef75119be5",
       "version_major": 2,
       "version_minor": 0
      },
      "text/plain": [
       "Validation: |          | 0/? [00:00<?, ?it/s]"
      ]
     },
     "metadata": {},
     "output_type": "display_data"
    },
    {
     "data": {
      "application/vnd.jupyter.widget-view+json": {
       "model_id": "5010e9a4235447df9ce99d1080e1761e",
       "version_major": 2,
       "version_minor": 0
      },
      "text/plain": [
       "Validation: |          | 0/? [00:00<?, ?it/s]"
      ]
     },
     "metadata": {},
     "output_type": "display_data"
    },
    {
     "data": {
      "application/vnd.jupyter.widget-view+json": {
       "model_id": "9e9107d46d874654a9bdb6cc1cad7e09",
       "version_major": 2,
       "version_minor": 0
      },
      "text/plain": [
       "Validation: |          | 0/? [00:00<?, ?it/s]"
      ]
     },
     "metadata": {},
     "output_type": "display_data"
    },
    {
     "data": {
      "application/vnd.jupyter.widget-view+json": {
       "model_id": "8593e62fcd5b4c68b9af90b669a22cfd",
       "version_major": 2,
       "version_minor": 0
      },
      "text/plain": [
       "Validation: |          | 0/? [00:00<?, ?it/s]"
      ]
     },
     "metadata": {},
     "output_type": "display_data"
    },
    {
     "data": {
      "application/vnd.jupyter.widget-view+json": {
       "model_id": "d37523b932c94629900ac404b21d05b5",
       "version_major": 2,
       "version_minor": 0
      },
      "text/plain": [
       "Validation: |          | 0/? [00:00<?, ?it/s]"
      ]
     },
     "metadata": {},
     "output_type": "display_data"
    },
    {
     "data": {
      "application/vnd.jupyter.widget-view+json": {
       "model_id": "768123e0123c4d709091e7d4f96f2ce5",
       "version_major": 2,
       "version_minor": 0
      },
      "text/plain": [
       "Validation: |          | 0/? [00:00<?, ?it/s]"
      ]
     },
     "metadata": {},
     "output_type": "display_data"
    },
    {
     "data": {
      "application/vnd.jupyter.widget-view+json": {
       "model_id": "ed8e90be078d4551a7841e46bd5e7839",
       "version_major": 2,
       "version_minor": 0
      },
      "text/plain": [
       "Validation: |          | 0/? [00:00<?, ?it/s]"
      ]
     },
     "metadata": {},
     "output_type": "display_data"
    },
    {
     "data": {
      "application/vnd.jupyter.widget-view+json": {
       "model_id": "66c01d25fcb0480ab28480a945b2d0d0",
       "version_major": 2,
       "version_minor": 0
      },
      "text/plain": [
       "Validation: |          | 0/? [00:00<?, ?it/s]"
      ]
     },
     "metadata": {},
     "output_type": "display_data"
    },
    {
     "data": {
      "application/vnd.jupyter.widget-view+json": {
       "model_id": "1ae5ceb38cf34aeb88fecc6975ec580a",
       "version_major": 2,
       "version_minor": 0
      },
      "text/plain": [
       "Validation: |          | 0/? [00:00<?, ?it/s]"
      ]
     },
     "metadata": {},
     "output_type": "display_data"
    },
    {
     "data": {
      "application/vnd.jupyter.widget-view+json": {
       "model_id": "a7d6ae889ba443899230d85503c56b29",
       "version_major": 2,
       "version_minor": 0
      },
      "text/plain": [
       "Validation: |          | 0/? [00:00<?, ?it/s]"
      ]
     },
     "metadata": {},
     "output_type": "display_data"
    },
    {
     "data": {
      "application/vnd.jupyter.widget-view+json": {
       "model_id": "944b157ae1004b42a69086b17c89bde8",
       "version_major": 2,
       "version_minor": 0
      },
      "text/plain": [
       "Validation: |          | 0/? [00:00<?, ?it/s]"
      ]
     },
     "metadata": {},
     "output_type": "display_data"
    },
    {
     "data": {
      "application/vnd.jupyter.widget-view+json": {
       "model_id": "53859446c09948bab3c71bfb604629e9",
       "version_major": 2,
       "version_minor": 0
      },
      "text/plain": [
       "Validation: |          | 0/? [00:00<?, ?it/s]"
      ]
     },
     "metadata": {},
     "output_type": "display_data"
    },
    {
     "data": {
      "application/vnd.jupyter.widget-view+json": {
       "model_id": "dc45c7cec8cd45b286a669e6b78cb749",
       "version_major": 2,
       "version_minor": 0
      },
      "text/plain": [
       "Validation: |          | 0/? [00:00<?, ?it/s]"
      ]
     },
     "metadata": {},
     "output_type": "display_data"
    },
    {
     "data": {
      "application/vnd.jupyter.widget-view+json": {
       "model_id": "46bf4c000e944911bd6910c1883f1b7f",
       "version_major": 2,
       "version_minor": 0
      },
      "text/plain": [
       "Validation: |          | 0/? [00:00<?, ?it/s]"
      ]
     },
     "metadata": {},
     "output_type": "display_data"
    },
    {
     "data": {
      "application/vnd.jupyter.widget-view+json": {
       "model_id": "ee24ff556e2a434a82c706d48b1c8f6a",
       "version_major": 2,
       "version_minor": 0
      },
      "text/plain": [
       "Validation: |          | 0/? [00:00<?, ?it/s]"
      ]
     },
     "metadata": {},
     "output_type": "display_data"
    },
    {
     "data": {
      "application/vnd.jupyter.widget-view+json": {
       "model_id": "152ab7a9ecf04c38b4c44a8ffa214d5f",
       "version_major": 2,
       "version_minor": 0
      },
      "text/plain": [
       "Validation: |          | 0/? [00:00<?, ?it/s]"
      ]
     },
     "metadata": {},
     "output_type": "display_data"
    },
    {
     "data": {
      "application/vnd.jupyter.widget-view+json": {
       "model_id": "c08d58d22f5640fbbd116138afaf7a7f",
       "version_major": 2,
       "version_minor": 0
      },
      "text/plain": [
       "Validation: |          | 0/? [00:00<?, ?it/s]"
      ]
     },
     "metadata": {},
     "output_type": "display_data"
    },
    {
     "data": {
      "application/vnd.jupyter.widget-view+json": {
       "model_id": "ffec30f1040a407e8282d89635eaf015",
       "version_major": 2,
       "version_minor": 0
      },
      "text/plain": [
       "Validation: |          | 0/? [00:00<?, ?it/s]"
      ]
     },
     "metadata": {},
     "output_type": "display_data"
    },
    {
     "data": {
      "application/vnd.jupyter.widget-view+json": {
       "model_id": "ca507d4684a94641a553c2ac7307a2c9",
       "version_major": 2,
       "version_minor": 0
      },
      "text/plain": [
       "Validation: |          | 0/? [00:00<?, ?it/s]"
      ]
     },
     "metadata": {},
     "output_type": "display_data"
    },
    {
     "data": {
      "application/vnd.jupyter.widget-view+json": {
       "model_id": "3fd0d6060eec43528abf4f944f77f8fb",
       "version_major": 2,
       "version_minor": 0
      },
      "text/plain": [
       "Validation: |          | 0/? [00:00<?, ?it/s]"
      ]
     },
     "metadata": {},
     "output_type": "display_data"
    },
    {
     "data": {
      "application/vnd.jupyter.widget-view+json": {
       "model_id": "a73339a350f14c038b7d9afe089fc155",
       "version_major": 2,
       "version_minor": 0
      },
      "text/plain": [
       "Validation: |          | 0/? [00:00<?, ?it/s]"
      ]
     },
     "metadata": {},
     "output_type": "display_data"
    },
    {
     "data": {
      "application/vnd.jupyter.widget-view+json": {
       "model_id": "7afb1305811e4aea9c4a85d386bb00a0",
       "version_major": 2,
       "version_minor": 0
      },
      "text/plain": [
       "Validation: |          | 0/? [00:00<?, ?it/s]"
      ]
     },
     "metadata": {},
     "output_type": "display_data"
    },
    {
     "data": {
      "application/vnd.jupyter.widget-view+json": {
       "model_id": "f3c2165871804d55a716e381789ddf35",
       "version_major": 2,
       "version_minor": 0
      },
      "text/plain": [
       "Validation: |          | 0/? [00:00<?, ?it/s]"
      ]
     },
     "metadata": {},
     "output_type": "display_data"
    },
    {
     "data": {
      "application/vnd.jupyter.widget-view+json": {
       "model_id": "381275f73f3e464c98afc21c931605d5",
       "version_major": 2,
       "version_minor": 0
      },
      "text/plain": [
       "Validation: |          | 0/? [00:00<?, ?it/s]"
      ]
     },
     "metadata": {},
     "output_type": "display_data"
    },
    {
     "data": {
      "application/vnd.jupyter.widget-view+json": {
       "model_id": "bdd3eb82c8f648d1846ab5e884b4bcae",
       "version_major": 2,
       "version_minor": 0
      },
      "text/plain": [
       "Validation: |          | 0/? [00:00<?, ?it/s]"
      ]
     },
     "metadata": {},
     "output_type": "display_data"
    },
    {
     "name": "stderr",
     "output_type": "stream",
     "text": [
      "`Trainer.fit` stopped: `max_epochs=50` reached.\n",
      "Using default `ModelCheckpoint`. Consider installing `litmodels` package to enable `LitModelCheckpoint` for automatic upload to the Lightning model registry.\n",
      "GPU available: True (cuda), used: True\n",
      "TPU available: False, using: 0 TPU cores\n",
      "HPU available: False, using: 0 HPUs\n",
      "LOCAL_RANK: 0 - CUDA_VISIBLE_DEVICES: [0]\n"
     ]
    },
    {
     "name": "stdout",
     "output_type": "stream",
     "text": [
      "To view logs, run in terminal:\n",
      "  tensorboard --logdir /home/bruno/Workspace/FIAP/2025/gs-disaster/src/lightning_logs/version_5\n"
     ]
    },
    {
     "data": {
      "application/vnd.jupyter.widget-view+json": {
       "model_id": "36dd1432c81c4bae9e9f5940d32bc317",
       "version_major": 2,
       "version_minor": 0
      },
      "text/plain": [
       "Testing: |          | 0/? [00:00<?, ?it/s]"
      ]
     },
     "metadata": {},
     "output_type": "display_data"
    },
    {
     "data": {
      "text/html": [
       "<pre style=\"white-space:pre;overflow-x:auto;line-height:normal;font-family:Menlo,'DejaVu Sans Mono',consolas,'Courier New',monospace\">┏━━━━━━━━━━━━━━━━━━━━━━━━━━━┳━━━━━━━━━━━━━━━━━━━━━━━━━━━┓\n",
       "┃<span style=\"font-weight: bold\">        Test metric        </span>┃<span style=\"font-weight: bold\">       DataLoader 0        </span>┃\n",
       "┡━━━━━━━━━━━━━━━━━━━━━━━━━━━╇━━━━━━━━━━━━━━━━━━━━━━━━━━━┩\n",
       "│<span style=\"color: #008080; text-decoration-color: #008080\">         test_loss         </span>│<span style=\"color: #800080; text-decoration-color: #800080\">     0.916801393032074     </span>│\n",
       "└───────────────────────────┴───────────────────────────┘\n",
       "</pre>\n"
      ],
      "text/plain": [
       "┏━━━━━━━━━━━━━━━━━━━━━━━━━━━┳━━━━━━━━━━━━━━━━━━━━━━━━━━━┓\n",
       "┃\u001b[1m \u001b[0m\u001b[1m       Test metric       \u001b[0m\u001b[1m \u001b[0m┃\u001b[1m \u001b[0m\u001b[1m      DataLoader 0       \u001b[0m\u001b[1m \u001b[0m┃\n",
       "┡━━━━━━━━━━━━━━━━━━━━━━━━━━━╇━━━━━━━━━━━━━━━━━━━━━━━━━━━┩\n",
       "│\u001b[36m \u001b[0m\u001b[36m        test_loss        \u001b[0m\u001b[36m \u001b[0m│\u001b[35m \u001b[0m\u001b[35m    0.916801393032074    \u001b[0m\u001b[35m \u001b[0m│\n",
       "└───────────────────────────┴───────────────────────────┘\n"
      ]
     },
     "metadata": {},
     "output_type": "display_data"
    },
    {
     "name": "stdout",
     "output_type": "stream",
     "text": [
      "\n",
      "MLP Results: [{'test_loss': 0.916801393032074}]\n"
     ]
    }
   ],
   "source": [
    "def train_model(model, train_data, val_data, epochs=100, batch_size=32):\n",
    "    \"\"\"\n",
    "    Treina o modelo com os dados de treino e validação.\n",
    "    \"\"\"\n",
    "    train_loader = DataLoader(\n",
    "        train_data, batch_size=batch_size, shuffle=True, drop_last=True, num_workers=15\n",
    "    )\n",
    "    validation_loader = DataLoader(\n",
    "        val_data, batch_size=4, shuffle=False, drop_last=True, num_workers=15\n",
    "    )\n",
    "\n",
    "    trainer = L.Trainer(\n",
    "        max_epochs=epochs,\n",
    "        accelerator=\"auto\",\n",
    "        devices=1,\n",
    "        logger=True,\n",
    "        enable_progress_bar=True,\n",
    "    )\n",
    "    trainer.fit(model, train_loader, validation_loader)\n",
    "\n",
    "    return (\n",
    "        trainer.logger.experiment\n",
    "        if hasattr(trainer.logger, \"experiment\")\n",
    "        else trainer.logger\n",
    "    )\n",
    "\n",
    "\n",
    "def evaluate_model(model, test_data, batch_size=4):\n",
    "    \"\"\"\n",
    "    Avalia o modelo com os dados de teste.\n",
    "    \"\"\"\n",
    "    test_loader = DataLoader(\n",
    "        test_data, batch_size=batch_size, shuffle=False, drop_last=True, num_workers=15\n",
    "    )\n",
    "\n",
    "    trainer = L.Trainer(\n",
    "        accelerator=\"auto\",\n",
    "        devices=1,\n",
    "        logger=True,\n",
    "        enable_progress_bar=True,\n",
    "    )\n",
    "    results = trainer.test(model, test_loader)\n",
    "\n",
    "    return results\n",
    "\n",
    "\n",
    "def run_experiment(\n",
    "    model_class,\n",
    "    train_dataset,\n",
    "    validation_dataset,\n",
    "    test_dataset,\n",
    "    model_kwargs: Dict[str, Any],\n",
    "    train_kwargs: Dict[str, Any],\n",
    "):\n",
    "    \"\"\"\n",
    "    Executa um experimento de treinamento e avaliação do modelo.\n",
    "    \"\"\"\n",
    "    input_size = train_dataset[0][0].shape[1]  # Assuming all inputs have the same shape\n",
    "    model = model_class(input_size=input_size, **(model_kwargs or {}))\n",
    "\n",
    "    logs = train_model(\n",
    "        model,\n",
    "        train_dataset,\n",
    "        validation_dataset,\n",
    "        **(train_kwargs or {}),\n",
    "    )\n",
    "\n",
    "    # To view the logs, you can use TensorBoard.\n",
    "    # If 'logs' is a SummaryWriter, get its log_dir and launch TensorBoard:\n",
    "    if hasattr(logs, \"log_dir\"):\n",
    "        print(f\"To view logs, run in terminal:\\n  tensorboard --logdir {logs.log_dir}\")\n",
    "    else:\n",
    "        print(\"Training logs:\", logs)\n",
    "\n",
    "    results = evaluate_model(model, test_dataset, batch_size=4)\n",
    "\n",
    "    return results\n",
    "\n",
    "\n",
    "# Run experiments for MLP, LSTM, and GRU models\n",
    "mlp_results = run_experiment(\n",
    "    MLP,\n",
    "    train_dataset,\n",
    "    validation_dataset,\n",
    "    test_dataset,\n",
    "    model_kwargs={\n",
    "        \"hidden_layers\": MLP_HIDDEN_LAYERS,\n",
    "        \"learning_rate\": MLP_LEARNING_RATE,\n",
    "        \"sequence_length\": MLP_SEQUENCE_LENGTH,\n",
    "    },\n",
    "    train_kwargs={\n",
    "        \"epochs\": MLP_EPOCHS,\n",
    "        \"batch_size\": MLP_BATCH_SIZE,\n",
    "    },\n",
    ")\n",
    "\n",
    "print(\"\\nMLP Results:\", mlp_results)"
   ]
  },
  {
   "cell_type": "code",
   "execution_count": null,
   "id": "0acc228d",
   "metadata": {},
   "outputs": [],
   "source": []
  }
 ],
 "metadata": {
  "kernelspec": {
   "display_name": "fiap",
   "language": "python",
   "name": "python3"
  },
  "language_info": {
   "codemirror_mode": {
    "name": "ipython",
    "version": 3
   },
   "file_extension": ".py",
   "mimetype": "text/x-python",
   "name": "python",
   "nbconvert_exporter": "python",
   "pygments_lexer": "ipython3",
   "version": "3.11.9"
  }
 },
 "nbformat": 4,
 "nbformat_minor": 5
}
